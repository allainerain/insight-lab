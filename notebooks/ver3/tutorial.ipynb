{
 "cells": [
  {
   "cell_type": "markdown",
   "metadata": {},
   "source": [
    "# Version 3 - Prompter Module\n",
    "\n",
    "## Ver 3.1 - Add initial prompter module (generate questions based on goal and code)\n",
    "- Added `prompter.py` \n",
    "- Added a prompter dataclass (just for formatting)\n",
    "- Added prompter to the `Manager` class\n",
    "\n",
    "``` python\n",
    "SYSTEM_PROMPT = \"\"\"\n",
    "You are a helpful and highly skilled data analyst who is trained to provide helpful, structured questions to prompt the user to gain insights from data visualizations. \n",
    "\"\"\"\n",
    "```\n",
    "\n",
    "```` python\n",
    "FORMAT_INSTRUCTIONS = \"\"\"\n",
    "THE OUTPUT MUST BE A CODE SNIPPET OF A VALID LIST OF JSON OBJECTS. IT MUST USE THE FOLLOWING FORMAT:\n",
    "\n",
    "``[\n",
    "    { \"index\": 0,  \"question\": \"What is the distribution of X\"} ..\n",
    "    ]\n",
    "``\n",
    "THE OUTPUT SHOULD ONLY USE THE JSON FORMAT ABOVE.\n",
    "\"\"\"\n",
    "````\n",
    "\n",
    "``` python\n",
    "user_prompt = f\"\"\"\n",
    "The visualization is: {goal.visualization}. The question the visualization wants to answer is: {goal.question}. The rationale for choosing the visualization is: {goal.rationale}. The code of the visualization is: {code}.\n",
    "\"\"\"\n",
    "```\n",
    "\n",
    "## Ver 3.2 - Remove code from prompt and generate questions with rationale\n",
    "- Removed code from prompts to see if having goal context is enough (answer: ?)\n",
    "- Generated rationale\n",
    "\n",
    "``` python\n",
    "SYSTEM_PROMPT = \"\"\"\n",
    "You are a helpful and highly skilled data analyst who is trained to provide helpful, structured questions to prompt the user to gain insights from a data visualization given their goal. \n",
    "The QUESTIONS YOU ASK MUST INCITE INSIGHTFUL IDEAS AND BE MEANINGFUL (e.g., related to the goal). Each prompting question must include a question and a rationale (JUSTIFICATION FOR WHAT we will learn from the answering the question).\n",
    "\"\"\"\n",
    "```\n",
    "\n",
    "```` python\n",
    "FORMAT_INSTRUCTIONS = \"\"\"\n",
    "THE OUTPUT MUST BE A CODE SNIPPET OF A VALID LIST OF JSON OBJECTS. IT MUST USE THE FOLLOWING FORMAT:\n",
    "\n",
    "```[\n",
    "    { \"index\": 0,  \"question\": \"What is the distribution of X\", \"rationale\": \"This tells about \"} ..\n",
    "    ]\n",
    "```\n",
    "THE OUTPUT SHOULD ONLY USE THE JSON FORMAT ABOVE.\n",
    "\"\"\"\n",
    "````\n",
    "\n",
    "``` python\n",
    "user_prompt = f\"\"\"\n",
    "The visualization is: {goal.visualization}. The question the visualization wants to answer is: {goal.question}. The rationale for choosing the visualization is: {goal.rationale}.\n",
    "\"\"\"\n",
    "```\n",
    "\n",
    "## Ver 3.3 - Add initial insight module\n",
    "- Added an insight module to generate insights given the user's goal, questions about the visualization, and answers to the questions\n",
    "- Observations: generated insights are not as insightful as I would like LOL\n",
    "\n",
    "``` python\n",
    "SYSTEM_PROMPT = \"\"\"\n",
    "You are a helpful and highly skilled data analyst who is trained to provide helpful, and creative insights and connections based on the answers the user gave to specific questions about a visualization given their goal. \n",
    "The INSIGHTS YOU GENERATE MUST BE INSIGHTFUL AND BE MEANINGFUL (e.g., related to the goal). \n",
    "\"\"\"\n",
    "```\n",
    "\n",
    "```` python\n",
    "FORMAT_INSTRUCTIONS = \"\"\"\n",
    "THE OUTPUT MUST BE A CODE SNIPPET OF A VALID LIST OF JSON OBJECTS. IT MUST USE THE FOLLOWING FORMAT:\n",
    "\n",
    "```[\n",
    "    { \"index\": 0,  \"insight\": \"The x could indicate ...\"} ..\n",
    "    ]\n",
    "```\n",
    "THE OUTPUT SHOULD ONLY USE THE JSON FORMAT ABOVE.\n",
    "\"\"\"\n",
    "````\n",
    "\n",
    "``` python\n",
    "user_prompt = f\"\"\"\n",
    "The visualization is: {goal.visualization}. The question the visualization wants to answer is: {goal.question}. The rationale for choosing the visualization is: {goal.rationale}.\n",
    "\\nHere are the questions about the visualization and the corresponding answers:\n",
    "\"\"\"\n",
    "```\n",
    "\n",
    "## Ver 3.4 - Modify prompt to make insights better\n",
    "\n",
    "- prompt modification\n",
    "\n",
    "``` python\n",
    "SYSTEM_PROMPT = \"\"\"\n",
    "You are a helpful and highly skilled data analyst who is trained to provide helpful, and creative insights and connections based on the answers the user gave to specific questions about a visualization given their goal. \n",
    "You should give possible and deeper explanations for the insights you generated. \n",
    "\"\"\"\n",
    "```\n",
    "\n",
    "## Ver 3.5 - Experimenting with the prompt to generate as much insigtful insights\n",
    "\n",
    "``` python\n",
    "SYSTEM_PROMPT = \"\"\"\n",
    "\n",
    "\"\"\"\n",
    "```\n",
    "\n",
    "```` python\n",
    "FORMAT_INSTRUCTIONS = \"\"\"\n",
    "THE OUTPUT MUST BE A CODE SNIPPET OF A VALID LIST OF JSON OBJECTS. IT MUST USE THE FOLLOWING FORMAT:\n",
    "\n",
    "```[\n",
    "    { \"index\": 0,  \"insight\": \"The x could indicate ...\"} ..\n",
    "    ]\n",
    "```\n",
    "THE OUTPUT SHOULD ONLY USE THE JSON FORMAT ABOVE.\n",
    "\"\"\"\n",
    "````\n",
    "\n",
    "``` python\n",
    "user_prompt += f\"\"\"\n",
    "\\nThese are the egoals of the user and the visualization they used:\n",
    "\\nQuestion: {goal.question}\n",
    "\\nVisualization: {goal.visualization}\n",
    "\\nRationale: {goal.rationale}\n",
    "\\nCan you generate insights from the user's answers that draws connections between them?\n",
    "\"\"\"\n",
    "```\n",
    "\n",
    "## Ver 3.6 - Making a stronger prompt to generate stronger insights\n",
    "\n",
    "``` python\n",
    "SYSTEM_PROMPT = \"\"\"\n",
    "You are a an experienced data analyst who can generate a given number of meaningful AND creative insights that people may miss at a first glance about a chart, given the goal of the data visualization and a series of questions answered by a user. \n",
    "\\nBased on these questions, I want you to generate insights that make connections between the answers that the user gave. I want you to go beyond just describing the data and try to make connections and create hypothesis for why the data appears to be that certain way.\n",
    "\"\"\"\n",
    "```\n",
    "\n",
    "```` python\n",
    "FORMAT_INSTRUCTIONS = \"\"\"\n",
    "THE OUTPUT MUST BE A CODE SNIPPET OF A VALID LIST OF JSON OBJECTS. IT MUST USE THE FOLLOWING FORMAT:\n",
    "\n",
    "```[\n",
    "    { \"index\": 0,  \"insight\": \"The x could indicate ...\"} ..\n",
    "    ]\n",
    "```\n",
    "THE OUTPUT SHOULD ONLY USE THE JSON FORMAT ABOVE.\n",
    "\"\"\"\n",
    "````\n",
    "\n",
    "``` python\n",
    "user_prompt += f\"\"\"\n",
    "\\nThis is the goal of the user:\n",
    "\\nQuestion: {goal.question}\n",
    "\\nVisualization: {goal.visualization}\n",
    "\\nRationale: {goal.rationale}\n",
    "\\nCan you generate insights from the user's answers that draws connections between them?\n",
    "\"\"\"\n",
    "```\n",
    "\n",
    "## Ver 3.7 - Update prompt to include suggestions that the user can explore (DISCONTINUED)\n",
    "\n",
    "``` python\n",
    "SYSTEM_PROMPT = \"\"\"\n",
    "You are a an experienced data analyst who can generate a given number of meaningful AND creative insights that people may miss at a first glance about a chart, given the goal of the data visualization and a series of questions answered by a user. \n",
    "\\nBased on these questions, I want you to generate insights that make connections between the answers that the user gave. I want you to go beyond just describing the data and try to make connections and CREATE A HYPOTHESIS for why the data appears to be that certain way and GIVE SUGGESTIONS on what the user can examine next.\n",
    "\"\"\"\n",
    "```\n",
    "\n",
    "## Ver 3.8 - Update prompt to generate suggestions separately from the insight (DISCONTINUED)\n",
    "- decided to not add next steps anymore since it derails the insight generation process and makes it more confused, plus it ends up making the goal explorer for the insight a bit redundant\n",
    "\n",
    "``` python\n",
    "SYSTEM_PROMPT = \"\"\"\n",
    "You are a an experienced data analyst who can generate a given number of meaningful AND creative insights that people may miss at a first glance about a chart, given the goal of the data visualization and a series of questions answered by a user. \n",
    "\\nBased on these questions, I want you to generate insights that make connections between the answers that the user gave. I want you to go beyond just describing the data and try to make connections and CREATE A HYPOTHESIS for why the data appears to be that certain way. \n",
    "\\nAside fron an insight, I want you to generate next steps that can GIVE SUGGESTIONS on what the user can examine related to the insight.\n",
    "\"\"\"\n",
    "```\n",
    "\n",
    "## Ver 3.9 - Reverted to the old version\n",
    "\n",
    "## Ver 3.10 - Updated `goal.py` to generate insight goals \n",
    "- added `generate_insight_goals()`\n",
    "\n",
    "``` python\n",
    "SYSTEM_INSTRUCTIONS_INSIGHT = \"\"\"\n",
    "You are an experienced data analyst who can generate a given number of insightful GOALS about INSIGHTS that a user has about their data that will allow them to explore their INSIGHT deeper and make meaningful connections between them and their data. The VISUALIZATIONS YOU RECOMMEND MUST FOLLOW VISUALIZATION BEST PRACTICES (e.g., must use bar charts instead of pie charts for comparing quantities) AND BE MEANINGFUL (e.g., plot longitude and latitude on maps where appropriate). They must also be relevant to the specified persona AND always be related to the insight of the user. Each goal must include a question (THE QUESTION MUST REFERENCE A PART OF AN INSIGHT), a visualization (THE VISUALIZATION MUST REFERENCE THE EXACT COLUMN FIELDS FROM THE SUMMARY), and a rationale (JUSTIFICATION FOR WHICH dataset FIELDS ARE USED, what we will learn from the visualization AND how the question can allow the user to explore their insights deeper). Each goal MUST mention the exact fields from the dataset summary below.\n",
    "\"\"\"\n",
    "```\n",
    "- This part below is the important part in the prompt. It basically is meant to make the goal insights focused on the insights.\n",
    "```` python\n",
    "user_prompt += f\"\"\"\n",
    "The generated goals SHOULD allow the user to EXPLORE THEIR INSIGHTS DEEPER and allow them to make CONNECTIONS to other information from their dataset. THESE MUST ALL BE IN THE RATIONALE: Be creative and ALWAYS explicity explain why exploring this goal and answering its question is useful relative to the user's insights, what the visualization can do RELATIVE to the insight, and HOW exactly the visualization can help the user explore their insight deeper. Form your own hypothesis and connections. Cite specific parts of the user's rationale or information related to your answers when writing the rational and generating the goal. \n",
    "\"\"\"\n",
    "\n",
    "user_prompt += f\"\"\"\n",
    "These are qualities of a good goal.\n",
    "\n",
    "Question\n",
    "- The question explores a specific part of the user's insight. It is not general and instead tries to find reasons that cause the insight (e.g. \"How does the average x of y (specific from insight) compare to others when controlling z?\"). \n",
    "- The question is multi-faceted and explores how multiple variables lead to that insight. (e.g. \"How does x (from insight) with type y compare to others when controlling the variable z?\", \"Is there a relationship between x and y, and how does it affect z?\")\n",
    "- It is not a general question (e.g. NOT \"How does the avarege x vary with different types?\").\n",
    "\n",
    "Rationale\n",
    "- The rationale is able to explain why it is crucial. (e.g. \"This is crucial because x impacts y.\")\n",
    "- The rationale is able to provide a hypothesis (e.g. \"Using this visualization will show if x is typically y compared to others\")\n",
    "- The rationale always ties back into a part of the insight (e.g. \"The visualization will help us see if your insight is true or valid\", \"This will reveal how x affects your insight y.\")\n",
    "\"\"\"\n",
    "````"
   ]
  },
  {
   "cell_type": "markdown",
   "metadata": {},
   "source": [
    "## Setup"
   ]
  },
  {
   "cell_type": "code",
   "execution_count": 2,
   "metadata": {},
   "outputs": [
    {
     "name": "stdout",
     "output_type": "stream",
     "text": [
      "Note: you may need to restart the kernel to use updated packages.\n"
     ]
    },
    {
     "name": "stderr",
     "output_type": "stream",
     "text": [
      "WARNING: Skipping lida as it is not installed.\n"
     ]
    },
    {
     "name": "stdout",
     "output_type": "stream",
     "text": [
      "Defaulting to user installation because normal site-packages is not writeable\n",
      "Requirement already satisfied: python-dotenv in c:\\users\\samsung\\appdata\\local\\packages\\pythonsoftwarefoundation.python.3.12_qbz5n2kfra8p0\\localcache\\local-packages\\python312\\site-packages (1.0.1)\n",
      "Note: you may need to restart the kernel to use updated packages.\n",
      "Defaulting to user installation because normal site-packages is not writeable\n",
      "Requirement already satisfied: llmx in c:\\users\\samsung\\appdata\\local\\packages\\pythonsoftwarefoundation.python.3.12_qbz5n2kfra8p0\\localcache\\local-packages\\python312\\site-packages (0.0.21a0)\n",
      "Requirement already satisfied: pydantic in c:\\users\\samsung\\appdata\\local\\packages\\pythonsoftwarefoundation.python.3.12_qbz5n2kfra8p0\\localcache\\local-packages\\python312\\site-packages (from llmx) (2.8.2)\n",
      "Requirement already satisfied: openai in c:\\users\\samsung\\appdata\\local\\packages\\pythonsoftwarefoundation.python.3.12_qbz5n2kfra8p0\\localcache\\local-packages\\python312\\site-packages (from llmx) (1.40.0)\n",
      "Requirement already satisfied: tiktoken in c:\\users\\samsung\\appdata\\local\\packages\\pythonsoftwarefoundation.python.3.12_qbz5n2kfra8p0\\localcache\\local-packages\\python312\\site-packages (from llmx) (0.7.0)\n",
      "Requirement already satisfied: diskcache in c:\\users\\samsung\\appdata\\local\\packages\\pythonsoftwarefoundation.python.3.12_qbz5n2kfra8p0\\localcache\\local-packages\\python312\\site-packages (from llmx) (5.6.3)\n",
      "Requirement already satisfied: cohere in c:\\users\\samsung\\appdata\\local\\packages\\pythonsoftwarefoundation.python.3.12_qbz5n2kfra8p0\\localcache\\local-packages\\python312\\site-packages (from llmx) (5.6.2)\n",
      "Requirement already satisfied: google.auth in c:\\users\\samsung\\appdata\\local\\packages\\pythonsoftwarefoundation.python.3.12_qbz5n2kfra8p0\\localcache\\local-packages\\python312\\site-packages (from llmx) (2.32.0)\n",
      "Requirement already satisfied: typer in c:\\users\\samsung\\appdata\\local\\packages\\pythonsoftwarefoundation.python.3.12_qbz5n2kfra8p0\\localcache\\local-packages\\python312\\site-packages (from llmx) (0.12.3)\n",
      "Requirement already satisfied: pyyaml in c:\\users\\samsung\\appdata\\local\\packages\\pythonsoftwarefoundation.python.3.12_qbz5n2kfra8p0\\localcache\\local-packages\\python312\\site-packages (from llmx) (6.0.2)\n",
      "Requirement already satisfied: boto3<2.0.0,>=1.34.0 in c:\\users\\samsung\\appdata\\local\\packages\\pythonsoftwarefoundation.python.3.12_qbz5n2kfra8p0\\localcache\\local-packages\\python312\\site-packages (from cohere->llmx) (1.34.155)\n",
      "Requirement already satisfied: fastavro<2.0.0,>=1.9.4 in c:\\users\\samsung\\appdata\\local\\packages\\pythonsoftwarefoundation.python.3.12_qbz5n2kfra8p0\\localcache\\local-packages\\python312\\site-packages (from cohere->llmx) (1.9.5)\n",
      "Requirement already satisfied: httpx>=0.21.2 in c:\\users\\samsung\\appdata\\local\\packages\\pythonsoftwarefoundation.python.3.12_qbz5n2kfra8p0\\localcache\\local-packages\\python312\\site-packages (from cohere->llmx) (0.27.0)\n",
      "Requirement already satisfied: httpx-sse<0.5.0,>=0.4.0 in c:\\users\\samsung\\appdata\\local\\packages\\pythonsoftwarefoundation.python.3.12_qbz5n2kfra8p0\\localcache\\local-packages\\python312\\site-packages (from cohere->llmx) (0.4.0)\n",
      "Requirement already satisfied: parameterized<0.10.0,>=0.9.0 in c:\\users\\samsung\\appdata\\local\\packages\\pythonsoftwarefoundation.python.3.12_qbz5n2kfra8p0\\localcache\\local-packages\\python312\\site-packages (from cohere->llmx) (0.9.0)\n",
      "Requirement already satisfied: requests<3.0.0,>=2.0.0 in c:\\users\\samsung\\appdata\\local\\packages\\pythonsoftwarefoundation.python.3.12_qbz5n2kfra8p0\\localcache\\local-packages\\python312\\site-packages (from cohere->llmx) (2.32.3)\n",
      "Requirement already satisfied: tokenizers<1,>=0.15 in c:\\users\\samsung\\appdata\\local\\packages\\pythonsoftwarefoundation.python.3.12_qbz5n2kfra8p0\\localcache\\local-packages\\python312\\site-packages (from cohere->llmx) (0.19.1)\n",
      "Requirement already satisfied: types-requests<3.0.0,>=2.0.0 in c:\\users\\samsung\\appdata\\local\\packages\\pythonsoftwarefoundation.python.3.12_qbz5n2kfra8p0\\localcache\\local-packages\\python312\\site-packages (from cohere->llmx) (2.32.0.20240712)\n",
      "Requirement already satisfied: typing_extensions>=4.0.0 in c:\\users\\samsung\\appdata\\local\\packages\\pythonsoftwarefoundation.python.3.12_qbz5n2kfra8p0\\localcache\\local-packages\\python312\\site-packages (from cohere->llmx) (4.12.2)\n",
      "Requirement already satisfied: annotated-types>=0.4.0 in c:\\users\\samsung\\appdata\\local\\packages\\pythonsoftwarefoundation.python.3.12_qbz5n2kfra8p0\\localcache\\local-packages\\python312\\site-packages (from pydantic->llmx) (0.7.0)\n",
      "Requirement already satisfied: pydantic-core==2.20.1 in c:\\users\\samsung\\appdata\\local\\packages\\pythonsoftwarefoundation.python.3.12_qbz5n2kfra8p0\\localcache\\local-packages\\python312\\site-packages (from pydantic->llmx) (2.20.1)\n",
      "Requirement already satisfied: cachetools<6.0,>=2.0.0 in c:\\users\\samsung\\appdata\\local\\packages\\pythonsoftwarefoundation.python.3.12_qbz5n2kfra8p0\\localcache\\local-packages\\python312\\site-packages (from google.auth->llmx) (5.4.0)\n",
      "Requirement already satisfied: pyasn1-modules>=0.2.1 in c:\\users\\samsung\\appdata\\local\\packages\\pythonsoftwarefoundation.python.3.12_qbz5n2kfra8p0\\localcache\\local-packages\\python312\\site-packages (from google.auth->llmx) (0.4.0)\n",
      "Requirement already satisfied: rsa<5,>=3.1.4 in c:\\users\\samsung\\appdata\\local\\packages\\pythonsoftwarefoundation.python.3.12_qbz5n2kfra8p0\\localcache\\local-packages\\python312\\site-packages (from google.auth->llmx) (4.9)\n",
      "Requirement already satisfied: anyio<5,>=3.5.0 in c:\\users\\samsung\\appdata\\local\\packages\\pythonsoftwarefoundation.python.3.12_qbz5n2kfra8p0\\localcache\\local-packages\\python312\\site-packages (from openai->llmx) (4.4.0)\n",
      "Requirement already satisfied: distro<2,>=1.7.0 in c:\\users\\samsung\\appdata\\local\\packages\\pythonsoftwarefoundation.python.3.12_qbz5n2kfra8p0\\localcache\\local-packages\\python312\\site-packages (from openai->llmx) (1.9.0)\n",
      "Requirement already satisfied: jiter<1,>=0.4.0 in c:\\users\\samsung\\appdata\\local\\packages\\pythonsoftwarefoundation.python.3.12_qbz5n2kfra8p0\\localcache\\local-packages\\python312\\site-packages (from openai->llmx) (0.5.0)\n",
      "Requirement already satisfied: sniffio in c:\\users\\samsung\\appdata\\local\\packages\\pythonsoftwarefoundation.python.3.12_qbz5n2kfra8p0\\localcache\\local-packages\\python312\\site-packages (from openai->llmx) (1.3.1)\n",
      "Requirement already satisfied: tqdm>4 in c:\\users\\samsung\\appdata\\local\\packages\\pythonsoftwarefoundation.python.3.12_qbz5n2kfra8p0\\localcache\\local-packages\\python312\\site-packages (from openai->llmx) (4.66.5)\n",
      "Requirement already satisfied: regex>=2022.1.18 in c:\\users\\samsung\\appdata\\local\\packages\\pythonsoftwarefoundation.python.3.12_qbz5n2kfra8p0\\localcache\\local-packages\\python312\\site-packages (from tiktoken->llmx) (2024.7.24)\n",
      "Requirement already satisfied: click>=8.0.0 in c:\\users\\samsung\\appdata\\local\\packages\\pythonsoftwarefoundation.python.3.12_qbz5n2kfra8p0\\localcache\\local-packages\\python312\\site-packages (from typer->llmx) (8.1.7)\n",
      "Requirement already satisfied: shellingham>=1.3.0 in c:\\users\\samsung\\appdata\\local\\packages\\pythonsoftwarefoundation.python.3.12_qbz5n2kfra8p0\\localcache\\local-packages\\python312\\site-packages (from typer->llmx) (1.5.4)\n",
      "Requirement already satisfied: rich>=10.11.0 in c:\\users\\samsung\\appdata\\local\\packages\\pythonsoftwarefoundation.python.3.12_qbz5n2kfra8p0\\localcache\\local-packages\\python312\\site-packages (from typer->llmx) (13.7.1)\n",
      "Requirement already satisfied: idna>=2.8 in c:\\users\\samsung\\appdata\\local\\packages\\pythonsoftwarefoundation.python.3.12_qbz5n2kfra8p0\\localcache\\local-packages\\python312\\site-packages (from anyio<5,>=3.5.0->openai->llmx) (3.7)\n",
      "Requirement already satisfied: botocore<1.35.0,>=1.34.155 in c:\\users\\samsung\\appdata\\local\\packages\\pythonsoftwarefoundation.python.3.12_qbz5n2kfra8p0\\localcache\\local-packages\\python312\\site-packages (from boto3<2.0.0,>=1.34.0->cohere->llmx) (1.34.155)\n",
      "Requirement already satisfied: jmespath<2.0.0,>=0.7.1 in c:\\users\\samsung\\appdata\\local\\packages\\pythonsoftwarefoundation.python.3.12_qbz5n2kfra8p0\\localcache\\local-packages\\python312\\site-packages (from boto3<2.0.0,>=1.34.0->cohere->llmx) (1.0.1)\n",
      "Requirement already satisfied: s3transfer<0.11.0,>=0.10.0 in c:\\users\\samsung\\appdata\\local\\packages\\pythonsoftwarefoundation.python.3.12_qbz5n2kfra8p0\\localcache\\local-packages\\python312\\site-packages (from boto3<2.0.0,>=1.34.0->cohere->llmx) (0.10.2)\n",
      "Requirement already satisfied: colorama in c:\\users\\samsung\\appdata\\local\\packages\\pythonsoftwarefoundation.python.3.12_qbz5n2kfra8p0\\localcache\\local-packages\\python312\\site-packages (from click>=8.0.0->typer->llmx) (0.4.6)\n",
      "Requirement already satisfied: certifi in c:\\users\\samsung\\appdata\\local\\packages\\pythonsoftwarefoundation.python.3.12_qbz5n2kfra8p0\\localcache\\local-packages\\python312\\site-packages (from httpx>=0.21.2->cohere->llmx) (2024.7.4)\n",
      "Requirement already satisfied: httpcore==1.* in c:\\users\\samsung\\appdata\\local\\packages\\pythonsoftwarefoundation.python.3.12_qbz5n2kfra8p0\\localcache\\local-packages\\python312\\site-packages (from httpx>=0.21.2->cohere->llmx) (1.0.5)\n",
      "Requirement already satisfied: h11<0.15,>=0.13 in c:\\users\\samsung\\appdata\\local\\packages\\pythonsoftwarefoundation.python.3.12_qbz5n2kfra8p0\\localcache\\local-packages\\python312\\site-packages (from httpcore==1.*->httpx>=0.21.2->cohere->llmx) (0.14.0)\n",
      "Requirement already satisfied: pyasn1<0.7.0,>=0.4.6 in c:\\users\\samsung\\appdata\\local\\packages\\pythonsoftwarefoundation.python.3.12_qbz5n2kfra8p0\\localcache\\local-packages\\python312\\site-packages (from pyasn1-modules>=0.2.1->google.auth->llmx) (0.6.0)\n",
      "Requirement already satisfied: charset-normalizer<4,>=2 in c:\\users\\samsung\\appdata\\local\\packages\\pythonsoftwarefoundation.python.3.12_qbz5n2kfra8p0\\localcache\\local-packages\\python312\\site-packages (from requests<3.0.0,>=2.0.0->cohere->llmx) (3.3.2)\n",
      "Requirement already satisfied: urllib3<3,>=1.21.1 in c:\\users\\samsung\\appdata\\local\\packages\\pythonsoftwarefoundation.python.3.12_qbz5n2kfra8p0\\localcache\\local-packages\\python312\\site-packages (from requests<3.0.0,>=2.0.0->cohere->llmx) (2.2.2)\n",
      "Requirement already satisfied: markdown-it-py>=2.2.0 in c:\\users\\samsung\\appdata\\local\\packages\\pythonsoftwarefoundation.python.3.12_qbz5n2kfra8p0\\localcache\\local-packages\\python312\\site-packages (from rich>=10.11.0->typer->llmx) (3.0.0)\n",
      "Requirement already satisfied: pygments<3.0.0,>=2.13.0 in c:\\users\\samsung\\appdata\\local\\packages\\pythonsoftwarefoundation.python.3.12_qbz5n2kfra8p0\\localcache\\local-packages\\python312\\site-packages (from rich>=10.11.0->typer->llmx) (2.18.0)\n",
      "Requirement already satisfied: huggingface-hub<1.0,>=0.16.4 in c:\\users\\samsung\\appdata\\local\\packages\\pythonsoftwarefoundation.python.3.12_qbz5n2kfra8p0\\localcache\\local-packages\\python312\\site-packages (from tokenizers<1,>=0.15->cohere->llmx) (0.24.5)\n",
      "Requirement already satisfied: python-dateutil<3.0.0,>=2.1 in c:\\users\\samsung\\appdata\\local\\packages\\pythonsoftwarefoundation.python.3.12_qbz5n2kfra8p0\\localcache\\local-packages\\python312\\site-packages (from botocore<1.35.0,>=1.34.155->boto3<2.0.0,>=1.34.0->cohere->llmx) (2.9.0.post0)\n",
      "Requirement already satisfied: filelock in c:\\users\\samsung\\appdata\\local\\packages\\pythonsoftwarefoundation.python.3.12_qbz5n2kfra8p0\\localcache\\local-packages\\python312\\site-packages (from huggingface-hub<1.0,>=0.16.4->tokenizers<1,>=0.15->cohere->llmx) (3.15.4)\n",
      "Requirement already satisfied: fsspec>=2023.5.0 in c:\\users\\samsung\\appdata\\local\\packages\\pythonsoftwarefoundation.python.3.12_qbz5n2kfra8p0\\localcache\\local-packages\\python312\\site-packages (from huggingface-hub<1.0,>=0.16.4->tokenizers<1,>=0.15->cohere->llmx) (2024.6.1)\n",
      "Requirement already satisfied: packaging>=20.9 in c:\\users\\samsung\\appdata\\local\\packages\\pythonsoftwarefoundation.python.3.12_qbz5n2kfra8p0\\localcache\\local-packages\\python312\\site-packages (from huggingface-hub<1.0,>=0.16.4->tokenizers<1,>=0.15->cohere->llmx) (24.1)\n",
      "Requirement already satisfied: mdurl~=0.1 in c:\\users\\samsung\\appdata\\local\\packages\\pythonsoftwarefoundation.python.3.12_qbz5n2kfra8p0\\localcache\\local-packages\\python312\\site-packages (from markdown-it-py>=2.2.0->rich>=10.11.0->typer->llmx) (0.1.2)\n",
      "Requirement already satisfied: six>=1.5 in c:\\users\\samsung\\appdata\\local\\packages\\pythonsoftwarefoundation.python.3.12_qbz5n2kfra8p0\\localcache\\local-packages\\python312\\site-packages (from python-dateutil<3.0.0,>=2.1->botocore<1.35.0,>=1.34.155->boto3<2.0.0,>=1.34.0->cohere->llmx) (1.16.0)\n",
      "Note: you may need to restart the kernel to use updated packages.\n",
      "Defaulting to user installation because normal site-packages is not writeable\n",
      "Requirement already satisfied: pandas in c:\\users\\samsung\\appdata\\local\\packages\\pythonsoftwarefoundation.python.3.12_qbz5n2kfra8p0\\localcache\\local-packages\\python312\\site-packages (2.2.2)\n",
      "Requirement already satisfied: numpy>=1.26.0 in c:\\users\\samsung\\appdata\\local\\packages\\pythonsoftwarefoundation.python.3.12_qbz5n2kfra8p0\\localcache\\local-packages\\python312\\site-packages (from pandas) (2.0.1)\n",
      "Requirement already satisfied: python-dateutil>=2.8.2 in c:\\users\\samsung\\appdata\\local\\packages\\pythonsoftwarefoundation.python.3.12_qbz5n2kfra8p0\\localcache\\local-packages\\python312\\site-packages (from pandas) (2.9.0.post0)\n",
      "Requirement already satisfied: pytz>=2020.1 in c:\\users\\samsung\\appdata\\local\\packages\\pythonsoftwarefoundation.python.3.12_qbz5n2kfra8p0\\localcache\\local-packages\\python312\\site-packages (from pandas) (2024.1)\n",
      "Requirement already satisfied: tzdata>=2022.7 in c:\\users\\samsung\\appdata\\local\\packages\\pythonsoftwarefoundation.python.3.12_qbz5n2kfra8p0\\localcache\\local-packages\\python312\\site-packages (from pandas) (2024.1)\n",
      "Requirement already satisfied: six>=1.5 in c:\\users\\samsung\\appdata\\local\\packages\\pythonsoftwarefoundation.python.3.12_qbz5n2kfra8p0\\localcache\\local-packages\\python312\\site-packages (from python-dateutil>=2.8.2->pandas) (1.16.0)\n",
      "Note: you may need to restart the kernel to use updated packages.\n",
      "Defaulting to user installation because normal site-packages is not writeable\n",
      "Requirement already satisfied: matplotlib in c:\\users\\samsung\\appdata\\local\\packages\\pythonsoftwarefoundation.python.3.12_qbz5n2kfra8p0\\localcache\\local-packages\\python312\\site-packages (3.9.1.post1)\n",
      "Requirement already satisfied: contourpy>=1.0.1 in c:\\users\\samsung\\appdata\\local\\packages\\pythonsoftwarefoundation.python.3.12_qbz5n2kfra8p0\\localcache\\local-packages\\python312\\site-packages (from matplotlib) (1.2.1)\n",
      "Requirement already satisfied: cycler>=0.10 in c:\\users\\samsung\\appdata\\local\\packages\\pythonsoftwarefoundation.python.3.12_qbz5n2kfra8p0\\localcache\\local-packages\\python312\\site-packages (from matplotlib) (0.12.1)\n",
      "Requirement already satisfied: fonttools>=4.22.0 in c:\\users\\samsung\\appdata\\local\\packages\\pythonsoftwarefoundation.python.3.12_qbz5n2kfra8p0\\localcache\\local-packages\\python312\\site-packages (from matplotlib) (4.53.1)\n",
      "Requirement already satisfied: kiwisolver>=1.3.1 in c:\\users\\samsung\\appdata\\local\\packages\\pythonsoftwarefoundation.python.3.12_qbz5n2kfra8p0\\localcache\\local-packages\\python312\\site-packages (from matplotlib) (1.4.5)\n",
      "Requirement already satisfied: numpy>=1.23 in c:\\users\\samsung\\appdata\\local\\packages\\pythonsoftwarefoundation.python.3.12_qbz5n2kfra8p0\\localcache\\local-packages\\python312\\site-packages (from matplotlib) (2.0.1)\n",
      "Requirement already satisfied: packaging>=20.0 in c:\\users\\samsung\\appdata\\local\\packages\\pythonsoftwarefoundation.python.3.12_qbz5n2kfra8p0\\localcache\\local-packages\\python312\\site-packages (from matplotlib) (24.1)\n",
      "Requirement already satisfied: pillow>=8 in c:\\users\\samsung\\appdata\\local\\packages\\pythonsoftwarefoundation.python.3.12_qbz5n2kfra8p0\\localcache\\local-packages\\python312\\site-packages (from matplotlib) (10.4.0)\n",
      "Requirement already satisfied: pyparsing>=2.3.1 in c:\\users\\samsung\\appdata\\local\\packages\\pythonsoftwarefoundation.python.3.12_qbz5n2kfra8p0\\localcache\\local-packages\\python312\\site-packages (from matplotlib) (3.1.2)\n",
      "Requirement already satisfied: python-dateutil>=2.7 in c:\\users\\samsung\\appdata\\local\\packages\\pythonsoftwarefoundation.python.3.12_qbz5n2kfra8p0\\localcache\\local-packages\\python312\\site-packages (from matplotlib) (2.9.0.post0)\n",
      "Requirement already satisfied: six>=1.5 in c:\\users\\samsung\\appdata\\local\\packages\\pythonsoftwarefoundation.python.3.12_qbz5n2kfra8p0\\localcache\\local-packages\\python312\\site-packages (from python-dateutil>=2.7->matplotlib) (1.16.0)\n",
      "Note: you may need to restart the kernel to use updated packages.\n",
      "Defaulting to user installation because normal site-packages is not writeable\n",
      "Requirement already satisfied: plotly in c:\\users\\samsung\\appdata\\local\\packages\\pythonsoftwarefoundation.python.3.12_qbz5n2kfra8p0\\localcache\\local-packages\\python312\\site-packages (5.23.0)\n",
      "Requirement already satisfied: tenacity>=6.2.0 in c:\\users\\samsung\\appdata\\local\\packages\\pythonsoftwarefoundation.python.3.12_qbz5n2kfra8p0\\localcache\\local-packages\\python312\\site-packages (from plotly) (9.0.0)\n",
      "Requirement already satisfied: packaging in c:\\users\\samsung\\appdata\\local\\packages\\pythonsoftwarefoundation.python.3.12_qbz5n2kfra8p0\\localcache\\local-packages\\python312\\site-packages (from plotly) (24.1)\n",
      "Note: you may need to restart the kernel to use updated packages.\n",
      "Defaulting to user installation because normal site-packages is not writeable\n",
      "Requirement already satisfied: seaborn in c:\\users\\samsung\\appdata\\local\\packages\\pythonsoftwarefoundation.python.3.12_qbz5n2kfra8p0\\localcache\\local-packages\\python312\\site-packages (0.13.2)\n",
      "Requirement already satisfied: numpy!=1.24.0,>=1.20 in c:\\users\\samsung\\appdata\\local\\packages\\pythonsoftwarefoundation.python.3.12_qbz5n2kfra8p0\\localcache\\local-packages\\python312\\site-packages (from seaborn) (2.0.1)\n",
      "Requirement already satisfied: pandas>=1.2 in c:\\users\\samsung\\appdata\\local\\packages\\pythonsoftwarefoundation.python.3.12_qbz5n2kfra8p0\\localcache\\local-packages\\python312\\site-packages (from seaborn) (2.2.2)\n",
      "Requirement already satisfied: matplotlib!=3.6.1,>=3.4 in c:\\users\\samsung\\appdata\\local\\packages\\pythonsoftwarefoundation.python.3.12_qbz5n2kfra8p0\\localcache\\local-packages\\python312\\site-packages (from seaborn) (3.9.1.post1)\n",
      "Requirement already satisfied: contourpy>=1.0.1 in c:\\users\\samsung\\appdata\\local\\packages\\pythonsoftwarefoundation.python.3.12_qbz5n2kfra8p0\\localcache\\local-packages\\python312\\site-packages (from matplotlib!=3.6.1,>=3.4->seaborn) (1.2.1)\n",
      "Requirement already satisfied: cycler>=0.10 in c:\\users\\samsung\\appdata\\local\\packages\\pythonsoftwarefoundation.python.3.12_qbz5n2kfra8p0\\localcache\\local-packages\\python312\\site-packages (from matplotlib!=3.6.1,>=3.4->seaborn) (0.12.1)\n",
      "Requirement already satisfied: fonttools>=4.22.0 in c:\\users\\samsung\\appdata\\local\\packages\\pythonsoftwarefoundation.python.3.12_qbz5n2kfra8p0\\localcache\\local-packages\\python312\\site-packages (from matplotlib!=3.6.1,>=3.4->seaborn) (4.53.1)\n",
      "Requirement already satisfied: kiwisolver>=1.3.1 in c:\\users\\samsung\\appdata\\local\\packages\\pythonsoftwarefoundation.python.3.12_qbz5n2kfra8p0\\localcache\\local-packages\\python312\\site-packages (from matplotlib!=3.6.1,>=3.4->seaborn) (1.4.5)\n",
      "Requirement already satisfied: packaging>=20.0 in c:\\users\\samsung\\appdata\\local\\packages\\pythonsoftwarefoundation.python.3.12_qbz5n2kfra8p0\\localcache\\local-packages\\python312\\site-packages (from matplotlib!=3.6.1,>=3.4->seaborn) (24.1)\n",
      "Requirement already satisfied: pillow>=8 in c:\\users\\samsung\\appdata\\local\\packages\\pythonsoftwarefoundation.python.3.12_qbz5n2kfra8p0\\localcache\\local-packages\\python312\\site-packages (from matplotlib!=3.6.1,>=3.4->seaborn) (10.4.0)\n",
      "Requirement already satisfied: pyparsing>=2.3.1 in c:\\users\\samsung\\appdata\\local\\packages\\pythonsoftwarefoundation.python.3.12_qbz5n2kfra8p0\\localcache\\local-packages\\python312\\site-packages (from matplotlib!=3.6.1,>=3.4->seaborn) (3.1.2)\n",
      "Requirement already satisfied: python-dateutil>=2.7 in c:\\users\\samsung\\appdata\\local\\packages\\pythonsoftwarefoundation.python.3.12_qbz5n2kfra8p0\\localcache\\local-packages\\python312\\site-packages (from matplotlib!=3.6.1,>=3.4->seaborn) (2.9.0.post0)\n",
      "Requirement already satisfied: pytz>=2020.1 in c:\\users\\samsung\\appdata\\local\\packages\\pythonsoftwarefoundation.python.3.12_qbz5n2kfra8p0\\localcache\\local-packages\\python312\\site-packages (from pandas>=1.2->seaborn) (2024.1)\n",
      "Requirement already satisfied: tzdata>=2022.7 in c:\\users\\samsung\\appdata\\local\\packages\\pythonsoftwarefoundation.python.3.12_qbz5n2kfra8p0\\localcache\\local-packages\\python312\\site-packages (from pandas>=1.2->seaborn) (2024.1)\n",
      "Requirement already satisfied: six>=1.5 in c:\\users\\samsung\\appdata\\local\\packages\\pythonsoftwarefoundation.python.3.12_qbz5n2kfra8p0\\localcache\\local-packages\\python312\\site-packages (from python-dateutil>=2.7->matplotlib!=3.6.1,>=3.4->seaborn) (1.16.0)\n",
      "Note: you may need to restart the kernel to use updated packages.\n"
     ]
    }
   ],
   "source": [
    "%pip uninstall -y lida \n",
    "%pip install -U python-dotenv\n",
    "%pip install -U llmx\n",
    "%pip install pandas\n",
    "%pip install matplotlib\n",
    "%pip install plotly\n",
    "%pip install seaborn\n",
    "# !pip install lida[infographics] # for infographics support"
   ]
  },
  {
   "cell_type": "code",
   "execution_count": 3,
   "metadata": {},
   "outputs": [
    {
     "name": "stdout",
     "output_type": "stream",
     "text": [
      "Note: you may need to restart the kernel to use updated packages.\n"
     ]
    },
    {
     "name": "stderr",
     "output_type": "stream",
     "text": [
      "WARNING: Package(s) not found: lida\n"
     ]
    }
   ],
   "source": [
    "%pip show lida"
   ]
  },
  {
   "cell_type": "code",
   "execution_count": 4,
   "metadata": {},
   "outputs": [],
   "source": [
    "%load_ext autoreload\n",
    "%autoreload 2"
   ]
  },
  {
   "cell_type": "code",
   "execution_count": 5,
   "metadata": {},
   "outputs": [],
   "source": [
    "import sys\n",
    "import os\n",
    "import pprint\n",
    "import pickle"
   ]
  },
  {
   "cell_type": "code",
   "execution_count": 6,
   "metadata": {},
   "outputs": [
    {
     "data": {
      "text/plain": [
       "True"
      ]
     },
     "execution_count": 6,
     "metadata": {},
     "output_type": "execute_result"
    }
   ],
   "source": [
    "from dotenv import load_dotenv\n",
    "\n",
    "load_dotenv()"
   ]
  },
  {
   "cell_type": "code",
   "execution_count": 7,
   "metadata": {},
   "outputs": [],
   "source": [
    "sys.path.append(os.path.abspath('../..'))"
   ]
  },
  {
   "cell_type": "code",
   "execution_count": 8,
   "metadata": {},
   "outputs": [],
   "source": [
    "from lida.components.manager import Manager\n",
    "from llmx import TextGenerationConfig, llm"
   ]
  },
  {
   "cell_type": "code",
   "execution_count": 9,
   "metadata": {},
   "outputs": [],
   "source": [
    "lida = Manager(text_gen = llm(\"openai\", api_key=os.getenv(\"APIKEY\")))\n",
    "textgen_config = TextGenerationConfig(n=1, temperature=0.5, model=\"gpt-4o-mini\", use_cache=True)"
   ]
  },
  {
   "attachments": {},
   "cell_type": "markdown",
   "metadata": {},
   "source": [
    "## Summarize Data"
   ]
  },
  {
   "cell_type": "code",
   "execution_count": 12,
   "metadata": {},
   "outputs": [
    {
     "name": "stdout",
     "output_type": "stream",
     "text": [
      "{'dataset_description': '',\n",
      " 'field_names': ['Name',\n",
      "                 'Type',\n",
      "                 'AWD',\n",
      "                 'RWD',\n",
      "                 'Retail_Price',\n",
      "                 'Dealer_Cost',\n",
      "                 'Engine_Size__l_',\n",
      "                 'Cyl',\n",
      "                 'Horsepower_HP_',\n",
      "                 'City_Miles_Per_Gallon',\n",
      "                 'Highway_Miles_Per_Gallon',\n",
      "                 'Weight',\n",
      "                 'Wheel_Base',\n",
      "                 'Len',\n",
      "                 'Width'],\n",
      " 'fields': [{'column': 'Name',\n",
      "             'properties': {'description': '',\n",
      "                            'dtype': 'string',\n",
      "                            'num_unique_values': 385,\n",
      "                            'samples': ['Nissan Altima S 4dr',\n",
      "                                        'Mercury Marauder 4dr',\n",
      "                                        'Toyota Prius 4dr (gas/electric)'],\n",
      "                            'semantic_type': ''}},\n",
      "            {'column': 'Type',\n",
      "             'properties': {'description': '',\n",
      "                            'dtype': 'category',\n",
      "                            'num_unique_values': 5,\n",
      "                            'samples': ['SUV', 'Minivan', 'Sports Car'],\n",
      "                            'semantic_type': '',\n",
      "                            'value_counts': {'Minivan': 20,\n",
      "                                             'SUV': 59,\n",
      "                                             'Sedan': 234,\n",
      "                                             'Sports Car': 45,\n",
      "                                             'Wagon': 29}}},\n",
      "            {'column': 'AWD',\n",
      "             'properties': {'description': '',\n",
      "                            'dtype': 'number',\n",
      "                            'kurtosis': 0,\n",
      "                            'max': 1,\n",
      "                            'mean': 0,\n",
      "                            'median': 0,\n",
      "                            'min': 0,\n",
      "                            'num_unique_values': 2,\n",
      "                            'quantile': {0.25: 0.0, 0.5: 0.0, 0.75: 0.0},\n",
      "                            'samples': [1, 0],\n",
      "                            'semantic_type': '',\n",
      "                            'std': 0}},\n",
      "            {'column': 'RWD',\n",
      "             'properties': {'description': '',\n",
      "                            'dtype': 'number',\n",
      "                            'kurtosis': 0,\n",
      "                            'max': 1,\n",
      "                            'mean': 0,\n",
      "                            'median': 0,\n",
      "                            'min': 0,\n",
      "                            'num_unique_values': 2,\n",
      "                            'quantile': {0.25: 0.0, 0.5: 0.0, 0.75: 0.0},\n",
      "                            'samples': [1, 0],\n",
      "                            'semantic_type': '',\n",
      "                            'std': 0}},\n",
      "            {'column': 'Retail_Price',\n",
      "             'properties': {'description': '',\n",
      "                            'dtype': 'number',\n",
      "                            'kurtosis': 14,\n",
      "                            'max': 192465,\n",
      "                            'mean': 33231,\n",
      "                            'median': 28495,\n",
      "                            'min': 10280,\n",
      "                            'num_unique_values': 370,\n",
      "                            'quantile': {0.25: 20997.0,\n",
      "                                         0.5: 28495.0,\n",
      "                                         0.75: 39552.5},\n",
      "                            'samples': [22775, 37245],\n",
      "                            'semantic_type': '',\n",
      "                            'std': 19724}},\n",
      "            {'column': 'Dealer_Cost',\n",
      "             'properties': {'description': '',\n",
      "                            'dtype': 'number',\n",
      "                            'kurtosis': 14,\n",
      "                            'max': 173560,\n",
      "                            'mean': 30440,\n",
      "                            'median': 26155,\n",
      "                            'min': 9875,\n",
      "                            'num_unique_values': 384,\n",
      "                            'quantile': {0.25: 19575.0,\n",
      "                                         0.5: 26155.0,\n",
      "                                         0.75: 36124.0},\n",
      "                            'samples': [18030, 31558],\n",
      "                            'semantic_type': '',\n",
      "                            'std': 17901}},\n",
      "            {'column': 'Engine_Size__l_',\n",
      "             'properties': {'description': '',\n",
      "                            'dtype': 'number',\n",
      "                            'kurtosis': -0.37554339820346394,\n",
      "                            'max': 6.0,\n",
      "                            'mean': 3.1196382428940574,\n",
      "                            'median': 3.0,\n",
      "                            'min': 0.0,\n",
      "                            'num_unique_values': 40,\n",
      "                            'quantile': {0.25: 2.3, 0.5: 3.0, 0.75: 3.8},\n",
      "                            'samples': [2.2, 5.3],\n",
      "                            'semantic_type': '',\n",
      "                            'std': 1.0266787710109588}},\n",
      "            {'column': 'Cyl',\n",
      "             'properties': {'description': '',\n",
      "                            'dtype': 'number',\n",
      "                            'kurtosis': 0,\n",
      "                            'max': 12,\n",
      "                            'mean': 5,\n",
      "                            'median': 6,\n",
      "                            'min': 0,\n",
      "                            'num_unique_values': 8,\n",
      "                            'quantile': {0.25: 4.0, 0.5: 6.0, 0.75: 6.0},\n",
      "                            'samples': [4, 9],\n",
      "                            'semantic_type': '',\n",
      "                            'std': 1}},\n",
      "            {'column': 'Horsepower_HP_',\n",
      "             'properties': {'description': '',\n",
      "                            'dtype': 'number',\n",
      "                            'kurtosis': 1,\n",
      "                            'max': 493,\n",
      "                            'mean': 214,\n",
      "                            'median': 210,\n",
      "                            'min': 73,\n",
      "                            'num_unique_values': 100,\n",
      "                            'quantile': {0.25: 165.0, 0.5: 210.0, 0.75: 250.0},\n",
      "                            'samples': [126, 138],\n",
      "                            'semantic_type': '',\n",
      "                            'std': 70}},\n",
      "            {'column': 'City_Miles_Per_Gallon',\n",
      "             'properties': {'description': '',\n",
      "                            'dtype': 'number',\n",
      "                            'kurtosis': 378,\n",
      "                            'max': 1000,\n",
      "                            'mean': 22,\n",
      "                            'median': 19,\n",
      "                            'min': 10,\n",
      "                            'num_unique_values': 29,\n",
      "                            'quantile': {0.25: 18.0, 0.5: 19.0, 0.75: 22.0},\n",
      "                            'samples': [59, 32],\n",
      "                            'semantic_type': '',\n",
      "                            'std': 50}},\n",
      "            {'column': 'Highway_Miles_Per_Gallon',\n",
      "             'properties': {'description': '',\n",
      "                            'dtype': 'number',\n",
      "                            'kurtosis': 379,\n",
      "                            'max': 66,\n",
      "                            'mean': 24,\n",
      "                            'median': 27,\n",
      "                            'min': -1100,\n",
      "                            'num_unique_values': 33,\n",
      "                            'quantile': {0.25: 24.0, 0.5: 27.0, 0.75: 30.0},\n",
      "                            'samples': [43, 37],\n",
      "                            'semantic_type': '',\n",
      "                            'std': 57}},\n",
      "            {'column': 'Weight',\n",
      "             'properties': {'description': '',\n",
      "                            'dtype': 'number',\n",
      "                            'kurtosis': 1,\n",
      "                            'max': 6400,\n",
      "                            'mean': 3532,\n",
      "                            'median': 3469,\n",
      "                            'min': 1850,\n",
      "                            'num_unique_values': 315,\n",
      "                            'quantile': {0.25: 3107.0,\n",
      "                                         0.5: 3469.0,\n",
      "                                         0.75: 3922.0},\n",
      "                            'samples': [4473, 3472],\n",
      "                            'semantic_type': '',\n",
      "                            'std': 706}},\n",
      "            {'column': 'Wheel_Base',\n",
      "             'properties': {'description': '',\n",
      "                            'dtype': 'number',\n",
      "                            'kurtosis': 52,\n",
      "                            'max': 130,\n",
      "                            'mean': 106,\n",
      "                            'median': 107,\n",
      "                            'min': 0,\n",
      "                            'num_unique_values': 34,\n",
      "                            'quantile': {0.25: 103.0, 0.5: 107.0, 0.75: 112.0},\n",
      "                            'samples': [110, 0],\n",
      "                            'semantic_type': '',\n",
      "                            'std': 8}},\n",
      "            {'column': 'Len',\n",
      "             'properties': {'description': '',\n",
      "                            'dtype': 'number',\n",
      "                            'kurtosis': 0,\n",
      "                            'max': 221,\n",
      "                            'mean': 184,\n",
      "                            'median': 186,\n",
      "                            'min': 143,\n",
      "                            'num_unique_values': 60,\n",
      "                            'quantile': {0.25: 177.0, 0.5: 186.0, 0.75: 193.0},\n",
      "                            'samples': [197, 183],\n",
      "                            'semantic_type': '',\n",
      "                            'std': 13}},\n",
      "            {'column': 'Width',\n",
      "             'properties': {'description': '',\n",
      "                            'dtype': 'number',\n",
      "                            'kurtosis': 104,\n",
      "                            'max': 81,\n",
      "                            'mean': 71,\n",
      "                            'median': 71,\n",
      "                            'min': 2,\n",
      "                            'num_unique_values': 19,\n",
      "                            'quantile': {0.25: 69.0, 0.5: 71.0, 0.75: 73.0},\n",
      "                            'samples': [72, 70],\n",
      "                            'semantic_type': '',\n",
      "                            'std': 4}}],\n",
      " 'file_name': 'cars.csv',\n",
      " 'name': 'cars.csv'}\n"
     ]
    }
   ],
   "source": [
    "summary = lida.summarize(\"../cars.csv\", summary_method=\"default\", textgen_config=textgen_config)  \n",
    "pprint.pprint(summary)"
   ]
  },
  {
   "cell_type": "markdown",
   "metadata": {},
   "source": [
    "## Generate Goals"
   ]
  },
  {
   "cell_type": "markdown",
   "metadata": {},
   "source": [
    "### Generate Goals without a Persona"
   ]
  },
  {
   "cell_type": "code",
   "execution_count": 20,
   "metadata": {},
   "outputs": [
    {
     "data": {
      "text/markdown": [
       "\n",
       "### Goal 0\n",
       "---\n",
       "**Question:** What is the distribution of car types in the dataset?\n",
       "\n",
       "**Visualization:** `bar chart of Type`\n",
       "\n",
       "**Rationale:** This visualization will show the frequency of each car type (Sedan, SUV, Sports Car, Wagon, Minivan) in the dataset. Understanding the distribution of car types helps identify market trends and consumer preferences, which is crucial for strategic decision-making.\n"
      ],
      "text/plain": [
       "Goal(question='What is the distribution of car types in the dataset?', visualization='bar chart of Type', rationale='This visualization will show the frequency of each car type (Sedan, SUV, Sports Car, Wagon, Minivan) in the dataset. Understanding the distribution of car types helps identify market trends and consumer preferences, which is crucial for strategic decision-making.', index=0)"
      ]
     },
     "metadata": {},
     "output_type": "display_data"
    },
    {
     "data": {
      "text/markdown": [
       "\n",
       "### Goal 1\n",
       "---\n",
       "**Question:** How do retail prices vary across different car types?\n",
       "\n",
       "**Visualization:** `box plot of Retail_Price by Type`\n",
       "\n",
       "**Rationale:** A box plot will illustrate the spread and central tendency of retail prices for each car type. This allows for an analysis of price ranges and potential outliers, providing insights into the pricing strategy and market positioning for different types of vehicles.\n"
      ],
      "text/plain": [
       "Goal(question='How do retail prices vary across different car types?', visualization='box plot of Retail_Price by Type', rationale='A box plot will illustrate the spread and central tendency of retail prices for each car type. This allows for an analysis of price ranges and potential outliers, providing insights into the pricing strategy and market positioning for different types of vehicles.', index=1)"
      ]
     },
     "metadata": {},
     "output_type": "display_data"
    },
    {
     "data": {
      "text/markdown": [
       "\n",
       "### Goal 2\n",
       "---\n",
       "**Question:** What is the relationship between car types and their fuel efficiency (City_Miles_Per_Gallon)?\n",
       "\n",
       "**Visualization:** `bar chart of average City_Miles_Per_Gallon by Type`\n",
       "\n",
       "**Rationale:** This visualization will compare the average city miles per gallon for each car type. Understanding fuel efficiency by type can inform consumers about the most economical choices and help manufacturers focus on improving efficiency in specific categories.\n"
      ],
      "text/plain": [
       "Goal(question='What is the relationship between car types and their fuel efficiency (City_Miles_Per_Gallon)?', visualization='bar chart of average City_Miles_Per_Gallon by Type', rationale='This visualization will compare the average city miles per gallon for each car type. Understanding fuel efficiency by type can inform consumers about the most economical choices and help manufacturers focus on improving efficiency in specific categories.', index=2)"
      ]
     },
     "metadata": {},
     "output_type": "display_data"
    },
    {
     "data": {
      "text/markdown": [
       "\n",
       "### Goal 3\n",
       "---\n",
       "**Question:** What is the average horsepower across different car types?\n",
       "\n",
       "**Visualization:** `bar chart of average Horsepower_HP_ by Type`\n",
       "\n",
       "**Rationale:** A bar chart will display the average horsepower for each car type, allowing for comparison of performance characteristics. This insight can guide consumers in their purchase decisions based on performance expectations associated with different types of vehicles.\n"
      ],
      "text/plain": [
       "Goal(question='What is the average horsepower across different car types?', visualization='bar chart of average Horsepower_HP_ by Type', rationale='A bar chart will display the average horsepower for each car type, allowing for comparison of performance characteristics. This insight can guide consumers in their purchase decisions based on performance expectations associated with different types of vehicles.', index=3)"
      ]
     },
     "metadata": {},
     "output_type": "display_data"
    },
    {
     "data": {
      "text/markdown": [
       "\n",
       "### Goal 4\n",
       "---\n",
       "**Question:** How does the weight of vehicles differ by type?\n",
       "\n",
       "**Visualization:** `box plot of Weight by Type`\n",
       "\n",
       "**Rationale:** Using a box plot to visualize weight differences among car types will reveal variations in vehicle size and construction. This information is valuable for understanding safety, fuel efficiency, and performance implications related to vehicle weight.\n"
      ],
      "text/plain": [
       "Goal(question='How does the weight of vehicles differ by type?', visualization='box plot of Weight by Type', rationale='Using a box plot to visualize weight differences among car types will reveal variations in vehicle size and construction. This information is valuable for understanding safety, fuel efficiency, and performance implications related to vehicle weight.', index=4)"
      ]
     },
     "metadata": {},
     "output_type": "display_data"
    },
    {
     "data": {
      "text/markdown": [
       "\n",
       "### Goal 5\n",
       "---\n",
       "**Question:** What is the relationship between Retail Price and Engine Size?\n",
       "\n",
       "**Visualization:** `scatter plot of Retail_Price vs Engine_Size__l_`\n",
       "\n",
       "**Rationale:** This visualization will help us understand how engine size influences the retail price of cars. A scatter plot is appropriate here as it allows us to identify trends and correlations between two continuous numeric variables.\n"
      ],
      "text/plain": [
       "Goal(question='What is the relationship between Retail Price and Engine Size?', visualization='scatter plot of Retail_Price vs Engine_Size__l_', rationale='This visualization will help us understand how engine size influences the retail price of cars. A scatter plot is appropriate here as it allows us to identify trends and correlations between two continuous numeric variables.', index=5)"
      ]
     },
     "metadata": {},
     "output_type": "display_data"
    },
    {
     "data": {
      "text/markdown": [
       "\n",
       "### Goal 6\n",
       "---\n",
       "**Question:** How do horsepower levels vary across different car types?\n",
       "\n",
       "**Visualization:** `box plot of Horsepower_HP_ by Type`\n",
       "\n",
       "**Rationale:** A box plot will provide insights into the distribution of horsepower within each car type, highlighting medians, quartiles, and potential outliers. This is useful for understanding performance characteristics across different categories.\n"
      ],
      "text/plain": [
       "Goal(question='How do horsepower levels vary across different car types?', visualization='box plot of Horsepower_HP_ by Type', rationale='A box plot will provide insights into the distribution of horsepower within each car type, highlighting medians, quartiles, and potential outliers. This is useful for understanding performance characteristics across different categories.', index=6)"
      ]
     },
     "metadata": {},
     "output_type": "display_data"
    },
    {
     "data": {
      "text/markdown": [
       "\n",
       "### Goal 7\n",
       "---\n",
       "**Question:** What is the average weight of cars based on their drivetrain configuration (AWD/RWD)?\n",
       "\n",
       "**Visualization:** `bar chart of average Weight by AWD and RWD`\n",
       "\n",
       "**Rationale:** Using a bar chart allows for easy comparison of average weights between all-wheel drive and rear-wheel drive vehicles. This can reveal insights into how drivetrain configurations relate to vehicle weight.\n"
      ],
      "text/plain": [
       "Goal(question='What is the average weight of cars based on their drivetrain configuration (AWD/RWD)?', visualization='bar chart of average Weight by AWD and RWD', rationale='Using a bar chart allows for easy comparison of average weights between all-wheel drive and rear-wheel drive vehicles. This can reveal insights into how drivetrain configurations relate to vehicle weight.', index=7)"
      ]
     },
     "metadata": {},
     "output_type": "display_data"
    },
    {
     "data": {
      "text/markdown": [
       "\n",
       "### Goal 8\n",
       "---\n",
       "**Question:** What is the distribution of City Miles Per Gallon across different engine sizes?\n",
       "\n",
       "**Visualization:** `violin plot of City_Miles_Per_Gallon by Engine_Size__l_`\n",
       "\n",
       "**Rationale:** A violin plot will show the distribution of city mileage across different engine sizes, allowing for a detailed view of the density and variation in fuel efficiency among various engine capacities.\n"
      ],
      "text/plain": [
       "Goal(question='What is the distribution of City Miles Per Gallon across different engine sizes?', visualization='violin plot of City_Miles_Per_Gallon by Engine_Size__l_', rationale='A violin plot will show the distribution of city mileage across different engine sizes, allowing for a detailed view of the density and variation in fuel efficiency among various engine capacities.', index=8)"
      ]
     },
     "metadata": {},
     "output_type": "display_data"
    },
    {
     "data": {
      "text/markdown": [
       "\n",
       "### Goal 9\n",
       "---\n",
       "**Question:** How does the dealer cost compare to retail price across different cylinder counts?\n",
       "\n",
       "**Visualization:** `grouped bar chart of average Dealer_Cost and Retail_Price by Cyl`\n",
       "\n",
       "**Rationale:** A grouped bar chart will facilitate a direct comparison of average dealer costs and retail prices for different cylinder counts, revealing how engine size may affect pricing strategies in the market.\n"
      ],
      "text/plain": [
       "Goal(question='How does the dealer cost compare to retail price across different cylinder counts?', visualization='grouped bar chart of average Dealer_Cost and Retail_Price by Cyl', rationale='A grouped bar chart will facilitate a direct comparison of average dealer costs and retail prices for different cylinder counts, revealing how engine size may affect pricing strategies in the market.', index=9)"
      ]
     },
     "metadata": {},
     "output_type": "display_data"
    },
    {
     "data": {
      "text/markdown": [
       "\n",
       "### Goal 10\n",
       "---\n",
       "**Question:** How does the Retail Price vary by Type and Engine Size?\n",
       "\n",
       "**Visualization:** `box plot of Retail_Price by Type and Engine_Size__l_`\n",
       "\n",
       "**Rationale:** This visualization allows us to see the distribution of retail prices across different car types while considering engine size, which may impact pricing. A box plot is chosen here to effectively show the median, quartiles, and potential outliers in the data.\n"
      ],
      "text/plain": [
       "Goal(question='How does the Retail Price vary by Type and Engine Size?', visualization='box plot of Retail_Price by Type and Engine_Size__l_', rationale='This visualization allows us to see the distribution of retail prices across different car types while considering engine size, which may impact pricing. A box plot is chosen here to effectively show the median, quartiles, and potential outliers in the data.', index=10)"
      ]
     },
     "metadata": {},
     "output_type": "display_data"
    },
    {
     "data": {
      "text/markdown": [
       "\n",
       "### Goal 11\n",
       "---\n",
       "**Question:** What is the relationship between Horsepower, Weight, and Retail Price?\n",
       "\n",
       "**Visualization:** `scatter plot of Horsepower_HP_ vs. Weight colored by Retail_Price`\n",
       "\n",
       "**Rationale:** A scatter plot will help visualize the correlation between horsepower and weight while using color to represent retail price. This can reveal insights about how these variables interact and influence car pricing.\n"
      ],
      "text/plain": [
       "Goal(question='What is the relationship between Horsepower, Weight, and Retail Price?', visualization='scatter plot of Horsepower_HP_ vs. Weight colored by Retail_Price', rationale='A scatter plot will help visualize the correlation between horsepower and weight while using color to represent retail price. This can reveal insights about how these variables interact and influence car pricing.', index=11)"
      ]
     },
     "metadata": {},
     "output_type": "display_data"
    },
    {
     "data": {
      "text/markdown": [
       "\n",
       "### Goal 12\n",
       "---\n",
       "**Question:** How do City and Highway Miles Per Gallon compare across different Types of Cars?\n",
       "\n",
       "**Visualization:** `grouped bar chart of average City_Miles_Per_Gallon and Highway_Miles_Per_Gallon by Type`\n",
       "\n",
       "**Rationale:** This grouped bar chart will effectively compare the average city and highway MPG for each car type, helping to understand fuel efficiency differences across categories. Bar charts are chosen for their clarity in comparing quantities.\n"
      ],
      "text/plain": [
       "Goal(question='How do City and Highway Miles Per Gallon compare across different Types of Cars?', visualization='grouped bar chart of average City_Miles_Per_Gallon and Highway_Miles_Per_Gallon by Type', rationale='This grouped bar chart will effectively compare the average city and highway MPG for each car type, helping to understand fuel efficiency differences across categories. Bar charts are chosen for their clarity in comparing quantities.', index=12)"
      ]
     },
     "metadata": {},
     "output_type": "display_data"
    },
    {
     "data": {
      "text/markdown": [
       "\n",
       "### Goal 13\n",
       "---\n",
       "**Question:** What is the impact of Cylinders and Engine Size on Retail Price?\n",
       "\n",
       "**Visualization:** `heatmap of average Retail_Price by Cyl and Engine_Size__l_`\n",
       "\n",
       "**Rationale:** A heatmap will visualize the relationship between the number of cylinders, engine size, and average retail price, allowing us to identify trends and patterns. This method is effective for displaying the intensity of values across two categorical axes.\n"
      ],
      "text/plain": [
       "Goal(question='What is the impact of Cylinders and Engine Size on Retail Price?', visualization='heatmap of average Retail_Price by Cyl and Engine_Size__l_', rationale='A heatmap will visualize the relationship between the number of cylinders, engine size, and average retail price, allowing us to identify trends and patterns. This method is effective for displaying the intensity of values across two categorical axes.', index=13)"
      ]
     },
     "metadata": {},
     "output_type": "display_data"
    },
    {
     "data": {
      "text/markdown": [
       "\n",
       "### Goal 14\n",
       "---\n",
       "**Question:** Is there a correlation between Weight, Wheel Base, and Engine Size?\n",
       "\n",
       "**Visualization:** `3D scatter plot of Weight, Wheel_Base, and Engine_Size__l_`\n",
       "\n",
       "**Rationale:** A 3D scatter plot will allow us to visualize the relationship between weight, wheelbase, and engine size simultaneously. This is useful to explore how these continuous variables interact, and a 3D plot is appropriate for showing multi-dimensional data.\n"
      ],
      "text/plain": [
       "Goal(question='Is there a correlation between Weight, Wheel Base, and Engine Size?', visualization='3D scatter plot of Weight, Wheel_Base, and Engine_Size__l_', rationale='A 3D scatter plot will allow us to visualize the relationship between weight, wheelbase, and engine size simultaneously. This is useful to explore how these continuous variables interact, and a 3D plot is appropriate for showing multi-dimensional data.', index=14)"
      ]
     },
     "metadata": {},
     "output_type": "display_data"
    },
    {
     "data": {
      "text/markdown": [
       "\n",
       "### Goal 15\n",
       "---\n",
       "**Question:** How does Engine Size affect Retail Price?\n",
       "\n",
       "**Visualization:** `scatter plot of Engine_Size__l_ vs Retail_Price`\n",
       "\n",
       "**Rationale:** This visualization will show the correlation between engine size and retail price, helping to identify if larger engines are associated with higher prices. A scatter plot is chosen as it effectively illustrates the relationship between two continuous variables.\n"
      ],
      "text/plain": [
       "Goal(question='How does Engine Size affect Retail Price?', visualization='scatter plot of Engine_Size__l_ vs Retail_Price', rationale='This visualization will show the correlation between engine size and retail price, helping to identify if larger engines are associated with higher prices. A scatter plot is chosen as it effectively illustrates the relationship between two continuous variables.', index=15)"
      ]
     },
     "metadata": {},
     "output_type": "display_data"
    },
    {
     "data": {
      "text/markdown": [
       "\n",
       "### Goal 16\n",
       "---\n",
       "**Question:** What is the relationship between Horsepower and City Miles Per Gallon?\n",
       "\n",
       "**Visualization:** `scatter plot of Horsepower_HP_ vs City_Miles_Per_Gallon`\n",
       "\n",
       "**Rationale:** This visualization will help us understand if more powerful cars consume more fuel in the city. A scatter plot is suitable here as it allows us to visualize the potential correlation between horsepower and fuel efficiency in urban settings.\n"
      ],
      "text/plain": [
       "Goal(question='What is the relationship between Horsepower and City Miles Per Gallon?', visualization='scatter plot of Horsepower_HP_ vs City_Miles_Per_Gallon', rationale='This visualization will help us understand if more powerful cars consume more fuel in the city. A scatter plot is suitable here as it allows us to visualize the potential correlation between horsepower and fuel efficiency in urban settings.', index=16)"
      ]
     },
     "metadata": {},
     "output_type": "display_data"
    },
    {
     "data": {
      "text/markdown": [
       "\n",
       "### Goal 17\n",
       "---\n",
       "**Question:** How does Weight correlate with Highway Miles Per Gallon?\n",
       "\n",
       "**Visualization:** `scatter plot of Weight vs Highway_Miles_Per_Gallon`\n",
       "\n",
       "**Rationale:** This visualization will provide insights into whether heavier cars tend to have lower highway fuel efficiency. A scatter plot is chosen to effectively display the relationship between these two continuous variables.\n"
      ],
      "text/plain": [
       "Goal(question='How does Weight correlate with Highway Miles Per Gallon?', visualization='scatter plot of Weight vs Highway_Miles_Per_Gallon', rationale='This visualization will provide insights into whether heavier cars tend to have lower highway fuel efficiency. A scatter plot is chosen to effectively display the relationship between these two continuous variables.', index=17)"
      ]
     },
     "metadata": {},
     "output_type": "display_data"
    },
    {
     "data": {
      "text/markdown": [
       "\n",
       "### Goal 18\n",
       "---\n",
       "**Question:** What is the impact of the number of Cylinders on Retail Price?\n",
       "\n",
       "**Visualization:** `box plot of Cyl vs Retail_Price`\n",
       "\n",
       "**Rationale:** This visualization will show the distribution of retail prices across different cylinder counts, helping to understand how engine configuration impacts pricing. A box plot is appropriate as it summarizes the distribution and highlights outliers.\n"
      ],
      "text/plain": [
       "Goal(question='What is the impact of the number of Cylinders on Retail Price?', visualization='box plot of Cyl vs Retail_Price', rationale='This visualization will show the distribution of retail prices across different cylinder counts, helping to understand how engine configuration impacts pricing. A box plot is appropriate as it summarizes the distribution and highlights outliers.', index=18)"
      ]
     },
     "metadata": {},
     "output_type": "display_data"
    },
    {
     "data": {
      "text/markdown": [
       "\n",
       "### Goal 19\n",
       "---\n",
       "**Question:** How does the Type of vehicle relate to Engine Size?\n",
       "\n",
       "**Visualization:** `box plot of Type vs Engine_Size__l_`\n",
       "\n",
       "**Rationale:** This visualization will reveal how different vehicle types (e.g., Sedan, SUV) compare in terms of engine size. A box plot is chosen to effectively illustrate the distribution of engine sizes across the categorical variable of vehicle type.\n"
      ],
      "text/plain": [
       "Goal(question='How does the Type of vehicle relate to Engine Size?', visualization='box plot of Type vs Engine_Size__l_', rationale='This visualization will reveal how different vehicle types (e.g., Sedan, SUV) compare in terms of engine size. A box plot is chosen to effectively illustrate the distribution of engine sizes across the categorical variable of vehicle type.', index=19)"
      ]
     },
     "metadata": {},
     "output_type": "display_data"
    }
   ],
   "source": [
    "goals = lida.goals(summary, n=20, textgen_config=textgen_config)\n",
    "\n",
    "for goal in goals:\n",
    "    display(goal)"
   ]
  },
  {
   "cell_type": "markdown",
   "metadata": {},
   "source": [
    "### Saving and Loading Goals without a Persona"
   ]
  },
  {
   "cell_type": "code",
   "execution_count": 21,
   "metadata": {},
   "outputs": [],
   "source": [
    "# # SAVE\n",
    "\n",
    "# with open('goals2-5-8-20-combined-cars.pkl', 'wb') as f:\n",
    "#     pickle.dump(goals, f)"
   ]
  },
  {
   "cell_type": "code",
   "execution_count": 22,
   "metadata": {},
   "outputs": [
    {
     "data": {
      "text/plain": [
       "[Goal(question='What is the distribution of car types in the dataset?', visualization='bar chart of Type', rationale=\"This visualization uses the 'Type' column to show the frequency of each car type (e.g., Sedan, SUV, Sports Car, Wagon, Minivan). A bar chart is appropriate here as it allows for easy comparison of the number of cars in each category, helping to identify which types are most prevalent and potentially influencing market trends.\", index=0),\n",
       " Goal(question='How do retail prices vary by car type?', visualization='box plot of Retail_Price by Type', rationale=\"Using the 'Retail_Price' column grouped by 'Type' allows us to visualize the distribution of prices for each car type. A box plot is effective here as it shows the median, quartiles, and potential outliers, giving insights into price ranges and how they differ among various car types.\", index=1),\n",
       " Goal(question='What is the average engine size for each car type?', visualization='bar chart of average Engine_Size__l_ by Type', rationale=\"This visualization will use the 'Engine_Size__l_' column averaged by 'Type' to illustrate the differences in engine size across car types. A bar chart is suitable for this purpose, as it allows for straightforward comparison of average engine sizes, which can be indicative of performance characteristics associated with each type.\", index=2),\n",
       " Goal(question='What is the relationship between car type and fuel efficiency (City and Highway MPG)?', visualization='grouped bar chart of average City_Miles_Per_Gallon and Highway_Miles_Per_Gallon by Type', rationale=\"This visualization will utilize 'City_Miles_Per_Gallon' and 'Highway_Miles_Per_Gallon' to compare average fuel efficiency across different car types. A grouped bar chart allows for a clear comparison between city and highway MPG for each type, aiding in understanding how vehicle design impacts fuel efficiency.\", index=3),\n",
       " Goal(question='What is the impact of car type on weight?', visualization='box plot of Weight by Type', rationale=\"Using the 'Weight' column categorized by 'Type' helps visualize how the weight of cars differs among types. A box plot is appropriate as it provides a detailed view of the weight distribution, including median and outliers, which can inform decisions related to safety, performance, and efficiency based on vehicle weight.\", index=4),\n",
       " Goal(question='How does the horsepower relate to the retail price of cars?', visualization='scatter plot of Horsepower_HP_ vs Retail_Price', rationale='This visualization will help us understand the correlation between horsepower and retail price, allowing us to identify if more powerful cars tend to have higher prices.', index=5),\n",
       " Goal(question='What is the relationship between engine size and fuel efficiency in terms of City and Highway MPG?', visualization='line chart comparing Engine_Size__l_ with City_Miles_Per_Gallon and Highway_Miles_Per_Gallon', rationale='Using a line chart will allow us to visualize the trends in fuel efficiency as engine size increases, helping to identify if larger engines correlate with lower MPG.', index=6),\n",
       " Goal(question='How does weight affect the horsepower of different car types?', visualization='box plot of Weight vs Horsepower_HP_ grouped by Type', rationale='A box plot will enable us to compare the distribution of horsepower across different weight categories for each car type, highlighting potential trends and outliers.', index=7),\n",
       " Goal(question='What is the impact of the number of cylinders on the retail price and dealer cost?', visualization='bar chart comparing average Retail_Price and Dealer_Cost by Cyl', rationale='A bar chart will effectively show the average retail price and dealer cost across different cylinder counts, helping to identify if more cylinders lead to higher costs.', index=8),\n",
       " Goal(question='How does the length of the car relate to its weight and wheelbase?', visualization='3D scatter plot of Len, Weight, and Wheel_Base', rationale='A 3D scatter plot will allow us to visualize the relationships between car length, weight, and wheelbase, providing insights into how these dimensions interact with each other.', index=9),\n",
       " Goal(question='How does the retail price vary with engine size and horsepower across different car types?', visualization='3D scatter plot of Retail_Price vs Engine_Size__l_ vs Horsepower_HP_ colored by Type', rationale='This visualization allows us to explore the relationship between retail price, engine size, and horsepower, while also differentiating between car types. It will help identify if larger engines and higher horsepower correlate with higher retail prices across various types of cars.', index=10),\n",
       " Goal(question='What is the relationship between weight, engine size, and retail price for different car types?', visualization='Bubble chart of Retail_Price on the y-axis, Weight on the x-axis, and Engine_Size__l_ represented by bubble size, colored by Type', rationale='This bubble chart will illustrate how weight and engine size affect retail price, while also showing the distribution of different car types. It provides insights into whether heavier cars with larger engines tend to be priced higher, and how this varies by car type.', index=11),\n",
       " Goal(question='How do city miles per gallon compare with highway miles per gallon based on engine size and number of cylinders?', visualization='Grouped bar chart of City_Miles_Per_Gallon and Highway_Miles_Per_Gallon grouped by Engine_Size__l_ and colored by Cyl', rationale='This grouped bar chart allows for a direct comparison of city and highway miles per gallon across different engine sizes and cylinder counts. It will help us understand how engine specifications influence fuel efficiency in urban versus highway driving conditions.', index=12),\n",
       " Goal(question='What is the impact of wheelbase on the weight and retail price across different car types?', visualization='Line chart of Weight and Retail_Price against Wheel_Base, with separate lines for each Type', rationale='This line chart will help visualize the trends in weight and retail price as wheelbase increases, segmented by car type. It will provide insights into how wheelbase affects both the mass and market value of different vehicle categories.', index=13),\n",
       " Goal(question='How does the distribution of horsepower vary with the number of cylinders and car type?', visualization='Box plot of Horsepower_HP_ grouped by Cyl and colored by Type', rationale='This box plot will show the distribution of horsepower across different cylinder counts for each car type. It will allow us to identify patterns and outliers in horsepower based on engine configuration, providing insights into performance characteristics associated with different types of vehicles.', index=14),\n",
       " Goal(question='How does the retail price relate to the engine size across different car types?', visualization='scatter plot of Retail_Price vs Engine_Size__l_ colored by Type', rationale=\"This visualization will help us understand if there's a correlation between engine size and retail price, while also allowing us to see if this relationship differs by car type. By plotting Retail_Price against Engine_Size__l_ and using Type to differentiate the points, we can gain insights into how engine size impacts pricing across various categories of cars.\", index=15),\n",
       " Goal(question='What is the relationship between horsepower and weight for different car types?', visualization='scatter plot of Horsepower_HP_ vs Weight colored by Type', rationale='This visualization will illustrate the relationship between horsepower and weight, which is crucial for understanding performance characteristics. By differentiating the points by Type, we can see if certain types of cars (e.g., Sports Cars vs. SUVs) have different dynamics in terms of horsepower relative to their weight.', index=16),\n",
       " Goal(question='How do city miles per gallon compare with highway miles per gallon across different engine sizes?', visualization='box plot comparing City_Miles_Per_Gallon and Highway_Miles_Per_Gallon grouped by Engine_Size__l_', rationale='This visualization will reveal how fuel efficiency varies between city and highway driving conditions for various engine sizes. By using a box plot, we can effectively summarize the distribution of MPG values for both city and highway, allowing us to identify trends and outliers in fuel efficiency based on engine size.', index=17),\n",
       " Goal(question='What is the impact of the number of cylinders on retail price and dealer cost?', visualization='dual-axis bar chart comparing average Retail_Price and average Dealer_Cost by Cyl', rationale='This dual-axis bar chart will allow us to compare the average retail price and dealer cost across different cylinder counts. By using this format, we can visualize how the number of cylinders influences both retail pricing and dealer costs, which is essential for understanding market dynamics.', index=18),\n",
       " Goal(question='How does the weight of the car correlate with its length and width?', visualization='3D scatter plot of Weight vs Len and Width', rationale='This 3D scatter plot will help us visualize the relationship between car weight, length, and width. Understanding how these dimensions correlate can provide insights into design trends and structural characteristics of different car types, which is important for a comprehensive analysis of automotive data.', index=19)]"
      ]
     },
     "metadata": {},
     "output_type": "display_data"
    }
   ],
   "source": [
    "# LOAD\n",
    "\n",
    "with open('../ver2/goals2-5-6-20-combined-cars.pkl', 'rb') as f:\n",
    "    goals = pickle.load(f)\n",
    "\n",
    "display(goals)"
   ]
  },
  {
   "cell_type": "code",
   "execution_count": 23,
   "metadata": {},
   "outputs": [
    {
     "data": {
      "text/markdown": [
       "\n",
       "### Goal 0\n",
       "---\n",
       "**Question:** What is the distribution of car types in the dataset?\n",
       "\n",
       "**Visualization:** `bar chart of Type`\n",
       "\n",
       "**Rationale:** This visualization uses the 'Type' column to show the frequency of each car type (e.g., Sedan, SUV, Sports Car, Wagon, Minivan). A bar chart is appropriate here as it allows for easy comparison of the number of cars in each category, helping to identify which types are most prevalent and potentially influencing market trends.\n"
      ],
      "text/plain": [
       "Goal(question='What is the distribution of car types in the dataset?', visualization='bar chart of Type', rationale=\"This visualization uses the 'Type' column to show the frequency of each car type (e.g., Sedan, SUV, Sports Car, Wagon, Minivan). A bar chart is appropriate here as it allows for easy comparison of the number of cars in each category, helping to identify which types are most prevalent and potentially influencing market trends.\", index=0)"
      ]
     },
     "metadata": {},
     "output_type": "display_data"
    },
    {
     "data": {
      "text/markdown": [
       "\n",
       "### Goal 1\n",
       "---\n",
       "**Question:** How do retail prices vary by car type?\n",
       "\n",
       "**Visualization:** `box plot of Retail_Price by Type`\n",
       "\n",
       "**Rationale:** Using the 'Retail_Price' column grouped by 'Type' allows us to visualize the distribution of prices for each car type. A box plot is effective here as it shows the median, quartiles, and potential outliers, giving insights into price ranges and how they differ among various car types.\n"
      ],
      "text/plain": [
       "Goal(question='How do retail prices vary by car type?', visualization='box plot of Retail_Price by Type', rationale=\"Using the 'Retail_Price' column grouped by 'Type' allows us to visualize the distribution of prices for each car type. A box plot is effective here as it shows the median, quartiles, and potential outliers, giving insights into price ranges and how they differ among various car types.\", index=1)"
      ]
     },
     "metadata": {},
     "output_type": "display_data"
    },
    {
     "data": {
      "text/markdown": [
       "\n",
       "### Goal 2\n",
       "---\n",
       "**Question:** What is the average engine size for each car type?\n",
       "\n",
       "**Visualization:** `bar chart of average Engine_Size__l_ by Type`\n",
       "\n",
       "**Rationale:** This visualization will use the 'Engine_Size__l_' column averaged by 'Type' to illustrate the differences in engine size across car types. A bar chart is suitable for this purpose, as it allows for straightforward comparison of average engine sizes, which can be indicative of performance characteristics associated with each type.\n"
      ],
      "text/plain": [
       "Goal(question='What is the average engine size for each car type?', visualization='bar chart of average Engine_Size__l_ by Type', rationale=\"This visualization will use the 'Engine_Size__l_' column averaged by 'Type' to illustrate the differences in engine size across car types. A bar chart is suitable for this purpose, as it allows for straightforward comparison of average engine sizes, which can be indicative of performance characteristics associated with each type.\", index=2)"
      ]
     },
     "metadata": {},
     "output_type": "display_data"
    },
    {
     "data": {
      "text/markdown": [
       "\n",
       "### Goal 3\n",
       "---\n",
       "**Question:** What is the relationship between car type and fuel efficiency (City and Highway MPG)?\n",
       "\n",
       "**Visualization:** `grouped bar chart of average City_Miles_Per_Gallon and Highway_Miles_Per_Gallon by Type`\n",
       "\n",
       "**Rationale:** This visualization will utilize 'City_Miles_Per_Gallon' and 'Highway_Miles_Per_Gallon' to compare average fuel efficiency across different car types. A grouped bar chart allows for a clear comparison between city and highway MPG for each type, aiding in understanding how vehicle design impacts fuel efficiency.\n"
      ],
      "text/plain": [
       "Goal(question='What is the relationship between car type and fuel efficiency (City and Highway MPG)?', visualization='grouped bar chart of average City_Miles_Per_Gallon and Highway_Miles_Per_Gallon by Type', rationale=\"This visualization will utilize 'City_Miles_Per_Gallon' and 'Highway_Miles_Per_Gallon' to compare average fuel efficiency across different car types. A grouped bar chart allows for a clear comparison between city and highway MPG for each type, aiding in understanding how vehicle design impacts fuel efficiency.\", index=3)"
      ]
     },
     "metadata": {},
     "output_type": "display_data"
    },
    {
     "data": {
      "text/markdown": [
       "\n",
       "### Goal 4\n",
       "---\n",
       "**Question:** What is the impact of car type on weight?\n",
       "\n",
       "**Visualization:** `box plot of Weight by Type`\n",
       "\n",
       "**Rationale:** Using the 'Weight' column categorized by 'Type' helps visualize how the weight of cars differs among types. A box plot is appropriate as it provides a detailed view of the weight distribution, including median and outliers, which can inform decisions related to safety, performance, and efficiency based on vehicle weight.\n"
      ],
      "text/plain": [
       "Goal(question='What is the impact of car type on weight?', visualization='box plot of Weight by Type', rationale=\"Using the 'Weight' column categorized by 'Type' helps visualize how the weight of cars differs among types. A box plot is appropriate as it provides a detailed view of the weight distribution, including median and outliers, which can inform decisions related to safety, performance, and efficiency based on vehicle weight.\", index=4)"
      ]
     },
     "metadata": {},
     "output_type": "display_data"
    },
    {
     "data": {
      "text/markdown": [
       "\n",
       "### Goal 5\n",
       "---\n",
       "**Question:** How does the horsepower relate to the retail price of cars?\n",
       "\n",
       "**Visualization:** `scatter plot of Horsepower_HP_ vs Retail_Price`\n",
       "\n",
       "**Rationale:** This visualization will help us understand the correlation between horsepower and retail price, allowing us to identify if more powerful cars tend to have higher prices.\n"
      ],
      "text/plain": [
       "Goal(question='How does the horsepower relate to the retail price of cars?', visualization='scatter plot of Horsepower_HP_ vs Retail_Price', rationale='This visualization will help us understand the correlation between horsepower and retail price, allowing us to identify if more powerful cars tend to have higher prices.', index=5)"
      ]
     },
     "metadata": {},
     "output_type": "display_data"
    },
    {
     "data": {
      "text/markdown": [
       "\n",
       "### Goal 6\n",
       "---\n",
       "**Question:** What is the relationship between engine size and fuel efficiency in terms of City and Highway MPG?\n",
       "\n",
       "**Visualization:** `line chart comparing Engine_Size__l_ with City_Miles_Per_Gallon and Highway_Miles_Per_Gallon`\n",
       "\n",
       "**Rationale:** Using a line chart will allow us to visualize the trends in fuel efficiency as engine size increases, helping to identify if larger engines correlate with lower MPG.\n"
      ],
      "text/plain": [
       "Goal(question='What is the relationship between engine size and fuel efficiency in terms of City and Highway MPG?', visualization='line chart comparing Engine_Size__l_ with City_Miles_Per_Gallon and Highway_Miles_Per_Gallon', rationale='Using a line chart will allow us to visualize the trends in fuel efficiency as engine size increases, helping to identify if larger engines correlate with lower MPG.', index=6)"
      ]
     },
     "metadata": {},
     "output_type": "display_data"
    },
    {
     "data": {
      "text/markdown": [
       "\n",
       "### Goal 7\n",
       "---\n",
       "**Question:** How does weight affect the horsepower of different car types?\n",
       "\n",
       "**Visualization:** `box plot of Weight vs Horsepower_HP_ grouped by Type`\n",
       "\n",
       "**Rationale:** A box plot will enable us to compare the distribution of horsepower across different weight categories for each car type, highlighting potential trends and outliers.\n"
      ],
      "text/plain": [
       "Goal(question='How does weight affect the horsepower of different car types?', visualization='box plot of Weight vs Horsepower_HP_ grouped by Type', rationale='A box plot will enable us to compare the distribution of horsepower across different weight categories for each car type, highlighting potential trends and outliers.', index=7)"
      ]
     },
     "metadata": {},
     "output_type": "display_data"
    },
    {
     "data": {
      "text/markdown": [
       "\n",
       "### Goal 8\n",
       "---\n",
       "**Question:** What is the impact of the number of cylinders on the retail price and dealer cost?\n",
       "\n",
       "**Visualization:** `bar chart comparing average Retail_Price and Dealer_Cost by Cyl`\n",
       "\n",
       "**Rationale:** A bar chart will effectively show the average retail price and dealer cost across different cylinder counts, helping to identify if more cylinders lead to higher costs.\n"
      ],
      "text/plain": [
       "Goal(question='What is the impact of the number of cylinders on the retail price and dealer cost?', visualization='bar chart comparing average Retail_Price and Dealer_Cost by Cyl', rationale='A bar chart will effectively show the average retail price and dealer cost across different cylinder counts, helping to identify if more cylinders lead to higher costs.', index=8)"
      ]
     },
     "metadata": {},
     "output_type": "display_data"
    },
    {
     "data": {
      "text/markdown": [
       "\n",
       "### Goal 9\n",
       "---\n",
       "**Question:** How does the length of the car relate to its weight and wheelbase?\n",
       "\n",
       "**Visualization:** `3D scatter plot of Len, Weight, and Wheel_Base`\n",
       "\n",
       "**Rationale:** A 3D scatter plot will allow us to visualize the relationships between car length, weight, and wheelbase, providing insights into how these dimensions interact with each other.\n"
      ],
      "text/plain": [
       "Goal(question='How does the length of the car relate to its weight and wheelbase?', visualization='3D scatter plot of Len, Weight, and Wheel_Base', rationale='A 3D scatter plot will allow us to visualize the relationships between car length, weight, and wheelbase, providing insights into how these dimensions interact with each other.', index=9)"
      ]
     },
     "metadata": {},
     "output_type": "display_data"
    },
    {
     "data": {
      "text/markdown": [
       "\n",
       "### Goal 10\n",
       "---\n",
       "**Question:** How does the retail price vary with engine size and horsepower across different car types?\n",
       "\n",
       "**Visualization:** `3D scatter plot of Retail_Price vs Engine_Size__l_ vs Horsepower_HP_ colored by Type`\n",
       "\n",
       "**Rationale:** This visualization allows us to explore the relationship between retail price, engine size, and horsepower, while also differentiating between car types. It will help identify if larger engines and higher horsepower correlate with higher retail prices across various types of cars.\n"
      ],
      "text/plain": [
       "Goal(question='How does the retail price vary with engine size and horsepower across different car types?', visualization='3D scatter plot of Retail_Price vs Engine_Size__l_ vs Horsepower_HP_ colored by Type', rationale='This visualization allows us to explore the relationship between retail price, engine size, and horsepower, while also differentiating between car types. It will help identify if larger engines and higher horsepower correlate with higher retail prices across various types of cars.', index=10)"
      ]
     },
     "metadata": {},
     "output_type": "display_data"
    },
    {
     "data": {
      "text/markdown": [
       "\n",
       "### Goal 11\n",
       "---\n",
       "**Question:** What is the relationship between weight, engine size, and retail price for different car types?\n",
       "\n",
       "**Visualization:** `Bubble chart of Retail_Price on the y-axis, Weight on the x-axis, and Engine_Size__l_ represented by bubble size, colored by Type`\n",
       "\n",
       "**Rationale:** This bubble chart will illustrate how weight and engine size affect retail price, while also showing the distribution of different car types. It provides insights into whether heavier cars with larger engines tend to be priced higher, and how this varies by car type.\n"
      ],
      "text/plain": [
       "Goal(question='What is the relationship between weight, engine size, and retail price for different car types?', visualization='Bubble chart of Retail_Price on the y-axis, Weight on the x-axis, and Engine_Size__l_ represented by bubble size, colored by Type', rationale='This bubble chart will illustrate how weight and engine size affect retail price, while also showing the distribution of different car types. It provides insights into whether heavier cars with larger engines tend to be priced higher, and how this varies by car type.', index=11)"
      ]
     },
     "metadata": {},
     "output_type": "display_data"
    },
    {
     "data": {
      "text/markdown": [
       "\n",
       "### Goal 12\n",
       "---\n",
       "**Question:** How do city miles per gallon compare with highway miles per gallon based on engine size and number of cylinders?\n",
       "\n",
       "**Visualization:** `Grouped bar chart of City_Miles_Per_Gallon and Highway_Miles_Per_Gallon grouped by Engine_Size__l_ and colored by Cyl`\n",
       "\n",
       "**Rationale:** This grouped bar chart allows for a direct comparison of city and highway miles per gallon across different engine sizes and cylinder counts. It will help us understand how engine specifications influence fuel efficiency in urban versus highway driving conditions.\n"
      ],
      "text/plain": [
       "Goal(question='How do city miles per gallon compare with highway miles per gallon based on engine size and number of cylinders?', visualization='Grouped bar chart of City_Miles_Per_Gallon and Highway_Miles_Per_Gallon grouped by Engine_Size__l_ and colored by Cyl', rationale='This grouped bar chart allows for a direct comparison of city and highway miles per gallon across different engine sizes and cylinder counts. It will help us understand how engine specifications influence fuel efficiency in urban versus highway driving conditions.', index=12)"
      ]
     },
     "metadata": {},
     "output_type": "display_data"
    },
    {
     "data": {
      "text/markdown": [
       "\n",
       "### Goal 13\n",
       "---\n",
       "**Question:** What is the impact of wheelbase on the weight and retail price across different car types?\n",
       "\n",
       "**Visualization:** `Line chart of Weight and Retail_Price against Wheel_Base, with separate lines for each Type`\n",
       "\n",
       "**Rationale:** This line chart will help visualize the trends in weight and retail price as wheelbase increases, segmented by car type. It will provide insights into how wheelbase affects both the mass and market value of different vehicle categories.\n"
      ],
      "text/plain": [
       "Goal(question='What is the impact of wheelbase on the weight and retail price across different car types?', visualization='Line chart of Weight and Retail_Price against Wheel_Base, with separate lines for each Type', rationale='This line chart will help visualize the trends in weight and retail price as wheelbase increases, segmented by car type. It will provide insights into how wheelbase affects both the mass and market value of different vehicle categories.', index=13)"
      ]
     },
     "metadata": {},
     "output_type": "display_data"
    },
    {
     "data": {
      "text/markdown": [
       "\n",
       "### Goal 14\n",
       "---\n",
       "**Question:** How does the distribution of horsepower vary with the number of cylinders and car type?\n",
       "\n",
       "**Visualization:** `Box plot of Horsepower_HP_ grouped by Cyl and colored by Type`\n",
       "\n",
       "**Rationale:** This box plot will show the distribution of horsepower across different cylinder counts for each car type. It will allow us to identify patterns and outliers in horsepower based on engine configuration, providing insights into performance characteristics associated with different types of vehicles.\n"
      ],
      "text/plain": [
       "Goal(question='How does the distribution of horsepower vary with the number of cylinders and car type?', visualization='Box plot of Horsepower_HP_ grouped by Cyl and colored by Type', rationale='This box plot will show the distribution of horsepower across different cylinder counts for each car type. It will allow us to identify patterns and outliers in horsepower based on engine configuration, providing insights into performance characteristics associated with different types of vehicles.', index=14)"
      ]
     },
     "metadata": {},
     "output_type": "display_data"
    },
    {
     "data": {
      "text/markdown": [
       "\n",
       "### Goal 15\n",
       "---\n",
       "**Question:** How does the retail price relate to the engine size across different car types?\n",
       "\n",
       "**Visualization:** `scatter plot of Retail_Price vs Engine_Size__l_ colored by Type`\n",
       "\n",
       "**Rationale:** This visualization will help us understand if there's a correlation between engine size and retail price, while also allowing us to see if this relationship differs by car type. By plotting Retail_Price against Engine_Size__l_ and using Type to differentiate the points, we can gain insights into how engine size impacts pricing across various categories of cars.\n"
      ],
      "text/plain": [
       "Goal(question='How does the retail price relate to the engine size across different car types?', visualization='scatter plot of Retail_Price vs Engine_Size__l_ colored by Type', rationale=\"This visualization will help us understand if there's a correlation between engine size and retail price, while also allowing us to see if this relationship differs by car type. By plotting Retail_Price against Engine_Size__l_ and using Type to differentiate the points, we can gain insights into how engine size impacts pricing across various categories of cars.\", index=15)"
      ]
     },
     "metadata": {},
     "output_type": "display_data"
    },
    {
     "data": {
      "text/markdown": [
       "\n",
       "### Goal 16\n",
       "---\n",
       "**Question:** What is the relationship between horsepower and weight for different car types?\n",
       "\n",
       "**Visualization:** `scatter plot of Horsepower_HP_ vs Weight colored by Type`\n",
       "\n",
       "**Rationale:** This visualization will illustrate the relationship between horsepower and weight, which is crucial for understanding performance characteristics. By differentiating the points by Type, we can see if certain types of cars (e.g., Sports Cars vs. SUVs) have different dynamics in terms of horsepower relative to their weight.\n"
      ],
      "text/plain": [
       "Goal(question='What is the relationship between horsepower and weight for different car types?', visualization='scatter plot of Horsepower_HP_ vs Weight colored by Type', rationale='This visualization will illustrate the relationship between horsepower and weight, which is crucial for understanding performance characteristics. By differentiating the points by Type, we can see if certain types of cars (e.g., Sports Cars vs. SUVs) have different dynamics in terms of horsepower relative to their weight.', index=16)"
      ]
     },
     "metadata": {},
     "output_type": "display_data"
    },
    {
     "data": {
      "text/markdown": [
       "\n",
       "### Goal 17\n",
       "---\n",
       "**Question:** How do city miles per gallon compare with highway miles per gallon across different engine sizes?\n",
       "\n",
       "**Visualization:** `box plot comparing City_Miles_Per_Gallon and Highway_Miles_Per_Gallon grouped by Engine_Size__l_`\n",
       "\n",
       "**Rationale:** This visualization will reveal how fuel efficiency varies between city and highway driving conditions for various engine sizes. By using a box plot, we can effectively summarize the distribution of MPG values for both city and highway, allowing us to identify trends and outliers in fuel efficiency based on engine size.\n"
      ],
      "text/plain": [
       "Goal(question='How do city miles per gallon compare with highway miles per gallon across different engine sizes?', visualization='box plot comparing City_Miles_Per_Gallon and Highway_Miles_Per_Gallon grouped by Engine_Size__l_', rationale='This visualization will reveal how fuel efficiency varies between city and highway driving conditions for various engine sizes. By using a box plot, we can effectively summarize the distribution of MPG values for both city and highway, allowing us to identify trends and outliers in fuel efficiency based on engine size.', index=17)"
      ]
     },
     "metadata": {},
     "output_type": "display_data"
    },
    {
     "data": {
      "text/markdown": [
       "\n",
       "### Goal 18\n",
       "---\n",
       "**Question:** What is the impact of the number of cylinders on retail price and dealer cost?\n",
       "\n",
       "**Visualization:** `dual-axis bar chart comparing average Retail_Price and average Dealer_Cost by Cyl`\n",
       "\n",
       "**Rationale:** This dual-axis bar chart will allow us to compare the average retail price and dealer cost across different cylinder counts. By using this format, we can visualize how the number of cylinders influences both retail pricing and dealer costs, which is essential for understanding market dynamics.\n"
      ],
      "text/plain": [
       "Goal(question='What is the impact of the number of cylinders on retail price and dealer cost?', visualization='dual-axis bar chart comparing average Retail_Price and average Dealer_Cost by Cyl', rationale='This dual-axis bar chart will allow us to compare the average retail price and dealer cost across different cylinder counts. By using this format, we can visualize how the number of cylinders influences both retail pricing and dealer costs, which is essential for understanding market dynamics.', index=18)"
      ]
     },
     "metadata": {},
     "output_type": "display_data"
    },
    {
     "data": {
      "text/markdown": [
       "\n",
       "### Goal 19\n",
       "---\n",
       "**Question:** How does the weight of the car correlate with its length and width?\n",
       "\n",
       "**Visualization:** `3D scatter plot of Weight vs Len and Width`\n",
       "\n",
       "**Rationale:** This 3D scatter plot will help us visualize the relationship between car weight, length, and width. Understanding how these dimensions correlate can provide insights into design trends and structural characteristics of different car types, which is important for a comprehensive analysis of automotive data.\n"
      ],
      "text/plain": [
       "Goal(question='How does the weight of the car correlate with its length and width?', visualization='3D scatter plot of Weight vs Len and Width', rationale='This 3D scatter plot will help us visualize the relationship between car weight, length, and width. Understanding how these dimensions correlate can provide insights into design trends and structural characteristics of different car types, which is important for a comprehensive analysis of automotive data.', index=19)"
      ]
     },
     "metadata": {},
     "output_type": "display_data"
    }
   ],
   "source": [
    "for goal in goals:\n",
    "    display(goal)"
   ]
  },
  {
   "cell_type": "markdown",
   "metadata": {},
   "source": [
    "### Generating Goals with a Persona"
   ]
  },
  {
   "cell_type": "code",
   "execution_count": 14,
   "metadata": {},
   "outputs": [
    {
     "data": {
      "text/markdown": [
       "\n",
       "### Goal 0\n",
       "---\n",
       "**Question:** What is the distribution of Retail Price?\n",
       "\n",
       "**Visualization:** `histogram of Retail_Price`\n",
       "\n",
       "**Rationale:** This tells us about the range of car prices available, helping the mechanic identify affordable options.\n"
      ],
      "text/plain": [
       "Goal(question='What is the distribution of Retail Price?', visualization='histogram of Retail_Price', rationale='This tells us about the range of car prices available, helping the mechanic identify affordable options.', index=0)"
      ]
     },
     "metadata": {},
     "output_type": "display_data"
    },
    {
     "data": {
      "text/markdown": [
       "\n",
       "### Goal 1\n",
       "---\n",
       "**Question:** How does City Miles Per Gallon vary with Retail Price?\n",
       "\n",
       "**Visualization:** `scatter plot of City_Miles_Per_Gallon vs Retail_Price`\n",
       "\n",
       "**Rationale:** This helps assess whether higher-priced cars offer better fuel efficiency.\n"
      ],
      "text/plain": [
       "Goal(question='How does City Miles Per Gallon vary with Retail Price?', visualization='scatter plot of City_Miles_Per_Gallon vs Retail_Price', rationale='This helps assess whether higher-priced cars offer better fuel efficiency.', index=1)"
      ]
     },
     "metadata": {},
     "output_type": "display_data"
    },
    {
     "data": {
      "text/markdown": [
       "\n",
       "### Goal 2\n",
       "---\n",
       "**Question:** What is the correlation between Highway Miles Per Gallon and City Miles Per Gallon?\n",
       "\n",
       "**Visualization:** `scatter plot of Highway_Miles_Per_Gallon vs City_Miles_Per_Gallon`\n",
       "\n",
       "**Rationale:** Understanding this relationship can help the mechanic predict fuel efficiency based on city driving conditions.\n"
      ],
      "text/plain": [
       "Goal(question='What is the correlation between Highway Miles Per Gallon and City Miles Per Gallon?', visualization='scatter plot of Highway_Miles_Per_Gallon vs City_Miles_Per_Gallon', rationale='Understanding this relationship can help the mechanic predict fuel efficiency based on city driving conditions.', index=2)"
      ]
     },
     "metadata": {},
     "output_type": "display_data"
    },
    {
     "data": {
      "text/markdown": [
       "\n",
       "### Goal 3\n",
       "---\n",
       "**Question:** Which car types have the best average City Miles Per Gallon?\n",
       "\n",
       "**Visualization:** `bar chart of average City_Miles_Per_Gallon by Type`\n",
       "\n",
       "**Rationale:** This allows the mechanic to quickly identify which types of cars are more fuel-efficient.\n"
      ],
      "text/plain": [
       "Goal(question='Which car types have the best average City Miles Per Gallon?', visualization='bar chart of average City_Miles_Per_Gallon by Type', rationale='This allows the mechanic to quickly identify which types of cars are more fuel-efficient.', index=3)"
      ]
     },
     "metadata": {},
     "output_type": "display_data"
    },
    {
     "data": {
      "text/markdown": [
       "\n",
       "### Goal 4\n",
       "---\n",
       "**Question:** What is the distribution of Engine Sizes across different car types?\n",
       "\n",
       "**Visualization:** `box plot of Engine_Size__l_ by Type`\n",
       "\n",
       "**Rationale:** This shows how engine size varies across types, which can impact fuel efficiency.\n"
      ],
      "text/plain": [
       "Goal(question='What is the distribution of Engine Sizes across different car types?', visualization='box plot of Engine_Size__l_ by Type', rationale='This shows how engine size varies across types, which can impact fuel efficiency.', index=4)"
      ]
     },
     "metadata": {},
     "output_type": "display_data"
    },
    {
     "data": {
      "text/markdown": [
       "\n",
       "### Goal 5\n",
       "---\n",
       "**Question:** How does the number of Cylinders affect City Miles Per Gallon?\n",
       "\n",
       "**Visualization:** `box plot of City_Miles_Per_Gallon by Cyl`\n",
       "\n",
       "**Rationale:** This helps the mechanic understand how engine configuration influences fuel efficiency.\n"
      ],
      "text/plain": [
       "Goal(question='How does the number of Cylinders affect City Miles Per Gallon?', visualization='box plot of City_Miles_Per_Gallon by Cyl', rationale='This helps the mechanic understand how engine configuration influences fuel efficiency.', index=5)"
      ]
     },
     "metadata": {},
     "output_type": "display_data"
    },
    {
     "data": {
      "text/markdown": [
       "\n",
       "### Goal 6\n",
       "---\n",
       "**Question:** What is the relationship between Horsepower and City Miles Per Gallon?\n",
       "\n",
       "**Visualization:** `scatter plot of Horsepower_HP_ vs City_Miles_Per_Gallon`\n",
       "\n",
       "**Rationale:** This can indicate if more powerful cars compromise fuel efficiency.\n"
      ],
      "text/plain": [
       "Goal(question='What is the relationship between Horsepower and City Miles Per Gallon?', visualization='scatter plot of Horsepower_HP_ vs City_Miles_Per_Gallon', rationale='This can indicate if more powerful cars compromise fuel efficiency.', index=6)"
      ]
     },
     "metadata": {},
     "output_type": "display_data"
    },
    {
     "data": {
      "text/markdown": [
       "\n",
       "### Goal 7\n",
       "---\n",
       "**Question:** How do the weights of cars affect their fuel efficiency?\n",
       "\n",
       "**Visualization:** `scatter plot of Weight vs City_Miles_Per_Gallon`\n",
       "\n",
       "**Rationale:** This helps the mechanic see if lighter cars generally provide better fuel economy.\n"
      ],
      "text/plain": [
       "Goal(question='How do the weights of cars affect their fuel efficiency?', visualization='scatter plot of Weight vs City_Miles_Per_Gallon', rationale='This helps the mechanic see if lighter cars generally provide better fuel economy.', index=7)"
      ]
     },
     "metadata": {},
     "output_type": "display_data"
    },
    {
     "data": {
      "text/markdown": [
       "\n",
       "### Goal 8\n",
       "---\n",
       "**Question:** What is the average Retail Price for cars with good gas mileage (above 25 MPG)?\n",
       "\n",
       "**Visualization:** `bar chart of average Retail_Price for City_Miles_Per_Gallon > 25`\n",
       "\n",
       "**Rationale:** This gives insight into the cost of more fuel-efficient cars.\n"
      ],
      "text/plain": [
       "Goal(question='What is the average Retail Price for cars with good gas mileage (above 25 MPG)?', visualization='bar chart of average Retail_Price for City_Miles_Per_Gallon > 25', rationale='This gives insight into the cost of more fuel-efficient cars.', index=8)"
      ]
     },
     "metadata": {},
     "output_type": "display_data"
    },
    {
     "data": {
      "text/markdown": [
       "\n",
       "### Goal 9\n",
       "---\n",
       "**Question:** What is the average Dealer Cost for cars with high Highway Miles Per Gallon?\n",
       "\n",
       "**Visualization:** `bar chart of average Dealer_Cost for Highway_Miles_Per_Gallon > 30`\n",
       "\n",
       "**Rationale:** This can help the mechanic identify cost-effective options for high-mileage vehicles.\n"
      ],
      "text/plain": [
       "Goal(question='What is the average Dealer Cost for cars with high Highway Miles Per Gallon?', visualization='bar chart of average Dealer_Cost for Highway_Miles_Per_Gallon > 30', rationale='This can help the mechanic identify cost-effective options for high-mileage vehicles.', index=9)"
      ]
     },
     "metadata": {},
     "output_type": "display_data"
    },
    {
     "data": {
      "text/markdown": [
       "\n",
       "### Goal 10\n",
       "---\n",
       "**Question:** How does the length of a car relate to its fuel efficiency?\n",
       "\n",
       "**Visualization:** `scatter plot of Len vs City_Miles_Per_Gallon`\n",
       "\n",
       "**Rationale:** Understanding this relationship can help assess if larger cars are less efficient.\n"
      ],
      "text/plain": [
       "Goal(question='How does the length of a car relate to its fuel efficiency?', visualization='scatter plot of Len vs City_Miles_Per_Gallon', rationale='Understanding this relationship can help assess if larger cars are less efficient.', index=10)"
      ]
     },
     "metadata": {},
     "output_type": "display_data"
    },
    {
     "data": {
      "text/markdown": [
       "\n",
       "### Goal 11\n",
       "---\n",
       "**Question:** What is the distribution of AWD and RWD cars in terms of fuel efficiency?\n",
       "\n",
       "**Visualization:** `box plot of City_Miles_Per_Gallon by AWD and RWD`\n",
       "\n",
       "**Rationale:** This helps the mechanic understand how drivetrain configurations impact gas mileage.\n"
      ],
      "text/plain": [
       "Goal(question='What is the distribution of AWD and RWD cars in terms of fuel efficiency?', visualization='box plot of City_Miles_Per_Gallon by AWD and RWD', rationale='This helps the mechanic understand how drivetrain configurations impact gas mileage.', index=11)"
      ]
     },
     "metadata": {},
     "output_type": "display_data"
    },
    {
     "data": {
      "text/markdown": [
       "\n",
       "### Goal 12\n",
       "---\n",
       "**Question:** What is the average weight of cars grouped by their Type?\n",
       "\n",
       "**Visualization:** `bar chart of average Weight by Type`\n",
       "\n",
       "**Rationale:** This can provide insights into how the type of car affects its overall weight and potentially its fuel efficiency.\n"
      ],
      "text/plain": [
       "Goal(question='What is the average weight of cars grouped by their Type?', visualization='bar chart of average Weight by Type', rationale='This can provide insights into how the type of car affects its overall weight and potentially its fuel efficiency.', index=12)"
      ]
     },
     "metadata": {},
     "output_type": "display_data"
    },
    {
     "data": {
      "text/markdown": [
       "\n",
       "### Goal 13\n",
       "---\n",
       "**Question:** How does the wheelbase length correlate with fuel efficiency?\n",
       "\n",
       "**Visualization:** `scatter plot of Wheel_Base vs City_Miles_Per_Gallon`\n",
       "\n",
       "**Rationale:** This can help the mechanic understand if longer wheelbases lead to worse fuel economy.\n"
      ],
      "text/plain": [
       "Goal(question='How does the wheelbase length correlate with fuel efficiency?', visualization='scatter plot of Wheel_Base vs City_Miles_Per_Gallon', rationale='This can help the mechanic understand if longer wheelbases lead to worse fuel economy.', index=13)"
      ]
     },
     "metadata": {},
     "output_type": "display_data"
    },
    {
     "data": {
      "text/markdown": [
       "\n",
       "### Goal 14\n",
       "---\n",
       "**Question:** What is the average Highway Miles Per Gallon for cars with different engine sizes?\n",
       "\n",
       "**Visualization:** `bar chart of average Highway_Miles_Per_Gallon by Engine_Size__l_`\n",
       "\n",
       "**Rationale:** This can help identify if larger engines compromise highway fuel efficiency.\n"
      ],
      "text/plain": [
       "Goal(question='What is the average Highway Miles Per Gallon for cars with different engine sizes?', visualization='bar chart of average Highway_Miles_Per_Gallon by Engine_Size__l_', rationale='This can help identify if larger engines compromise highway fuel efficiency.', index=14)"
      ]
     },
     "metadata": {},
     "output_type": "display_data"
    },
    {
     "data": {
      "text/markdown": [
       "\n",
       "### Goal 15\n",
       "---\n",
       "**Question:** What is the relationship between the number of cylinders and Highway Miles Per Gallon?\n",
       "\n",
       "**Visualization:** `box plot of Highway_Miles_Per_Gallon by Cyl`\n",
       "\n",
       "**Rationale:** This shows how engine configuration impacts highway fuel efficiency.\n"
      ],
      "text/plain": [
       "Goal(question='What is the relationship between the number of cylinders and Highway Miles Per Gallon?', visualization='box plot of Highway_Miles_Per_Gallon by Cyl', rationale='This shows how engine configuration impacts highway fuel efficiency.', index=15)"
      ]
     },
     "metadata": {},
     "output_type": "display_data"
    },
    {
     "data": {
      "text/markdown": [
       "\n",
       "### Goal 16\n",
       "---\n",
       "**Question:** What percentage of cars have good fuel efficiency (above 25 MPG)?\n",
       "\n",
       "**Visualization:** `pie chart of percentage of cars with City_Miles_Per_Gallon > 25`\n",
       "\n",
       "**Rationale:** This gives a quick overview of the availability of fuel-efficient options.\n"
      ],
      "text/plain": [
       "Goal(question='What percentage of cars have good fuel efficiency (above 25 MPG)?', visualization='pie chart of percentage of cars with City_Miles_Per_Gallon > 25', rationale='This gives a quick overview of the availability of fuel-efficient options.', index=16)"
      ]
     },
     "metadata": {},
     "output_type": "display_data"
    },
    {
     "data": {
      "text/markdown": [
       "\n",
       "### Goal 17\n",
       "---\n",
       "**Question:** What is the average Retail Price for cars categorized as SUVs versus Sedans?\n",
       "\n",
       "**Visualization:** `bar chart of average Retail_Price by Type`\n",
       "\n",
       "**Rationale:** This helps the mechanic compare the cost of different car types.\n"
      ],
      "text/plain": [
       "Goal(question='What is the average Retail Price for cars categorized as SUVs versus Sedans?', visualization='bar chart of average Retail_Price by Type', rationale='This helps the mechanic compare the cost of different car types.', index=17)"
      ]
     },
     "metadata": {},
     "output_type": "display_data"
    },
    {
     "data": {
      "text/markdown": [
       "\n",
       "### Goal 18\n",
       "---\n",
       "**Question:** How does the average horsepower vary among different types of cars?\n",
       "\n",
       "**Visualization:** `bar chart of average Horsepower_HP_ by Type`\n",
       "\n",
       "**Rationale:** This may indicate if more powerful cars are generally more expensive or less fuel-efficient.\n"
      ],
      "text/plain": [
       "Goal(question='How does the average horsepower vary among different types of cars?', visualization='bar chart of average Horsepower_HP_ by Type', rationale='This may indicate if more powerful cars are generally more expensive or less fuel-efficient.', index=18)"
      ]
     },
     "metadata": {},
     "output_type": "display_data"
    },
    {
     "data": {
      "text/markdown": [
       "\n",
       "### Goal 19\n",
       "---\n",
       "**Question:** What is the relationship between car width and fuel efficiency?\n",
       "\n",
       "**Visualization:** `scatter plot of Width vs City_Miles_Per_Gallon`\n",
       "\n",
       "**Rationale:** This can help determine if wider cars tend to have lower fuel efficiency.\n"
      ],
      "text/plain": [
       "Goal(question='What is the relationship between car width and fuel efficiency?', visualization='scatter plot of Width vs City_Miles_Per_Gallon', rationale='This can help determine if wider cars tend to have lower fuel efficiency.', index=19)"
      ]
     },
     "metadata": {},
     "output_type": "display_data"
    }
   ],
   "source": [
    "# goals can also be based on a persona \n",
    "persona = \"a mechanic who wants to buy a car that is cheap but has good gas mileage\"\n",
    "personal_goals = lida.goals(summary, n=20, persona=persona, textgen_config=textgen_config)\n",
    "for goal in personal_goals:\n",
    "    display(goal)"
   ]
  },
  {
   "cell_type": "markdown",
   "metadata": {},
   "source": [
    "### Saving and Loading Goals with a Persona"
   ]
  },
  {
   "cell_type": "code",
   "execution_count": 16,
   "metadata": {},
   "outputs": [
    {
     "ename": "NameError",
     "evalue": "name 'personal_goals' is not defined",
     "output_type": "error",
     "traceback": [
      "\u001b[1;31m---------------------------------------------------------------------------\u001b[0m",
      "\u001b[1;31mNameError\u001b[0m                                 Traceback (most recent call last)",
      "Cell \u001b[1;32mIn[16], line 4\u001b[0m\n\u001b[0;32m      1\u001b[0m \u001b[38;5;66;03m# SAVE\u001b[39;00m\n\u001b[0;32m      3\u001b[0m \u001b[38;5;28;01mwith\u001b[39;00m \u001b[38;5;28mopen\u001b[39m(\u001b[38;5;124m'\u001b[39m\u001b[38;5;124mgoals-persona.pkl\u001b[39m\u001b[38;5;124m'\u001b[39m, \u001b[38;5;124m'\u001b[39m\u001b[38;5;124mwb\u001b[39m\u001b[38;5;124m'\u001b[39m) \u001b[38;5;28;01mas\u001b[39;00m f:\n\u001b[1;32m----> 4\u001b[0m     pickle\u001b[38;5;241m.\u001b[39mdump(\u001b[43mpersonal_goals\u001b[49m, f)\n",
      "\u001b[1;31mNameError\u001b[0m: name 'personal_goals' is not defined"
     ]
    }
   ],
   "source": [
    "# # SAVE\n",
    "\n",
    "# with open('goals-persona.pkl', 'wb') as f:\n",
    "#     pickle.dump(personal_goals, f)"
   ]
  },
  {
   "cell_type": "code",
   "execution_count": null,
   "metadata": {},
   "outputs": [
    {
     "data": {
      "text/plain": [
       "[Goal(question='What is the distribution of Retail Price?', visualization='histogram of Retail_Price', rationale='This tells us about the range of car prices available, helping the mechanic identify affordable options.', index=0),\n",
       " Goal(question='How does City Miles Per Gallon vary with Retail Price?', visualization='scatter plot of City_Miles_Per_Gallon vs Retail_Price', rationale='This helps assess whether higher-priced cars offer better fuel efficiency.', index=1),\n",
       " Goal(question='What is the correlation between Highway Miles Per Gallon and City Miles Per Gallon?', visualization='scatter plot of Highway_Miles_Per_Gallon vs City_Miles_Per_Gallon', rationale='Understanding this relationship can help the mechanic predict fuel efficiency based on city driving conditions.', index=2),\n",
       " Goal(question='Which car types have the best average City Miles Per Gallon?', visualization='bar chart of average City_Miles_Per_Gallon by Type', rationale='This allows the mechanic to quickly identify which types of cars are more fuel-efficient.', index=3),\n",
       " Goal(question='What is the distribution of Engine Sizes across different car types?', visualization='box plot of Engine_Size__l_ by Type', rationale='This shows how engine size varies across types, which can impact fuel efficiency.', index=4),\n",
       " Goal(question='How does the number of Cylinders affect City Miles Per Gallon?', visualization='box plot of City_Miles_Per_Gallon by Cyl', rationale='This helps the mechanic understand how engine configuration influences fuel efficiency.', index=5),\n",
       " Goal(question='What is the relationship between Horsepower and City Miles Per Gallon?', visualization='scatter plot of Horsepower_HP_ vs City_Miles_Per_Gallon', rationale='This can indicate if more powerful cars compromise fuel efficiency.', index=6),\n",
       " Goal(question='How do the weights of cars affect their fuel efficiency?', visualization='scatter plot of Weight vs City_Miles_Per_Gallon', rationale='This helps the mechanic see if lighter cars generally provide better fuel economy.', index=7),\n",
       " Goal(question='What is the average Retail Price for cars with good gas mileage (above 25 MPG)?', visualization='bar chart of average Retail_Price for City_Miles_Per_Gallon > 25', rationale='This gives insight into the cost of more fuel-efficient cars.', index=8),\n",
       " Goal(question='What is the average Dealer Cost for cars with high Highway Miles Per Gallon?', visualization='bar chart of average Dealer_Cost for Highway_Miles_Per_Gallon > 30', rationale='This can help the mechanic identify cost-effective options for high-mileage vehicles.', index=9),\n",
       " Goal(question='How does the length of a car relate to its fuel efficiency?', visualization='scatter plot of Len vs City_Miles_Per_Gallon', rationale='Understanding this relationship can help assess if larger cars are less efficient.', index=10),\n",
       " Goal(question='What is the distribution of AWD and RWD cars in terms of fuel efficiency?', visualization='box plot of City_Miles_Per_Gallon by AWD and RWD', rationale='This helps the mechanic understand how drivetrain configurations impact gas mileage.', index=11),\n",
       " Goal(question='What is the average weight of cars grouped by their Type?', visualization='bar chart of average Weight by Type', rationale='This can provide insights into how the type of car affects its overall weight and potentially its fuel efficiency.', index=12),\n",
       " Goal(question='How does the wheelbase length correlate with fuel efficiency?', visualization='scatter plot of Wheel_Base vs City_Miles_Per_Gallon', rationale='This can help the mechanic understand if longer wheelbases lead to worse fuel economy.', index=13),\n",
       " Goal(question='What is the average Highway Miles Per Gallon for cars with different engine sizes?', visualization='bar chart of average Highway_Miles_Per_Gallon by Engine_Size__l_', rationale='This can help identify if larger engines compromise highway fuel efficiency.', index=14),\n",
       " Goal(question='What is the relationship between the number of cylinders and Highway Miles Per Gallon?', visualization='box plot of Highway_Miles_Per_Gallon by Cyl', rationale='This shows how engine configuration impacts highway fuel efficiency.', index=15),\n",
       " Goal(question='What percentage of cars have good fuel efficiency (above 25 MPG)?', visualization='pie chart of percentage of cars with City_Miles_Per_Gallon > 25', rationale='This gives a quick overview of the availability of fuel-efficient options.', index=16),\n",
       " Goal(question='What is the average Retail Price for cars categorized as SUVs versus Sedans?', visualization='bar chart of average Retail_Price by Type', rationale='This helps the mechanic compare the cost of different car types.', index=17),\n",
       " Goal(question='How does the average horsepower vary among different types of cars?', visualization='bar chart of average Horsepower_HP_ by Type', rationale='This may indicate if more powerful cars are generally more expensive or less fuel-efficient.', index=18),\n",
       " Goal(question='What is the relationship between car width and fuel efficiency?', visualization='scatter plot of Width vs City_Miles_Per_Gallon', rationale='This can help determine if wider cars tend to have lower fuel efficiency.', index=19)]"
      ]
     },
     "metadata": {},
     "output_type": "display_data"
    }
   ],
   "source": [
    "# LOAD\n",
    "\n",
    "with open('goals-persona.pkl', 'rb') as f:\n",
    "    loaded = pickle.load(f)\n",
    "\n",
    "display(loaded)"
   ]
  },
  {
   "attachments": {},
   "cell_type": "markdown",
   "metadata": {},
   "source": [
    "## Generate Visualizations"
   ]
  },
  {
   "cell_type": "code",
   "execution_count": 30,
   "metadata": {},
   "outputs": [],
   "source": [
    "i=18"
   ]
  },
  {
   "cell_type": "code",
   "execution_count": 45,
   "metadata": {},
   "outputs": [
    {
     "data": {
      "text/plain": [
       "[ChartExecutorResponse(spec=None, status=True, raster='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', code=\"import seaborn as sns\\nimport pandas as pd\\nimport matplotlib.pyplot as plt\\n\\n# solution plan\\n# i. Group the data by 'Cyl' and calculate the average 'Retail_Price' and 'Dealer_Cost'.\\n# ii. Create a dual-axis bar chart to compare the average 'Retail_Price' and 'Dealer_Cost' by 'Cyl'.\\n# iii. Add a legend to differentiate between the two bars.\\n\\ndef plot(data: pd.DataFrame):\\n    # Grouping the data\\n    avg_prices = data.groupby('Cyl')[['Retail_Price', 'Dealer_Cost']].mean().reset_index()\\n    \\n    # Creating a dual-axis bar chart\\n    fig, ax1 = plt.subplots()\\n\\n    # Bar chart for Retail Price\\n    sns.barplot(x='Cyl', y='Retail_Price', data=avg_prices, ax=ax1, color='blue', label='Average Retail Price')\\n    ax1.set_ylabel('Average Retail Price', color='blue')\\n    ax1.tick_params(axis='y', labelcolor='blue')\\n\\n    # Creating a second y-axis for Dealer Cost\\n    ax2 = ax1.twinx()\\n    sns.barplot(x='Cyl', y='Dealer_Cost', data=avg_prices, ax=ax2, color='orange', label='Average Dealer Cost')\\n    ax2.set_ylabel('Average Dealer Cost', color='orange')\\n    ax2.tick_params(axis='y', labelcolor='orange')\\n\\n    # Adding title and legend\\n    plt.title('What is the impact of the number of cylinders on retail price and dealer cost?', wrap=True)\\n    ax1.legend(loc='upper left')\\n    ax2.legend(loc='upper right')\\n\\n    return plt;\\n\\nchart = plot(data)\", library='seaborn', error=None)]"
      ]
     },
     "execution_count": 45,
     "metadata": {},
     "output_type": "execute_result"
    }
   ],
   "source": [
    "library = \"seaborn\"\n",
    "textgen_config = TextGenerationConfig(n=1, temperature=0.2, use_cache=True)\n",
    "charts = lida.visualize(summary=summary, goal=goals[i], textgen_config=textgen_config, library=library)  \n",
    "charts[0]"
   ]
  },
  {
   "cell_type": "code",
   "execution_count": 31,
   "metadata": {},
   "outputs": [
    {
     "data": {
      "image/png": "[encoded data removed]",
      "text/plain": [
       "import seaborn as sns\n",
       "import pandas as pd\n",
       "import matplotlib.pyplot as plt\n",
       "import numpy as np\n",
       "\n",
       "def plot(data: pd.DataFrame):\n",
       "    avg_prices = data.groupby('Cyl')[['Retail_Price', 'Dealer_Cost']].mean().reset_index()\n",
       "    \n",
       "    fig, ax1 = plt.subplots(figsize=(12, 6))\n",
       "    \n",
       "    bar_width = 0.35\n",
       "    bar_positions = np.arange(len(avg_prices['Cyl']))\n",
       "    \n",
       "    color1 = 'tab:blue'\n",
       "    color2 = 'tab:red'\n",
       "    \n",
       "    ax1.set_xlabel('Number of Cylinders')\n",
       "    ax1.set_ylabel('Average Price', color=color1)\n",
       "    ax1.bar(bar_positions - bar_width/2, avg_prices['Retail_Price'], bar_width, color=color1, label='Retail Price')\n",
       "    ax1.tick_params(axis='y', labelcolor=color1)\n",
       "    ax1.axhline(avg_prices['Retail_Price'].mean(), color='blue', linestyle='--', label='Avg Retail Price: {:.2f}'.format(avg_prices['Retail_Price'].mean()))\n",
       "    \n",
       "    ax2 = ax1.twinx()\n",
       "    ax2.set_ylabel('Average Cost', color=color2)\n",
       "    ax2.bar(bar_positions + bar_width/2, avg_prices['Dealer_Cost'], bar_width, color=color2, label='Dealer Cost')\n",
       "    ax2.tick_params(axis='y', labelcolor=color2)\n",
       "    ax2.axhline(avg_prices['Dealer_Cost'].mean(), color='red', linestyle='--', label='Avg Dealer Cost: {:.2f}'.format(avg_prices['Dealer_Cost'].mean()))\n",
       "    \n",
       "    plt.xticks(bar_positions, avg_prices['Cyl'])\n",
       "    plt.legend(loc='upper left')\n",
       "    \n",
       "    return plt\n",
       "\n",
       "chart = plot(data)"
      ]
     },
     "execution_count": 31,
     "metadata": {},
     "output_type": "execute_result"
    }
   ],
   "source": [
    "code = charts[0].code\n",
    "textgen_config = TextGenerationConfig(n=1, temperature=0, use_cache=True)\n",
    "instructions = [\"can you separate the bars for average cost and average price and put them side by side instead of stacking them?\"]\n",
    "edited_charts = lida.edit(code=code,  summary=summary, instructions=instructions, library=library, textgen_config=textgen_config)\n",
    "edited_charts[0]"
   ]
  },
  {
   "cell_type": "markdown",
   "metadata": {},
   "source": [
    "### Save Code"
   ]
  },
  {
   "cell_type": "code",
   "execution_count": 38,
   "metadata": {},
   "outputs": [],
   "source": [
    "# SAVE\n",
    "\n",
    "with open('./scatter/cars5-v2-5-6/code-v2-5-6.pkl', 'wb') as f:\n",
    "    pickle.dump(charts[0], f)"
   ]
  },
  {
   "cell_type": "code",
   "execution_count": 121,
   "metadata": {},
   "outputs": [
    {
     "data": {
      "image/png": "[encoded data removed]",
      "text/plain": [
       "import seaborn as sns\n",
       "import pandas as pd\n",
       "import matplotlib.pyplot as plt\n",
       "\n",
       "def plot(data: pd.DataFrame):\n",
       "    plt.figure(figsize=(12, 8))\n",
       "    sns.scatterplot(data=data, x='Engine_Size__l_', y='Retail_Price', hue='Type', palette='tab10')\n",
       "    plt.title('How does the retail price relate to the engine size across different car types?', wrap=True)\n",
       "    plt.legend(title='Car Type', bbox_to_anchor=(1, 1), loc='upper left')\n",
       "    return plt;\n",
       "\n",
       "chart = plot(data)"
      ]
     },
     "metadata": {},
     "output_type": "display_data"
    }
   ],
   "source": [
    "# LOAD\n",
    "\n",
    "with open('./scatter/cars15-v2-5-6/code-v2-5-6.pkl', 'rb') as f:\n",
    "    code = pickle.load(f)\n",
    "\n",
    "display(code)"
   ]
  },
  {
   "cell_type": "markdown",
   "metadata": {},
   "source": [
    "## Generate Prompts"
   ]
  },
  {
   "cell_type": "markdown",
   "metadata": {},
   "source": [
    "### Generate Prompts"
   ]
  },
  {
   "cell_type": "code",
   "execution_count": 47,
   "metadata": {},
   "outputs": [
    {
     "data": {
      "text/markdown": [
       "\n",
       "### Prompt 0\n",
       "---\n",
       "**Question:** What is the average retail price for cars with larger engine sizes compared to smaller engine sizes?\n",
       "\n",
       "**Rationale:** This will help us understand if there is a trend of higher retail prices for cars with larger engine sizes, indicating a potential correlation between engine size and pricing.\n",
       "\n"
      ],
      "text/plain": [
       "Prompt(question='What is the average retail price for cars with larger engine sizes compared to smaller engine sizes?', rationale='This will help us understand if there is a trend of higher retail prices for cars with larger engine sizes, indicating a potential correlation between engine size and pricing.', index=0)"
      ]
     },
     "metadata": {},
     "output_type": "display_data"
    },
    {
     "data": {
      "text/markdown": [
       "\n",
       "### Prompt 1\n",
       "---\n",
       "**Question:** Are there any outliers in terms of retail price for a specific car type with a certain engine size?\n",
       "\n",
       "**Rationale:** Identifying outliers can provide insights into unique cases where the retail price deviates significantly from the general trend, potentially indicating special features or circumstances affecting pricing.\n",
       "\n"
      ],
      "text/plain": [
       "Prompt(question='Are there any outliers in terms of retail price for a specific car type with a certain engine size?', rationale='Identifying outliers can provide insights into unique cases where the retail price deviates significantly from the general trend, potentially indicating special features or circumstances affecting pricing.', index=1)"
      ]
     },
     "metadata": {},
     "output_type": "display_data"
    },
    {
     "data": {
      "text/markdown": [
       "\n",
       "### Prompt 2\n",
       "---\n",
       "**Question:** Which car type shows the strongest positive correlation between engine size and retail price?\n",
       "\n",
       "**Rationale:** Identifying the car type with the strongest positive correlation can help us understand which type of cars tend to have higher retail prices as engine size increases, providing insights into market preferences or trends.\n",
       "\n"
      ],
      "text/plain": [
       "Prompt(question='Which car type shows the strongest positive correlation between engine size and retail price?', rationale='Identifying the car type with the strongest positive correlation can help us understand which type of cars tend to have higher retail prices as engine size increases, providing insights into market preferences or trends.', index=2)"
      ]
     },
     "metadata": {},
     "output_type": "display_data"
    },
    {
     "data": {
      "text/markdown": [
       "\n",
       "### Prompt 3\n",
       "---\n",
       "**Question:** Is there a noticeable difference in the spread of retail prices for cars with similar engine sizes but different types?\n",
       "\n",
       "**Rationale:** Understanding the spread of retail prices within similar engine sizes across different car types can reveal if certain types of cars are consistently priced higher or lower than others, indicating market segmentation or pricing strategies.\n",
       "\n"
      ],
      "text/plain": [
       "Prompt(question='Is there a noticeable difference in the spread of retail prices for cars with similar engine sizes but different types?', rationale='Understanding the spread of retail prices within similar engine sizes across different car types can reveal if certain types of cars are consistently priced higher or lower than others, indicating market segmentation or pricing strategies.', index=3)"
      ]
     },
     "metadata": {},
     "output_type": "display_data"
    },
    {
     "data": {
      "text/markdown": [
       "\n",
       "### Prompt 4\n",
       "---\n",
       "**Question:** Do luxury car types tend to have larger engine sizes compared to economy car types?\n",
       "\n",
       "**Rationale:** Comparing the engine sizes of luxury car types to economy car types can provide insights into whether engine size is a distinguishing factor between different market segments, helping understand the relationship between car type, engine size, and pricing.\n",
       "\n"
      ],
      "text/plain": [
       "Prompt(question='Do luxury car types tend to have larger engine sizes compared to economy car types?', rationale='Comparing the engine sizes of luxury car types to economy car types can provide insights into whether engine size is a distinguishing factor between different market segments, helping understand the relationship between car type, engine size, and pricing.', index=4)"
      ]
     },
     "metadata": {},
     "output_type": "display_data"
    },
    {
     "data": {
      "text/markdown": [
       "\n",
       "### Prompt 5\n",
       "---\n",
       "**Question:** How do electric cars compare to traditional fuel cars in terms of engine size and retail price?\n",
       "\n",
       "**Rationale:** Comparing electric cars to traditional fuel cars in terms of engine size and retail price can reveal differences in pricing strategies or market positioning between these two types of vehicles, offering insights into the impact of technology on pricing.\n",
       "\n"
      ],
      "text/plain": [
       "Prompt(question='How do electric cars compare to traditional fuel cars in terms of engine size and retail price?', rationale='Comparing electric cars to traditional fuel cars in terms of engine size and retail price can reveal differences in pricing strategies or market positioning between these two types of vehicles, offering insights into the impact of technology on pricing.', index=5)"
      ]
     },
     "metadata": {},
     "output_type": "display_data"
    },
    {
     "data": {
      "text/markdown": [
       "\n",
       "### Prompt 6\n",
       "---\n",
       "**Question:** Are there any car types that consistently deviate from the general trend of higher retail prices for larger engine sizes?\n",
       "\n",
       "**Rationale:** Identifying car types that deviate from the general trend can highlight unique characteristics or market dynamics specific to those types, offering insights into factors beyond engine size that influence pricing.\n",
       "\n"
      ],
      "text/plain": [
       "Prompt(question='Are there any car types that consistently deviate from the general trend of higher retail prices for larger engine sizes?', rationale='Identifying car types that deviate from the general trend can highlight unique characteristics or market dynamics specific to those types, offering insights into factors beyond engine size that influence pricing.', index=6)"
      ]
     },
     "metadata": {},
     "output_type": "display_data"
    },
    {
     "data": {
      "text/markdown": [
       "\n",
       "### Prompt 7\n",
       "---\n",
       "**Question:** How do sports cars compare to SUVs in terms of engine size and retail price?\n",
       "\n",
       "**Rationale:** Comparing sports cars to SUVs can provide insights into how different vehicle categories are priced based on engine size, helping understand consumer preferences and market positioning within the automotive industry.\n",
       "\n"
      ],
      "text/plain": [
       "Prompt(question='How do sports cars compare to SUVs in terms of engine size and retail price?', rationale='Comparing sports cars to SUVs can provide insights into how different vehicle categories are priced based on engine size, helping understand consumer preferences and market positioning within the automotive industry.', index=7)"
      ]
     },
     "metadata": {},
     "output_type": "display_data"
    },
    {
     "data": {
      "text/markdown": [
       "\n",
       "### Prompt 8\n",
       "---\n",
       "**Question:** Is there a pattern in the distribution of car types based on engine size and retail price clusters?\n",
       "\n",
       "**Rationale:** Identifying patterns in the distribution of car types based on engine size and retail price clusters can reveal market segments or pricing tiers within the dataset, offering insights into how cars are priced based on their characteristics.\n",
       "\n"
      ],
      "text/plain": [
       "Prompt(question='Is there a pattern in the distribution of car types based on engine size and retail price clusters?', rationale='Identifying patterns in the distribution of car types based on engine size and retail price clusters can reveal market segments or pricing tiers within the dataset, offering insights into how cars are priced based on their characteristics.', index=8)"
      ]
     },
     "metadata": {},
     "output_type": "display_data"
    },
    {
     "data": {
      "text/markdown": [
       "\n",
       "### Prompt 9\n",
       "---\n",
       "**Question:** Do certain car types exhibit a more linear relationship between engine size and retail price compared to others?\n",
       "\n",
       "**Rationale:** Identifying car types with a more linear relationship can indicate a stronger correlation between engine size and pricing within those types, providing insights into pricing strategies or consumer preferences specific to each type.\n",
       "\n"
      ],
      "text/plain": [
       "Prompt(question='Do certain car types exhibit a more linear relationship between engine size and retail price compared to others?', rationale='Identifying car types with a more linear relationship can indicate a stronger correlation between engine size and pricing within those types, providing insights into pricing strategies or consumer preferences specific to each type.', index=9)"
      ]
     },
     "metadata": {},
     "output_type": "display_data"
    }
   ],
   "source": [
    "prompts = lida.prompt(goals[i], textgen_config=textgen_config, n=10)  \n",
    "\n",
    "for prompt in prompts:\n",
    "    display(prompt)"
   ]
  },
  {
   "cell_type": "markdown",
   "metadata": {},
   "source": [
    "### Saving  and loading prompts"
   ]
  },
  {
   "cell_type": "code",
   "execution_count": 24,
   "metadata": {},
   "outputs": [],
   "source": [
    "# # SAVE\n",
    "\n",
    "# with open('./barchart/cars18-v2-5-6/prompt3/prompt-v3-4-10.pkl', 'wb') as f:\n",
    "#     pickle.dump(prompts, f)"
   ]
  },
  {
   "cell_type": "code",
   "execution_count": 25,
   "metadata": {},
   "outputs": [
    {
     "data": {
      "text/plain": [
       "[Prompt(question='How does the average retail price change as the number of cylinders increases?', rationale='This helps us understand if higher cylinder counts correlate with higher retail prices, indicating consumer demand or perceived value.', index=0),\n",
       " Prompt(question='Are there any significant differences in dealer costs for vehicles with different cylinder counts?', rationale='Identifying these differences can reveal how dealer pricing strategies vary based on vehicle specifications.', index=1),\n",
       " Prompt(question='What trends can we observe in the relationship between retail price and dealer cost across cylinder counts?', rationale='Understanding this relationship can provide insights into pricing strategies and profit margins for different vehicle types.', index=2),\n",
       " Prompt(question='Do vehicles with a higher number of cylinders generally have a higher markup from dealer cost to retail price?', rationale='This can indicate how much value is added by the dealer for higher-cylinder vehicles, affecting consumer purchasing decisions.', index=3),\n",
       " Prompt(question='Is there a threshold number of cylinders where the retail price significantly increases?', rationale='Identifying such a threshold can inform manufacturers and dealers about pricing strategies for different market segments.', index=4),\n",
       " Prompt(question='How does the average dealer cost compare to the average retail price for vehicles with fewer cylinders?', rationale='This comparison can highlight whether lower-cylinder vehicles are more competitively priced or if they have higher profit margins.', index=5),\n",
       " Prompt(question='What is the average price difference between vehicles with 4, 6, and 8 cylinders?', rationale='This specific analysis can quantify the impact of cylinder count on pricing and help consumers understand value differences.', index=6),\n",
       " Prompt(question='Are there any outliers in dealer cost or retail price for specific cylinder counts?', rationale='Identifying outliers can uncover unique market conditions or exceptional vehicles that deviate from typical pricing patterns.', index=7),\n",
       " Prompt(question='How do average retail prices and dealer costs for different cylinder counts compare to industry standards?', rationale='This comparison can help assess whether the data aligns with broader market trends or if there are anomalies.', index=8),\n",
       " Prompt(question='What implications do the observed trends in retail price and dealer cost have for future vehicle production and marketing?', rationale='Understanding these implications can guide strategic decisions for manufacturers and marketers in targeting consumer preferences.', index=9)]"
      ]
     },
     "metadata": {},
     "output_type": "display_data"
    }
   ],
   "source": [
    "# LOAD\n",
    "\n",
    "with open('./barchart/cars18-v2-5-6/prompt3/prompt-v3-4-10.pkl', 'rb') as f:\n",
    "    prompts = pickle.load(f)\n",
    "\n",
    "display(prompts)"
   ]
  },
  {
   "cell_type": "markdown",
   "metadata": {},
   "source": [
    "## Generating Insights"
   ]
  },
  {
   "cell_type": "markdown",
   "metadata": {},
   "source": [
    "### Saving and Loading answers"
   ]
  },
  {
   "cell_type": "code",
   "execution_count": 26,
   "metadata": {},
   "outputs": [],
   "source": [
    "# answers = [\n",
    "#     \"The average retail price for cars with larger engine sizes compared to smaller ones are usually higher in general, but the difference in the price depends on the type. For instance in certain car types like sedans and sports cars, it's easier to see a steeper rise compared to car types like minivans, wagons and SUVs.\",\n",
    "#     \"The most expensive car (almost 200,000) is a sports car and it actually has an engine size of 3. There's also a sedan with an engine size of 0 that's around 30-40k and I don't really know how that's possible. Maybe not an outlier but sedans also offer a lot of price options for the same engine size.\",\n",
    "#     \"There doesn't seem to be one with a really really strong positive correlation because the dots form a trend line, but with a pretty big width, so I'm not really sure what that entails.\",\n",
    "#     \"Sedans usually have the most price options for different engine sizes. Sports cars are usually on the higher end of the price spectrum compared to other car types with the same engine size. Meanwhile, wagons and minivans tend to be on the lower end.\",\n",
    "#     \"I don't really know what luxury car types are, but I dont think that there are equal plot points to be able to acurately tell if more of the sports cars have higher engine sizes then economy car types.\",\n",
    "#     \"I don't know which ones are electric or traditional.\",\n",
    "#     \"For SUVs, even if the engine size is big, the price different isn't as large as other SUVs with smaller engine sizes. It's still generally more expensive, but the change is less compared to car types like sports cars. Maybe it's also worth noting that minivans and wagons' engine sizes don't exceed 5.\",\n",
    "#     \"Same answer as above. Sports cars are obviously more expensive on avarage.\",\n",
    "#     \"Maybe it generaally goes up? but I dont think that it's the sole predictor.\",\n",
    "#     \"Difficult to tell because none of them are perfectly linear but they all generally seems to have an upward trend in price as engine size increases.\"\n",
    "# ]\n",
    "\n",
    "# with open('answers.pkl', 'wb') as f:\n",
    "#     pickle.dump(answers, f)"
   ]
  },
  {
   "cell_type": "code",
   "execution_count": 27,
   "metadata": {},
   "outputs": [
    {
     "data": {
      "text/plain": [
       "['Oddly, the average price of cars with 0 cylinders are greater than those with 3 and 4 and is around the same as cars with 6 cylinders. All the other prices fall under or relatively close to 40,000 until the price of cars with 12 cylinders suddenly faces a drastic spike which is around 3x the others.',\n",
       " 'The dealer costs are almost exactly the same as the average price.',\n",
       " 'The dealer cost and average price are almost exactly the same.',\n",
       " 'Yeah, generally. 12 has the highest price and cost, followed by 8, 9, then 5, then 6 and 0, then 4 and 3.',\n",
       " 'At cylinder count of 12. The price and cost is 3x the average.',\n",
       " 'The price and the cost are almost exactly the same. For cars with lover cylinder counts, they are below the average of 40,000.',\n",
       " 'Between 4 and 6, the difference is around 5k. Between 6 and 8, the difference is around 10k.',\n",
       " 'Cars with 12 cylinders have an extremely high cost and price of 120,000.',\n",
       " \"I don't know the industry standards.\",\n",
       " 'I do not have information on this.']"
      ]
     },
     "metadata": {},
     "output_type": "display_data"
    }
   ],
   "source": [
    "with open('./barchart/cars18-v2-5-6/prompt3/answers.pkl', 'rb') as f:\n",
    "    answers = pickle.load(f)\n",
    "\n",
    "display(answers)"
   ]
  },
  {
   "cell_type": "code",
   "execution_count": 35,
   "metadata": {},
   "outputs": [
    {
     "ename": "AttributeError",
     "evalue": "'Insight' object has no attribute 'prompts'",
     "output_type": "error",
     "traceback": [
      "\u001b[1;31m---------------------------------------------------------------------------\u001b[0m",
      "\u001b[1;31mAttributeError\u001b[0m                            Traceback (most recent call last)",
      "File \u001b[1;32m~\\AppData\\Local\\Packages\\PythonSoftwareFoundation.Python.3.12_qbz5n2kfra8p0\\LocalCache\\local-packages\\Python312\\site-packages\\IPython\\core\\formatters.py:711\u001b[0m, in \u001b[0;36mPlainTextFormatter.__call__\u001b[1;34m(self, obj)\u001b[0m\n\u001b[0;32m    704\u001b[0m stream \u001b[38;5;241m=\u001b[39m StringIO()\n\u001b[0;32m    705\u001b[0m printer \u001b[38;5;241m=\u001b[39m pretty\u001b[38;5;241m.\u001b[39mRepresentationPrinter(stream, \u001b[38;5;28mself\u001b[39m\u001b[38;5;241m.\u001b[39mverbose,\n\u001b[0;32m    706\u001b[0m     \u001b[38;5;28mself\u001b[39m\u001b[38;5;241m.\u001b[39mmax_width, \u001b[38;5;28mself\u001b[39m\u001b[38;5;241m.\u001b[39mnewline,\n\u001b[0;32m    707\u001b[0m     max_seq_length\u001b[38;5;241m=\u001b[39m\u001b[38;5;28mself\u001b[39m\u001b[38;5;241m.\u001b[39mmax_seq_length,\n\u001b[0;32m    708\u001b[0m     singleton_pprinters\u001b[38;5;241m=\u001b[39m\u001b[38;5;28mself\u001b[39m\u001b[38;5;241m.\u001b[39msingleton_printers,\n\u001b[0;32m    709\u001b[0m     type_pprinters\u001b[38;5;241m=\u001b[39m\u001b[38;5;28mself\u001b[39m\u001b[38;5;241m.\u001b[39mtype_printers,\n\u001b[0;32m    710\u001b[0m     deferred_pprinters\u001b[38;5;241m=\u001b[39m\u001b[38;5;28mself\u001b[39m\u001b[38;5;241m.\u001b[39mdeferred_printers)\n\u001b[1;32m--> 711\u001b[0m \u001b[43mprinter\u001b[49m\u001b[38;5;241;43m.\u001b[39;49m\u001b[43mpretty\u001b[49m\u001b[43m(\u001b[49m\u001b[43mobj\u001b[49m\u001b[43m)\u001b[49m\n\u001b[0;32m    712\u001b[0m printer\u001b[38;5;241m.\u001b[39mflush()\n\u001b[0;32m    713\u001b[0m \u001b[38;5;28;01mreturn\u001b[39;00m stream\u001b[38;5;241m.\u001b[39mgetvalue()\n",
      "File \u001b[1;32m~\\AppData\\Local\\Packages\\PythonSoftwareFoundation.Python.3.12_qbz5n2kfra8p0\\LocalCache\\local-packages\\Python312\\site-packages\\IPython\\lib\\pretty.py:419\u001b[0m, in \u001b[0;36mRepresentationPrinter.pretty\u001b[1;34m(self, obj)\u001b[0m\n\u001b[0;32m    408\u001b[0m                         \u001b[38;5;28;01mreturn\u001b[39;00m meth(obj, \u001b[38;5;28mself\u001b[39m, cycle)\n\u001b[0;32m    409\u001b[0m                 \u001b[38;5;28;01mif\u001b[39;00m (\n\u001b[0;32m    410\u001b[0m                     \u001b[38;5;28mcls\u001b[39m \u001b[38;5;129;01mis\u001b[39;00m \u001b[38;5;129;01mnot\u001b[39;00m \u001b[38;5;28mobject\u001b[39m\n\u001b[0;32m    411\u001b[0m                     \u001b[38;5;66;03m# check if cls defines __repr__\u001b[39;00m\n\u001b[1;32m   (...)\u001b[0m\n\u001b[0;32m    417\u001b[0m                     \u001b[38;5;129;01mand\u001b[39;00m \u001b[38;5;28mcallable\u001b[39m(_safe_getattr(\u001b[38;5;28mcls\u001b[39m, \u001b[38;5;124m\"\u001b[39m\u001b[38;5;124m__repr__\u001b[39m\u001b[38;5;124m\"\u001b[39m, \u001b[38;5;28;01mNone\u001b[39;00m))\n\u001b[0;32m    418\u001b[0m                 ):\n\u001b[1;32m--> 419\u001b[0m                     \u001b[38;5;28;01mreturn\u001b[39;00m \u001b[43m_repr_pprint\u001b[49m\u001b[43m(\u001b[49m\u001b[43mobj\u001b[49m\u001b[43m,\u001b[49m\u001b[43m \u001b[49m\u001b[38;5;28;43mself\u001b[39;49m\u001b[43m,\u001b[49m\u001b[43m \u001b[49m\u001b[43mcycle\u001b[49m\u001b[43m)\u001b[49m\n\u001b[0;32m    421\u001b[0m     \u001b[38;5;28;01mreturn\u001b[39;00m _default_pprint(obj, \u001b[38;5;28mself\u001b[39m, cycle)\n\u001b[0;32m    422\u001b[0m \u001b[38;5;28;01mfinally\u001b[39;00m:\n",
      "File \u001b[1;32m~\\AppData\\Local\\Packages\\PythonSoftwareFoundation.Python.3.12_qbz5n2kfra8p0\\LocalCache\\local-packages\\Python312\\site-packages\\IPython\\lib\\pretty.py:787\u001b[0m, in \u001b[0;36m_repr_pprint\u001b[1;34m(obj, p, cycle)\u001b[0m\n\u001b[0;32m    785\u001b[0m \u001b[38;5;250m\u001b[39m\u001b[38;5;124;03m\"\"\"A pprint that just redirects to the normal repr function.\"\"\"\u001b[39;00m\n\u001b[0;32m    786\u001b[0m \u001b[38;5;66;03m# Find newlines and replace them with p.break_()\u001b[39;00m\n\u001b[1;32m--> 787\u001b[0m output \u001b[38;5;241m=\u001b[39m \u001b[38;5;28;43mrepr\u001b[39;49m\u001b[43m(\u001b[49m\u001b[43mobj\u001b[49m\u001b[43m)\u001b[49m\n\u001b[0;32m    788\u001b[0m lines \u001b[38;5;241m=\u001b[39m output\u001b[38;5;241m.\u001b[39msplitlines()\n\u001b[0;32m    789\u001b[0m \u001b[38;5;28;01mwith\u001b[39;00m p\u001b[38;5;241m.\u001b[39mgroup():\n",
      "File \u001b[1;32mC:\\Program Files\\WindowsApps\\PythonSoftwareFoundation.Python.3.12_3.12.1520.0_x64__qbz5n2kfra8p0\\Lib\\dataclasses.py:262\u001b[0m, in \u001b[0;36m_recursive_repr.<locals>.wrapper\u001b[1;34m(self)\u001b[0m\n\u001b[0;32m    260\u001b[0m repr_running\u001b[38;5;241m.\u001b[39madd(key)\n\u001b[0;32m    261\u001b[0m \u001b[38;5;28;01mtry\u001b[39;00m:\n\u001b[1;32m--> 262\u001b[0m     result \u001b[38;5;241m=\u001b[39m \u001b[43muser_function\u001b[49m\u001b[43m(\u001b[49m\u001b[38;5;28;43mself\u001b[39;49m\u001b[43m)\u001b[49m\n\u001b[0;32m    263\u001b[0m \u001b[38;5;28;01mfinally\u001b[39;00m:\n\u001b[0;32m    264\u001b[0m     repr_running\u001b[38;5;241m.\u001b[39mdiscard(key)\n",
      "File \u001b[1;32m<string>:3\u001b[0m, in \u001b[0;36m__repr__\u001b[1;34m(self)\u001b[0m\n",
      "\u001b[1;31mAttributeError\u001b[0m: 'Insight' object has no attribute 'prompts'"
     ]
    },
    {
     "ename": "AttributeError",
     "evalue": "'Insight' object has no attribute 'prompts'",
     "output_type": "error",
     "traceback": [
      "\u001b[1;31m---------------------------------------------------------------------------\u001b[0m",
      "\u001b[1;31mAttributeError\u001b[0m                            Traceback (most recent call last)",
      "File \u001b[1;32m~\\AppData\\Local\\Packages\\PythonSoftwareFoundation.Python.3.12_qbz5n2kfra8p0\\LocalCache\\local-packages\\Python312\\site-packages\\IPython\\core\\formatters.py:347\u001b[0m, in \u001b[0;36mBaseFormatter.__call__\u001b[1;34m(self, obj)\u001b[0m\n\u001b[0;32m    345\u001b[0m     method \u001b[38;5;241m=\u001b[39m get_real_method(obj, \u001b[38;5;28mself\u001b[39m\u001b[38;5;241m.\u001b[39mprint_method)\n\u001b[0;32m    346\u001b[0m     \u001b[38;5;28;01mif\u001b[39;00m method \u001b[38;5;129;01mis\u001b[39;00m \u001b[38;5;129;01mnot\u001b[39;00m \u001b[38;5;28;01mNone\u001b[39;00m:\n\u001b[1;32m--> 347\u001b[0m         \u001b[38;5;28;01mreturn\u001b[39;00m \u001b[43mmethod\u001b[49m\u001b[43m(\u001b[49m\u001b[43m)\u001b[49m\n\u001b[0;32m    348\u001b[0m     \u001b[38;5;28;01mreturn\u001b[39;00m \u001b[38;5;28;01mNone\u001b[39;00m\n\u001b[0;32m    349\u001b[0m \u001b[38;5;28;01melse\u001b[39;00m:\n",
      "File \u001b[1;32mc:\\Users\\samsung\\Desktop\\allaine\\lida\\lida\\datamodel.py:88\u001b[0m, in \u001b[0;36mInsight._repr_markdown_\u001b[1;34m(self)\u001b[0m\n\u001b[0;32m     80\u001b[0m     \u001b[38;5;28;01mdef\u001b[39;00m \u001b[38;5;21m_repr_markdown_\u001b[39m(\u001b[38;5;28mself\u001b[39m):\n\u001b[0;32m     81\u001b[0m         \u001b[38;5;28;01mreturn\u001b[39;00m \u001b[38;5;124mf\u001b[39m\u001b[38;5;124m\"\"\"\u001b[39m\n\u001b[0;32m     82\u001b[0m \u001b[38;5;124m### Insight \u001b[39m\u001b[38;5;132;01m{\u001b[39;00m\u001b[38;5;28mself\u001b[39m\u001b[38;5;241m.\u001b[39mindex\u001b[38;5;132;01m}\u001b[39;00m\n\u001b[0;32m     83\u001b[0m \u001b[38;5;124m---\u001b[39m\n\u001b[0;32m     84\u001b[0m \u001b[38;5;124m**Insight:** \u001b[39m\u001b[38;5;132;01m{\u001b[39;00m\u001b[38;5;28mself\u001b[39m\u001b[38;5;241m.\u001b[39minsight\u001b[38;5;132;01m}\u001b[39;00m\n\u001b[0;32m     85\u001b[0m \n\u001b[0;32m     86\u001b[0m \u001b[38;5;124m**Pairs:**\u001b[39m\n\u001b[0;32m     87\u001b[0m \n\u001b[1;32m---> 88\u001b[0m \u001b[38;5;124m    **Prompts:** \u001b[39m\u001b[38;5;132;01m{\u001b[39;00m\u001b[38;5;28;43mself\u001b[39;49m\u001b[38;5;241;43m.\u001b[39;49m\u001b[43mprompts\u001b[49m\u001b[38;5;132;01m}\u001b[39;00m\n\u001b[0;32m     89\u001b[0m \u001b[38;5;124m    **Answers:** \u001b[39m\u001b[38;5;132;01m{\u001b[39;00m\u001b[38;5;28mself\u001b[39m\u001b[38;5;241m.\u001b[39manswers\u001b[38;5;132;01m}\u001b[39;00m\n\u001b[0;32m     90\u001b[0m \u001b[38;5;124m\"\"\"\u001b[39m\n",
      "\u001b[1;31mAttributeError\u001b[0m: 'Insight' object has no attribute 'prompts'"
     ]
    },
    {
     "ename": "AttributeError",
     "evalue": "'Insight' object has no attribute 'prompts'",
     "output_type": "error",
     "traceback": [
      "\u001b[1;31m---------------------------------------------------------------------------\u001b[0m",
      "\u001b[1;31mAttributeError\u001b[0m                            Traceback (most recent call last)",
      "File \u001b[1;32m~\\AppData\\Local\\Packages\\PythonSoftwareFoundation.Python.3.12_qbz5n2kfra8p0\\LocalCache\\local-packages\\Python312\\site-packages\\IPython\\core\\formatters.py:711\u001b[0m, in \u001b[0;36mPlainTextFormatter.__call__\u001b[1;34m(self, obj)\u001b[0m\n\u001b[0;32m    704\u001b[0m stream \u001b[38;5;241m=\u001b[39m StringIO()\n\u001b[0;32m    705\u001b[0m printer \u001b[38;5;241m=\u001b[39m pretty\u001b[38;5;241m.\u001b[39mRepresentationPrinter(stream, \u001b[38;5;28mself\u001b[39m\u001b[38;5;241m.\u001b[39mverbose,\n\u001b[0;32m    706\u001b[0m     \u001b[38;5;28mself\u001b[39m\u001b[38;5;241m.\u001b[39mmax_width, \u001b[38;5;28mself\u001b[39m\u001b[38;5;241m.\u001b[39mnewline,\n\u001b[0;32m    707\u001b[0m     max_seq_length\u001b[38;5;241m=\u001b[39m\u001b[38;5;28mself\u001b[39m\u001b[38;5;241m.\u001b[39mmax_seq_length,\n\u001b[0;32m    708\u001b[0m     singleton_pprinters\u001b[38;5;241m=\u001b[39m\u001b[38;5;28mself\u001b[39m\u001b[38;5;241m.\u001b[39msingleton_printers,\n\u001b[0;32m    709\u001b[0m     type_pprinters\u001b[38;5;241m=\u001b[39m\u001b[38;5;28mself\u001b[39m\u001b[38;5;241m.\u001b[39mtype_printers,\n\u001b[0;32m    710\u001b[0m     deferred_pprinters\u001b[38;5;241m=\u001b[39m\u001b[38;5;28mself\u001b[39m\u001b[38;5;241m.\u001b[39mdeferred_printers)\n\u001b[1;32m--> 711\u001b[0m \u001b[43mprinter\u001b[49m\u001b[38;5;241;43m.\u001b[39;49m\u001b[43mpretty\u001b[49m\u001b[43m(\u001b[49m\u001b[43mobj\u001b[49m\u001b[43m)\u001b[49m\n\u001b[0;32m    712\u001b[0m printer\u001b[38;5;241m.\u001b[39mflush()\n\u001b[0;32m    713\u001b[0m \u001b[38;5;28;01mreturn\u001b[39;00m stream\u001b[38;5;241m.\u001b[39mgetvalue()\n",
      "File \u001b[1;32m~\\AppData\\Local\\Packages\\PythonSoftwareFoundation.Python.3.12_qbz5n2kfra8p0\\LocalCache\\local-packages\\Python312\\site-packages\\IPython\\lib\\pretty.py:419\u001b[0m, in \u001b[0;36mRepresentationPrinter.pretty\u001b[1;34m(self, obj)\u001b[0m\n\u001b[0;32m    408\u001b[0m                         \u001b[38;5;28;01mreturn\u001b[39;00m meth(obj, \u001b[38;5;28mself\u001b[39m, cycle)\n\u001b[0;32m    409\u001b[0m                 \u001b[38;5;28;01mif\u001b[39;00m (\n\u001b[0;32m    410\u001b[0m                     \u001b[38;5;28mcls\u001b[39m \u001b[38;5;129;01mis\u001b[39;00m \u001b[38;5;129;01mnot\u001b[39;00m \u001b[38;5;28mobject\u001b[39m\n\u001b[0;32m    411\u001b[0m                     \u001b[38;5;66;03m# check if cls defines __repr__\u001b[39;00m\n\u001b[1;32m   (...)\u001b[0m\n\u001b[0;32m    417\u001b[0m                     \u001b[38;5;129;01mand\u001b[39;00m \u001b[38;5;28mcallable\u001b[39m(_safe_getattr(\u001b[38;5;28mcls\u001b[39m, \u001b[38;5;124m\"\u001b[39m\u001b[38;5;124m__repr__\u001b[39m\u001b[38;5;124m\"\u001b[39m, \u001b[38;5;28;01mNone\u001b[39;00m))\n\u001b[0;32m    418\u001b[0m                 ):\n\u001b[1;32m--> 419\u001b[0m                     \u001b[38;5;28;01mreturn\u001b[39;00m \u001b[43m_repr_pprint\u001b[49m\u001b[43m(\u001b[49m\u001b[43mobj\u001b[49m\u001b[43m,\u001b[49m\u001b[43m \u001b[49m\u001b[38;5;28;43mself\u001b[39;49m\u001b[43m,\u001b[49m\u001b[43m \u001b[49m\u001b[43mcycle\u001b[49m\u001b[43m)\u001b[49m\n\u001b[0;32m    421\u001b[0m     \u001b[38;5;28;01mreturn\u001b[39;00m _default_pprint(obj, \u001b[38;5;28mself\u001b[39m, cycle)\n\u001b[0;32m    422\u001b[0m \u001b[38;5;28;01mfinally\u001b[39;00m:\n",
      "File \u001b[1;32m~\\AppData\\Local\\Packages\\PythonSoftwareFoundation.Python.3.12_qbz5n2kfra8p0\\LocalCache\\local-packages\\Python312\\site-packages\\IPython\\lib\\pretty.py:787\u001b[0m, in \u001b[0;36m_repr_pprint\u001b[1;34m(obj, p, cycle)\u001b[0m\n\u001b[0;32m    785\u001b[0m \u001b[38;5;250m\u001b[39m\u001b[38;5;124;03m\"\"\"A pprint that just redirects to the normal repr function.\"\"\"\u001b[39;00m\n\u001b[0;32m    786\u001b[0m \u001b[38;5;66;03m# Find newlines and replace them with p.break_()\u001b[39;00m\n\u001b[1;32m--> 787\u001b[0m output \u001b[38;5;241m=\u001b[39m \u001b[38;5;28;43mrepr\u001b[39;49m\u001b[43m(\u001b[49m\u001b[43mobj\u001b[49m\u001b[43m)\u001b[49m\n\u001b[0;32m    788\u001b[0m lines \u001b[38;5;241m=\u001b[39m output\u001b[38;5;241m.\u001b[39msplitlines()\n\u001b[0;32m    789\u001b[0m \u001b[38;5;28;01mwith\u001b[39;00m p\u001b[38;5;241m.\u001b[39mgroup():\n",
      "File \u001b[1;32mC:\\Program Files\\WindowsApps\\PythonSoftwareFoundation.Python.3.12_3.12.1520.0_x64__qbz5n2kfra8p0\\Lib\\dataclasses.py:262\u001b[0m, in \u001b[0;36m_recursive_repr.<locals>.wrapper\u001b[1;34m(self)\u001b[0m\n\u001b[0;32m    260\u001b[0m repr_running\u001b[38;5;241m.\u001b[39madd(key)\n\u001b[0;32m    261\u001b[0m \u001b[38;5;28;01mtry\u001b[39;00m:\n\u001b[1;32m--> 262\u001b[0m     result \u001b[38;5;241m=\u001b[39m \u001b[43muser_function\u001b[49m\u001b[43m(\u001b[49m\u001b[38;5;28;43mself\u001b[39;49m\u001b[43m)\u001b[49m\n\u001b[0;32m    263\u001b[0m \u001b[38;5;28;01mfinally\u001b[39;00m:\n\u001b[0;32m    264\u001b[0m     repr_running\u001b[38;5;241m.\u001b[39mdiscard(key)\n",
      "File \u001b[1;32m<string>:3\u001b[0m, in \u001b[0;36m__repr__\u001b[1;34m(self)\u001b[0m\n",
      "\u001b[1;31mAttributeError\u001b[0m: 'Insight' object has no attribute 'prompts'"
     ]
    },
    {
     "ename": "AttributeError",
     "evalue": "'Insight' object has no attribute 'prompts'",
     "output_type": "error",
     "traceback": [
      "\u001b[1;31m---------------------------------------------------------------------------\u001b[0m",
      "\u001b[1;31mAttributeError\u001b[0m                            Traceback (most recent call last)",
      "File \u001b[1;32m~\\AppData\\Local\\Packages\\PythonSoftwareFoundation.Python.3.12_qbz5n2kfra8p0\\LocalCache\\local-packages\\Python312\\site-packages\\IPython\\core\\formatters.py:347\u001b[0m, in \u001b[0;36mBaseFormatter.__call__\u001b[1;34m(self, obj)\u001b[0m\n\u001b[0;32m    345\u001b[0m     method \u001b[38;5;241m=\u001b[39m get_real_method(obj, \u001b[38;5;28mself\u001b[39m\u001b[38;5;241m.\u001b[39mprint_method)\n\u001b[0;32m    346\u001b[0m     \u001b[38;5;28;01mif\u001b[39;00m method \u001b[38;5;129;01mis\u001b[39;00m \u001b[38;5;129;01mnot\u001b[39;00m \u001b[38;5;28;01mNone\u001b[39;00m:\n\u001b[1;32m--> 347\u001b[0m         \u001b[38;5;28;01mreturn\u001b[39;00m \u001b[43mmethod\u001b[49m\u001b[43m(\u001b[49m\u001b[43m)\u001b[49m\n\u001b[0;32m    348\u001b[0m     \u001b[38;5;28;01mreturn\u001b[39;00m \u001b[38;5;28;01mNone\u001b[39;00m\n\u001b[0;32m    349\u001b[0m \u001b[38;5;28;01melse\u001b[39;00m:\n",
      "File \u001b[1;32mc:\\Users\\samsung\\Desktop\\allaine\\lida\\lida\\datamodel.py:88\u001b[0m, in \u001b[0;36mInsight._repr_markdown_\u001b[1;34m(self)\u001b[0m\n\u001b[0;32m     80\u001b[0m     \u001b[38;5;28;01mdef\u001b[39;00m \u001b[38;5;21m_repr_markdown_\u001b[39m(\u001b[38;5;28mself\u001b[39m):\n\u001b[0;32m     81\u001b[0m         \u001b[38;5;28;01mreturn\u001b[39;00m \u001b[38;5;124mf\u001b[39m\u001b[38;5;124m\"\"\"\u001b[39m\n\u001b[0;32m     82\u001b[0m \u001b[38;5;124m### Insight \u001b[39m\u001b[38;5;132;01m{\u001b[39;00m\u001b[38;5;28mself\u001b[39m\u001b[38;5;241m.\u001b[39mindex\u001b[38;5;132;01m}\u001b[39;00m\n\u001b[0;32m     83\u001b[0m \u001b[38;5;124m---\u001b[39m\n\u001b[0;32m     84\u001b[0m \u001b[38;5;124m**Insight:** \u001b[39m\u001b[38;5;132;01m{\u001b[39;00m\u001b[38;5;28mself\u001b[39m\u001b[38;5;241m.\u001b[39minsight\u001b[38;5;132;01m}\u001b[39;00m\n\u001b[0;32m     85\u001b[0m \n\u001b[0;32m     86\u001b[0m \u001b[38;5;124m**Pairs:**\u001b[39m\n\u001b[0;32m     87\u001b[0m \n\u001b[1;32m---> 88\u001b[0m \u001b[38;5;124m    **Prompts:** \u001b[39m\u001b[38;5;132;01m{\u001b[39;00m\u001b[38;5;28;43mself\u001b[39;49m\u001b[38;5;241;43m.\u001b[39;49m\u001b[43mprompts\u001b[49m\u001b[38;5;132;01m}\u001b[39;00m\n\u001b[0;32m     89\u001b[0m \u001b[38;5;124m    **Answers:** \u001b[39m\u001b[38;5;132;01m{\u001b[39;00m\u001b[38;5;28mself\u001b[39m\u001b[38;5;241m.\u001b[39manswers\u001b[38;5;132;01m}\u001b[39;00m\n\u001b[0;32m     90\u001b[0m \u001b[38;5;124m\"\"\"\u001b[39m\n",
      "\u001b[1;31mAttributeError\u001b[0m: 'Insight' object has no attribute 'prompts'"
     ]
    },
    {
     "ename": "AttributeError",
     "evalue": "'Insight' object has no attribute 'prompts'",
     "output_type": "error",
     "traceback": [
      "\u001b[1;31m---------------------------------------------------------------------------\u001b[0m",
      "\u001b[1;31mAttributeError\u001b[0m                            Traceback (most recent call last)",
      "File \u001b[1;32m~\\AppData\\Local\\Packages\\PythonSoftwareFoundation.Python.3.12_qbz5n2kfra8p0\\LocalCache\\local-packages\\Python312\\site-packages\\IPython\\core\\formatters.py:711\u001b[0m, in \u001b[0;36mPlainTextFormatter.__call__\u001b[1;34m(self, obj)\u001b[0m\n\u001b[0;32m    704\u001b[0m stream \u001b[38;5;241m=\u001b[39m StringIO()\n\u001b[0;32m    705\u001b[0m printer \u001b[38;5;241m=\u001b[39m pretty\u001b[38;5;241m.\u001b[39mRepresentationPrinter(stream, \u001b[38;5;28mself\u001b[39m\u001b[38;5;241m.\u001b[39mverbose,\n\u001b[0;32m    706\u001b[0m     \u001b[38;5;28mself\u001b[39m\u001b[38;5;241m.\u001b[39mmax_width, \u001b[38;5;28mself\u001b[39m\u001b[38;5;241m.\u001b[39mnewline,\n\u001b[0;32m    707\u001b[0m     max_seq_length\u001b[38;5;241m=\u001b[39m\u001b[38;5;28mself\u001b[39m\u001b[38;5;241m.\u001b[39mmax_seq_length,\n\u001b[0;32m    708\u001b[0m     singleton_pprinters\u001b[38;5;241m=\u001b[39m\u001b[38;5;28mself\u001b[39m\u001b[38;5;241m.\u001b[39msingleton_printers,\n\u001b[0;32m    709\u001b[0m     type_pprinters\u001b[38;5;241m=\u001b[39m\u001b[38;5;28mself\u001b[39m\u001b[38;5;241m.\u001b[39mtype_printers,\n\u001b[0;32m    710\u001b[0m     deferred_pprinters\u001b[38;5;241m=\u001b[39m\u001b[38;5;28mself\u001b[39m\u001b[38;5;241m.\u001b[39mdeferred_printers)\n\u001b[1;32m--> 711\u001b[0m \u001b[43mprinter\u001b[49m\u001b[38;5;241;43m.\u001b[39;49m\u001b[43mpretty\u001b[49m\u001b[43m(\u001b[49m\u001b[43mobj\u001b[49m\u001b[43m)\u001b[49m\n\u001b[0;32m    712\u001b[0m printer\u001b[38;5;241m.\u001b[39mflush()\n\u001b[0;32m    713\u001b[0m \u001b[38;5;28;01mreturn\u001b[39;00m stream\u001b[38;5;241m.\u001b[39mgetvalue()\n",
      "File \u001b[1;32m~\\AppData\\Local\\Packages\\PythonSoftwareFoundation.Python.3.12_qbz5n2kfra8p0\\LocalCache\\local-packages\\Python312\\site-packages\\IPython\\lib\\pretty.py:419\u001b[0m, in \u001b[0;36mRepresentationPrinter.pretty\u001b[1;34m(self, obj)\u001b[0m\n\u001b[0;32m    408\u001b[0m                         \u001b[38;5;28;01mreturn\u001b[39;00m meth(obj, \u001b[38;5;28mself\u001b[39m, cycle)\n\u001b[0;32m    409\u001b[0m                 \u001b[38;5;28;01mif\u001b[39;00m (\n\u001b[0;32m    410\u001b[0m                     \u001b[38;5;28mcls\u001b[39m \u001b[38;5;129;01mis\u001b[39;00m \u001b[38;5;129;01mnot\u001b[39;00m \u001b[38;5;28mobject\u001b[39m\n\u001b[0;32m    411\u001b[0m                     \u001b[38;5;66;03m# check if cls defines __repr__\u001b[39;00m\n\u001b[1;32m   (...)\u001b[0m\n\u001b[0;32m    417\u001b[0m                     \u001b[38;5;129;01mand\u001b[39;00m \u001b[38;5;28mcallable\u001b[39m(_safe_getattr(\u001b[38;5;28mcls\u001b[39m, \u001b[38;5;124m\"\u001b[39m\u001b[38;5;124m__repr__\u001b[39m\u001b[38;5;124m\"\u001b[39m, \u001b[38;5;28;01mNone\u001b[39;00m))\n\u001b[0;32m    418\u001b[0m                 ):\n\u001b[1;32m--> 419\u001b[0m                     \u001b[38;5;28;01mreturn\u001b[39;00m \u001b[43m_repr_pprint\u001b[49m\u001b[43m(\u001b[49m\u001b[43mobj\u001b[49m\u001b[43m,\u001b[49m\u001b[43m \u001b[49m\u001b[38;5;28;43mself\u001b[39;49m\u001b[43m,\u001b[49m\u001b[43m \u001b[49m\u001b[43mcycle\u001b[49m\u001b[43m)\u001b[49m\n\u001b[0;32m    421\u001b[0m     \u001b[38;5;28;01mreturn\u001b[39;00m _default_pprint(obj, \u001b[38;5;28mself\u001b[39m, cycle)\n\u001b[0;32m    422\u001b[0m \u001b[38;5;28;01mfinally\u001b[39;00m:\n",
      "File \u001b[1;32m~\\AppData\\Local\\Packages\\PythonSoftwareFoundation.Python.3.12_qbz5n2kfra8p0\\LocalCache\\local-packages\\Python312\\site-packages\\IPython\\lib\\pretty.py:787\u001b[0m, in \u001b[0;36m_repr_pprint\u001b[1;34m(obj, p, cycle)\u001b[0m\n\u001b[0;32m    785\u001b[0m \u001b[38;5;250m\u001b[39m\u001b[38;5;124;03m\"\"\"A pprint that just redirects to the normal repr function.\"\"\"\u001b[39;00m\n\u001b[0;32m    786\u001b[0m \u001b[38;5;66;03m# Find newlines and replace them with p.break_()\u001b[39;00m\n\u001b[1;32m--> 787\u001b[0m output \u001b[38;5;241m=\u001b[39m \u001b[38;5;28;43mrepr\u001b[39;49m\u001b[43m(\u001b[49m\u001b[43mobj\u001b[49m\u001b[43m)\u001b[49m\n\u001b[0;32m    788\u001b[0m lines \u001b[38;5;241m=\u001b[39m output\u001b[38;5;241m.\u001b[39msplitlines()\n\u001b[0;32m    789\u001b[0m \u001b[38;5;28;01mwith\u001b[39;00m p\u001b[38;5;241m.\u001b[39mgroup():\n",
      "File \u001b[1;32mC:\\Program Files\\WindowsApps\\PythonSoftwareFoundation.Python.3.12_3.12.1520.0_x64__qbz5n2kfra8p0\\Lib\\dataclasses.py:262\u001b[0m, in \u001b[0;36m_recursive_repr.<locals>.wrapper\u001b[1;34m(self)\u001b[0m\n\u001b[0;32m    260\u001b[0m repr_running\u001b[38;5;241m.\u001b[39madd(key)\n\u001b[0;32m    261\u001b[0m \u001b[38;5;28;01mtry\u001b[39;00m:\n\u001b[1;32m--> 262\u001b[0m     result \u001b[38;5;241m=\u001b[39m \u001b[43muser_function\u001b[49m\u001b[43m(\u001b[49m\u001b[38;5;28;43mself\u001b[39;49m\u001b[43m)\u001b[49m\n\u001b[0;32m    263\u001b[0m \u001b[38;5;28;01mfinally\u001b[39;00m:\n\u001b[0;32m    264\u001b[0m     repr_running\u001b[38;5;241m.\u001b[39mdiscard(key)\n",
      "File \u001b[1;32m<string>:3\u001b[0m, in \u001b[0;36m__repr__\u001b[1;34m(self)\u001b[0m\n",
      "\u001b[1;31mAttributeError\u001b[0m: 'Insight' object has no attribute 'prompts'"
     ]
    },
    {
     "ename": "AttributeError",
     "evalue": "'Insight' object has no attribute 'prompts'",
     "output_type": "error",
     "traceback": [
      "\u001b[1;31m---------------------------------------------------------------------------\u001b[0m",
      "\u001b[1;31mAttributeError\u001b[0m                            Traceback (most recent call last)",
      "File \u001b[1;32m~\\AppData\\Local\\Packages\\PythonSoftwareFoundation.Python.3.12_qbz5n2kfra8p0\\LocalCache\\local-packages\\Python312\\site-packages\\IPython\\core\\formatters.py:347\u001b[0m, in \u001b[0;36mBaseFormatter.__call__\u001b[1;34m(self, obj)\u001b[0m\n\u001b[0;32m    345\u001b[0m     method \u001b[38;5;241m=\u001b[39m get_real_method(obj, \u001b[38;5;28mself\u001b[39m\u001b[38;5;241m.\u001b[39mprint_method)\n\u001b[0;32m    346\u001b[0m     \u001b[38;5;28;01mif\u001b[39;00m method \u001b[38;5;129;01mis\u001b[39;00m \u001b[38;5;129;01mnot\u001b[39;00m \u001b[38;5;28;01mNone\u001b[39;00m:\n\u001b[1;32m--> 347\u001b[0m         \u001b[38;5;28;01mreturn\u001b[39;00m \u001b[43mmethod\u001b[49m\u001b[43m(\u001b[49m\u001b[43m)\u001b[49m\n\u001b[0;32m    348\u001b[0m     \u001b[38;5;28;01mreturn\u001b[39;00m \u001b[38;5;28;01mNone\u001b[39;00m\n\u001b[0;32m    349\u001b[0m \u001b[38;5;28;01melse\u001b[39;00m:\n",
      "File \u001b[1;32mc:\\Users\\samsung\\Desktop\\allaine\\lida\\lida\\datamodel.py:88\u001b[0m, in \u001b[0;36mInsight._repr_markdown_\u001b[1;34m(self)\u001b[0m\n\u001b[0;32m     80\u001b[0m     \u001b[38;5;28;01mdef\u001b[39;00m \u001b[38;5;21m_repr_markdown_\u001b[39m(\u001b[38;5;28mself\u001b[39m):\n\u001b[0;32m     81\u001b[0m         \u001b[38;5;28;01mreturn\u001b[39;00m \u001b[38;5;124mf\u001b[39m\u001b[38;5;124m\"\"\"\u001b[39m\n\u001b[0;32m     82\u001b[0m \u001b[38;5;124m### Insight \u001b[39m\u001b[38;5;132;01m{\u001b[39;00m\u001b[38;5;28mself\u001b[39m\u001b[38;5;241m.\u001b[39mindex\u001b[38;5;132;01m}\u001b[39;00m\n\u001b[0;32m     83\u001b[0m \u001b[38;5;124m---\u001b[39m\n\u001b[0;32m     84\u001b[0m \u001b[38;5;124m**Insight:** \u001b[39m\u001b[38;5;132;01m{\u001b[39;00m\u001b[38;5;28mself\u001b[39m\u001b[38;5;241m.\u001b[39minsight\u001b[38;5;132;01m}\u001b[39;00m\n\u001b[0;32m     85\u001b[0m \n\u001b[0;32m     86\u001b[0m \u001b[38;5;124m**Pairs:**\u001b[39m\n\u001b[0;32m     87\u001b[0m \n\u001b[1;32m---> 88\u001b[0m \u001b[38;5;124m    **Prompts:** \u001b[39m\u001b[38;5;132;01m{\u001b[39;00m\u001b[38;5;28;43mself\u001b[39;49m\u001b[38;5;241;43m.\u001b[39;49m\u001b[43mprompts\u001b[49m\u001b[38;5;132;01m}\u001b[39;00m\n\u001b[0;32m     89\u001b[0m \u001b[38;5;124m    **Answers:** \u001b[39m\u001b[38;5;132;01m{\u001b[39;00m\u001b[38;5;28mself\u001b[39m\u001b[38;5;241m.\u001b[39manswers\u001b[38;5;132;01m}\u001b[39;00m\n\u001b[0;32m     90\u001b[0m \u001b[38;5;124m\"\"\"\u001b[39m\n",
      "\u001b[1;31mAttributeError\u001b[0m: 'Insight' object has no attribute 'prompts'"
     ]
    },
    {
     "ename": "AttributeError",
     "evalue": "'Insight' object has no attribute 'prompts'",
     "output_type": "error",
     "traceback": [
      "\u001b[1;31m---------------------------------------------------------------------------\u001b[0m",
      "\u001b[1;31mAttributeError\u001b[0m                            Traceback (most recent call last)",
      "File \u001b[1;32m~\\AppData\\Local\\Packages\\PythonSoftwareFoundation.Python.3.12_qbz5n2kfra8p0\\LocalCache\\local-packages\\Python312\\site-packages\\IPython\\core\\formatters.py:711\u001b[0m, in \u001b[0;36mPlainTextFormatter.__call__\u001b[1;34m(self, obj)\u001b[0m\n\u001b[0;32m    704\u001b[0m stream \u001b[38;5;241m=\u001b[39m StringIO()\n\u001b[0;32m    705\u001b[0m printer \u001b[38;5;241m=\u001b[39m pretty\u001b[38;5;241m.\u001b[39mRepresentationPrinter(stream, \u001b[38;5;28mself\u001b[39m\u001b[38;5;241m.\u001b[39mverbose,\n\u001b[0;32m    706\u001b[0m     \u001b[38;5;28mself\u001b[39m\u001b[38;5;241m.\u001b[39mmax_width, \u001b[38;5;28mself\u001b[39m\u001b[38;5;241m.\u001b[39mnewline,\n\u001b[0;32m    707\u001b[0m     max_seq_length\u001b[38;5;241m=\u001b[39m\u001b[38;5;28mself\u001b[39m\u001b[38;5;241m.\u001b[39mmax_seq_length,\n\u001b[0;32m    708\u001b[0m     singleton_pprinters\u001b[38;5;241m=\u001b[39m\u001b[38;5;28mself\u001b[39m\u001b[38;5;241m.\u001b[39msingleton_printers,\n\u001b[0;32m    709\u001b[0m     type_pprinters\u001b[38;5;241m=\u001b[39m\u001b[38;5;28mself\u001b[39m\u001b[38;5;241m.\u001b[39mtype_printers,\n\u001b[0;32m    710\u001b[0m     deferred_pprinters\u001b[38;5;241m=\u001b[39m\u001b[38;5;28mself\u001b[39m\u001b[38;5;241m.\u001b[39mdeferred_printers)\n\u001b[1;32m--> 711\u001b[0m \u001b[43mprinter\u001b[49m\u001b[38;5;241;43m.\u001b[39;49m\u001b[43mpretty\u001b[49m\u001b[43m(\u001b[49m\u001b[43mobj\u001b[49m\u001b[43m)\u001b[49m\n\u001b[0;32m    712\u001b[0m printer\u001b[38;5;241m.\u001b[39mflush()\n\u001b[0;32m    713\u001b[0m \u001b[38;5;28;01mreturn\u001b[39;00m stream\u001b[38;5;241m.\u001b[39mgetvalue()\n",
      "File \u001b[1;32m~\\AppData\\Local\\Packages\\PythonSoftwareFoundation.Python.3.12_qbz5n2kfra8p0\\LocalCache\\local-packages\\Python312\\site-packages\\IPython\\lib\\pretty.py:419\u001b[0m, in \u001b[0;36mRepresentationPrinter.pretty\u001b[1;34m(self, obj)\u001b[0m\n\u001b[0;32m    408\u001b[0m                         \u001b[38;5;28;01mreturn\u001b[39;00m meth(obj, \u001b[38;5;28mself\u001b[39m, cycle)\n\u001b[0;32m    409\u001b[0m                 \u001b[38;5;28;01mif\u001b[39;00m (\n\u001b[0;32m    410\u001b[0m                     \u001b[38;5;28mcls\u001b[39m \u001b[38;5;129;01mis\u001b[39;00m \u001b[38;5;129;01mnot\u001b[39;00m \u001b[38;5;28mobject\u001b[39m\n\u001b[0;32m    411\u001b[0m                     \u001b[38;5;66;03m# check if cls defines __repr__\u001b[39;00m\n\u001b[1;32m   (...)\u001b[0m\n\u001b[0;32m    417\u001b[0m                     \u001b[38;5;129;01mand\u001b[39;00m \u001b[38;5;28mcallable\u001b[39m(_safe_getattr(\u001b[38;5;28mcls\u001b[39m, \u001b[38;5;124m\"\u001b[39m\u001b[38;5;124m__repr__\u001b[39m\u001b[38;5;124m\"\u001b[39m, \u001b[38;5;28;01mNone\u001b[39;00m))\n\u001b[0;32m    418\u001b[0m                 ):\n\u001b[1;32m--> 419\u001b[0m                     \u001b[38;5;28;01mreturn\u001b[39;00m \u001b[43m_repr_pprint\u001b[49m\u001b[43m(\u001b[49m\u001b[43mobj\u001b[49m\u001b[43m,\u001b[49m\u001b[43m \u001b[49m\u001b[38;5;28;43mself\u001b[39;49m\u001b[43m,\u001b[49m\u001b[43m \u001b[49m\u001b[43mcycle\u001b[49m\u001b[43m)\u001b[49m\n\u001b[0;32m    421\u001b[0m     \u001b[38;5;28;01mreturn\u001b[39;00m _default_pprint(obj, \u001b[38;5;28mself\u001b[39m, cycle)\n\u001b[0;32m    422\u001b[0m \u001b[38;5;28;01mfinally\u001b[39;00m:\n",
      "File \u001b[1;32m~\\AppData\\Local\\Packages\\PythonSoftwareFoundation.Python.3.12_qbz5n2kfra8p0\\LocalCache\\local-packages\\Python312\\site-packages\\IPython\\lib\\pretty.py:787\u001b[0m, in \u001b[0;36m_repr_pprint\u001b[1;34m(obj, p, cycle)\u001b[0m\n\u001b[0;32m    785\u001b[0m \u001b[38;5;250m\u001b[39m\u001b[38;5;124;03m\"\"\"A pprint that just redirects to the normal repr function.\"\"\"\u001b[39;00m\n\u001b[0;32m    786\u001b[0m \u001b[38;5;66;03m# Find newlines and replace them with p.break_()\u001b[39;00m\n\u001b[1;32m--> 787\u001b[0m output \u001b[38;5;241m=\u001b[39m \u001b[38;5;28;43mrepr\u001b[39;49m\u001b[43m(\u001b[49m\u001b[43mobj\u001b[49m\u001b[43m)\u001b[49m\n\u001b[0;32m    788\u001b[0m lines \u001b[38;5;241m=\u001b[39m output\u001b[38;5;241m.\u001b[39msplitlines()\n\u001b[0;32m    789\u001b[0m \u001b[38;5;28;01mwith\u001b[39;00m p\u001b[38;5;241m.\u001b[39mgroup():\n",
      "File \u001b[1;32mC:\\Program Files\\WindowsApps\\PythonSoftwareFoundation.Python.3.12_3.12.1520.0_x64__qbz5n2kfra8p0\\Lib\\dataclasses.py:262\u001b[0m, in \u001b[0;36m_recursive_repr.<locals>.wrapper\u001b[1;34m(self)\u001b[0m\n\u001b[0;32m    260\u001b[0m repr_running\u001b[38;5;241m.\u001b[39madd(key)\n\u001b[0;32m    261\u001b[0m \u001b[38;5;28;01mtry\u001b[39;00m:\n\u001b[1;32m--> 262\u001b[0m     result \u001b[38;5;241m=\u001b[39m \u001b[43muser_function\u001b[49m\u001b[43m(\u001b[49m\u001b[38;5;28;43mself\u001b[39;49m\u001b[43m)\u001b[49m\n\u001b[0;32m    263\u001b[0m \u001b[38;5;28;01mfinally\u001b[39;00m:\n\u001b[0;32m    264\u001b[0m     repr_running\u001b[38;5;241m.\u001b[39mdiscard(key)\n",
      "File \u001b[1;32m<string>:3\u001b[0m, in \u001b[0;36m__repr__\u001b[1;34m(self)\u001b[0m\n",
      "\u001b[1;31mAttributeError\u001b[0m: 'Insight' object has no attribute 'prompts'"
     ]
    },
    {
     "ename": "AttributeError",
     "evalue": "'Insight' object has no attribute 'prompts'",
     "output_type": "error",
     "traceback": [
      "\u001b[1;31m---------------------------------------------------------------------------\u001b[0m",
      "\u001b[1;31mAttributeError\u001b[0m                            Traceback (most recent call last)",
      "File \u001b[1;32m~\\AppData\\Local\\Packages\\PythonSoftwareFoundation.Python.3.12_qbz5n2kfra8p0\\LocalCache\\local-packages\\Python312\\site-packages\\IPython\\core\\formatters.py:347\u001b[0m, in \u001b[0;36mBaseFormatter.__call__\u001b[1;34m(self, obj)\u001b[0m\n\u001b[0;32m    345\u001b[0m     method \u001b[38;5;241m=\u001b[39m get_real_method(obj, \u001b[38;5;28mself\u001b[39m\u001b[38;5;241m.\u001b[39mprint_method)\n\u001b[0;32m    346\u001b[0m     \u001b[38;5;28;01mif\u001b[39;00m method \u001b[38;5;129;01mis\u001b[39;00m \u001b[38;5;129;01mnot\u001b[39;00m \u001b[38;5;28;01mNone\u001b[39;00m:\n\u001b[1;32m--> 347\u001b[0m         \u001b[38;5;28;01mreturn\u001b[39;00m \u001b[43mmethod\u001b[49m\u001b[43m(\u001b[49m\u001b[43m)\u001b[49m\n\u001b[0;32m    348\u001b[0m     \u001b[38;5;28;01mreturn\u001b[39;00m \u001b[38;5;28;01mNone\u001b[39;00m\n\u001b[0;32m    349\u001b[0m \u001b[38;5;28;01melse\u001b[39;00m:\n",
      "File \u001b[1;32mc:\\Users\\samsung\\Desktop\\allaine\\lida\\lida\\datamodel.py:88\u001b[0m, in \u001b[0;36mInsight._repr_markdown_\u001b[1;34m(self)\u001b[0m\n\u001b[0;32m     80\u001b[0m     \u001b[38;5;28;01mdef\u001b[39;00m \u001b[38;5;21m_repr_markdown_\u001b[39m(\u001b[38;5;28mself\u001b[39m):\n\u001b[0;32m     81\u001b[0m         \u001b[38;5;28;01mreturn\u001b[39;00m \u001b[38;5;124mf\u001b[39m\u001b[38;5;124m\"\"\"\u001b[39m\n\u001b[0;32m     82\u001b[0m \u001b[38;5;124m### Insight \u001b[39m\u001b[38;5;132;01m{\u001b[39;00m\u001b[38;5;28mself\u001b[39m\u001b[38;5;241m.\u001b[39mindex\u001b[38;5;132;01m}\u001b[39;00m\n\u001b[0;32m     83\u001b[0m \u001b[38;5;124m---\u001b[39m\n\u001b[0;32m     84\u001b[0m \u001b[38;5;124m**Insight:** \u001b[39m\u001b[38;5;132;01m{\u001b[39;00m\u001b[38;5;28mself\u001b[39m\u001b[38;5;241m.\u001b[39minsight\u001b[38;5;132;01m}\u001b[39;00m\n\u001b[0;32m     85\u001b[0m \n\u001b[0;32m     86\u001b[0m \u001b[38;5;124m**Pairs:**\u001b[39m\n\u001b[0;32m     87\u001b[0m \n\u001b[1;32m---> 88\u001b[0m \u001b[38;5;124m    **Prompts:** \u001b[39m\u001b[38;5;132;01m{\u001b[39;00m\u001b[38;5;28;43mself\u001b[39;49m\u001b[38;5;241;43m.\u001b[39;49m\u001b[43mprompts\u001b[49m\u001b[38;5;132;01m}\u001b[39;00m\n\u001b[0;32m     89\u001b[0m \u001b[38;5;124m    **Answers:** \u001b[39m\u001b[38;5;132;01m{\u001b[39;00m\u001b[38;5;28mself\u001b[39m\u001b[38;5;241m.\u001b[39manswers\u001b[38;5;132;01m}\u001b[39;00m\n\u001b[0;32m     90\u001b[0m \u001b[38;5;124m\"\"\"\u001b[39m\n",
      "\u001b[1;31mAttributeError\u001b[0m: 'Insight' object has no attribute 'prompts'"
     ]
    },
    {
     "ename": "AttributeError",
     "evalue": "'Insight' object has no attribute 'prompts'",
     "output_type": "error",
     "traceback": [
      "\u001b[1;31m---------------------------------------------------------------------------\u001b[0m",
      "\u001b[1;31mAttributeError\u001b[0m                            Traceback (most recent call last)",
      "File \u001b[1;32m~\\AppData\\Local\\Packages\\PythonSoftwareFoundation.Python.3.12_qbz5n2kfra8p0\\LocalCache\\local-packages\\Python312\\site-packages\\IPython\\core\\formatters.py:711\u001b[0m, in \u001b[0;36mPlainTextFormatter.__call__\u001b[1;34m(self, obj)\u001b[0m\n\u001b[0;32m    704\u001b[0m stream \u001b[38;5;241m=\u001b[39m StringIO()\n\u001b[0;32m    705\u001b[0m printer \u001b[38;5;241m=\u001b[39m pretty\u001b[38;5;241m.\u001b[39mRepresentationPrinter(stream, \u001b[38;5;28mself\u001b[39m\u001b[38;5;241m.\u001b[39mverbose,\n\u001b[0;32m    706\u001b[0m     \u001b[38;5;28mself\u001b[39m\u001b[38;5;241m.\u001b[39mmax_width, \u001b[38;5;28mself\u001b[39m\u001b[38;5;241m.\u001b[39mnewline,\n\u001b[0;32m    707\u001b[0m     max_seq_length\u001b[38;5;241m=\u001b[39m\u001b[38;5;28mself\u001b[39m\u001b[38;5;241m.\u001b[39mmax_seq_length,\n\u001b[0;32m    708\u001b[0m     singleton_pprinters\u001b[38;5;241m=\u001b[39m\u001b[38;5;28mself\u001b[39m\u001b[38;5;241m.\u001b[39msingleton_printers,\n\u001b[0;32m    709\u001b[0m     type_pprinters\u001b[38;5;241m=\u001b[39m\u001b[38;5;28mself\u001b[39m\u001b[38;5;241m.\u001b[39mtype_printers,\n\u001b[0;32m    710\u001b[0m     deferred_pprinters\u001b[38;5;241m=\u001b[39m\u001b[38;5;28mself\u001b[39m\u001b[38;5;241m.\u001b[39mdeferred_printers)\n\u001b[1;32m--> 711\u001b[0m \u001b[43mprinter\u001b[49m\u001b[38;5;241;43m.\u001b[39;49m\u001b[43mpretty\u001b[49m\u001b[43m(\u001b[49m\u001b[43mobj\u001b[49m\u001b[43m)\u001b[49m\n\u001b[0;32m    712\u001b[0m printer\u001b[38;5;241m.\u001b[39mflush()\n\u001b[0;32m    713\u001b[0m \u001b[38;5;28;01mreturn\u001b[39;00m stream\u001b[38;5;241m.\u001b[39mgetvalue()\n",
      "File \u001b[1;32m~\\AppData\\Local\\Packages\\PythonSoftwareFoundation.Python.3.12_qbz5n2kfra8p0\\LocalCache\\local-packages\\Python312\\site-packages\\IPython\\lib\\pretty.py:419\u001b[0m, in \u001b[0;36mRepresentationPrinter.pretty\u001b[1;34m(self, obj)\u001b[0m\n\u001b[0;32m    408\u001b[0m                         \u001b[38;5;28;01mreturn\u001b[39;00m meth(obj, \u001b[38;5;28mself\u001b[39m, cycle)\n\u001b[0;32m    409\u001b[0m                 \u001b[38;5;28;01mif\u001b[39;00m (\n\u001b[0;32m    410\u001b[0m                     \u001b[38;5;28mcls\u001b[39m \u001b[38;5;129;01mis\u001b[39;00m \u001b[38;5;129;01mnot\u001b[39;00m \u001b[38;5;28mobject\u001b[39m\n\u001b[0;32m    411\u001b[0m                     \u001b[38;5;66;03m# check if cls defines __repr__\u001b[39;00m\n\u001b[1;32m   (...)\u001b[0m\n\u001b[0;32m    417\u001b[0m                     \u001b[38;5;129;01mand\u001b[39;00m \u001b[38;5;28mcallable\u001b[39m(_safe_getattr(\u001b[38;5;28mcls\u001b[39m, \u001b[38;5;124m\"\u001b[39m\u001b[38;5;124m__repr__\u001b[39m\u001b[38;5;124m\"\u001b[39m, \u001b[38;5;28;01mNone\u001b[39;00m))\n\u001b[0;32m    418\u001b[0m                 ):\n\u001b[1;32m--> 419\u001b[0m                     \u001b[38;5;28;01mreturn\u001b[39;00m \u001b[43m_repr_pprint\u001b[49m\u001b[43m(\u001b[49m\u001b[43mobj\u001b[49m\u001b[43m,\u001b[49m\u001b[43m \u001b[49m\u001b[38;5;28;43mself\u001b[39;49m\u001b[43m,\u001b[49m\u001b[43m \u001b[49m\u001b[43mcycle\u001b[49m\u001b[43m)\u001b[49m\n\u001b[0;32m    421\u001b[0m     \u001b[38;5;28;01mreturn\u001b[39;00m _default_pprint(obj, \u001b[38;5;28mself\u001b[39m, cycle)\n\u001b[0;32m    422\u001b[0m \u001b[38;5;28;01mfinally\u001b[39;00m:\n",
      "File \u001b[1;32m~\\AppData\\Local\\Packages\\PythonSoftwareFoundation.Python.3.12_qbz5n2kfra8p0\\LocalCache\\local-packages\\Python312\\site-packages\\IPython\\lib\\pretty.py:787\u001b[0m, in \u001b[0;36m_repr_pprint\u001b[1;34m(obj, p, cycle)\u001b[0m\n\u001b[0;32m    785\u001b[0m \u001b[38;5;250m\u001b[39m\u001b[38;5;124;03m\"\"\"A pprint that just redirects to the normal repr function.\"\"\"\u001b[39;00m\n\u001b[0;32m    786\u001b[0m \u001b[38;5;66;03m# Find newlines and replace them with p.break_()\u001b[39;00m\n\u001b[1;32m--> 787\u001b[0m output \u001b[38;5;241m=\u001b[39m \u001b[38;5;28;43mrepr\u001b[39;49m\u001b[43m(\u001b[49m\u001b[43mobj\u001b[49m\u001b[43m)\u001b[49m\n\u001b[0;32m    788\u001b[0m lines \u001b[38;5;241m=\u001b[39m output\u001b[38;5;241m.\u001b[39msplitlines()\n\u001b[0;32m    789\u001b[0m \u001b[38;5;28;01mwith\u001b[39;00m p\u001b[38;5;241m.\u001b[39mgroup():\n",
      "File \u001b[1;32mC:\\Program Files\\WindowsApps\\PythonSoftwareFoundation.Python.3.12_3.12.1520.0_x64__qbz5n2kfra8p0\\Lib\\dataclasses.py:262\u001b[0m, in \u001b[0;36m_recursive_repr.<locals>.wrapper\u001b[1;34m(self)\u001b[0m\n\u001b[0;32m    260\u001b[0m repr_running\u001b[38;5;241m.\u001b[39madd(key)\n\u001b[0;32m    261\u001b[0m \u001b[38;5;28;01mtry\u001b[39;00m:\n\u001b[1;32m--> 262\u001b[0m     result \u001b[38;5;241m=\u001b[39m \u001b[43muser_function\u001b[49m\u001b[43m(\u001b[49m\u001b[38;5;28;43mself\u001b[39;49m\u001b[43m)\u001b[49m\n\u001b[0;32m    263\u001b[0m \u001b[38;5;28;01mfinally\u001b[39;00m:\n\u001b[0;32m    264\u001b[0m     repr_running\u001b[38;5;241m.\u001b[39mdiscard(key)\n",
      "File \u001b[1;32m<string>:3\u001b[0m, in \u001b[0;36m__repr__\u001b[1;34m(self)\u001b[0m\n",
      "\u001b[1;31mAttributeError\u001b[0m: 'Insight' object has no attribute 'prompts'"
     ]
    },
    {
     "ename": "AttributeError",
     "evalue": "'Insight' object has no attribute 'prompts'",
     "output_type": "error",
     "traceback": [
      "\u001b[1;31m---------------------------------------------------------------------------\u001b[0m",
      "\u001b[1;31mAttributeError\u001b[0m                            Traceback (most recent call last)",
      "File \u001b[1;32m~\\AppData\\Local\\Packages\\PythonSoftwareFoundation.Python.3.12_qbz5n2kfra8p0\\LocalCache\\local-packages\\Python312\\site-packages\\IPython\\core\\formatters.py:347\u001b[0m, in \u001b[0;36mBaseFormatter.__call__\u001b[1;34m(self, obj)\u001b[0m\n\u001b[0;32m    345\u001b[0m     method \u001b[38;5;241m=\u001b[39m get_real_method(obj, \u001b[38;5;28mself\u001b[39m\u001b[38;5;241m.\u001b[39mprint_method)\n\u001b[0;32m    346\u001b[0m     \u001b[38;5;28;01mif\u001b[39;00m method \u001b[38;5;129;01mis\u001b[39;00m \u001b[38;5;129;01mnot\u001b[39;00m \u001b[38;5;28;01mNone\u001b[39;00m:\n\u001b[1;32m--> 347\u001b[0m         \u001b[38;5;28;01mreturn\u001b[39;00m \u001b[43mmethod\u001b[49m\u001b[43m(\u001b[49m\u001b[43m)\u001b[49m\n\u001b[0;32m    348\u001b[0m     \u001b[38;5;28;01mreturn\u001b[39;00m \u001b[38;5;28;01mNone\u001b[39;00m\n\u001b[0;32m    349\u001b[0m \u001b[38;5;28;01melse\u001b[39;00m:\n",
      "File \u001b[1;32mc:\\Users\\samsung\\Desktop\\allaine\\lida\\lida\\datamodel.py:88\u001b[0m, in \u001b[0;36mInsight._repr_markdown_\u001b[1;34m(self)\u001b[0m\n\u001b[0;32m     80\u001b[0m     \u001b[38;5;28;01mdef\u001b[39;00m \u001b[38;5;21m_repr_markdown_\u001b[39m(\u001b[38;5;28mself\u001b[39m):\n\u001b[0;32m     81\u001b[0m         \u001b[38;5;28;01mreturn\u001b[39;00m \u001b[38;5;124mf\u001b[39m\u001b[38;5;124m\"\"\"\u001b[39m\n\u001b[0;32m     82\u001b[0m \u001b[38;5;124m### Insight \u001b[39m\u001b[38;5;132;01m{\u001b[39;00m\u001b[38;5;28mself\u001b[39m\u001b[38;5;241m.\u001b[39mindex\u001b[38;5;132;01m}\u001b[39;00m\n\u001b[0;32m     83\u001b[0m \u001b[38;5;124m---\u001b[39m\n\u001b[0;32m     84\u001b[0m \u001b[38;5;124m**Insight:** \u001b[39m\u001b[38;5;132;01m{\u001b[39;00m\u001b[38;5;28mself\u001b[39m\u001b[38;5;241m.\u001b[39minsight\u001b[38;5;132;01m}\u001b[39;00m\n\u001b[0;32m     85\u001b[0m \n\u001b[0;32m     86\u001b[0m \u001b[38;5;124m**Pairs:**\u001b[39m\n\u001b[0;32m     87\u001b[0m \n\u001b[1;32m---> 88\u001b[0m \u001b[38;5;124m    **Prompts:** \u001b[39m\u001b[38;5;132;01m{\u001b[39;00m\u001b[38;5;28;43mself\u001b[39;49m\u001b[38;5;241;43m.\u001b[39;49m\u001b[43mprompts\u001b[49m\u001b[38;5;132;01m}\u001b[39;00m\n\u001b[0;32m     89\u001b[0m \u001b[38;5;124m    **Answers:** \u001b[39m\u001b[38;5;132;01m{\u001b[39;00m\u001b[38;5;28mself\u001b[39m\u001b[38;5;241m.\u001b[39manswers\u001b[38;5;132;01m}\u001b[39;00m\n\u001b[0;32m     90\u001b[0m \u001b[38;5;124m\"\"\"\u001b[39m\n",
      "\u001b[1;31mAttributeError\u001b[0m: 'Insight' object has no attribute 'prompts'"
     ]
    }
   ],
   "source": [
    "# LOAD\n",
    "\n",
    "with open('./barchart/cars18-v2-5-6/prompt3/insight-v3-6-5.pkl', 'rb') as f:\n",
    "    insight2 = pickle.load(f)\n",
    "\n",
    "for insight_i in insight2:\n",
    "    display(insight_i)"
   ]
  },
  {
   "cell_type": "markdown",
   "metadata": {},
   "source": [
    "### Generating Insights"
   ]
  },
  {
   "cell_type": "code",
   "execution_count": null,
   "metadata": {},
   "outputs": [],
   "source": [
    "insights = lida.insights(goal=goals[i], answers=answers, prompts=prompts, n=10)"
   ]
  },
  {
   "cell_type": "code",
   "execution_count": null,
   "metadata": {},
   "outputs": [
    {
     "data": {
      "text/markdown": [
       "\n",
       "### Insight 0\n",
       "---\n",
       "**Insight:** The average retail price for cars with 0 cylinders being greater than those with 3 and 4 cylinders, and similar to cars with 6 cylinders, suggests that there may be unique features or branding associated with 0 and 6 cylinder cars that justify their higher prices.\n"
      ],
      "text/plain": [
       "Insight(insight='The average retail price for cars with 0 cylinders being greater than those with 3 and 4 cylinders, and similar to cars with 6 cylinders, suggests that there may be unique features or branding associated with 0 and 6 cylinder cars that justify their higher prices.', index=0)"
      ]
     },
     "metadata": {},
     "output_type": "display_data"
    },
    {
     "data": {
      "text/markdown": [
       "\n",
       "### Insight 1\n",
       "---\n",
       "**Insight:** The sudden spike in average price for cars with 12 cylinders, being around 3 times higher than others, could indicate a niche market for high-performance or luxury vehicles with 12 cylinders, leading to significantly higher pricing.\n"
      ],
      "text/plain": [
       "Insight(insight='The sudden spike in average price for cars with 12 cylinders, being around 3 times higher than others, could indicate a niche market for high-performance or luxury vehicles with 12 cylinders, leading to significantly higher pricing.', index=1)"
      ]
     },
     "metadata": {},
     "output_type": "display_data"
    },
    {
     "data": {
      "text/markdown": [
       "\n",
       "### Insight 2\n",
       "---\n",
       "**Insight:** The close alignment between dealer costs and average prices across different cylinder counts suggests that dealers may be pricing their vehicles based on cost, with minimal markup or discount strategies in place.\n"
      ],
      "text/plain": [
       "Insight(insight='The close alignment between dealer costs and average prices across different cylinder counts suggests that dealers may be pricing their vehicles based on cost, with minimal markup or discount strategies in place.', index=2)"
      ]
     },
     "metadata": {},
     "output_type": "display_data"
    },
    {
     "data": {
      "text/markdown": [
       "\n",
       "### Insight 3\n",
       "---\n",
       "**Insight:** The consistent relationship between dealer cost and retail price across cylinder counts indicates a standardized pricing strategy in the market, where the markup from dealer cost to retail price remains relatively constant regardless of the number of cylinders.\n"
      ],
      "text/plain": [
       "Insight(insight='The consistent relationship between dealer cost and retail price across cylinder counts indicates a standardized pricing strategy in the market, where the markup from dealer cost to retail price remains relatively constant regardless of the number of cylinders.', index=3)"
      ]
     },
     "metadata": {},
     "output_type": "display_data"
    },
    {
     "data": {
      "text/markdown": [
       "\n",
       "### Insight 4\n",
       "---\n",
       "**Insight:** The higher average prices and costs for vehicles with more cylinders, especially at 12 cylinders, suggest that manufacturers and dealers capitalize on the perceived value and performance associated with higher cylinder counts to command premium pricing.\n"
      ],
      "text/plain": [
       "Insight(insight='The higher average prices and costs for vehicles with more cylinders, especially at 12 cylinders, suggest that manufacturers and dealers capitalize on the perceived value and performance associated with higher cylinder counts to command premium pricing.', index=4)"
      ]
     },
     "metadata": {},
     "output_type": "display_data"
    },
    {
     "data": {
      "text/markdown": [
       "\n",
       "### Insight 5\n",
       "---\n",
       "**Insight:** The significant increase in retail price at 12 cylinders compared to lower counts implies a threshold where the market perceives a substantial jump in value or exclusivity, leading to a sharp increase in pricing for cars with 12 cylinders.\n"
      ],
      "text/plain": [
       "Insight(insight='The significant increase in retail price at 12 cylinders compared to lower counts implies a threshold where the market perceives a substantial jump in value or exclusivity, leading to a sharp increase in pricing for cars with 12 cylinders.', index=5)"
      ]
     },
     "metadata": {},
     "output_type": "display_data"
    },
    {
     "data": {
      "text/markdown": [
       "\n",
       "### Insight 6\n",
       "---\n",
       "**Insight:** The similarity between average dealer costs and retail prices for vehicles with fewer cylinders, staying below the average of $40,000, indicates a consistent pricing strategy where costs are directly reflected in retail prices without significant markups.\n"
      ],
      "text/plain": [
       "Insight(insight='The similarity between average dealer costs and retail prices for vehicles with fewer cylinders, staying below the average of $40,000, indicates a consistent pricing strategy where costs are directly reflected in retail prices without significant markups.', index=6)"
      ]
     },
     "metadata": {},
     "output_type": "display_data"
    },
    {
     "data": {
      "text/markdown": [
       "\n",
       "### Insight 7\n",
       "---\n",
       "**Insight:** The average price differences between vehicles with 4, 6, and 8 cylinders, with increments of around $5,000 between 4 and 6 cylinders and $10,000 between 6 and 8 cylinders, suggest a gradual pricing scale based on cylinder counts in the market.\n"
      ],
      "text/plain": [
       "Insight(insight='The average price differences between vehicles with 4, 6, and 8 cylinders, with increments of around $5,000 between 4 and 6 cylinders and $10,000 between 6 and 8 cylinders, suggest a gradual pricing scale based on cylinder counts in the market.', index=7)"
      ]
     },
     "metadata": {},
     "output_type": "display_data"
    },
    {
     "data": {
      "text/markdown": [
       "\n",
       "### Insight 8\n",
       "---\n",
       "**Insight:** The outlier status of cars with 12 cylinders, having extremely high costs and prices of $120,000, highlights the presence of ultra-luxury or high-performance vehicles in the market that significantly deviate from the pricing norms of other cylinder counts.\n"
      ],
      "text/plain": [
       "Insight(insight='The outlier status of cars with 12 cylinders, having extremely high costs and prices of $120,000, highlights the presence of ultra-luxury or high-performance vehicles in the market that significantly deviate from the pricing norms of other cylinder counts.', index=8)"
      ]
     },
     "metadata": {},
     "output_type": "display_data"
    },
    {
     "data": {
      "text/markdown": [
       "\n",
       "### Insight 9\n",
       "---\n",
       "**Insight:** Without information on industry standards, the comparison of average retail prices and dealer costs for different cylinder counts may indicate how pricing strategies within the dataset align or diverge from broader industry practices, potentially influencing future production and marketing decisions.\n"
      ],
      "text/plain": [
       "Insight(insight='Without information on industry standards, the comparison of average retail prices and dealer costs for different cylinder counts may indicate how pricing strategies within the dataset align or diverge from broader industry practices, potentially influencing future production and marketing decisions.', index=9)"
      ]
     },
     "metadata": {},
     "output_type": "display_data"
    }
   ],
   "source": [
    "for insight in insights:\n",
    "    display(insight)"
   ]
  },
  {
   "cell_type": "markdown",
   "metadata": {},
   "source": [
    "### Saving and Loading insights"
   ]
  },
  {
   "cell_type": "code",
   "execution_count": 29,
   "metadata": {},
   "outputs": [],
   "source": [
    "# #SAVE\n",
    "\n",
    "# with open('./barchart/cars18-v2-5-6/prompt3/insight-v3-9-5.pkl', 'wb') as f:\n",
    "#     pickle.dump(insights, f)"
   ]
  },
  {
   "cell_type": "code",
   "execution_count": 30,
   "metadata": {},
   "outputs": [
    {
     "ename": "AttributeError",
     "evalue": "'Insight' object has no attribute 'prompts'",
     "output_type": "error",
     "traceback": [
      "\u001b[1;31m---------------------------------------------------------------------------\u001b[0m",
      "\u001b[1;31mAttributeError\u001b[0m                            Traceback (most recent call last)",
      "File \u001b[1;32m~\\AppData\\Local\\Packages\\PythonSoftwareFoundation.Python.3.12_qbz5n2kfra8p0\\LocalCache\\local-packages\\Python312\\site-packages\\IPython\\core\\formatters.py:711\u001b[0m, in \u001b[0;36mPlainTextFormatter.__call__\u001b[1;34m(self, obj)\u001b[0m\n\u001b[0;32m    704\u001b[0m stream \u001b[38;5;241m=\u001b[39m StringIO()\n\u001b[0;32m    705\u001b[0m printer \u001b[38;5;241m=\u001b[39m pretty\u001b[38;5;241m.\u001b[39mRepresentationPrinter(stream, \u001b[38;5;28mself\u001b[39m\u001b[38;5;241m.\u001b[39mverbose,\n\u001b[0;32m    706\u001b[0m     \u001b[38;5;28mself\u001b[39m\u001b[38;5;241m.\u001b[39mmax_width, \u001b[38;5;28mself\u001b[39m\u001b[38;5;241m.\u001b[39mnewline,\n\u001b[0;32m    707\u001b[0m     max_seq_length\u001b[38;5;241m=\u001b[39m\u001b[38;5;28mself\u001b[39m\u001b[38;5;241m.\u001b[39mmax_seq_length,\n\u001b[0;32m    708\u001b[0m     singleton_pprinters\u001b[38;5;241m=\u001b[39m\u001b[38;5;28mself\u001b[39m\u001b[38;5;241m.\u001b[39msingleton_printers,\n\u001b[0;32m    709\u001b[0m     type_pprinters\u001b[38;5;241m=\u001b[39m\u001b[38;5;28mself\u001b[39m\u001b[38;5;241m.\u001b[39mtype_printers,\n\u001b[0;32m    710\u001b[0m     deferred_pprinters\u001b[38;5;241m=\u001b[39m\u001b[38;5;28mself\u001b[39m\u001b[38;5;241m.\u001b[39mdeferred_printers)\n\u001b[1;32m--> 711\u001b[0m \u001b[43mprinter\u001b[49m\u001b[38;5;241;43m.\u001b[39;49m\u001b[43mpretty\u001b[49m\u001b[43m(\u001b[49m\u001b[43mobj\u001b[49m\u001b[43m)\u001b[49m\n\u001b[0;32m    712\u001b[0m printer\u001b[38;5;241m.\u001b[39mflush()\n\u001b[0;32m    713\u001b[0m \u001b[38;5;28;01mreturn\u001b[39;00m stream\u001b[38;5;241m.\u001b[39mgetvalue()\n",
      "File \u001b[1;32m~\\AppData\\Local\\Packages\\PythonSoftwareFoundation.Python.3.12_qbz5n2kfra8p0\\LocalCache\\local-packages\\Python312\\site-packages\\IPython\\lib\\pretty.py:394\u001b[0m, in \u001b[0;36mRepresentationPrinter.pretty\u001b[1;34m(self, obj)\u001b[0m\n\u001b[0;32m    391\u001b[0m \u001b[38;5;28;01mfor\u001b[39;00m \u001b[38;5;28mcls\u001b[39m \u001b[38;5;129;01min\u001b[39;00m _get_mro(obj_class):\n\u001b[0;32m    392\u001b[0m     \u001b[38;5;28;01mif\u001b[39;00m \u001b[38;5;28mcls\u001b[39m \u001b[38;5;129;01min\u001b[39;00m \u001b[38;5;28mself\u001b[39m\u001b[38;5;241m.\u001b[39mtype_pprinters:\n\u001b[0;32m    393\u001b[0m         \u001b[38;5;66;03m# printer registered in self.type_pprinters\u001b[39;00m\n\u001b[1;32m--> 394\u001b[0m         \u001b[38;5;28;01mreturn\u001b[39;00m \u001b[38;5;28;43mself\u001b[39;49m\u001b[38;5;241;43m.\u001b[39;49m\u001b[43mtype_pprinters\u001b[49m\u001b[43m[\u001b[49m\u001b[38;5;28;43mcls\u001b[39;49m\u001b[43m]\u001b[49m\u001b[43m(\u001b[49m\u001b[43mobj\u001b[49m\u001b[43m,\u001b[49m\u001b[43m \u001b[49m\u001b[38;5;28;43mself\u001b[39;49m\u001b[43m,\u001b[49m\u001b[43m \u001b[49m\u001b[43mcycle\u001b[49m\u001b[43m)\u001b[49m\n\u001b[0;32m    395\u001b[0m     \u001b[38;5;28;01melse\u001b[39;00m:\n\u001b[0;32m    396\u001b[0m         \u001b[38;5;66;03m# deferred printer\u001b[39;00m\n\u001b[0;32m    397\u001b[0m         printer \u001b[38;5;241m=\u001b[39m \u001b[38;5;28mself\u001b[39m\u001b[38;5;241m.\u001b[39m_in_deferred_types(\u001b[38;5;28mcls\u001b[39m)\n",
      "File \u001b[1;32m~\\AppData\\Local\\Packages\\PythonSoftwareFoundation.Python.3.12_qbz5n2kfra8p0\\LocalCache\\local-packages\\Python312\\site-packages\\IPython\\lib\\pretty.py:649\u001b[0m, in \u001b[0;36m_seq_pprinter_factory.<locals>.inner\u001b[1;34m(obj, p, cycle)\u001b[0m\n\u001b[0;32m    647\u001b[0m         p\u001b[38;5;241m.\u001b[39mtext(\u001b[38;5;124m'\u001b[39m\u001b[38;5;124m,\u001b[39m\u001b[38;5;124m'\u001b[39m)\n\u001b[0;32m    648\u001b[0m         p\u001b[38;5;241m.\u001b[39mbreakable()\n\u001b[1;32m--> 649\u001b[0m     \u001b[43mp\u001b[49m\u001b[38;5;241;43m.\u001b[39;49m\u001b[43mpretty\u001b[49m\u001b[43m(\u001b[49m\u001b[43mx\u001b[49m\u001b[43m)\u001b[49m\n\u001b[0;32m    650\u001b[0m \u001b[38;5;28;01mif\u001b[39;00m \u001b[38;5;28mlen\u001b[39m(obj) \u001b[38;5;241m==\u001b[39m \u001b[38;5;241m1\u001b[39m \u001b[38;5;129;01mand\u001b[39;00m \u001b[38;5;28misinstance\u001b[39m(obj, \u001b[38;5;28mtuple\u001b[39m):\n\u001b[0;32m    651\u001b[0m     \u001b[38;5;66;03m# Special case for 1-item tuples.\u001b[39;00m\n\u001b[0;32m    652\u001b[0m     p\u001b[38;5;241m.\u001b[39mtext(\u001b[38;5;124m'\u001b[39m\u001b[38;5;124m,\u001b[39m\u001b[38;5;124m'\u001b[39m)\n",
      "File \u001b[1;32m~\\AppData\\Local\\Packages\\PythonSoftwareFoundation.Python.3.12_qbz5n2kfra8p0\\LocalCache\\local-packages\\Python312\\site-packages\\IPython\\lib\\pretty.py:419\u001b[0m, in \u001b[0;36mRepresentationPrinter.pretty\u001b[1;34m(self, obj)\u001b[0m\n\u001b[0;32m    408\u001b[0m                         \u001b[38;5;28;01mreturn\u001b[39;00m meth(obj, \u001b[38;5;28mself\u001b[39m, cycle)\n\u001b[0;32m    409\u001b[0m                 \u001b[38;5;28;01mif\u001b[39;00m (\n\u001b[0;32m    410\u001b[0m                     \u001b[38;5;28mcls\u001b[39m \u001b[38;5;129;01mis\u001b[39;00m \u001b[38;5;129;01mnot\u001b[39;00m \u001b[38;5;28mobject\u001b[39m\n\u001b[0;32m    411\u001b[0m                     \u001b[38;5;66;03m# check if cls defines __repr__\u001b[39;00m\n\u001b[1;32m   (...)\u001b[0m\n\u001b[0;32m    417\u001b[0m                     \u001b[38;5;129;01mand\u001b[39;00m \u001b[38;5;28mcallable\u001b[39m(_safe_getattr(\u001b[38;5;28mcls\u001b[39m, \u001b[38;5;124m\"\u001b[39m\u001b[38;5;124m__repr__\u001b[39m\u001b[38;5;124m\"\u001b[39m, \u001b[38;5;28;01mNone\u001b[39;00m))\n\u001b[0;32m    418\u001b[0m                 ):\n\u001b[1;32m--> 419\u001b[0m                     \u001b[38;5;28;01mreturn\u001b[39;00m \u001b[43m_repr_pprint\u001b[49m\u001b[43m(\u001b[49m\u001b[43mobj\u001b[49m\u001b[43m,\u001b[49m\u001b[43m \u001b[49m\u001b[38;5;28;43mself\u001b[39;49m\u001b[43m,\u001b[49m\u001b[43m \u001b[49m\u001b[43mcycle\u001b[49m\u001b[43m)\u001b[49m\n\u001b[0;32m    421\u001b[0m     \u001b[38;5;28;01mreturn\u001b[39;00m _default_pprint(obj, \u001b[38;5;28mself\u001b[39m, cycle)\n\u001b[0;32m    422\u001b[0m \u001b[38;5;28;01mfinally\u001b[39;00m:\n",
      "File \u001b[1;32m~\\AppData\\Local\\Packages\\PythonSoftwareFoundation.Python.3.12_qbz5n2kfra8p0\\LocalCache\\local-packages\\Python312\\site-packages\\IPython\\lib\\pretty.py:787\u001b[0m, in \u001b[0;36m_repr_pprint\u001b[1;34m(obj, p, cycle)\u001b[0m\n\u001b[0;32m    785\u001b[0m \u001b[38;5;250m\u001b[39m\u001b[38;5;124;03m\"\"\"A pprint that just redirects to the normal repr function.\"\"\"\u001b[39;00m\n\u001b[0;32m    786\u001b[0m \u001b[38;5;66;03m# Find newlines and replace them with p.break_()\u001b[39;00m\n\u001b[1;32m--> 787\u001b[0m output \u001b[38;5;241m=\u001b[39m \u001b[38;5;28;43mrepr\u001b[39;49m\u001b[43m(\u001b[49m\u001b[43mobj\u001b[49m\u001b[43m)\u001b[49m\n\u001b[0;32m    788\u001b[0m lines \u001b[38;5;241m=\u001b[39m output\u001b[38;5;241m.\u001b[39msplitlines()\n\u001b[0;32m    789\u001b[0m \u001b[38;5;28;01mwith\u001b[39;00m p\u001b[38;5;241m.\u001b[39mgroup():\n",
      "File \u001b[1;32mC:\\Program Files\\WindowsApps\\PythonSoftwareFoundation.Python.3.12_3.12.1520.0_x64__qbz5n2kfra8p0\\Lib\\dataclasses.py:262\u001b[0m, in \u001b[0;36m_recursive_repr.<locals>.wrapper\u001b[1;34m(self)\u001b[0m\n\u001b[0;32m    260\u001b[0m repr_running\u001b[38;5;241m.\u001b[39madd(key)\n\u001b[0;32m    261\u001b[0m \u001b[38;5;28;01mtry\u001b[39;00m:\n\u001b[1;32m--> 262\u001b[0m     result \u001b[38;5;241m=\u001b[39m \u001b[43muser_function\u001b[49m\u001b[43m(\u001b[49m\u001b[38;5;28;43mself\u001b[39;49m\u001b[43m)\u001b[49m\n\u001b[0;32m    263\u001b[0m \u001b[38;5;28;01mfinally\u001b[39;00m:\n\u001b[0;32m    264\u001b[0m     repr_running\u001b[38;5;241m.\u001b[39mdiscard(key)\n",
      "File \u001b[1;32m<string>:3\u001b[0m, in \u001b[0;36m__repr__\u001b[1;34m(self)\u001b[0m\n",
      "\u001b[1;31mAttributeError\u001b[0m: 'Insight' object has no attribute 'prompts'"
     ]
    }
   ],
   "source": [
    "with open('./barchart/cars18-v2-5-6/prompt3/insight-v3-9-5.pkl', 'rb') as f:\n",
    "    insights = pickle.load(f)\n",
    "\n",
    "display(insights)"
   ]
  },
  {
   "cell_type": "code",
   "execution_count": 31,
   "metadata": {},
   "outputs": [],
   "source": [
    "i = 18"
   ]
  },
  {
   "cell_type": "code",
   "execution_count": 32,
   "metadata": {},
   "outputs": [],
   "source": [
    "insights = lida.insights(goal=goals[i], answers=answers, prompts=prompts, n=10)"
   ]
  },
  {
   "cell_type": "code",
   "execution_count": 33,
   "metadata": {},
   "outputs": [
    {
     "name": "stdout",
     "output_type": "stream",
     "text": [
      "[Insight(insight='The unexpected high average retail price for vehicles with 0 cylinders suggests that these may be specialty or luxury vehicles, which could skew the overall pricing trends. This could indicate a niche market that values unique features over traditional performance metrics.', prompts=['How does the average retail price change as the number of cylinders increases?', 'Are there any significant differences in dealer costs for vehicles with different cylinder counts?'], answers=['Oddly, the average price of cars with 0 cylinders are greater than those with 3 and 4 and is around the same as cars with 6 cylinders.', 'The dealer costs are almost exactly the same as the average price.'], index=0), Insight(insight='The consistent relationship between dealer cost and retail price across cylinder counts suggests that dealers maintain a standard markup strategy, regardless of the cylinder count. This could imply that the market is relatively stable and predictable for vehicles with fewer cylinders.', prompts=['What trends can we observe in the relationship between retail price and dealer cost across cylinder counts?', 'How does the average dealer cost compare to the average retail price for vehicles with fewer cylinders?'], answers=['The dealer cost and average price are almost exactly the same.', 'The price and the cost are almost exactly the same. For cars with lower cylinder counts, they are below the average of 40,000.'], index=1), Insight(insight='The significant price spike at 12 cylinders indicates a luxury or performance segment that could be targeted for marketing strategies. This suggests that consumers are willing to pay a premium for higher cylinder counts, which could be leveraged in future vehicle production.', prompts=['Do vehicles with a higher number of cylinders generally have a higher markup from dealer cost to retail price?', 'Is there a threshold number of cylinders where the retail price significantly increases?'], answers=['Yeah, generally. 12 has the highest price and cost, followed by 8, 9, then 5, then 6 and 0, then 4 and 3.', 'At cylinder count of 12. The price and cost is 3x the average.'], index=2), Insight(insight='The average price differences between 4, 6, and 8 cylinders suggest a tiered pricing strategy that could reflect consumer preferences for performance and efficiency. This could indicate that consumers are willing to pay more for vehicles that offer a balance of power and fuel economy.', prompts=['What is the average price difference between vehicles with 4, 6, and 8 cylinders?'], answers=['Between 4 and 6, the difference is around 5k. Between 6 and 8, the difference is around 10k.'], index=3), Insight(insight='The lack of knowledge about industry standards may indicate a gap in market research that could be addressed. Understanding how these prices compare to industry benchmarks could provide insights into competitive positioning and pricing strategies.', prompts=['What implications do the observed trends in retail price and dealer cost have for future vehicle production and marketing?', 'How do average retail prices and dealer costs for different cylinder counts compare to industry standards?'], answers=['I do not have information on this.', \"I don't know the industry standards.\"], index=4)]\n"
     ]
    },
    {
     "data": {
      "text/markdown": [
       "\n",
       "### Insight 0\n",
       "---\n",
       "**Insight:** The unexpected high average retail price for vehicles with 0 cylinders suggests that these may be specialty or luxury vehicles, which could skew the overall pricing trends. This could indicate a niche market that values unique features over traditional performance metrics.\n",
       "\n",
       "**Pairs:**\n",
       "\n",
       "    **Prompts:** ['How does the average retail price change as the number of cylinders increases?', 'Are there any significant differences in dealer costs for vehicles with different cylinder counts?']\n",
       "    **Answers:** ['Oddly, the average price of cars with 0 cylinders are greater than those with 3 and 4 and is around the same as cars with 6 cylinders.', 'The dealer costs are almost exactly the same as the average price.']\n"
      ],
      "text/plain": [
       "Insight(insight='The unexpected high average retail price for vehicles with 0 cylinders suggests that these may be specialty or luxury vehicles, which could skew the overall pricing trends. This could indicate a niche market that values unique features over traditional performance metrics.', prompts=['How does the average retail price change as the number of cylinders increases?', 'Are there any significant differences in dealer costs for vehicles with different cylinder counts?'], answers=['Oddly, the average price of cars with 0 cylinders are greater than those with 3 and 4 and is around the same as cars with 6 cylinders.', 'The dealer costs are almost exactly the same as the average price.'], index=0)"
      ]
     },
     "metadata": {},
     "output_type": "display_data"
    },
    {
     "data": {
      "text/markdown": [
       "\n",
       "### Insight 1\n",
       "---\n",
       "**Insight:** The consistent relationship between dealer cost and retail price across cylinder counts suggests that dealers maintain a standard markup strategy, regardless of the cylinder count. This could imply that the market is relatively stable and predictable for vehicles with fewer cylinders.\n",
       "\n",
       "**Pairs:**\n",
       "\n",
       "    **Prompts:** ['What trends can we observe in the relationship between retail price and dealer cost across cylinder counts?', 'How does the average dealer cost compare to the average retail price for vehicles with fewer cylinders?']\n",
       "    **Answers:** ['The dealer cost and average price are almost exactly the same.', 'The price and the cost are almost exactly the same. For cars with lower cylinder counts, they are below the average of 40,000.']\n"
      ],
      "text/plain": [
       "Insight(insight='The consistent relationship between dealer cost and retail price across cylinder counts suggests that dealers maintain a standard markup strategy, regardless of the cylinder count. This could imply that the market is relatively stable and predictable for vehicles with fewer cylinders.', prompts=['What trends can we observe in the relationship between retail price and dealer cost across cylinder counts?', 'How does the average dealer cost compare to the average retail price for vehicles with fewer cylinders?'], answers=['The dealer cost and average price are almost exactly the same.', 'The price and the cost are almost exactly the same. For cars with lower cylinder counts, they are below the average of 40,000.'], index=1)"
      ]
     },
     "metadata": {},
     "output_type": "display_data"
    },
    {
     "data": {
      "text/markdown": [
       "\n",
       "### Insight 2\n",
       "---\n",
       "**Insight:** The significant price spike at 12 cylinders indicates a luxury or performance segment that could be targeted for marketing strategies. This suggests that consumers are willing to pay a premium for higher cylinder counts, which could be leveraged in future vehicle production.\n",
       "\n",
       "**Pairs:**\n",
       "\n",
       "    **Prompts:** ['Do vehicles with a higher number of cylinders generally have a higher markup from dealer cost to retail price?', 'Is there a threshold number of cylinders where the retail price significantly increases?']\n",
       "    **Answers:** ['Yeah, generally. 12 has the highest price and cost, followed by 8, 9, then 5, then 6 and 0, then 4 and 3.', 'At cylinder count of 12. The price and cost is 3x the average.']\n"
      ],
      "text/plain": [
       "Insight(insight='The significant price spike at 12 cylinders indicates a luxury or performance segment that could be targeted for marketing strategies. This suggests that consumers are willing to pay a premium for higher cylinder counts, which could be leveraged in future vehicle production.', prompts=['Do vehicles with a higher number of cylinders generally have a higher markup from dealer cost to retail price?', 'Is there a threshold number of cylinders where the retail price significantly increases?'], answers=['Yeah, generally. 12 has the highest price and cost, followed by 8, 9, then 5, then 6 and 0, then 4 and 3.', 'At cylinder count of 12. The price and cost is 3x the average.'], index=2)"
      ]
     },
     "metadata": {},
     "output_type": "display_data"
    },
    {
     "data": {
      "text/markdown": [
       "\n",
       "### Insight 3\n",
       "---\n",
       "**Insight:** The average price differences between 4, 6, and 8 cylinders suggest a tiered pricing strategy that could reflect consumer preferences for performance and efficiency. This could indicate that consumers are willing to pay more for vehicles that offer a balance of power and fuel economy.\n",
       "\n",
       "**Pairs:**\n",
       "\n",
       "    **Prompts:** ['What is the average price difference between vehicles with 4, 6, and 8 cylinders?']\n",
       "    **Answers:** ['Between 4 and 6, the difference is around 5k. Between 6 and 8, the difference is around 10k.']\n"
      ],
      "text/plain": [
       "Insight(insight='The average price differences between 4, 6, and 8 cylinders suggest a tiered pricing strategy that could reflect consumer preferences for performance and efficiency. This could indicate that consumers are willing to pay more for vehicles that offer a balance of power and fuel economy.', prompts=['What is the average price difference between vehicles with 4, 6, and 8 cylinders?'], answers=['Between 4 and 6, the difference is around 5k. Between 6 and 8, the difference is around 10k.'], index=3)"
      ]
     },
     "metadata": {},
     "output_type": "display_data"
    },
    {
     "data": {
      "text/markdown": [
       "\n",
       "### Insight 4\n",
       "---\n",
       "**Insight:** The lack of knowledge about industry standards may indicate a gap in market research that could be addressed. Understanding how these prices compare to industry benchmarks could provide insights into competitive positioning and pricing strategies.\n",
       "\n",
       "**Pairs:**\n",
       "\n",
       "    **Prompts:** ['What implications do the observed trends in retail price and dealer cost have for future vehicle production and marketing?', 'How do average retail prices and dealer costs for different cylinder counts compare to industry standards?']\n",
       "    **Answers:** ['I do not have information on this.', \"I don't know the industry standards.\"]\n"
      ],
      "text/plain": [
       "Insight(insight='The lack of knowledge about industry standards may indicate a gap in market research that could be addressed. Understanding how these prices compare to industry benchmarks could provide insights into competitive positioning and pricing strategies.', prompts=['What implications do the observed trends in retail price and dealer cost have for future vehicle production and marketing?', 'How do average retail prices and dealer costs for different cylinder counts compare to industry standards?'], answers=['I do not have information on this.', \"I don't know the industry standards.\"], index=4)"
      ]
     },
     "metadata": {},
     "output_type": "display_data"
    }
   ],
   "source": [
    "print(insights)\n",
    "\n",
    "for insight in insights:\n",
    "    display(insight)"
   ]
  },
  {
   "cell_type": "code",
   "execution_count": 34,
   "metadata": {},
   "outputs": [],
   "source": [
    "insight_prompts = [insight.prompts for insight in insights]\n",
    "insight_answers = [insight.answers for insight in insights]"
   ]
  },
  {
   "cell_type": "markdown",
   "metadata": {},
   "source": [
    "### Saving and Loading Insights"
   ]
  },
  {
   "cell_type": "code",
   "execution_count": 43,
   "metadata": {},
   "outputs": [],
   "source": [
    "# SAVE\n",
    "\n",
    "with open('./new-insights.pkl', 'wb') as f:\n",
    "    pickle.dump(insights, f)"
   ]
  },
  {
   "cell_type": "code",
   "execution_count": 44,
   "metadata": {},
   "outputs": [
    {
     "data": {
      "text/markdown": [
       "\n",
       "### Insight 0\n",
       "---\n",
       "**Insight:** The unexpected high average retail price for vehicles with 0 cylinders suggests that these may be specialty or luxury vehicles, which could skew the overall pricing trends. This could indicate a niche market that values unique features over traditional performance metrics.\n",
       "\n",
       "**Pairs:**\n",
       "\n",
       "    **Prompts:** ['How does the average retail price change as the number of cylinders increases?', 'Are there any significant differences in dealer costs for vehicles with different cylinder counts?']\n",
       "    **Answers:** ['Oddly, the average price of cars with 0 cylinders are greater than those with 3 and 4 and is around the same as cars with 6 cylinders.', 'The dealer costs are almost exactly the same as the average price.']\n"
      ],
      "text/plain": [
       "Insight(insight='The unexpected high average retail price for vehicles with 0 cylinders suggests that these may be specialty or luxury vehicles, which could skew the overall pricing trends. This could indicate a niche market that values unique features over traditional performance metrics.', prompts=['How does the average retail price change as the number of cylinders increases?', 'Are there any significant differences in dealer costs for vehicles with different cylinder counts?'], answers=['Oddly, the average price of cars with 0 cylinders are greater than those with 3 and 4 and is around the same as cars with 6 cylinders.', 'The dealer costs are almost exactly the same as the average price.'], index=0)"
      ]
     },
     "metadata": {},
     "output_type": "display_data"
    },
    {
     "data": {
      "text/markdown": [
       "\n",
       "### Insight 1\n",
       "---\n",
       "**Insight:** The consistent relationship between dealer cost and retail price across cylinder counts suggests that dealers maintain a standard markup strategy, regardless of the cylinder count. This could imply that the market is relatively stable and predictable for vehicles with fewer cylinders.\n",
       "\n",
       "**Pairs:**\n",
       "\n",
       "    **Prompts:** ['What trends can we observe in the relationship between retail price and dealer cost across cylinder counts?', 'How does the average dealer cost compare to the average retail price for vehicles with fewer cylinders?']\n",
       "    **Answers:** ['The dealer cost and average price are almost exactly the same.', 'The price and the cost are almost exactly the same. For cars with lower cylinder counts, they are below the average of 40,000.']\n"
      ],
      "text/plain": [
       "Insight(insight='The consistent relationship between dealer cost and retail price across cylinder counts suggests that dealers maintain a standard markup strategy, regardless of the cylinder count. This could imply that the market is relatively stable and predictable for vehicles with fewer cylinders.', prompts=['What trends can we observe in the relationship between retail price and dealer cost across cylinder counts?', 'How does the average dealer cost compare to the average retail price for vehicles with fewer cylinders?'], answers=['The dealer cost and average price are almost exactly the same.', 'The price and the cost are almost exactly the same. For cars with lower cylinder counts, they are below the average of 40,000.'], index=1)"
      ]
     },
     "metadata": {},
     "output_type": "display_data"
    },
    {
     "data": {
      "text/markdown": [
       "\n",
       "### Insight 2\n",
       "---\n",
       "**Insight:** The significant price spike at 12 cylinders indicates a luxury or performance segment that could be targeted for marketing strategies. This suggests that consumers are willing to pay a premium for higher cylinder counts, which could be leveraged in future vehicle production.\n",
       "\n",
       "**Pairs:**\n",
       "\n",
       "    **Prompts:** ['Do vehicles with a higher number of cylinders generally have a higher markup from dealer cost to retail price?', 'Is there a threshold number of cylinders where the retail price significantly increases?']\n",
       "    **Answers:** ['Yeah, generally. 12 has the highest price and cost, followed by 8, 9, then 5, then 6 and 0, then 4 and 3.', 'At cylinder count of 12. The price and cost is 3x the average.']\n"
      ],
      "text/plain": [
       "Insight(insight='The significant price spike at 12 cylinders indicates a luxury or performance segment that could be targeted for marketing strategies. This suggests that consumers are willing to pay a premium for higher cylinder counts, which could be leveraged in future vehicle production.', prompts=['Do vehicles with a higher number of cylinders generally have a higher markup from dealer cost to retail price?', 'Is there a threshold number of cylinders where the retail price significantly increases?'], answers=['Yeah, generally. 12 has the highest price and cost, followed by 8, 9, then 5, then 6 and 0, then 4 and 3.', 'At cylinder count of 12. The price and cost is 3x the average.'], index=2)"
      ]
     },
     "metadata": {},
     "output_type": "display_data"
    },
    {
     "data": {
      "text/markdown": [
       "\n",
       "### Insight 3\n",
       "---\n",
       "**Insight:** The average price differences between 4, 6, and 8 cylinders suggest a tiered pricing strategy that could reflect consumer preferences for performance and efficiency. This could indicate that consumers are willing to pay more for vehicles that offer a balance of power and fuel economy.\n",
       "\n",
       "**Pairs:**\n",
       "\n",
       "    **Prompts:** ['What is the average price difference between vehicles with 4, 6, and 8 cylinders?']\n",
       "    **Answers:** ['Between 4 and 6, the difference is around 5k. Between 6 and 8, the difference is around 10k.']\n"
      ],
      "text/plain": [
       "Insight(insight='The average price differences between 4, 6, and 8 cylinders suggest a tiered pricing strategy that could reflect consumer preferences for performance and efficiency. This could indicate that consumers are willing to pay more for vehicles that offer a balance of power and fuel economy.', prompts=['What is the average price difference between vehicles with 4, 6, and 8 cylinders?'], answers=['Between 4 and 6, the difference is around 5k. Between 6 and 8, the difference is around 10k.'], index=3)"
      ]
     },
     "metadata": {},
     "output_type": "display_data"
    },
    {
     "data": {
      "text/markdown": [
       "\n",
       "### Insight 4\n",
       "---\n",
       "**Insight:** The lack of knowledge about industry standards may indicate a gap in market research that could be addressed. Understanding how these prices compare to industry benchmarks could provide insights into competitive positioning and pricing strategies.\n",
       "\n",
       "**Pairs:**\n",
       "\n",
       "    **Prompts:** ['What implications do the observed trends in retail price and dealer cost have for future vehicle production and marketing?', 'How do average retail prices and dealer costs for different cylinder counts compare to industry standards?']\n",
       "    **Answers:** ['I do not have information on this.', \"I don't know the industry standards.\"]\n"
      ],
      "text/plain": [
       "Insight(insight='The lack of knowledge about industry standards may indicate a gap in market research that could be addressed. Understanding how these prices compare to industry benchmarks could provide insights into competitive positioning and pricing strategies.', prompts=['What implications do the observed trends in retail price and dealer cost have for future vehicle production and marketing?', 'How do average retail prices and dealer costs for different cylinder counts compare to industry standards?'], answers=['I do not have information on this.', \"I don't know the industry standards.\"], index=4)"
      ]
     },
     "metadata": {},
     "output_type": "display_data"
    }
   ],
   "source": [
    "# LOAD\n",
    "\n",
    "with open('./new-insights.pkl', 'rb') as f:\n",
    "    insights = pickle.load(f)\n",
    "\n",
    "for insight in insights:\n",
    "    display(insight)"
   ]
  },
  {
   "cell_type": "markdown",
   "metadata": {},
   "source": [
    "## Generating the Insight Goals"
   ]
  },
  {
   "cell_type": "markdown",
   "metadata": {},
   "source": [
    "### One insight"
   ]
  },
  {
   "cell_type": "code",
   "execution_count": 49,
   "metadata": {},
   "outputs": [
    {
     "name": "stdout",
     "output_type": "stream",
     "text": [
      "Insight(insight='The unexpected high average retail price for vehicles with 0 cylinders suggests that these may be specialty or luxury vehicles, which could skew the overall pricing trends. This could indicate a niche market that values unique features over traditional performance metrics.', prompts=['How does the average retail price change as the number of cylinders increases?', 'Are there any significant differences in dealer costs for vehicles with different cylinder counts?'], answers=['Oddly, the average price of cars with 0 cylinders are greater than those with 3 and 4 and is around the same as cars with 6 cylinders.', 'The dealer costs are almost exactly the same as the average price.'], index=0)\n",
      "\n",
      "You are an experienced data analyst who can generate a given number of insightful GOALS about INSIGHTS that a user has about their data that will allow them to explore their INSIGHT deeper and make meaningful connections between them and their data. The VISUALIZATIONS YOU RECOMMEND MUST FOLLOW VISUALIZATION BEST PRACTICES (e.g., must use bar charts instead of pie charts for comparing quantities) AND BE MEANINGFUL (e.g., plot longitude and latitude on maps where appropriate). They must also be relevant to the specified persona AND always be related to the insight of the user. Each goal must include a question (THE QUESTION MUST REFERENCE A PART OF AN INSIGHT), a visualization (THE VISUALIZATION MUST REFERENCE THE EXACT COLUMN FIELDS FROM THE SUMMARY), and a rationale (JUSTIFICATION FOR WHICH dataset FIELDS ARE USED, what we will learn from the visualization AND how the question can allow the user to explore their insights deeper). Each goal MUST mention the exact fields from the dataset summary below.\n",
      "\n",
      "Generate a TOTAL of 5 goals.\n",
      "These are the user's insights: \n",
      "            Insight 1: The unexpected high average retail price for vehicles with 0 cylinders suggests that these may be specialty or luxury vehicles, which could skew the overall pricing trends. This could indicate a niche market that values unique features over traditional performance metrics.\n",
      "            \n",
      "        These are qualities of a good goal.\n",
      "\n",
      "        Question\n",
      "        - The question explores a specific part of the user's insight. It is not general and instead tries to find reasons that cause the insight (e.g. \"How does the average x of y (specific from insight) compare to others when controlling z?\"). \n",
      "        - The question is multi-faceted and explores how multiple variables lead to that insight. (e.g. \"How does x (from insight) with type y compare to others when controlling the variable z?\", \"Is there a relationship between x and y, and how does it affect z?\")\n",
      "        - It is not a general question (e.g. NOT \"How does the avarege x vary with different types?\").\n",
      "\n",
      "        Rationale\n",
      "        - The rationale is able to explain why it is crucial. (e.g. \"This is crucial because x impacts y.\")\n",
      "        - The rationale is able to provide a hypothesis (e.g. \"Using this visualization will show if x is typically y compared to others\")\n",
      "        - The rationale always ties back into a part of the insight (e.g. \"The visualization will help us see if your insight is true or valid\", \"This will reveal how x affects your insight y.\")\n",
      "        \n",
      "        If there is more than one insight, I want you to generate 5 goals that connect ALL of the insights.\n",
      "\n",
      "        \n",
      "THE OUTPUT MUST BE A CODE SNIPPET OF A VALID LIST OF JSON OBJECTS. IT MUST USE THE FOLLOWING FORMAT:\n",
      "\n",
      "```[\n",
      "    { \"index\": 0,  \"question\": \"What is the distribution of X\", \"visualization\": \"histogram of X\", \"rationale\": \"This tells about \"} ..\n",
      "    ]\n",
      "```\n",
      "THE OUTPUT SHOULD ONLY USE THE JSON FORMAT ABOVE.\n",
      "\n"
     ]
    },
    {
     "data": {
      "text/markdown": [
       "\n",
       "### Goal 0\n",
       "---\n",
       "**Question:** How does the average retail price of vehicles with 0 cylinders compare to the average retail prices of vehicles with other cylinder counts when controlling for vehicle type?\n",
       "\n",
       "**Visualization:** `bar chart comparing average retail price by cylinder count and vehicle type`\n",
       "\n",
       "**Rationale:** This visualization will help us understand if the high average retail price for 0-cylinder vehicles is consistent across different vehicle types or if it is an anomaly. This is crucial because it impacts our understanding of market segmentation and the potential niche market for luxury or specialty vehicles.\n"
      ],
      "text/plain": [
       "Goal(question='How does the average retail price of vehicles with 0 cylinders compare to the average retail prices of vehicles with other cylinder counts when controlling for vehicle type?', visualization='bar chart comparing average retail price by cylinder count and vehicle type', rationale='This visualization will help us understand if the high average retail price for 0-cylinder vehicles is consistent across different vehicle types or if it is an anomaly. This is crucial because it impacts our understanding of market segmentation and the potential niche market for luxury or specialty vehicles.', index=0)"
      ]
     },
     "metadata": {},
     "output_type": "display_data"
    },
    {
     "data": {
      "text/markdown": [
       "\n",
       "### Goal 1\n",
       "---\n",
       "**Question:** Is there a relationship between the number of cylinders and the average retail price, and how does it vary across different vehicle makes?\n",
       "\n",
       "**Visualization:** `scatter plot of average retail price versus number of cylinders, colored by vehicle make`\n",
       "\n",
       "**Rationale:** This visualization will reveal whether vehicles with 0 cylinders consistently have higher prices compared to those with more cylinders across various makes. Understanding this relationship can validate the insight about a niche market that values unique features over traditional performance metrics.\n"
      ],
      "text/plain": [
       "Goal(question='Is there a relationship between the number of cylinders and the average retail price, and how does it vary across different vehicle makes?', visualization='scatter plot of average retail price versus number of cylinders, colored by vehicle make', rationale='This visualization will reveal whether vehicles with 0 cylinders consistently have higher prices compared to those with more cylinders across various makes. Understanding this relationship can validate the insight about a niche market that values unique features over traditional performance metrics.', index=1)"
      ]
     },
     "metadata": {},
     "output_type": "display_data"
    },
    {
     "data": {
      "text/markdown": [
       "\n",
       "### Goal 2\n",
       "---\n",
       "**Question:** What are the characteristics of the vehicles with 0 cylinders that contribute to their high average retail price compared to other vehicles?\n",
       "\n",
       "**Visualization:** `box plot of retail price by cylinder count showing additional attributes like horsepower and weight`\n",
       "\n",
       "**Rationale:** This box plot will help us analyze how other factors such as horsepower and weight influence the pricing of 0-cylinder vehicles. By identifying these characteristics, we can further explore what makes these vehicles appealing to consumers and their potential market demand.\n"
      ],
      "text/plain": [
       "Goal(question='What are the characteristics of the vehicles with 0 cylinders that contribute to their high average retail price compared to other vehicles?', visualization='box plot of retail price by cylinder count showing additional attributes like horsepower and weight', rationale='This box plot will help us analyze how other factors such as horsepower and weight influence the pricing of 0-cylinder vehicles. By identifying these characteristics, we can further explore what makes these vehicles appealing to consumers and their potential market demand.', index=2)"
      ]
     },
     "metadata": {},
     "output_type": "display_data"
    },
    {
     "data": {
      "text/markdown": [
       "\n",
       "### Goal 3\n",
       "---\n",
       "**Question:** How do the sales volumes of vehicles with 0 cylinders compare to other cylinder counts, and what does this indicate about their market presence?\n",
       "\n",
       "**Visualization:** `bar chart of sales volume by cylinder count`\n",
       "\n",
       "**Rationale:** This visualization will provide insights into how well 0-cylinder vehicles are selling compared to others. If sales volumes are low despite high prices, this could indicate a very niche market, which ties back to the original insight about specialty or luxury vehicles.\n"
      ],
      "text/plain": [
       "Goal(question='How do the sales volumes of vehicles with 0 cylinders compare to other cylinder counts, and what does this indicate about their market presence?', visualization='bar chart of sales volume by cylinder count', rationale='This visualization will provide insights into how well 0-cylinder vehicles are selling compared to others. If sales volumes are low despite high prices, this could indicate a very niche market, which ties back to the original insight about specialty or luxury vehicles.', index=3)"
      ]
     },
     "metadata": {},
     "output_type": "display_data"
    },
    {
     "data": {
      "text/markdown": [
       "\n",
       "### Goal 4\n",
       "---\n",
       "**Question:** What trends can be observed in the pricing of 0-cylinder vehicles over time compared to vehicles with varying cylinder counts?\n",
       "\n",
       "**Visualization:** `line graph showing average retail price over time by cylinder count`\n",
       "\n",
       "**Rationale:** This line graph will allow us to track how the average retail price of 0-cylinder vehicles has changed over time in relation to other cylinder counts. Understanding these trends can provide further context to the insight about market dynamics and the potential evolution of luxury vehicle preferences.\n"
      ],
      "text/plain": [
       "Goal(question='What trends can be observed in the pricing of 0-cylinder vehicles over time compared to vehicles with varying cylinder counts?', visualization='line graph showing average retail price over time by cylinder count', rationale='This line graph will allow us to track how the average retail price of 0-cylinder vehicles has changed over time in relation to other cylinder counts. Understanding these trends can provide further context to the insight about market dynamics and the potential evolution of luxury vehicle preferences.', index=4)"
      ]
     },
     "metadata": {},
     "output_type": "display_data"
    }
   ],
   "source": [
    "textgen_config = TextGenerationConfig(n=1, temperature=0.5, presence_penalty=0.5, use_cache=False)\n",
    "insight_goals = lida.goals(summary=summary, n=5, textgen_config=textgen_config, goals=[goals[i], goals[i]], prompts=[insight_prompts[0]], insights=[insights[0]], answers=[insight_answers[0]])\n",
    "\n",
    "for insight_goal in insight_goals:\n",
    "    display(insight_goal)"
   ]
  },
  {
   "cell_type": "markdown",
   "metadata": {},
   "source": [
    "### Saving and Loading One Insight Goals"
   ]
  },
  {
   "cell_type": "code",
   "execution_count": 50,
   "metadata": {},
   "outputs": [],
   "source": [
    "#SAVE\n",
    "\n",
    "with open('./one-insights-goals.pkl', 'wb') as f:\n",
    "    pickle.dump(insight_goals, f)"
   ]
  },
  {
   "cell_type": "code",
   "execution_count": 51,
   "metadata": {},
   "outputs": [],
   "source": [
    "#LOAD\n",
    "\n",
    "with open('./one-insights-goals.pkl', 'rb') as f:\n",
    "   one_insight_goals = pickle.load(f)"
   ]
  },
  {
   "cell_type": "markdown",
   "metadata": {},
   "source": [
    "### Two insights"
   ]
  },
  {
   "cell_type": "code",
   "execution_count": 66,
   "metadata": {},
   "outputs": [
    {
     "name": "stdout",
     "output_type": "stream",
     "text": [
      "Insight(insight='The unexpected high average retail price for vehicles with 0 cylinders suggests that these may be specialty or luxury vehicles, which could skew the overall pricing trends. This could indicate a niche market that values unique features over traditional performance metrics.', prompts=['How does the average retail price change as the number of cylinders increases?', 'Are there any significant differences in dealer costs for vehicles with different cylinder counts?'], answers=['Oddly, the average price of cars with 0 cylinders are greater than those with 3 and 4 and is around the same as cars with 6 cylinders.', 'The dealer costs are almost exactly the same as the average price.'], index=0)\n",
      "Insight(insight='The consistent relationship between dealer cost and retail price across cylinder counts suggests that dealers maintain a standard markup strategy, regardless of the cylinder count. This could imply that the market is relatively stable and predictable for vehicles with fewer cylinders.', prompts=['What trends can we observe in the relationship between retail price and dealer cost across cylinder counts?', 'How does the average dealer cost compare to the average retail price for vehicles with fewer cylinders?'], answers=['The dealer cost and average price are almost exactly the same.', 'The price and the cost are almost exactly the same. For cars with lower cylinder counts, they are below the average of 40,000.'], index=1)\n",
      "\n",
      "You are an experienced data analyst who can generate a given number of insightful GOALS about INSIGHTS that a user has about their data that will allow them to explore their INSIGHT deeper and make meaningful connections between them and their data. The VISUALIZATIONS YOU RECOMMEND MUST FOLLOW VISUALIZATION BEST PRACTICES (e.g., must use bar charts instead of pie charts for comparing quantities) AND BE MEANINGFUL (e.g., plot longitude and latitude on maps where appropriate). They must also be relevant to the specified persona AND always be related to the insight of the user. Each goal must include a question (THE QUESTION MUST REFERENCE A PART OF AN INSIGHT), a visualization (THE VISUALIZATION MUST REFERENCE THE EXACT COLUMN FIELDS FROM THE SUMMARY), and a rationale (JUSTIFICATION FOR WHICH dataset FIELDS ARE USED, what we will learn from the visualization AND how the question can allow the user to explore their insights deeper). Each goal MUST mention the exact fields from the dataset summary below.\n",
      "\n",
      "Generate a TOTAL of 5 goals.\n",
      "These are the user's insights: \n",
      "Insight 1: The unexpected high average retail price for vehicles with 0 cylinders suggests that these may be specialty or luxury vehicles, which could skew the overall pricing trends. This could indicate a niche market that values unique features over traditional performance metrics.\n",
      "            Insight 2: The consistent relationship between dealer cost and retail price across cylinder counts suggests that dealers maintain a standard markup strategy, regardless of the cylinder count. This could imply that the market is relatively stable and predictable for vehicles with fewer cylinders.\n",
      "            \n",
      "The generated goals SHOULD BE FOCUSED ON THE INTERESTS AND PERSPECTIVE of a 'A highly skilled data analyst who can come up with complex, insightful goals about data' persona, who is interested in complex, insightful goals about the data.\n",
      "\n",
      "        These are qualities of a good goal.\n",
      "\n",
      "        Question\n",
      "        - The question explores a specific part of the user's insight. It is not general and instead tries to find reasons that cause the insight (e.g. \"How does the average x of y (specific from insight) compare to others when controlling z?\"). \n",
      "        - The question is multi-faceted and explores how multiple variables lead to that insight. (e.g. \"How does x (from insight) with type y compare to others when controlling the variable z?\", \"Is there a relationship between x and y, and how does it affect z?\")\n",
      "        - It is not a general question (e.g. NOT \"How does the avarege x vary with different types?\").\n",
      "\n",
      "        Rationale\n",
      "        - The rationale is able to explain why it is crucial. (e.g. \"This is crucial because x impacts y.\")\n",
      "        - The rationale is able to provide a hypothesis (e.g. \"Using this visualization will show if x is typically y compared to others\")\n",
      "        - The rationale always ties back into a part of the insight (e.g. \"The visualization will help us see if your insight is true or valid\", \"This will reveal how x affects your insight y.\")\n",
      "        \n",
      "        If there is more than one insight, I want you to generate 5 goals that connect ALL of the insights.\n",
      "\n",
      "        \n",
      "THE OUTPUT MUST BE A CODE SNIPPET OF A VALID LIST OF JSON OBJECTS. IT MUST USE THE FOLLOWING FORMAT:\n",
      "\n",
      "```[\n",
      "    { \"index\": 0,  \"question\": \"What is the distribution of X\", \"visualization\": \"histogram of X\", \"rationale\": \"This tells about \"} ..\n",
      "    ]\n",
      "```\n",
      "THE OUTPUT SHOULD ONLY USE THE JSON FORMAT ABOVE.\n",
      "\n"
     ]
    },
    {
     "data": {
      "text/markdown": [
       "\n",
       "### Goal 0\n",
       "---\n",
       "**Question:** How does the average retail price of vehicles with 0 cylinders compare to those with more cylinders when controlling for dealer cost?\n",
       "\n",
       "**Visualization:** `bar chart comparing average retail price by cylinder count and dealer cost`\n",
       "\n",
       "**Rationale:** This is crucial because understanding the pricing strategy for specialty or luxury vehicles can help validate if the high average retail price is indeed linked to their unique features. This visualization will help us see if your insight about the niche market holds true when considering dealer cost.\n"
      ],
      "text/plain": [
       "Goal(question='How does the average retail price of vehicles with 0 cylinders compare to those with more cylinders when controlling for dealer cost?', visualization='bar chart comparing average retail price by cylinder count and dealer cost', rationale='This is crucial because understanding the pricing strategy for specialty or luxury vehicles can help validate if the high average retail price is indeed linked to their unique features. This visualization will help us see if your insight about the niche market holds true when considering dealer cost.', index=0)"
      ]
     },
     "metadata": {},
     "output_type": "display_data"
    },
    {
     "data": {
      "text/markdown": [
       "\n",
       "### Goal 1\n",
       "---\n",
       "**Question:** Is there a significant difference in the standard markup percentage across different cylinder counts, particularly focusing on vehicles with 0 cylinders?\n",
       "\n",
       "**Visualization:** `box plot of dealer cost vs retail price by cylinder count`\n",
       "\n",
       "**Rationale:** This is important as it may reveal how consistent the markup strategy is across different types of vehicles. If vehicles with 0 cylinders show a different markup than others, it could indicate a deviation from the standard strategy, thus affecting your insight about market stability.\n"
      ],
      "text/plain": [
       "Goal(question='Is there a significant difference in the standard markup percentage across different cylinder counts, particularly focusing on vehicles with 0 cylinders?', visualization='box plot of dealer cost vs retail price by cylinder count', rationale='This is important as it may reveal how consistent the markup strategy is across different types of vehicles. If vehicles with 0 cylinders show a different markup than others, it could indicate a deviation from the standard strategy, thus affecting your insight about market stability.', index=1)"
      ]
     },
     "metadata": {},
     "output_type": "display_data"
    },
    {
     "data": {
      "text/markdown": [
       "\n",
       "### Goal 2\n",
       "---\n",
       "**Question:** How does the average dealer cost for vehicles with 0 cylinders compare to those with 4 and 6 cylinders, and what does this imply about the pricing strategy?\n",
       "\n",
       "**Visualization:** `grouped bar chart of average dealer cost by cylinder count`\n",
       "\n",
       "**Rationale:** This visualization will help us understand if the higher retail price for 0 cylinder vehicles is justified by their dealer costs. Analyzing this relationship can provide insight into the luxury market dynamics and validate your findings regarding pricing trends.\n"
      ],
      "text/plain": [
       "Goal(question='How does the average dealer cost for vehicles with 0 cylinders compare to those with 4 and 6 cylinders, and what does this imply about the pricing strategy?', visualization='grouped bar chart of average dealer cost by cylinder count', rationale='This visualization will help us understand if the higher retail price for 0 cylinder vehicles is justified by their dealer costs. Analyzing this relationship can provide insight into the luxury market dynamics and validate your findings regarding pricing trends.', index=2)"
      ]
     },
     "metadata": {},
     "output_type": "display_data"
    },
    {
     "data": {
      "text/markdown": [
       "\n",
       "### Goal 3\n",
       "---\n",
       "**Question:** What is the correlation between cylinder count and the variance in retail prices, particularly for vehicles with 0 cylinders?\n",
       "\n",
       "**Visualization:** `scatter plot of cylinder count vs retail price with trend line`\n",
       "\n",
       "**Rationale:** Understanding this correlation will help identify if the high average retail price for 0 cylinder vehicles is an outlier or part of a broader trend. This analysis can deepen your insight into how cylinder count influences pricing strategies in the market.\n"
      ],
      "text/plain": [
       "Goal(question='What is the correlation between cylinder count and the variance in retail prices, particularly for vehicles with 0 cylinders?', visualization='scatter plot of cylinder count vs retail price with trend line', rationale='Understanding this correlation will help identify if the high average retail price for 0 cylinder vehicles is an outlier or part of a broader trend. This analysis can deepen your insight into how cylinder count influences pricing strategies in the market.', index=3)"
      ]
     },
     "metadata": {},
     "output_type": "display_data"
    },
    {
     "data": {
      "text/markdown": [
       "\n",
       "### Goal 4\n",
       "---\n",
       "**Question:** How do the retail prices of vehicles with 0 cylinders vary by make and model compared to those with more cylinders?\n",
       "\n",
       "**Visualization:** `facet grid of retail prices by make and model, separated by cylinder count`\n",
       "\n",
       "**Rationale:** This visualization will allow for a deeper exploration of how specific brands and models contribute to the high retail prices of 0 cylinder vehicles. It can confirm if certain makes or models are driving the niche market you identified in your insights.\n"
      ],
      "text/plain": [
       "Goal(question='How do the retail prices of vehicles with 0 cylinders vary by make and model compared to those with more cylinders?', visualization='facet grid of retail prices by make and model, separated by cylinder count', rationale='This visualization will allow for a deeper exploration of how specific brands and models contribute to the high retail prices of 0 cylinder vehicles. It can confirm if certain makes or models are driving the niche market you identified in your insights.', index=4)"
      ]
     },
     "metadata": {},
     "output_type": "display_data"
    }
   ],
   "source": [
    "textgen_config = TextGenerationConfig(n=1, temperature=0.5, presence_penalty=0.5, use_cache=False)\n",
    "insight_goals = lida.goals(summary=summary, n=5, textgen_config=textgen_config, insights=[insights[0], insights[1]])\n",
    "\n",
    "for insight_goal in insight_goals:\n",
    "    display(insight_goal)"
   ]
  },
  {
   "cell_type": "code",
   "execution_count": 67,
   "metadata": {},
   "outputs": [],
   "source": [
    "#SAVE\n",
    "\n",
    "with open('./two-insights-goals.pkl', 'wb') as f:\n",
    "    pickle.dump(insight_goals, f)"
   ]
  },
  {
   "cell_type": "code",
   "execution_count": 68,
   "metadata": {},
   "outputs": [],
   "source": [
    "#LOAD\n",
    "\n",
    "with open('./two-insights-goals.pkl', 'rb') as f:\n",
    "    two_insight_goals = pickle.load(f)"
   ]
  },
  {
   "cell_type": "code",
   "execution_count": 53,
   "metadata": {},
   "outputs": [
    {
     "data": {
      "text/markdown": [
       "\n",
       "### Goal 0\n",
       "---\n",
       "**Question:** How does the average retail price of vehicles with 0 cylinders compare to those with more cylinders when controlling for dealer cost?\n",
       "\n",
       "**Visualization:** `bar chart comparing average retail price across cylinder counts with dealer cost as a secondary axis`\n",
       "\n",
       "**Rationale:** This is crucial because understanding how the high average retail price for 0-cylinder vehicles relates to dealer cost can reveal if these specialty vehicles are indeed priced higher due to unique features or if there's a broader pricing trend. This visualization will help us see if your insight about niche markets holds true compared to traditional vehicles.\n"
      ],
      "text/plain": [
       "Goal(question='How does the average retail price of vehicles with 0 cylinders compare to those with more cylinders when controlling for dealer cost?', visualization='bar chart comparing average retail price across cylinder counts with dealer cost as a secondary axis', rationale=\"This is crucial because understanding how the high average retail price for 0-cylinder vehicles relates to dealer cost can reveal if these specialty vehicles are indeed priced higher due to unique features or if there's a broader pricing trend. This visualization will help us see if your insight about niche markets holds true compared to traditional vehicles.\", index=0)"
      ]
     },
     "metadata": {},
     "output_type": "display_data"
    },
    {
     "data": {
      "text/markdown": [
       "\n",
       "### Goal 1\n",
       "---\n",
       "**Question:** Is there a correlation between dealer cost and retail price specifically for vehicles with 0 cylinders, and how does it compare to vehicles with more cylinders?\n",
       "\n",
       "**Visualization:** `scatter plot of dealer cost vs. retail price colored by cylinder count`\n",
       "\n",
       "**Rationale:** This is crucial because identifying the correlation for 0-cylinder vehicles could validate your insight about their unique pricing strategy. If the correlation differs from vehicles with more cylinders, it would suggest that the market for these vehicles operates under different principles.\n"
      ],
      "text/plain": [
       "Goal(question='Is there a correlation between dealer cost and retail price specifically for vehicles with 0 cylinders, and how does it compare to vehicles with more cylinders?', visualization='scatter plot of dealer cost vs. retail price colored by cylinder count', rationale='This is crucial because identifying the correlation for 0-cylinder vehicles could validate your insight about their unique pricing strategy. If the correlation differs from vehicles with more cylinders, it would suggest that the market for these vehicles operates under different principles.', index=1)"
      ]
     },
     "metadata": {},
     "output_type": "display_data"
    },
    {
     "data": {
      "text/markdown": [
       "\n",
       "### Goal 2\n",
       "---\n",
       "**Question:** What percentage of the total vehicles sold fall into the high retail price category for 0-cylinder vehicles compared to other cylinder counts?\n",
       "\n",
       "**Visualization:** `stacked bar chart showing the percentage of vehicles in high retail price categories across cylinder counts`\n",
       "\n",
       "**Rationale:** This is crucial because it helps quantify the impact of 0-cylinder vehicles on overall pricing trends. Understanding this distribution will reveal how significant the niche market is within the broader dataset and whether it skews the average prices.\n"
      ],
      "text/plain": [
       "Goal(question='What percentage of the total vehicles sold fall into the high retail price category for 0-cylinder vehicles compared to other cylinder counts?', visualization='stacked bar chart showing the percentage of vehicles in high retail price categories across cylinder counts', rationale='This is crucial because it helps quantify the impact of 0-cylinder vehicles on overall pricing trends. Understanding this distribution will reveal how significant the niche market is within the broader dataset and whether it skews the average prices.', index=2)"
      ]
     },
     "metadata": {},
     "output_type": "display_data"
    },
    {
     "data": {
      "text/markdown": [
       "\n",
       "### Goal 3\n",
       "---\n",
       "**Question:** How do the average dealer costs for vehicles with 0 cylinders compare to the average dealer costs for vehicles with different cylinder counts?\n",
       "\n",
       "**Visualization:** `box plot comparing dealer costs across different cylinder counts`\n",
       "\n",
       "**Rationale:** This is crucial because it will help determine if the consistent relationship between dealer cost and retail price holds true across all cylinder counts. If 0-cylinder vehicles have significantly higher dealer costs, it may further explain their high retail prices.\n"
      ],
      "text/plain": [
       "Goal(question='How do the average dealer costs for vehicles with 0 cylinders compare to the average dealer costs for vehicles with different cylinder counts?', visualization='box plot comparing dealer costs across different cylinder counts', rationale='This is crucial because it will help determine if the consistent relationship between dealer cost and retail price holds true across all cylinder counts. If 0-cylinder vehicles have significantly higher dealer costs, it may further explain their high retail prices.', index=3)"
      ]
     },
     "metadata": {},
     "output_type": "display_data"
    },
    {
     "data": {
      "text/markdown": [
       "\n",
       "### Goal 4\n",
       "---\n",
       "**Question:** What are the unique features or specifications of vehicles with 0 cylinders that contribute to their higher retail prices compared to others?\n",
       "\n",
       "**Visualization:** `table or detailed listing of features/specifications for vehicles with 0 cylinders alongside their retail prices`\n",
       "\n",
       "**Rationale:** This is crucial because understanding the specific attributes of these vehicles can provide insight into why they command higher prices. This exploration can validate your insight about luxury or specialty vehicles and reveal what drives consumer value in this niche market.\n"
      ],
      "text/plain": [
       "Goal(question='What are the unique features or specifications of vehicles with 0 cylinders that contribute to their higher retail prices compared to others?', visualization='table or detailed listing of features/specifications for vehicles with 0 cylinders alongside their retail prices', rationale='This is crucial because understanding the specific attributes of these vehicles can provide insight into why they command higher prices. This exploration can validate your insight about luxury or specialty vehicles and reveal what drives consumer value in this niche market.', index=4)"
      ]
     },
     "metadata": {},
     "output_type": "display_data"
    }
   ],
   "source": [
    "for insight in two_insight_goals:\n",
    "    display(insight)"
   ]
  },
  {
   "cell_type": "code",
   "execution_count": 59,
   "metadata": {},
   "outputs": [
    {
     "data": {
      "image/png": "[encoded data removed]",
      "text/plain": [
       "import seaborn as sns\n",
       "import pandas as pd\n",
       "import matplotlib.pyplot as plt\n",
       "\n",
       "# No additional imports are needed\n",
       "\n",
       "def plot(data: pd.DataFrame): #ALWAYS INCLUDE THIS.\n",
       "    # Filter data for vehicles with 0 cylinders and more than 0 cylinders\n",
       "    data_zero_cyl = data[data['Cyl'] == 0]\n",
       "    data_non_zero_cyl = data[data['Cyl'] > 0]\n",
       "\n",
       "    plt.figure(figsize=(10, 6))\n",
       "    # Scatter plot for dealer cost vs retail price\n",
       "    sns.scatterplot(data=data_zero_cyl, x='Retail_Price', y='Dealer_Cost', color='red', label='0 Cylinders')\n",
       "    sns.scatterplot(data=data_non_zero_cyl, x='Retail_Price', y='Dealer_Cost', color='blue', label='More than 0 Cylinders')\n",
       "\n",
       "    plt.axhline(data_zero_cyl['Dealer_Cost'].median(), color='red', linestyle='--', label='Median Dealer Cost (0 Cyl)')\n",
       "    plt.axhline(data_non_zero_cyl['Dealer_Cost'].median(), color='blue', linestyle='--', label='Median Dealer Cost (More than 0 Cyl)')\n",
       "\n",
       "    plt.xlabel('Retail Price')\n",
       "    plt.ylabel('Dealer Cost')\n",
       "    plt.legend()\n",
       "    plt.title('Is there a correlation between dealer cost and retail price specifically for vehicles with 0 cylinders, and how does it compare to vehicles with more cylinders?', wrap=True)\n",
       "    return plt;\n",
       "\n",
       "chart = plot(data)"
      ]
     },
     "execution_count": 59,
     "metadata": {},
     "output_type": "execute_result"
    }
   ],
   "source": [
    "library = \"seaborn\"\n",
    "textgen_config = TextGenerationConfig(n=1, temperature=0.9, use_cache=True)\n",
    "charts = lida.visualize(summary=summary, goal=two_insight_goals[1], textgen_config=textgen_config, library=library)  \n",
    "charts[0]"
   ]
  },
  {
   "cell_type": "code",
   "execution_count": 62,
   "metadata": {},
   "outputs": [
    {
     "data": {
      "image/png": "[encoded data removed]",
      "text/plain": [
       "import seaborn as sns\n",
       "import pandas as pd\n",
       "import matplotlib.pyplot as plt\n",
       "import numpy as np  # additional import for line of fitness\n",
       "\n",
       "def plot(data: pd.DataFrame): #ALWAYS INCLUDE THIS.\n",
       "    # Filter data for vehicles with 0 cylinders and more than 0 cylinders\n",
       "    data_zero_cyl = data[data['Cyl'] == 0]\n",
       "    data_non_zero_cyl = data[data['Cyl'] > 0]\n",
       "\n",
       "    plt.figure(figsize=(10, 6))\n",
       "    # Scatter plot for dealer cost vs retail price\n",
       "    sns.scatterplot(data=data_zero_cyl, x='Retail_Price', y='Dealer_Cost', color='red', label='0 Cylinders', s=100)  # increased size for visibility\n",
       "    sns.scatterplot(data=data_non_zero_cyl, x='Retail_Price', y='Dealer_Cost', color='blue', label='More than 0 Cylinders', s=50)\n",
       "\n",
       "    # Fit line for non-zero cylinders\n",
       "    sns.regplot(data=data_non_zero_cyl, x='Retail_Price', y='Dealer_Cost', scatter=False, color='blue', line_kws={\"linestyle\":\"--\"})\n",
       "\n",
       "    plt.axhline(data_zero_cyl['Dealer_Cost'].median(), color='red', linestyle='--', label='Median Dealer Cost (0 Cyl)')\n",
       "    plt.axhline(data_non_zero_cyl['Dealer_Cost'].median(), color='blue', linestyle='--', label='Median Dealer Cost (More than 0 Cyl)')\n",
       "\n",
       "    plt.xlabel('Retail Price')\n",
       "    plt.ylabel('Dealer Cost')\n",
       "    plt.legend()\n",
       "    plt.title('Is there a correlation between dealer cost and retail price specifically for vehicles with 0 cylinders, and how does it compare to vehicles with more cylinders?', wrap=True)\n",
       "    return plt;\n",
       "\n",
       "chart = plot(data)"
      ]
     },
     "execution_count": 62,
     "metadata": {},
     "output_type": "execute_result"
    }
   ],
   "source": [
    "code = charts[0].code\n",
    "textgen_config = TextGenerationConfig(n=1, temperature=0, use_cache=True)\n",
    "instructions = [\"make the 0 cylinders dot more visible and put then higher than the more than 0 cylinders. draw a line of fitness\"]\n",
    "edited_charts = lida.edit(code=code,  summary=summary, instructions=instructions, library=library, textgen_config=textgen_config)\n",
    "edited_charts[0]"
   ]
  },
  {
   "cell_type": "markdown",
   "metadata": {},
   "source": [
    "## Generating Insight goals"
   ]
  },
  {
   "cell_type": "code",
   "execution_count": 124,
   "metadata": {},
   "outputs": [
    {
     "name": "stdout",
     "output_type": "stream",
     "text": [
      "\n",
      "You are an experienced data analyst who can generate a given number of insightful GOALS about INSIGHTS that a user has about their data that will allow them to explore their INSIGHT deeper and make meaningful connections between them and their data. The VISUALIZATIONS YOU RECOMMEND MUST FOLLOW VISUALIZATION BEST PRACTICES (e.g., must use bar charts instead of pie charts for comparing quantities) AND BE MEANINGFUL (e.g., plot longitude and latitude on maps where appropriate). They must also be relevant to the specified persona AND always be related to the insight of the user. Each goal must include a question (THE QUESTION MUST REFERENCE A PART OF AN INSIGHT), a visualization (THE VISUALIZATION MUST REFERENCE THE EXACT COLUMN FIELDS FROM THE SUMMARY), and a rationale (JUSTIFICATION FOR WHICH dataset FIELDS ARE USED, what we will learn from the visualization AND how the question can allow the user to explore their insights deeper). Each goal MUST mention the exact fields from the dataset summary below.\n",
      "\n",
      "Generate a TOTAL of 5 goals.\n",
      "This is the user's insights: \n",
      "            Insight 1: The outlier status of cars with 12 cylinders, having extremely high costs and prices of $120,000, highlights the presence of ultra-luxury or high-performance vehicles in the market that significantly deviate from the pricing norms of other cylinder counts.\n",
      "            \n",
      "This is the user's original goal:\n",
      "        Question: What is the impact of the number of cylinders on retail price and dealer cost?\n",
      "        Visualization: dual-axis bar chart comparing average Retail_Price and average Dealer_Cost by Cyl\n",
      "        Rationale: This dual-axis bar chart will allow us to compare the average retail price and dealer cost across different cylinder counts. By using this format, we can visualize how the number of cylinders influences both retail pricing and dealer costs, which is essential for understanding market dynamics.\n",
      "        \n",
      "These are questions and answers the user has relative to the insight:\n",
      "            Question 1: How does the average retail price change as the number of cylinders increases?\n",
      "            Answer: Oddly, the average price of cars with 0 cylinders are greater than those with 3 and 4 and is around the same as cars with 6 cylinders. All the other prices fall under or relatively close to 40,000 until the price of cars with 12 cylinders suddenly faces a drastic spike which is around 3x the others.\n",
      "            \n",
      "            Question 2: Are there any significant differences in dealer costs for vehicles with different cylinder counts?\n",
      "            Answer: The dealer costs are almost exactly the same as the average price.\n",
      "            \n",
      "            Question 3: What trends can we observe in the relationship between retail price and dealer cost across cylinder counts?\n",
      "            Answer: The dealer cost and average price are almost exactly the same.\n",
      "            \n",
      "            Question 4: Do vehicles with a higher number of cylinders generally have a higher markup from dealer cost to retail price?\n",
      "            Answer: Yeah, generally. 12 has the highest price and cost, followed by 8, 9, then 5, then 6 and 0, then 4 and 3.\n",
      "            \n",
      "            Question 5: Is there a threshold number of cylinders where the retail price significantly increases?\n",
      "            Answer: At cylinder count of 12. The price and cost is 3x the average.\n",
      "            \n",
      "            Question 6: How does the average dealer cost compare to the average retail price for vehicles with fewer cylinders?\n",
      "            Answer: The price and the cost are almost exactly the same. For cars with lover cylinder counts, they are below the average of 40,000.\n",
      "            \n",
      "            Question 7: What is the average price difference between vehicles with 4, 6, and 8 cylinders?\n",
      "            Answer: Between 4 and 6, the difference is around 5k. Between 6 and 8, the difference is around 10k.\n",
      "            \n",
      "            Question 8: Are there any outliers in dealer cost or retail price for specific cylinder counts?\n",
      "            Answer: Cars with 12 cylinders have an extremely high cost and price of 120,000.\n",
      "            \n",
      "            Question 9: How do average retail prices and dealer costs for different cylinder counts compare to industry standards?\n",
      "            Answer: I don't know the industry standards.\n",
      "            \n",
      "            Question 10: What implications do the observed trends in retail price and dealer cost have for future vehicle production and marketing?\n",
      "            Answer: I do not have information on this.\n",
      "            \n",
      "The goals should be based on the data summary below, \n",
      "\n",
      "{'name': 'cars.csv', 'file_name': 'cars.csv', 'dataset_description': '', 'fields': [{'column': 'Name', 'properties': {'dtype': 'string', 'samples': ['Nissan Altima S 4dr', 'Mercury Marauder 4dr', 'Toyota Prius 4dr (gas/electric)'], 'num_unique_values': 385, 'semantic_type': '', 'description': ''}}, {'column': 'Type', 'properties': {'dtype': 'category', 'value_counts': {'Sedan': 234, 'SUV': 59, 'Sports Car': 45, 'Wagon': 29, 'Minivan': 20}, 'samples': ['SUV', 'Minivan', 'Sports Car'], 'num_unique_values': 5, 'semantic_type': '', 'description': ''}}, {'column': 'AWD', 'properties': {'dtype': 'number', 'std': 0, 'min': 0, 'max': 1, 'quantile': {0.25: 0.0, 0.5: 0.0, 0.75: 0.0}, 'mean': 0, 'median': 0, 'kurtosis': 0, 'samples': [1, 0], 'num_unique_values': 2, 'semantic_type': '', 'description': ''}}, {'column': 'RWD', 'properties': {'dtype': 'number', 'std': 0, 'min': 0, 'max': 1, 'quantile': {0.25: 0.0, 0.5: 0.0, 0.75: 0.0}, 'mean': 0, 'median': 0, 'kurtosis': 0, 'samples': [1, 0], 'num_unique_values': 2, 'semantic_type': '', 'description': ''}}, {'column': 'Retail_Price', 'properties': {'dtype': 'number', 'std': 19724, 'min': 10280, 'max': 192465, 'quantile': {0.25: 20997.0, 0.5: 28495.0, 0.75: 39552.5}, 'mean': 33231, 'median': 28495, 'kurtosis': 14, 'samples': [22775, 37245], 'num_unique_values': 370, 'semantic_type': '', 'description': ''}}, {'column': 'Dealer_Cost', 'properties': {'dtype': 'number', 'std': 17901, 'min': 9875, 'max': 173560, 'quantile': {0.25: 19575.0, 0.5: 26155.0, 0.75: 36124.0}, 'mean': 30440, 'median': 26155, 'kurtosis': 14, 'samples': [18030, 31558], 'num_unique_values': 384, 'semantic_type': '', 'description': ''}}, {'column': 'Engine_Size__l_', 'properties': {'dtype': 'number', 'std': 1.0266787710109588, 'min': 0.0, 'max': 6.0, 'quantile': {0.25: 2.3, 0.5: 3.0, 0.75: 3.8}, 'mean': 3.1196382428940574, 'median': 3.0, 'kurtosis': -0.37554339820346394, 'samples': [2.2, 5.3], 'num_unique_values': 40, 'semantic_type': '', 'description': ''}}, {'column': 'Cyl', 'properties': {'dtype': 'number', 'std': 1, 'min': 0, 'max': 12, 'quantile': {0.25: 4.0, 0.5: 6.0, 0.75: 6.0}, 'mean': 5, 'median': 6, 'kurtosis': 0, 'samples': [4, 9], 'num_unique_values': 8, 'semantic_type': '', 'description': ''}}, {'column': 'Horsepower_HP_', 'properties': {'dtype': 'number', 'std': 70, 'min': 73, 'max': 493, 'quantile': {0.25: 165.0, 0.5: 210.0, 0.75: 250.0}, 'mean': 214, 'median': 210, 'kurtosis': 1, 'samples': [126, 138], 'num_unique_values': 100, 'semantic_type': '', 'description': ''}}, {'column': 'City_Miles_Per_Gallon', 'properties': {'dtype': 'number', 'std': 50, 'min': 10, 'max': 1000, 'quantile': {0.25: 18.0, 0.5: 19.0, 0.75: 22.0}, 'mean': 22, 'median': 19, 'kurtosis': 378, 'samples': [59, 32], 'num_unique_values': 29, 'semantic_type': '', 'description': ''}}, {'column': 'Highway_Miles_Per_Gallon', 'properties': {'dtype': 'number', 'std': 57, 'min': -1100, 'max': 66, 'quantile': {0.25: 24.0, 0.5: 27.0, 0.75: 30.0}, 'mean': 24, 'median': 27, 'kurtosis': 379, 'samples': [43, 37], 'num_unique_values': 33, 'semantic_type': '', 'description': ''}}, {'column': 'Weight', 'properties': {'dtype': 'number', 'std': 706, 'min': 1850, 'max': 6400, 'quantile': {0.25: 3107.0, 0.5: 3469.0, 0.75: 3922.0}, 'mean': 3532, 'median': 3469, 'kurtosis': 1, 'samples': [4473, 3472], 'num_unique_values': 315, 'semantic_type': '', 'description': ''}}, {'column': 'Wheel_Base', 'properties': {'dtype': 'number', 'std': 8, 'min': 0, 'max': 130, 'quantile': {0.25: 103.0, 0.5: 107.0, 0.75: 112.0}, 'mean': 106, 'median': 107, 'kurtosis': 52, 'samples': [110, 0], 'num_unique_values': 34, 'semantic_type': '', 'description': ''}}, {'column': 'Len', 'properties': {'dtype': 'number', 'std': 13, 'min': 143, 'max': 221, 'quantile': {0.25: 177.0, 0.5: 186.0, 0.75: 193.0}, 'mean': 184, 'median': 186, 'kurtosis': 0, 'samples': [197, 183], 'num_unique_values': 60, 'semantic_type': '', 'description': ''}}, {'column': 'Width', 'properties': {'dtype': 'number', 'std': 4, 'min': 2, 'max': 81, 'quantile': {0.25: 69.0, 0.5: 71.0, 0.75: 73.0}, 'mean': 71, 'median': 71, 'kurtosis': 104, 'samples': [72, 70], 'num_unique_values': 19, 'semantic_type': '', 'description': ''}}], 'field_names': ['Name', 'Type', 'AWD', 'RWD', 'Retail_Price', 'Dealer_Cost', 'Engine_Size__l_', 'Cyl', 'Horsepower_HP_', 'City_Miles_Per_Gallon', 'Highway_Miles_Per_Gallon', 'Weight', 'Wheel_Base', 'Len', 'Width']}\n",
      "\n",
      "\n",
      "The generated goals SHOULD BE FOCUSED ON THE INTERESTS AND PERSPECTIVE of a 'A highly skilled data analyst who can come up with complex, insightful goals about data' persona, who is interested in complex, insightful goals about the data.\n",
      "\n",
      "        The generated goals SHOULD allow the user to EXPLORE THEIR INSIGHTS DEEPER and allow them to make CONNECTIONS to other information from their dataset. THESE MUST ALL BE IN THE RATIONALE: Be creative and ALWAYS explicity explain why exploring this goal and answering its question is useful relative to the user's insights, what the visualization can do RELATIVE to the insight, and HOW exactly the visualization can help the user explore their insight deeper. Form your own hypothesis and connections. Cite specific parts of the user's rationale or information related to your answers when writing the rational and generating the goal. \n",
      "        \n",
      "        These are qualities of a good goal.\n",
      "\n",
      "        Question\n",
      "        - The question explores a specific part of the user's insight. It is not general and instead tries to find reasons that cause the insight (e.g. \"How does the average x of y (specific from insight) compare to others when controlling z?\"). \n",
      "        - The question is multi-faceted and explores how multiple variables lead to that insight. (e.g. \"How does x (from insight) with type y compare to others when controlling the variable z?\", \"Is there a relationship between x and y, and how does it affect z?\")\n",
      "        - It is not a general question (e.g. NOT \"How does the avarege x vary with different types?\").\n",
      "\n",
      "        Rationale\n",
      "        - The rationale is able to explain why it is crucial. (e.g. \"This is crucial because x impacts y.\")\n",
      "        - The rationale is able to provide a hypothesis (e.g. \"Using this visualization will show if x is typically y compared to others\")\n",
      "        - The rationale always ties back into a part of the insight (e.g. \"The visualization will help us see if your insight is true or valid\", \"This will reveal how x affects your insight y.\")\n",
      "        \n",
      "THE OUTPUT MUST BE A CODE SNIPPET OF A VALID LIST OF JSON OBJECTS. IT MUST USE THE FOLLOWING FORMAT:\n",
      "\n",
      "```[\n",
      "    { \"index\": 0,  \"question\": \"What is the distribution of X\", \"visualization\": \"histogram of X\", \"rationale\": \"This tells about \"} ..\n",
      "    ]\n",
      "```\n",
      "THE OUTPUT SHOULD ONLY USE THE JSON FORMAT ABOVE.\n",
      "\n"
     ]
    },
    {
     "data": {
      "text/markdown": [
       "\n",
       "### Goal 0\n",
       "---\n",
       "**Question:** How does the average retail price of cars with 12 cylinders compare to the industry standards?\n",
       "\n",
       "**Visualization:** `bar chart showing the average Retail_Price of cars with 12 cylinders compared to industry standards`\n",
       "\n",
       "**Rationale:** This is crucial because it will help us understand if the extremely high prices of cars with 12 cylinders align with industry norms. By visualizing this comparison, we can determine if these ultra-luxury or high-performance vehicles deviate significantly from the standard pricing in the market, which directly relates to the user's insight about outlier status.\n"
      ],
      "text/plain": [
       "Goal(question='How does the average retail price of cars with 12 cylinders compare to the industry standards?', visualization='bar chart showing the average Retail_Price of cars with 12 cylinders compared to industry standards', rationale=\"This is crucial because it will help us understand if the extremely high prices of cars with 12 cylinders align with industry norms. By visualizing this comparison, we can determine if these ultra-luxury or high-performance vehicles deviate significantly from the standard pricing in the market, which directly relates to the user's insight about outlier status.\", index=0)"
      ]
     },
     "metadata": {},
     "output_type": "display_data"
    },
    {
     "data": {
      "text/markdown": [
       "\n",
       "### Goal 1\n",
       "---\n",
       "**Question:** What is the relationship between horsepower and retail price for cars with 12 cylinders?\n",
       "\n",
       "**Visualization:** `scatter plot of Horsepower_HP_ versus Retail_Price for cars with 12 cylinders`\n",
       "\n",
       "**Rationale:** This will reveal how the horsepower of cars with 12 cylinders influences their retail prices. By examining this relationship, we can explore whether the high costs of these vehicles are justified by their high horsepower, providing deeper insights into the factors contributing to the outlier status mentioned by the user.\n"
      ],
      "text/plain": [
       "Goal(question='What is the relationship between horsepower and retail price for cars with 12 cylinders?', visualization='scatter plot of Horsepower_HP_ versus Retail_Price for cars with 12 cylinders', rationale='This will reveal how the horsepower of cars with 12 cylinders influences their retail prices. By examining this relationship, we can explore whether the high costs of these vehicles are justified by their high horsepower, providing deeper insights into the factors contributing to the outlier status mentioned by the user.', index=1)"
      ]
     },
     "metadata": {},
     "output_type": "display_data"
    },
    {
     "data": {
      "text/markdown": [
       "\n",
       "### Goal 2\n",
       "---\n",
       "**Question:** How do the city miles per gallon vary for cars with different cylinder counts?\n",
       "\n",
       "**Visualization:** `box plot of City_Miles_Per_Gallon by Cyl`\n",
       "\n",
       "**Rationale:** This analysis is essential to understand the fuel efficiency of cars across different cylinder counts. By visualizing the variation in city miles per gallon, we can explore how the number of cylinders impacts the fuel consumption of vehicles, which is a crucial aspect when considering the high costs and prices associated with cars with 12 cylinders.\n"
      ],
      "text/plain": [
       "Goal(question='How do the city miles per gallon vary for cars with different cylinder counts?', visualization='box plot of City_Miles_Per_Gallon by Cyl', rationale='This analysis is essential to understand the fuel efficiency of cars across different cylinder counts. By visualizing the variation in city miles per gallon, we can explore how the number of cylinders impacts the fuel consumption of vehicles, which is a crucial aspect when considering the high costs and prices associated with cars with 12 cylinders.', index=2)"
      ]
     },
     "metadata": {},
     "output_type": "display_data"
    },
    {
     "data": {
      "text/markdown": [
       "\n",
       "### Goal 3\n",
       "---\n",
       "**Question:** Is there a correlation between engine size and dealer cost for cars with 12 cylinders?\n",
       "\n",
       "**Visualization:** `scatter plot of Engine_Size__l_ versus Dealer_Cost for cars with 12 cylinders`\n",
       "\n",
       "**Rationale:** By investigating the relationship between engine size and dealer cost specifically for cars with 12 cylinders, we can determine if larger engine sizes contribute to the higher costs observed in these vehicles. This visualization will allow us to explore potential patterns or correlations that support the user's insight regarding the outlier status of cars with 12 cylinders.\n"
      ],
      "text/plain": [
       "Goal(question='Is there a correlation between engine size and dealer cost for cars with 12 cylinders?', visualization='scatter plot of Engine_Size__l_ versus Dealer_Cost for cars with 12 cylinders', rationale=\"By investigating the relationship between engine size and dealer cost specifically for cars with 12 cylinders, we can determine if larger engine sizes contribute to the higher costs observed in these vehicles. This visualization will allow us to explore potential patterns or correlations that support the user's insight regarding the outlier status of cars with 12 cylinders.\", index=3)"
      ]
     },
     "metadata": {},
     "output_type": "display_data"
    },
    {
     "data": {
      "text/markdown": [
       "\n",
       "### Goal 4\n",
       "---\n",
       "**Question:** How does the weight of cars with 12 cylinders compare to the average weight of all vehicles in the dataset?\n",
       "\n",
       "**Visualization:** `bar chart comparing the average Weight of cars with 12 cylinders to the overall average Weight`\n",
       "\n",
       "**Rationale:** By comparing the weight of cars with 12 cylinders to the average weight of all vehicles, we can gain insights into the relative heaviness of these high-performance or ultra-luxury vehicles. This comparison will help us understand if the outlier status based on pricing also extends to the physical characteristics, providing a holistic view of the unique features of cars with 12 cylinders.\n"
      ],
      "text/plain": [
       "Goal(question='How does the weight of cars with 12 cylinders compare to the average weight of all vehicles in the dataset?', visualization='bar chart comparing the average Weight of cars with 12 cylinders to the overall average Weight', rationale='By comparing the weight of cars with 12 cylinders to the average weight of all vehicles, we can gain insights into the relative heaviness of these high-performance or ultra-luxury vehicles. This comparison will help us understand if the outlier status based on pricing also extends to the physical characteristics, providing a holistic view of the unique features of cars with 12 cylinders.', index=4)"
      ]
     },
     "metadata": {},
     "output_type": "display_data"
    }
   ],
   "source": [
    "textgen_config = TextGenerationConfig(n=1, temperature=0.5, presence_penalty=0.5, use_cache=False)\n",
    "insight_goals = lida.goals(summary=summary, n=5, textgen_config=textgen_config, goal=goals[i], prompts=prompts, insights=[insights[8]], answers=answers)\n",
    "\n",
    "for insight_goal in insight_goals:\n",
    "    display(insight_goal)"
   ]
  },
  {
   "cell_type": "code",
   "execution_count": 46,
   "metadata": {},
   "outputs": [],
   "source": [
    "#SAVE\n",
    "\n",
    "with open('./two-insights-goals.pkl', 'wb') as f:\n",
    "    pickle.dump(insight_goals, f)"
   ]
  },
  {
   "cell_type": "code",
   "execution_count": 68,
   "metadata": {},
   "outputs": [
    {
     "name": "stdout",
     "output_type": "stream",
     "text": [
      "[Goal(question='How do the average retail prices of cars with 0, 3, 4, 6, and 12 cylinders compare?', visualization='bar chart of average Retail_Price by Cyl', rationale=\"By comparing the average retail prices of cars with different cylinder counts, we can gain insights into the impact of cylinder numbers on pricing, which aligns with the user's insight that certain cylinder counts may justify higher prices.\", index=0), Goal(question='What is the average dealer cost for cars with different cylinder counts?', visualization='bar chart of average Dealer_Cost by Cyl', rationale=\"Exploring the average dealer costs across various cylinder counts will provide valuable information on the cost implications of producing cars with different cylinder configurations, thus connecting to the user's insight about unique features associated with 0 and 6 cylinder cars.\", index=1), Goal(question='How does the average retail price vary for different types of vehicles (Sedan, SUV, Sports Car, Wagon, Minivan)?', visualization='bar chart of average Retail_Price by Type', rationale=\"Analyzing the average retail prices of different vehicle types can offer insights into pricing strategies based on vehicle categories, potentially shedding light on the reasons for the unique pricing of 0 and 6 cylinder cars highlighted in the user's insight.\", index=2), Goal(question='Is there a correlation between engine size and retail price for cars with varying cylinder counts?', visualization='scatter plot of Engine_Size__l_ vs Retail_Price colored by Cyl', rationale=\"Examining the relationship between engine size and retail price across different cylinder counts can help identify patterns in pricing based on engine specifications, providing further context to the user's observation about the pricing dynamics of cars with different cylinder numbers.\", index=3), Goal(question='How do the horsepower values differ for cars with 0, 3, 4, 6, and 12 cylinders?', visualization='box plot of Horsepower_HP_ by Cyl', rationale=\"Using a box plot to compare horsepower values across different cylinder counts can reveal insights into the performance characteristics associated with varying cylinder configurations, supporting the user's insight about unique features or branding that may influence pricing differences.\", index=4)]\n"
     ]
    }
   ],
   "source": [
    "print(insight_goals)"
   ]
  },
  {
   "cell_type": "code",
   "execution_count": 123,
   "metadata": {},
   "outputs": [],
   "source": [
    "#SAVE\n",
    "\n",
    "with open('./barchart/cars18-v2-5-6/prompt3/goals-i0-i1-v3-9.pkl', 'wb') as f:\n",
    "    pickle.dump(insight_goals, f)"
   ]
  },
  {
   "cell_type": "code",
   "execution_count": 128,
   "metadata": {},
   "outputs": [
    {
     "data": {
      "text/markdown": [
       "\n",
       "### Goal 0\n",
       "---\n",
       "**Question:** What is the distribution of car types in the dataset?\n",
       "\n",
       "**Visualization:** `bar chart of Type`\n",
       "\n",
       "**Rationale:** This visualization uses the 'Type' column to show the frequency of each car type (e.g., Sedan, SUV, Sports Car, Wagon, Minivan). A bar chart is appropriate here as it allows for easy comparison of the number of cars in each category, helping to identify which types are most prevalent and potentially influencing market trends.\n"
      ],
      "text/plain": [
       "Goal(question='What is the distribution of car types in the dataset?', visualization='bar chart of Type', rationale=\"This visualization uses the 'Type' column to show the frequency of each car type (e.g., Sedan, SUV, Sports Car, Wagon, Minivan). A bar chart is appropriate here as it allows for easy comparison of the number of cars in each category, helping to identify which types are most prevalent and potentially influencing market trends.\", index=0)"
      ]
     },
     "execution_count": 128,
     "metadata": {},
     "output_type": "execute_result"
    }
   ],
   "source": [
    "goals[0]"
   ]
  }
 ],
 "metadata": {
  "kernelspec": {
   "display_name": "base",
   "language": "python",
   "name": "python3"
  },
  "language_info": {
   "codemirror_mode": {
    "name": "ipython",
    "version": 3
   },
   "file_extension": ".py",
   "mimetype": "text/x-python",
   "name": "python",
   "nbconvert_exporter": "python",
   "pygments_lexer": "ipython3",
   "version": "3.12.5"
  },
  "vscode": {
   "interpreter": {
    "hash": "189101fc34b85ec7417252a331b6b3ef556b71030ac1f6fe00bfbe1409305460"
   }
  }
 },
 "nbformat": 4,
 "nbformat_minor": 2
}
