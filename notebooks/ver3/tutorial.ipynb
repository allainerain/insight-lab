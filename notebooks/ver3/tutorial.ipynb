{
 "cells": [
  {
   "cell_type": "markdown",
   "metadata": {},
   "source": [
    "# Version 3 - Prompter Module\n",
    "\n",
    "## Ver 3.1 - Add initial prompter module (generate questions based on goal and code)\n",
    "- Added `prompter.py` \n",
    "- Added a prompter dataclass (just for formatting)\n",
    "- Added prompter to the `Manager` class\n",
    "\n",
    "``` python\n",
    "SYSTEM_PROMPT = \"\"\"\n",
    "You are a helpful and highly skilled data analyst who is trained to provide helpful, structured questions to prompt the user to gain insights from data visualizations. \n",
    "\"\"\"\n",
    "```\n",
    "\n",
    "```` python\n",
    "FORMAT_INSTRUCTIONS = \"\"\"\n",
    "THE OUTPUT MUST BE A CODE SNIPPET OF A VALID LIST OF JSON OBJECTS. IT MUST USE THE FOLLOWING FORMAT:\n",
    "\n",
    "``[\n",
    "    { \"index\": 0,  \"question\": \"What is the distribution of X\"} ..\n",
    "    ]\n",
    "``\n",
    "THE OUTPUT SHOULD ONLY USE THE JSON FORMAT ABOVE.\n",
    "\"\"\"\n",
    "````\n",
    "\n",
    "``` python\n",
    "user_prompt = f\"\"\"\n",
    "The visualization is: {goal.visualization}. The question the visualization wants to answer is: {goal.question}. The rationale for choosing the visualization is: {goal.rationale}. The code of the visualization is: {code}.\n",
    "\"\"\"\n",
    "```\n",
    "\n",
    "## Ver 3.2 - Remove code from prompt and generate questions with rationale\n",
    "- Removed code from prompts to see if having goal context is enough (answer: ?)\n",
    "- Generated rationale\n",
    "\n",
    "``` python\n",
    "SYSTEM_PROMPT = \"\"\"\n",
    "You are a helpful and highly skilled data analyst who is trained to provide helpful, structured questions to prompt the user to gain insights from a data visualization given their goal. \n",
    "The QUESTIONS YOU ASK MUST INCITE INSIGHTFUL IDEAS AND BE MEANINGFUL (e.g., related to the goal). Each prompting question must include a question and a rationale (JUSTIFICATION FOR WHAT we will learn from the answering the question).\n",
    "\"\"\"\n",
    "```\n",
    "\n",
    "```` python\n",
    "FORMAT_INSTRUCTIONS = \"\"\"\n",
    "THE OUTPUT MUST BE A CODE SNIPPET OF A VALID LIST OF JSON OBJECTS. IT MUST USE THE FOLLOWING FORMAT:\n",
    "\n",
    "```[\n",
    "    { \"index\": 0,  \"question\": \"What is the distribution of X\", \"rationale\": \"This tells about \"} ..\n",
    "    ]\n",
    "```\n",
    "THE OUTPUT SHOULD ONLY USE THE JSON FORMAT ABOVE.\n",
    "\"\"\"\n",
    "````\n",
    "\n",
    "``` python\n",
    "user_prompt = f\"\"\"\n",
    "The visualization is: {goal.visualization}. The question the visualization wants to answer is: {goal.question}. The rationale for choosing the visualization is: {goal.rationale}.\n",
    "\"\"\"\n",
    "```\n",
    "\n",
    "## Ver 3.3 - Add initial insight module\n",
    "- Added an insight module to generate insights given the user's goal, questions about the visualization, and answers to the questions\n",
    "- Observations: generated insights are not as insightful as I would like LOL\n",
    "\n",
    "``` python\n",
    "SYSTEM_PROMPT = \"\"\"\n",
    "You are a helpful and highly skilled data analyst who is trained to provide helpful, and creative insights and connections based on the answers the user gave to specific questions about a visualization given their goal. \n",
    "The INSIGHTS YOU GENERATE MUST BE INSIGHTFUL AND BE MEANINGFUL (e.g., related to the goal). \n",
    "\"\"\"\n",
    "```\n",
    "\n",
    "```` python\n",
    "FORMAT_INSTRUCTIONS = \"\"\"\n",
    "THE OUTPUT MUST BE A CODE SNIPPET OF A VALID LIST OF JSON OBJECTS. IT MUST USE THE FOLLOWING FORMAT:\n",
    "\n",
    "```[\n",
    "    { \"index\": 0,  \"insight\": \"The x could indicate ...\"} ..\n",
    "    ]\n",
    "```\n",
    "THE OUTPUT SHOULD ONLY USE THE JSON FORMAT ABOVE.\n",
    "\"\"\"\n",
    "````\n",
    "\n",
    "``` python\n",
    "user_prompt = f\"\"\"\n",
    "The visualization is: {goal.visualization}. The question the visualization wants to answer is: {goal.question}. The rationale for choosing the visualization is: {goal.rationale}.\n",
    "\\nHere are the questions about the visualization and the corresponding answers:\n",
    "\"\"\"\n",
    "```\n",
    "\n",
    "## Ver 3.4 - Modify prompt to make insights better\n",
    "\n",
    "- prompt modification\n",
    "\n",
    "``` python\n",
    "SYSTEM_PROMPT = \"\"\"\n",
    "You are a helpful and highly skilled data analyst who is trained to provide helpful, and creative insights and connections based on the answers the user gave to specific questions about a visualization given their goal. \n",
    "You should give possible and deeper explanations for the insights you generated. \n",
    "\"\"\"\n",
    "```\n",
    "\n",
    "## Ver 3.5 - Experimenting with the prompt to generate as much insigtful insights\n",
    "\n",
    "``` python\n",
    "SYSTEM_PROMPT = \"\"\"\n",
    "\n",
    "\"\"\"\n",
    "```\n",
    "\n",
    "```` python\n",
    "FORMAT_INSTRUCTIONS = \"\"\"\n",
    "THE OUTPUT MUST BE A CODE SNIPPET OF A VALID LIST OF JSON OBJECTS. IT MUST USE THE FOLLOWING FORMAT:\n",
    "\n",
    "```[\n",
    "    { \"index\": 0,  \"insight\": \"The x could indicate ...\"} ..\n",
    "    ]\n",
    "```\n",
    "THE OUTPUT SHOULD ONLY USE THE JSON FORMAT ABOVE.\n",
    "\"\"\"\n",
    "````\n",
    "\n",
    "``` python\n",
    "user_prompt += f\"\"\"\n",
    "\\nThese are the egoals of the user and the visualization they used:\n",
    "\\nQuestion: {goal.question}\n",
    "\\nVisualization: {goal.visualization}\n",
    "\\nRationale: {goal.rationale}\n",
    "\\nCan you generate insights from the user's answers that draws connections between them?\n",
    "\"\"\"\n",
    "```\n",
    "\n",
    "## Ver 3.6 - Making a stronger prompt to generate stronger insights\n",
    "\n",
    "``` python\n",
    "SYSTEM_PROMPT = \"\"\"\n",
    "You are a an experienced data analyst who can generate a given number of meaningful AND creative insights that people may miss at a first glance about a chart, given the goal of the data visualization and a series of questions answered by a user. \n",
    "\\nBased on these questions, I want you to generate insights that make connections between the answers that the user gave. I want you to go beyond just describing the data and try to make connections and create hypothesis for why the data appears to be that certain way.\n",
    "\"\"\"\n",
    "```\n",
    "\n",
    "```` python\n",
    "FORMAT_INSTRUCTIONS = \"\"\"\n",
    "THE OUTPUT MUST BE A CODE SNIPPET OF A VALID LIST OF JSON OBJECTS. IT MUST USE THE FOLLOWING FORMAT:\n",
    "\n",
    "```[\n",
    "    { \"index\": 0,  \"insight\": \"The x could indicate ...\"} ..\n",
    "    ]\n",
    "```\n",
    "THE OUTPUT SHOULD ONLY USE THE JSON FORMAT ABOVE.\n",
    "\"\"\"\n",
    "````\n",
    "\n",
    "``` python\n",
    "user_prompt += f\"\"\"\n",
    "\\nThis is the goal of the user:\n",
    "\\nQuestion: {goal.question}\n",
    "\\nVisualization: {goal.visualization}\n",
    "\\nRationale: {goal.rationale}\n",
    "\\nCan you generate insights from the user's answers that draws connections between them?\n",
    "\"\"\"\n",
    "```"
   ]
  },
  {
   "cell_type": "markdown",
   "metadata": {},
   "source": [
    "## Setup"
   ]
  },
  {
   "cell_type": "code",
   "execution_count": 66,
   "metadata": {},
   "outputs": [
    {
     "name": "stdout",
     "output_type": "stream",
     "text": [
      "Note: you may need to restart the kernel to use updated packages.\n"
     ]
    },
    {
     "name": "stderr",
     "output_type": "stream",
     "text": [
      "WARNING: Skipping lida as it is not installed.\n"
     ]
    },
    {
     "name": "stdout",
     "output_type": "stream",
     "text": [
      "Defaulting to user installation because normal site-packages is not writeable\n",
      "Requirement already satisfied: python-dotenv in c:\\users\\samsung\\appdata\\local\\packages\\pythonsoftwarefoundation.python.3.12_qbz5n2kfra8p0\\localcache\\local-packages\\python312\\site-packages (1.0.1)\n",
      "Note: you may need to restart the kernel to use updated packages.\n",
      "Defaulting to user installation because normal site-packages is not writeable\n",
      "Requirement already satisfied: llmx in c:\\users\\samsung\\appdata\\local\\packages\\pythonsoftwarefoundation.python.3.12_qbz5n2kfra8p0\\localcache\\local-packages\\python312\\site-packages (0.0.21a0)\n",
      "Requirement already satisfied: pydantic in c:\\users\\samsung\\appdata\\local\\packages\\pythonsoftwarefoundation.python.3.12_qbz5n2kfra8p0\\localcache\\local-packages\\python312\\site-packages (from llmx) (2.8.2)\n",
      "Requirement already satisfied: openai in c:\\users\\samsung\\appdata\\local\\packages\\pythonsoftwarefoundation.python.3.12_qbz5n2kfra8p0\\localcache\\local-packages\\python312\\site-packages (from llmx) (1.40.0)\n",
      "Requirement already satisfied: tiktoken in c:\\users\\samsung\\appdata\\local\\packages\\pythonsoftwarefoundation.python.3.12_qbz5n2kfra8p0\\localcache\\local-packages\\python312\\site-packages (from llmx) (0.7.0)\n",
      "Requirement already satisfied: diskcache in c:\\users\\samsung\\appdata\\local\\packages\\pythonsoftwarefoundation.python.3.12_qbz5n2kfra8p0\\localcache\\local-packages\\python312\\site-packages (from llmx) (5.6.3)\n",
      "Requirement already satisfied: cohere in c:\\users\\samsung\\appdata\\local\\packages\\pythonsoftwarefoundation.python.3.12_qbz5n2kfra8p0\\localcache\\local-packages\\python312\\site-packages (from llmx) (5.6.2)\n",
      "Requirement already satisfied: google.auth in c:\\users\\samsung\\appdata\\local\\packages\\pythonsoftwarefoundation.python.3.12_qbz5n2kfra8p0\\localcache\\local-packages\\python312\\site-packages (from llmx) (2.32.0)\n",
      "Requirement already satisfied: typer in c:\\users\\samsung\\appdata\\local\\packages\\pythonsoftwarefoundation.python.3.12_qbz5n2kfra8p0\\localcache\\local-packages\\python312\\site-packages (from llmx) (0.12.3)\n",
      "Requirement already satisfied: pyyaml in c:\\users\\samsung\\appdata\\local\\packages\\pythonsoftwarefoundation.python.3.12_qbz5n2kfra8p0\\localcache\\local-packages\\python312\\site-packages (from llmx) (6.0.2)\n",
      "Requirement already satisfied: boto3<2.0.0,>=1.34.0 in c:\\users\\samsung\\appdata\\local\\packages\\pythonsoftwarefoundation.python.3.12_qbz5n2kfra8p0\\localcache\\local-packages\\python312\\site-packages (from cohere->llmx) (1.34.155)\n",
      "Requirement already satisfied: fastavro<2.0.0,>=1.9.4 in c:\\users\\samsung\\appdata\\local\\packages\\pythonsoftwarefoundation.python.3.12_qbz5n2kfra8p0\\localcache\\local-packages\\python312\\site-packages (from cohere->llmx) (1.9.5)\n",
      "Requirement already satisfied: httpx>=0.21.2 in c:\\users\\samsung\\appdata\\local\\packages\\pythonsoftwarefoundation.python.3.12_qbz5n2kfra8p0\\localcache\\local-packages\\python312\\site-packages (from cohere->llmx) (0.27.0)\n",
      "Requirement already satisfied: httpx-sse<0.5.0,>=0.4.0 in c:\\users\\samsung\\appdata\\local\\packages\\pythonsoftwarefoundation.python.3.12_qbz5n2kfra8p0\\localcache\\local-packages\\python312\\site-packages (from cohere->llmx) (0.4.0)\n",
      "Requirement already satisfied: parameterized<0.10.0,>=0.9.0 in c:\\users\\samsung\\appdata\\local\\packages\\pythonsoftwarefoundation.python.3.12_qbz5n2kfra8p0\\localcache\\local-packages\\python312\\site-packages (from cohere->llmx) (0.9.0)\n",
      "Requirement already satisfied: requests<3.0.0,>=2.0.0 in c:\\users\\samsung\\appdata\\local\\packages\\pythonsoftwarefoundation.python.3.12_qbz5n2kfra8p0\\localcache\\local-packages\\python312\\site-packages (from cohere->llmx) (2.32.3)\n",
      "Requirement already satisfied: tokenizers<1,>=0.15 in c:\\users\\samsung\\appdata\\local\\packages\\pythonsoftwarefoundation.python.3.12_qbz5n2kfra8p0\\localcache\\local-packages\\python312\\site-packages (from cohere->llmx) (0.19.1)\n",
      "Requirement already satisfied: types-requests<3.0.0,>=2.0.0 in c:\\users\\samsung\\appdata\\local\\packages\\pythonsoftwarefoundation.python.3.12_qbz5n2kfra8p0\\localcache\\local-packages\\python312\\site-packages (from cohere->llmx) (2.32.0.20240712)\n",
      "Requirement already satisfied: typing_extensions>=4.0.0 in c:\\users\\samsung\\appdata\\local\\packages\\pythonsoftwarefoundation.python.3.12_qbz5n2kfra8p0\\localcache\\local-packages\\python312\\site-packages (from cohere->llmx) (4.12.2)\n",
      "Requirement already satisfied: annotated-types>=0.4.0 in c:\\users\\samsung\\appdata\\local\\packages\\pythonsoftwarefoundation.python.3.12_qbz5n2kfra8p0\\localcache\\local-packages\\python312\\site-packages (from pydantic->llmx) (0.7.0)\n",
      "Requirement already satisfied: pydantic-core==2.20.1 in c:\\users\\samsung\\appdata\\local\\packages\\pythonsoftwarefoundation.python.3.12_qbz5n2kfra8p0\\localcache\\local-packages\\python312\\site-packages (from pydantic->llmx) (2.20.1)\n",
      "Requirement already satisfied: cachetools<6.0,>=2.0.0 in c:\\users\\samsung\\appdata\\local\\packages\\pythonsoftwarefoundation.python.3.12_qbz5n2kfra8p0\\localcache\\local-packages\\python312\\site-packages (from google.auth->llmx) (5.4.0)\n",
      "Requirement already satisfied: pyasn1-modules>=0.2.1 in c:\\users\\samsung\\appdata\\local\\packages\\pythonsoftwarefoundation.python.3.12_qbz5n2kfra8p0\\localcache\\local-packages\\python312\\site-packages (from google.auth->llmx) (0.4.0)\n",
      "Requirement already satisfied: rsa<5,>=3.1.4 in c:\\users\\samsung\\appdata\\local\\packages\\pythonsoftwarefoundation.python.3.12_qbz5n2kfra8p0\\localcache\\local-packages\\python312\\site-packages (from google.auth->llmx) (4.9)\n",
      "Requirement already satisfied: anyio<5,>=3.5.0 in c:\\users\\samsung\\appdata\\local\\packages\\pythonsoftwarefoundation.python.3.12_qbz5n2kfra8p0\\localcache\\local-packages\\python312\\site-packages (from openai->llmx) (4.4.0)\n",
      "Requirement already satisfied: distro<2,>=1.7.0 in c:\\users\\samsung\\appdata\\local\\packages\\pythonsoftwarefoundation.python.3.12_qbz5n2kfra8p0\\localcache\\local-packages\\python312\\site-packages (from openai->llmx) (1.9.0)\n",
      "Requirement already satisfied: jiter<1,>=0.4.0 in c:\\users\\samsung\\appdata\\local\\packages\\pythonsoftwarefoundation.python.3.12_qbz5n2kfra8p0\\localcache\\local-packages\\python312\\site-packages (from openai->llmx) (0.5.0)\n",
      "Requirement already satisfied: sniffio in c:\\users\\samsung\\appdata\\local\\packages\\pythonsoftwarefoundation.python.3.12_qbz5n2kfra8p0\\localcache\\local-packages\\python312\\site-packages (from openai->llmx) (1.3.1)\n",
      "Requirement already satisfied: tqdm>4 in c:\\users\\samsung\\appdata\\local\\packages\\pythonsoftwarefoundation.python.3.12_qbz5n2kfra8p0\\localcache\\local-packages\\python312\\site-packages (from openai->llmx) (4.66.5)\n",
      "Requirement already satisfied: regex>=2022.1.18 in c:\\users\\samsung\\appdata\\local\\packages\\pythonsoftwarefoundation.python.3.12_qbz5n2kfra8p0\\localcache\\local-packages\\python312\\site-packages (from tiktoken->llmx) (2024.7.24)\n",
      "Requirement already satisfied: click>=8.0.0 in c:\\users\\samsung\\appdata\\local\\packages\\pythonsoftwarefoundation.python.3.12_qbz5n2kfra8p0\\localcache\\local-packages\\python312\\site-packages (from typer->llmx) (8.1.7)\n",
      "Requirement already satisfied: shellingham>=1.3.0 in c:\\users\\samsung\\appdata\\local\\packages\\pythonsoftwarefoundation.python.3.12_qbz5n2kfra8p0\\localcache\\local-packages\\python312\\site-packages (from typer->llmx) (1.5.4)\n",
      "Requirement already satisfied: rich>=10.11.0 in c:\\users\\samsung\\appdata\\local\\packages\\pythonsoftwarefoundation.python.3.12_qbz5n2kfra8p0\\localcache\\local-packages\\python312\\site-packages (from typer->llmx) (13.7.1)\n",
      "Requirement already satisfied: idna>=2.8 in c:\\users\\samsung\\appdata\\local\\packages\\pythonsoftwarefoundation.python.3.12_qbz5n2kfra8p0\\localcache\\local-packages\\python312\\site-packages (from anyio<5,>=3.5.0->openai->llmx) (3.7)\n",
      "Requirement already satisfied: botocore<1.35.0,>=1.34.155 in c:\\users\\samsung\\appdata\\local\\packages\\pythonsoftwarefoundation.python.3.12_qbz5n2kfra8p0\\localcache\\local-packages\\python312\\site-packages (from boto3<2.0.0,>=1.34.0->cohere->llmx) (1.34.155)\n",
      "Requirement already satisfied: jmespath<2.0.0,>=0.7.1 in c:\\users\\samsung\\appdata\\local\\packages\\pythonsoftwarefoundation.python.3.12_qbz5n2kfra8p0\\localcache\\local-packages\\python312\\site-packages (from boto3<2.0.0,>=1.34.0->cohere->llmx) (1.0.1)\n",
      "Requirement already satisfied: s3transfer<0.11.0,>=0.10.0 in c:\\users\\samsung\\appdata\\local\\packages\\pythonsoftwarefoundation.python.3.12_qbz5n2kfra8p0\\localcache\\local-packages\\python312\\site-packages (from boto3<2.0.0,>=1.34.0->cohere->llmx) (0.10.2)\n",
      "Requirement already satisfied: colorama in c:\\users\\samsung\\appdata\\local\\packages\\pythonsoftwarefoundation.python.3.12_qbz5n2kfra8p0\\localcache\\local-packages\\python312\\site-packages (from click>=8.0.0->typer->llmx) (0.4.6)\n",
      "Requirement already satisfied: certifi in c:\\users\\samsung\\appdata\\local\\packages\\pythonsoftwarefoundation.python.3.12_qbz5n2kfra8p0\\localcache\\local-packages\\python312\\site-packages (from httpx>=0.21.2->cohere->llmx) (2024.7.4)\n",
      "Requirement already satisfied: httpcore==1.* in c:\\users\\samsung\\appdata\\local\\packages\\pythonsoftwarefoundation.python.3.12_qbz5n2kfra8p0\\localcache\\local-packages\\python312\\site-packages (from httpx>=0.21.2->cohere->llmx) (1.0.5)\n",
      "Requirement already satisfied: h11<0.15,>=0.13 in c:\\users\\samsung\\appdata\\local\\packages\\pythonsoftwarefoundation.python.3.12_qbz5n2kfra8p0\\localcache\\local-packages\\python312\\site-packages (from httpcore==1.*->httpx>=0.21.2->cohere->llmx) (0.14.0)\n",
      "Requirement already satisfied: pyasn1<0.7.0,>=0.4.6 in c:\\users\\samsung\\appdata\\local\\packages\\pythonsoftwarefoundation.python.3.12_qbz5n2kfra8p0\\localcache\\local-packages\\python312\\site-packages (from pyasn1-modules>=0.2.1->google.auth->llmx) (0.6.0)\n",
      "Requirement already satisfied: charset-normalizer<4,>=2 in c:\\users\\samsung\\appdata\\local\\packages\\pythonsoftwarefoundation.python.3.12_qbz5n2kfra8p0\\localcache\\local-packages\\python312\\site-packages (from requests<3.0.0,>=2.0.0->cohere->llmx) (3.3.2)\n",
      "Requirement already satisfied: urllib3<3,>=1.21.1 in c:\\users\\samsung\\appdata\\local\\packages\\pythonsoftwarefoundation.python.3.12_qbz5n2kfra8p0\\localcache\\local-packages\\python312\\site-packages (from requests<3.0.0,>=2.0.0->cohere->llmx) (2.2.2)\n",
      "Requirement already satisfied: markdown-it-py>=2.2.0 in c:\\users\\samsung\\appdata\\local\\packages\\pythonsoftwarefoundation.python.3.12_qbz5n2kfra8p0\\localcache\\local-packages\\python312\\site-packages (from rich>=10.11.0->typer->llmx) (3.0.0)\n",
      "Requirement already satisfied: pygments<3.0.0,>=2.13.0 in c:\\users\\samsung\\appdata\\local\\packages\\pythonsoftwarefoundation.python.3.12_qbz5n2kfra8p0\\localcache\\local-packages\\python312\\site-packages (from rich>=10.11.0->typer->llmx) (2.18.0)\n",
      "Requirement already satisfied: huggingface-hub<1.0,>=0.16.4 in c:\\users\\samsung\\appdata\\local\\packages\\pythonsoftwarefoundation.python.3.12_qbz5n2kfra8p0\\localcache\\local-packages\\python312\\site-packages (from tokenizers<1,>=0.15->cohere->llmx) (0.24.5)\n",
      "Requirement already satisfied: python-dateutil<3.0.0,>=2.1 in c:\\users\\samsung\\appdata\\local\\packages\\pythonsoftwarefoundation.python.3.12_qbz5n2kfra8p0\\localcache\\local-packages\\python312\\site-packages (from botocore<1.35.0,>=1.34.155->boto3<2.0.0,>=1.34.0->cohere->llmx) (2.9.0.post0)\n",
      "Requirement already satisfied: filelock in c:\\users\\samsung\\appdata\\local\\packages\\pythonsoftwarefoundation.python.3.12_qbz5n2kfra8p0\\localcache\\local-packages\\python312\\site-packages (from huggingface-hub<1.0,>=0.16.4->tokenizers<1,>=0.15->cohere->llmx) (3.15.4)\n",
      "Requirement already satisfied: fsspec>=2023.5.0 in c:\\users\\samsung\\appdata\\local\\packages\\pythonsoftwarefoundation.python.3.12_qbz5n2kfra8p0\\localcache\\local-packages\\python312\\site-packages (from huggingface-hub<1.0,>=0.16.4->tokenizers<1,>=0.15->cohere->llmx) (2024.6.1)\n",
      "Requirement already satisfied: packaging>=20.9 in c:\\users\\samsung\\appdata\\local\\packages\\pythonsoftwarefoundation.python.3.12_qbz5n2kfra8p0\\localcache\\local-packages\\python312\\site-packages (from huggingface-hub<1.0,>=0.16.4->tokenizers<1,>=0.15->cohere->llmx) (24.1)\n",
      "Requirement already satisfied: mdurl~=0.1 in c:\\users\\samsung\\appdata\\local\\packages\\pythonsoftwarefoundation.python.3.12_qbz5n2kfra8p0\\localcache\\local-packages\\python312\\site-packages (from markdown-it-py>=2.2.0->rich>=10.11.0->typer->llmx) (0.1.2)\n",
      "Requirement already satisfied: six>=1.5 in c:\\users\\samsung\\appdata\\local\\packages\\pythonsoftwarefoundation.python.3.12_qbz5n2kfra8p0\\localcache\\local-packages\\python312\\site-packages (from python-dateutil<3.0.0,>=2.1->botocore<1.35.0,>=1.34.155->boto3<2.0.0,>=1.34.0->cohere->llmx) (1.16.0)\n",
      "Note: you may need to restart the kernel to use updated packages.\n",
      "Defaulting to user installation because normal site-packages is not writeable\n",
      "Requirement already satisfied: pandas in c:\\users\\samsung\\appdata\\local\\packages\\pythonsoftwarefoundation.python.3.12_qbz5n2kfra8p0\\localcache\\local-packages\\python312\\site-packages (2.2.2)\n",
      "Requirement already satisfied: numpy>=1.26.0 in c:\\users\\samsung\\appdata\\local\\packages\\pythonsoftwarefoundation.python.3.12_qbz5n2kfra8p0\\localcache\\local-packages\\python312\\site-packages (from pandas) (2.0.1)\n",
      "Requirement already satisfied: python-dateutil>=2.8.2 in c:\\users\\samsung\\appdata\\local\\packages\\pythonsoftwarefoundation.python.3.12_qbz5n2kfra8p0\\localcache\\local-packages\\python312\\site-packages (from pandas) (2.9.0.post0)\n",
      "Requirement already satisfied: pytz>=2020.1 in c:\\users\\samsung\\appdata\\local\\packages\\pythonsoftwarefoundation.python.3.12_qbz5n2kfra8p0\\localcache\\local-packages\\python312\\site-packages (from pandas) (2024.1)\n",
      "Requirement already satisfied: tzdata>=2022.7 in c:\\users\\samsung\\appdata\\local\\packages\\pythonsoftwarefoundation.python.3.12_qbz5n2kfra8p0\\localcache\\local-packages\\python312\\site-packages (from pandas) (2024.1)\n",
      "Requirement already satisfied: six>=1.5 in c:\\users\\samsung\\appdata\\local\\packages\\pythonsoftwarefoundation.python.3.12_qbz5n2kfra8p0\\localcache\\local-packages\\python312\\site-packages (from python-dateutil>=2.8.2->pandas) (1.16.0)\n",
      "Note: you may need to restart the kernel to use updated packages.\n",
      "Defaulting to user installation because normal site-packages is not writeable\n",
      "Requirement already satisfied: matplotlib in c:\\users\\samsung\\appdata\\local\\packages\\pythonsoftwarefoundation.python.3.12_qbz5n2kfra8p0\\localcache\\local-packages\\python312\\site-packages (3.9.1.post1)\n",
      "Requirement already satisfied: contourpy>=1.0.1 in c:\\users\\samsung\\appdata\\local\\packages\\pythonsoftwarefoundation.python.3.12_qbz5n2kfra8p0\\localcache\\local-packages\\python312\\site-packages (from matplotlib) (1.2.1)\n",
      "Requirement already satisfied: cycler>=0.10 in c:\\users\\samsung\\appdata\\local\\packages\\pythonsoftwarefoundation.python.3.12_qbz5n2kfra8p0\\localcache\\local-packages\\python312\\site-packages (from matplotlib) (0.12.1)\n",
      "Requirement already satisfied: fonttools>=4.22.0 in c:\\users\\samsung\\appdata\\local\\packages\\pythonsoftwarefoundation.python.3.12_qbz5n2kfra8p0\\localcache\\local-packages\\python312\\site-packages (from matplotlib) (4.53.1)\n",
      "Requirement already satisfied: kiwisolver>=1.3.1 in c:\\users\\samsung\\appdata\\local\\packages\\pythonsoftwarefoundation.python.3.12_qbz5n2kfra8p0\\localcache\\local-packages\\python312\\site-packages (from matplotlib) (1.4.5)\n",
      "Requirement already satisfied: numpy>=1.23 in c:\\users\\samsung\\appdata\\local\\packages\\pythonsoftwarefoundation.python.3.12_qbz5n2kfra8p0\\localcache\\local-packages\\python312\\site-packages (from matplotlib) (2.0.1)\n",
      "Requirement already satisfied: packaging>=20.0 in c:\\users\\samsung\\appdata\\local\\packages\\pythonsoftwarefoundation.python.3.12_qbz5n2kfra8p0\\localcache\\local-packages\\python312\\site-packages (from matplotlib) (24.1)\n",
      "Requirement already satisfied: pillow>=8 in c:\\users\\samsung\\appdata\\local\\packages\\pythonsoftwarefoundation.python.3.12_qbz5n2kfra8p0\\localcache\\local-packages\\python312\\site-packages (from matplotlib) (10.4.0)\n",
      "Requirement already satisfied: pyparsing>=2.3.1 in c:\\users\\samsung\\appdata\\local\\packages\\pythonsoftwarefoundation.python.3.12_qbz5n2kfra8p0\\localcache\\local-packages\\python312\\site-packages (from matplotlib) (3.1.2)\n",
      "Requirement already satisfied: python-dateutil>=2.7 in c:\\users\\samsung\\appdata\\local\\packages\\pythonsoftwarefoundation.python.3.12_qbz5n2kfra8p0\\localcache\\local-packages\\python312\\site-packages (from matplotlib) (2.9.0.post0)\n",
      "Requirement already satisfied: six>=1.5 in c:\\users\\samsung\\appdata\\local\\packages\\pythonsoftwarefoundation.python.3.12_qbz5n2kfra8p0\\localcache\\local-packages\\python312\\site-packages (from python-dateutil>=2.7->matplotlib) (1.16.0)\n",
      "Note: you may need to restart the kernel to use updated packages.\n",
      "Defaulting to user installation because normal site-packages is not writeable\n",
      "Requirement already satisfied: plotly in c:\\users\\samsung\\appdata\\local\\packages\\pythonsoftwarefoundation.python.3.12_qbz5n2kfra8p0\\localcache\\local-packages\\python312\\site-packages (5.23.0)\n",
      "Requirement already satisfied: tenacity>=6.2.0 in c:\\users\\samsung\\appdata\\local\\packages\\pythonsoftwarefoundation.python.3.12_qbz5n2kfra8p0\\localcache\\local-packages\\python312\\site-packages (from plotly) (9.0.0)\n",
      "Requirement already satisfied: packaging in c:\\users\\samsung\\appdata\\local\\packages\\pythonsoftwarefoundation.python.3.12_qbz5n2kfra8p0\\localcache\\local-packages\\python312\\site-packages (from plotly) (24.1)\n",
      "Note: you may need to restart the kernel to use updated packages.\n"
     ]
    }
   ],
   "source": [
    "%pip uninstall -y lida \n",
    "%pip install -U python-dotenv\n",
    "%pip install -U llmx\n",
    "%pip install pandas\n",
    "%pip install matplotlib\n",
    "%pip install plotly\n",
    "# !pip install lida[infographics] # for infographics support"
   ]
  },
  {
   "cell_type": "code",
   "execution_count": 1,
   "metadata": {},
   "outputs": [
    {
     "name": "stdout",
     "output_type": "stream",
     "text": [
      "Note: you may need to restart the kernel to use updated packages.\n"
     ]
    },
    {
     "name": "stderr",
     "output_type": "stream",
     "text": [
      "WARNING: Package(s) not found: lida\n"
     ]
    }
   ],
   "source": [
    "%pip show lida"
   ]
  },
  {
   "cell_type": "code",
   "execution_count": 2,
   "metadata": {},
   "outputs": [],
   "source": [
    "%load_ext autoreload\n",
    "%autoreload 2"
   ]
  },
  {
   "cell_type": "code",
   "execution_count": 3,
   "metadata": {},
   "outputs": [],
   "source": [
    "import sys\n",
    "import os\n",
    "import pprint"
   ]
  },
  {
   "cell_type": "code",
   "execution_count": 4,
   "metadata": {},
   "outputs": [
    {
     "data": {
      "text/plain": [
       "True"
      ]
     },
     "execution_count": 4,
     "metadata": {},
     "output_type": "execute_result"
    }
   ],
   "source": [
    "from dotenv import load_dotenv\n",
    "\n",
    "load_dotenv()"
   ]
  },
  {
   "cell_type": "code",
   "execution_count": 6,
   "metadata": {},
   "outputs": [],
   "source": [
    "sys.path.append(os.path.abspath('../..'))"
   ]
  },
  {
   "cell_type": "code",
   "execution_count": 7,
   "metadata": {},
   "outputs": [],
   "source": [
    "from lida.components.manager import Manager\n",
    "from llmx import TextGenerationConfig, llm"
   ]
  },
  {
   "cell_type": "code",
   "execution_count": 8,
   "metadata": {},
   "outputs": [],
   "source": [
    "lida = Manager(text_gen = llm(\"openai\", api_key=os.getenv(\"APIKEY\"))) # !! api key\n",
    "textgen_config = TextGenerationConfig(n=1, temperature=0.5, model=\"gpt-4o-mini\", use_cache=True)"
   ]
  },
  {
   "cell_type": "code",
   "execution_count": 9,
   "metadata": {},
   "outputs": [
    {
     "data": {
      "text/plain": [
       "<lida.components.manager.Manager at 0x2778d2c1790>"
      ]
     },
     "metadata": {},
     "output_type": "display_data"
    }
   ],
   "source": [
    "display(lida)"
   ]
  },
  {
   "attachments": {},
   "cell_type": "markdown",
   "metadata": {},
   "source": [
    "## Summarize Data, Generate Goals"
   ]
  },
  {
   "cell_type": "markdown",
   "metadata": {},
   "source": [
    "### Summarize"
   ]
  },
  {
   "cell_type": "code",
   "execution_count": 44,
   "metadata": {},
   "outputs": [
    {
     "name": "stdout",
     "output_type": "stream",
     "text": [
      "here\n",
      "int64\n",
      "int64\n",
      "int64\n",
      "int64\n",
      "int64\n",
      "int64\n",
      "int64\n",
      "float64\n",
      "float64\n",
      "float64\n",
      "float64\n",
      "float64\n",
      "float64\n",
      "float64\n",
      "float64\n",
      "float64\n",
      "float64\n",
      "float64\n",
      "float64\n",
      "float64\n",
      "float64\n",
      "float64\n",
      "float64\n",
      "float64\n",
      "float64\n",
      "float64\n",
      "float64\n",
      "float64\n",
      "float64\n",
      "float64\n",
      "float64\n",
      "float64\n",
      "float64\n",
      "float64\n",
      "float64\n",
      "float64\n",
      "float64\n",
      "float64\n",
      "float64\n",
      "float64\n",
      "float64\n",
      "float64\n",
      "float64\n",
      "float64\n",
      "float64\n",
      "float64\n",
      "float64\n",
      "float64\n",
      "float64\n",
      "float64\n",
      "float64\n",
      "float64\n",
      "float64\n",
      "float64\n",
      "float64\n",
      "float64\n",
      "float64\n",
      "float64\n",
      "float64\n",
      "float64\n",
      "float64\n",
      "float64\n",
      "float64\n",
      "float64\n",
      "float64\n",
      "float64\n",
      "float64\n",
      "float64\n",
      "float64\n",
      "float64\n",
      "float64\n",
      "float64\n",
      "float64\n",
      "float64\n",
      "float64\n",
      "float64\n",
      "float64\n",
      "float64\n",
      "float64\n",
      "float64\n",
      "float64\n",
      "float64\n",
      "float64\n",
      "float64\n",
      "object\n",
      "{'NORMAL': 4190, 'RECOVERING': 310}\n",
      "{'dataset_description': '',\n",
      " 'field_names': ['Unnamed__0',\n",
      "                 'timestamp',\n",
      "                 'sensor_00',\n",
      "                 'sensor_01',\n",
      "                 'sensor_02',\n",
      "                 'sensor_03',\n",
      "                 'sensor_04',\n",
      "                 'sensor_05',\n",
      "                 'sensor_06',\n",
      "                 'sensor_07',\n",
      "                 'sensor_08',\n",
      "                 'sensor_09',\n",
      "                 'sensor_10',\n",
      "                 'machine_status'],\n",
      " 'fields': [{'column': 'Unnamed__0',\n",
      "             'properties': {'description': '',\n",
      "                            'dtype': 'number',\n",
      "                            'kurtosis': -1,\n",
      "                            'max': 220294,\n",
      "                            'mean': 110539,\n",
      "                            'median': 110693,\n",
      "                            'min': 4,\n",
      "                            'num_unique_values': 4500,\n",
      "                            'quantile': {0.25: 54709.0,\n",
      "                                         0.5: 110693.5,\n",
      "                                         0.75: 165932.75},\n",
      "                            'samples': [195852, 140678, 140935],\n",
      "                            'semantic_type': '',\n",
      "                            'std': 63459}},\n",
      "            {'column': 'timestamp',\n",
      "             'properties': {'description': '',\n",
      "                            'dtype': 'date',\n",
      "                            'max': '2018-08-31 9:43:00',\n",
      "                            'min': '2018-04-01 0:04:00',\n",
      "                            'num_unique_values': 4500,\n",
      "                            'samples': ['2018-08-15 0:12:00',\n",
      "                                        '2018-07-07 16:38:00',\n",
      "                                        '2018-07-07 20:55:00'],\n",
      "                            'semantic_type': ''}},\n",
      "            {'column': 'sensor_00',\n",
      "             'properties': {'description': '',\n",
      "                            'dtype': 'number',\n",
      "                            'kurtosis': 21.487294795271026,\n",
      "                            'max': 2.544097,\n",
      "                            'mean': 2.3657771000215573,\n",
      "                            'median': 2.456539,\n",
      "                            'min': 0.001967592631,\n",
      "                            'num_unique_values': 337,\n",
      "                            'quantile': {0.25: 2.440799,\n",
      "                                         0.5: 2.456539,\n",
      "                                         0.75: 2.499826},\n",
      "                            'samples': [2.400463, 2.416204, 2.395544],\n",
      "                            'semantic_type': '',\n",
      "                            'std': 0.4320434092118987}},\n",
      "            {'column': 'sensor_01',\n",
      "             'properties': {'description': '',\n",
      "                            'dtype': 'number',\n",
      "                            'kurtosis': 4.717058989547744,\n",
      "                            'max': 56.2066,\n",
      "                            'mean': 47.53202541436387,\n",
      "                            'median': 48.04688,\n",
      "                            'min': 32.20486,\n",
      "                            'num_unique_values': 546,\n",
      "                            'quantile': {0.25: 46.26736,\n",
      "                                         0.5: 48.04688,\n",
      "                                         0.75: 49.4357605},\n",
      "                            'samples': [36.11111069, 49.08854, 38.671875],\n",
      "                            'semantic_type': '',\n",
      "                            'std': 3.3422489779190827}},\n",
      "            {'column': 'sensor_02',\n",
      "             'properties': {'description': '',\n",
      "                            'dtype': 'number',\n",
      "                            'kurtosis': 8.625052598799712,\n",
      "                            'max': 56.03299,\n",
      "                            'mean': 50.84686345830666,\n",
      "                            'median': 51.69270706,\n",
      "                            'min': 33.15972,\n",
      "                            'num_unique_values': 496,\n",
      "                            'quantile': {0.25: 50.34722,\n",
      "                                         0.5: 51.69270706,\n",
      "                                         0.75: 52.7886257175},\n",
      "                            'samples': [55.42535, 37.32639, 49.34895706],\n",
      "                            'semantic_type': '',\n",
      "                            'std': 3.7287214213556985}},\n",
      "            {'column': 'sensor_03',\n",
      "             'properties': {'description': '',\n",
      "                            'dtype': 'number',\n",
      "                            'kurtosis': 4.966299089017893,\n",
      "                            'max': 48.17708206,\n",
      "                            'mean': 43.72332020279111,\n",
      "                            'median': 44.14063,\n",
      "                            'min': 31.64062309,\n",
      "                            'num_unique_values': 421,\n",
      "                            'quantile': {0.25: 42.79514,\n",
      "                                         0.5: 44.14063,\n",
      "                                         0.75: 45.22569275},\n",
      "                            'samples': [33.02951431, 35.37326431, 40.40798569],\n",
      "                            'semantic_type': '',\n",
      "                            'std': 2.4691908676597922}},\n",
      "            {'column': 'sensor_04',\n",
      "             'properties': {'description': '',\n",
      "                            'dtype': 'number',\n",
      "                            'kurtosis': 9.476456645507382,\n",
      "                            'max': 657.0602,\n",
      "                            'mean': 589.6408621902457,\n",
      "                            'median': 632.8703613,\n",
      "                            'min': 2.798032284,\n",
      "                            'num_unique_values': 1055,\n",
      "                            'quantile': {0.25: 626.9676,\n",
      "                                         0.5: 632.8703613,\n",
      "                                         0.75: 637.963},\n",
      "                            'samples': [607.8704, 622.3379517, 202.7575073],\n",
      "                            'semantic_type': '',\n",
      "                            'std': 145.95056507183472}},\n",
      "            {'column': 'sensor_05',\n",
      "             'properties': {'description': '',\n",
      "                            'dtype': 'number',\n",
      "                            'kurtosis': 9.299766989406361,\n",
      "                            'max': 99.99988,\n",
      "                            'mean': 73.11336662073421,\n",
      "                            'median': 75.44414,\n",
      "                            'min': 0.0,\n",
      "                            'num_unique_values': 4184,\n",
      "                            'quantile': {0.25: 69.928905,\n",
      "                                         0.5: 75.44414,\n",
      "                                         0.75: 80.8069075},\n",
      "                            'samples': [71.44492, 90.69836, 60.6374],\n",
      "                            'semantic_type': '',\n",
      "                            'std': 17.818790277517504}},\n",
      "            {'column': 'sensor_06',\n",
      "             'properties': {'description': '',\n",
      "                            'dtype': 'number',\n",
      "                            'kurtosis': 22.524586980609218,\n",
      "                            'max': 18.11343,\n",
      "                            'mean': 13.471278067832767,\n",
      "                            'median': 13.64294,\n",
      "                            'min': 0.01446759,\n",
      "                            'num_unique_values': 274,\n",
      "                            'quantile': {0.25: 13.34635,\n",
      "                                         0.5: 13.64294,\n",
      "                                         0.75: 14.56887},\n",
      "                            'samples': [14.71354, 14.46759, 10.05498],\n",
      "                            'semantic_type': '',\n",
      "                            'std': 2.2729480880782233}},\n",
      "            {'column': 'sensor_07',\n",
      "             'properties': {'description': '',\n",
      "                            'dtype': 'number',\n",
      "                            'kurtosis': 38.89145530568483,\n",
      "                            'max': 23.32899,\n",
      "                            'mean': 15.84521364022212,\n",
      "                            'median': 16.16753,\n",
      "                            'min': 0.03616898,\n",
      "                            'num_unique_values': 188,\n",
      "                            'quantile': {0.25: 15.91435,\n",
      "                                         0.5: 16.16753,\n",
      "                                         0.75: 16.47135},\n",
      "                            'samples': [15.43692, 17.57813, 15.66117],\n",
      "                            'semantic_type': '',\n",
      "                            'std': 2.2514943353538084}},\n",
      "            {'column': 'sensor_08',\n",
      "             'properties': {'description': '',\n",
      "                            'dtype': 'number',\n",
      "                            'kurtosis': 37.088636958975414,\n",
      "                            'max': 24.16811,\n",
      "                            'mean': 15.162652634854764,\n",
      "                            'median': 15.49479,\n",
      "                            'min': 0.02893518,\n",
      "                            'num_unique_values': 229,\n",
      "                            'quantile': {0.25: 15.18374,\n",
      "                                         0.5: 15.49479,\n",
      "                                         0.75: 15.69734},\n",
      "                            'samples': [16.91985, 16.12413, 15.56713],\n",
      "                            'semantic_type': '',\n",
      "                            'std': 2.165568930708422}},\n",
      "            {'column': 'sensor_09',\n",
      "             'properties': {'description': '',\n",
      "                            'dtype': 'number',\n",
      "                            'kurtosis': 37.397405077453826,\n",
      "                            'max': 25.0,\n",
      "                            'mean': 14.797016143190959,\n",
      "                            'median': 15.08247,\n",
      "                            'min': 0.007233796,\n",
      "                            'num_unique_values': 195,\n",
      "                            'quantile': {0.25: 15.05353,\n",
      "                                         0.5: 15.08247,\n",
      "                                         0.75: 15.11863},\n",
      "                            'samples': [10.03328, 16.44965, 8.817998],\n",
      "                            'semantic_type': '',\n",
      "                            'std': 2.161031200540012}},\n",
      "            {'column': 'sensor_10',\n",
      "             'properties': {'description': '',\n",
      "                            'dtype': 'number',\n",
      "                            'kurtosis': 5.449634796619712,\n",
      "                            'max': 64.18252,\n",
      "                            'mean': 41.442372768546655,\n",
      "                            'median': 44.3506,\n",
      "                            'min': 0.0,\n",
      "                            'num_unique_values': 4460,\n",
      "                            'quantile': {0.25: 40.719930000000005,\n",
      "                                         0.5: 44.3506,\n",
      "                                         0.75: 47.5245175},\n",
      "                            'samples': [40.59329, 46.05354, 0.2459072],\n",
      "                            'semantic_type': '',\n",
      "                            'std': 12.355670980055432}},\n",
      "            {'column': 'machine_status',\n",
      "             'properties': {'description': '',\n",
      "                            'dtype': 'category',\n",
      "                            'num_unique_values': 2,\n",
      "                            'samples': ['RECOVERING', 'NORMAL'],\n",
      "                            'semantic_type': '',\n",
      "                            'value_counts': {'NORMAL': 4190,\n",
      "                                             'RECOVERING': 310}}}],\n",
      " 'file_name': 'sensor.csv',\n",
      " 'name': 'sensor.csv'}\n"
     ]
    }
   ],
   "source": [
    "summary = lida.summarize(\"../sensor.csv\", summary_method=\"default\", textgen_config=textgen_config)  \n",
    "pprint.pprint(summary)"
   ]
  },
  {
   "cell_type": "markdown",
   "metadata": {},
   "source": [
    "### Generate Goals without a Persona"
   ]
  },
  {
   "cell_type": "code",
   "execution_count": 21,
   "metadata": {},
   "outputs": [
    {
     "data": {
      "text/markdown": [
       "\n",
       "### Goal 0\n",
       "---\n",
       "**Question:** What are the average Retail Prices for different car Types?\n",
       "\n",
       "**Visualization:** `bar chart of average Retail_Price grouped by Type`\n",
       "\n",
       "**Rationale:** This visualization will help us understand the pricing strategy across different car categories (Type), revealing which types are generally more expensive. The fields used are 'Retail_Price' for pricing and 'Type' for categorization, making it easy to compare average prices across the five unique car types.\n"
      ],
      "text/plain": [
       "Goal(question='What are the average Retail Prices for different car Types?', visualization='bar chart of average Retail_Price grouped by Type', rationale=\"This visualization will help us understand the pricing strategy across different car categories (Type), revealing which types are generally more expensive. The fields used are 'Retail_Price' for pricing and 'Type' for categorization, making it easy to compare average prices across the five unique car types.\", index=0)"
      ]
     },
     "metadata": {},
     "output_type": "display_data"
    },
    {
     "data": {
      "text/markdown": [
       "\n",
       "### Goal 1\n",
       "---\n",
       "**Question:** How does the distribution of Engine Sizes vary across different Types of cars?\n",
       "\n",
       "**Visualization:** `box plot of Engine_Size__l_ grouped by Type`\n",
       "\n",
       "**Rationale:** A box plot will show the spread and central tendency of engine sizes for each car type (Type). This will highlight any significant differences in engine size, helping to identify trends or preferences within each category. The fields used are 'Engine_Size__l_' for engine size and 'Type' for car categorization.\n"
      ],
      "text/plain": [
       "Goal(question='How does the distribution of Engine Sizes vary across different Types of cars?', visualization='box plot of Engine_Size__l_ grouped by Type', rationale=\"A box plot will show the spread and central tendency of engine sizes for each car type (Type). This will highlight any significant differences in engine size, helping to identify trends or preferences within each category. The fields used are 'Engine_Size__l_' for engine size and 'Type' for car categorization.\", index=1)"
      ]
     },
     "metadata": {},
     "output_type": "display_data"
    },
    {
     "data": {
      "text/markdown": [
       "\n",
       "### Goal 2\n",
       "---\n",
       "**Question:** What is the relationship between Horsepower and Type of car?\n",
       "\n",
       "**Visualization:** `scatter plot of Horsepower_HP_ colored by Type`\n",
       "\n",
       "**Rationale:** This scatter plot will help visualize how horsepower varies among different car types (Type), allowing us to identify any patterns or outliers in performance. The fields 'Horsepower_HP_' will provide the horsepower data, while 'Type' will categorize the cars.\n"
      ],
      "text/plain": [
       "Goal(question='What is the relationship between Horsepower and Type of car?', visualization='scatter plot of Horsepower_HP_ colored by Type', rationale=\"This scatter plot will help visualize how horsepower varies among different car types (Type), allowing us to identify any patterns or outliers in performance. The fields 'Horsepower_HP_' will provide the horsepower data, while 'Type' will categorize the cars.\", index=2)"
      ]
     },
     "metadata": {},
     "output_type": "display_data"
    },
    {
     "data": {
      "text/markdown": [
       "\n",
       "### Goal 3\n",
       "---\n",
       "**Question:** What is the count of cars per Type, and how does it relate to their average Retail Price?\n",
       "\n",
       "**Visualization:** `dual-axis bar chart of count of cars by Type and average Retail_Price by Type`\n",
       "\n",
       "**Rationale:** This visualization will provide insights into the market share of each car type (Type) and its average pricing (Retail_Price). The dual-axis allows us to see both the number of cars and their average pricing, revealing potential trends in car popularity versus pricing. The fields used are 'Type' for categorization and 'Retail_Price' for pricing.\n"
      ],
      "text/plain": [
       "Goal(question='What is the count of cars per Type, and how does it relate to their average Retail Price?', visualization='dual-axis bar chart of count of cars by Type and average Retail_Price by Type', rationale=\"This visualization will provide insights into the market share of each car type (Type) and its average pricing (Retail_Price). The dual-axis allows us to see both the number of cars and their average pricing, revealing potential trends in car popularity versus pricing. The fields used are 'Type' for categorization and 'Retail_Price' for pricing.\", index=3)"
      ]
     },
     "metadata": {},
     "output_type": "display_data"
    },
    {
     "data": {
      "text/markdown": [
       "\n",
       "### Goal 4\n",
       "---\n",
       "**Question:** What are the most common Types of cars and how do they compare in terms of City and Highway Miles Per Gallon?\n",
       "\n",
       "**Visualization:** `grouped bar chart of average City_Miles_Per_Gallon and Highway_Miles_Per_Gallon by Type`\n",
       "\n",
       "**Rationale:** This grouped bar chart will allow us to compare fuel efficiency (City_Miles_Per_Gallon and Highway_Miles_Per_Gallon) across different car types (Type). This is important for understanding consumer preferences regarding fuel efficiency. The fields used are 'Type' for categorization and both 'City_Miles_Per_Gallon' and 'Highway_Miles_Per_Gallon' for efficiency metrics.\n"
      ],
      "text/plain": [
       "Goal(question='What are the most common Types of cars and how do they compare in terms of City and Highway Miles Per Gallon?', visualization='grouped bar chart of average City_Miles_Per_Gallon and Highway_Miles_Per_Gallon by Type', rationale=\"This grouped bar chart will allow us to compare fuel efficiency (City_Miles_Per_Gallon and Highway_Miles_Per_Gallon) across different car types (Type). This is important for understanding consumer preferences regarding fuel efficiency. The fields used are 'Type' for categorization and both 'City_Miles_Per_Gallon' and 'Highway_Miles_Per_Gallon' for efficiency metrics.\", index=4)"
      ]
     },
     "metadata": {},
     "output_type": "display_data"
    },
    {
     "data": {
      "text/markdown": [
       "\n",
       "### Goal 5\n",
       "---\n",
       "**Question:** What is the correlation between Retail Price and Dealer Cost?\n",
       "\n",
       "**Visualization:** `scatter plot of Retail_Price vs Dealer_Cost`\n",
       "\n",
       "**Rationale:** This visualization helps to understand the relationship between the retail price and the dealer cost of cars. By plotting these two numerical fields against each other, we can identify if higher dealer costs are associated with higher retail prices, which is crucial for pricing strategies.\n"
      ],
      "text/plain": [
       "Goal(question='What is the correlation between Retail Price and Dealer Cost?', visualization='scatter plot of Retail_Price vs Dealer_Cost', rationale='This visualization helps to understand the relationship between the retail price and the dealer cost of cars. By plotting these two numerical fields against each other, we can identify if higher dealer costs are associated with higher retail prices, which is crucial for pricing strategies.', index=5)"
      ]
     },
     "metadata": {},
     "output_type": "display_data"
    },
    {
     "data": {
      "text/markdown": [
       "\n",
       "### Goal 6\n",
       "---\n",
       "**Question:** How does the distribution of Horsepower vary by car Type?\n",
       "\n",
       "**Visualization:** `box plot of Horsepower_HP_ grouped by Type`\n",
       "\n",
       "**Rationale:** A box plot allows us to visualize the distribution of horsepower across different car types, highlighting the median, quartiles, and potential outliers. This is important for understanding performance expectations within each car category.\n"
      ],
      "text/plain": [
       "Goal(question='How does the distribution of Horsepower vary by car Type?', visualization='box plot of Horsepower_HP_ grouped by Type', rationale='A box plot allows us to visualize the distribution of horsepower across different car types, highlighting the median, quartiles, and potential outliers. This is important for understanding performance expectations within each car category.', index=6)"
      ]
     },
     "metadata": {},
     "output_type": "display_data"
    },
    {
     "data": {
      "text/markdown": [
       "\n",
       "### Goal 7\n",
       "---\n",
       "**Question:** What is the relationship between Engine Size and Fuel Efficiency (City and Highway MPG)?\n",
       "\n",
       "**Visualization:** `scatter plot of Engine_Size__l_ vs City_Miles_Per_Gallon and Highway_Miles_Per_Gallon`\n",
       "\n",
       "**Rationale:** By plotting engine size against both city and highway miles per gallon, we can analyze how engine size influences fuel efficiency. This dual scatter plot will help identify trends and correlations that can inform decisions on engine design and fuel economy.\n"
      ],
      "text/plain": [
       "Goal(question='What is the relationship between Engine Size and Fuel Efficiency (City and Highway MPG)?', visualization='scatter plot of Engine_Size__l_ vs City_Miles_Per_Gallon and Highway_Miles_Per_Gallon', rationale='By plotting engine size against both city and highway miles per gallon, we can analyze how engine size influences fuel efficiency. This dual scatter plot will help identify trends and correlations that can inform decisions on engine design and fuel economy.', index=7)"
      ]
     },
     "metadata": {},
     "output_type": "display_data"
    },
    {
     "data": {
      "text/markdown": [
       "\n",
       "### Goal 8\n",
       "---\n",
       "**Question:** What is the impact of Weight on Horsepower?\n",
       "\n",
       "**Visualization:** `scatter plot of Weight vs Horsepower_HP_`\n",
       "\n",
       "**Rationale:** This scatter plot will illustrate the relationship between the weight of a car and its horsepower. Understanding this correlation can be vital for performance analysis and vehicle design, as heavier cars may require more horsepower to achieve similar performance.\n"
      ],
      "text/plain": [
       "Goal(question='What is the impact of Weight on Horsepower?', visualization='scatter plot of Weight vs Horsepower_HP_', rationale='This scatter plot will illustrate the relationship between the weight of a car and its horsepower. Understanding this correlation can be vital for performance analysis and vehicle design, as heavier cars may require more horsepower to achieve similar performance.', index=8)"
      ]
     },
     "metadata": {},
     "output_type": "display_data"
    },
    {
     "data": {
      "text/markdown": [
       "\n",
       "### Goal 9\n",
       "---\n",
       "**Question:** How does the number of Cylinders relate to Retail Price?\n",
       "\n",
       "**Visualization:** `bar chart of average Retail_Price by Cyl`\n",
       "\n",
       "**Rationale:** A bar chart showing the average retail price for cars based on the number of cylinders will help us understand how engine configuration affects pricing. This is particularly useful for market segmentation and targeting based on performance characteristics.\n"
      ],
      "text/plain": [
       "Goal(question='How does the number of Cylinders relate to Retail Price?', visualization='bar chart of average Retail_Price by Cyl', rationale='A bar chart showing the average retail price for cars based on the number of cylinders will help us understand how engine configuration affects pricing. This is particularly useful for market segmentation and targeting based on performance characteristics.', index=9)"
      ]
     },
     "metadata": {},
     "output_type": "display_data"
    },
    {
     "data": {
      "text/markdown": [
       "\n",
       "### Goal 10\n",
       "---\n",
       "**Question:** How does the relationship between Engine Size, Weight, and Retail Price vary across different Types of cars?\n",
       "\n",
       "**Visualization:** `scatter plot of Engine_Size__l_ vs Weight colored by Type with Retail_Price as the size of the points`\n",
       "\n",
       "**Rationale:** This visualization will help us understand how Engine Size and Weight interact with the Retail Price of cars, segmented by their Type. It allows for an analysis of trends and patterns, showcasing how larger or heavier vehicles might correlate with higher Retail Prices, while also observing differences across Types.\n"
      ],
      "text/plain": [
       "Goal(question='How does the relationship between Engine Size, Weight, and Retail Price vary across different Types of cars?', visualization='scatter plot of Engine_Size__l_ vs Weight colored by Type with Retail_Price as the size of the points', rationale='This visualization will help us understand how Engine Size and Weight interact with the Retail Price of cars, segmented by their Type. It allows for an analysis of trends and patterns, showcasing how larger or heavier vehicles might correlate with higher Retail Prices, while also observing differences across Types.', index=10)"
      ]
     },
     "metadata": {},
     "output_type": "display_data"
    },
    {
     "data": {
      "text/markdown": [
       "\n",
       "### Goal 11\n",
       "---\n",
       "**Question:** What is the relationship between Horsepower, Cylinders, and City Miles Per Gallon?\n",
       "\n",
       "**Visualization:** `3D scatter plot of Horsepower_HP_ vs Cyl colored by City_Miles_Per_Gallon`\n",
       "\n",
       "**Rationale:** This visualization provides insight into how the number of Cylinders and Horsepower impact fuel efficiency in terms of City Miles Per Gallon. By visualizing these three variables together, we can identify potential trade-offs between power and fuel efficiency.\n"
      ],
      "text/plain": [
       "Goal(question='What is the relationship between Horsepower, Cylinders, and City Miles Per Gallon?', visualization='3D scatter plot of Horsepower_HP_ vs Cyl colored by City_Miles_Per_Gallon', rationale='This visualization provides insight into how the number of Cylinders and Horsepower impact fuel efficiency in terms of City Miles Per Gallon. By visualizing these three variables together, we can identify potential trade-offs between power and fuel efficiency.', index=11)"
      ]
     },
     "metadata": {},
     "output_type": "display_data"
    },
    {
     "data": {
      "text/markdown": [
       "\n",
       "### Goal 12\n",
       "---\n",
       "**Question:** How do Weight, Wheel Base, and Highway Miles Per Gallon relate to each other across different Types of cars?\n",
       "\n",
       "**Visualization:** `bubble chart of Weight vs Wheel_Base with Highway_Miles_Per_Gallon as the size of the bubbles, colored by Type`\n",
       "\n",
       "**Rationale:** This visualization will illustrate how Weight and Wheel Base influence fuel efficiency on the highway, while allowing us to observe variations across car Types. The use of a bubble chart will enable us to see the relative impact of these dimensions on fuel economy.\n"
      ],
      "text/plain": [
       "Goal(question='How do Weight, Wheel Base, and Highway Miles Per Gallon relate to each other across different Types of cars?', visualization='bubble chart of Weight vs Wheel_Base with Highway_Miles_Per_Gallon as the size of the bubbles, colored by Type', rationale='This visualization will illustrate how Weight and Wheel Base influence fuel efficiency on the highway, while allowing us to observe variations across car Types. The use of a bubble chart will enable us to see the relative impact of these dimensions on fuel economy.', index=12)"
      ]
     },
     "metadata": {},
     "output_type": "display_data"
    },
    {
     "data": {
      "text/markdown": [
       "\n",
       "### Goal 13\n",
       "---\n",
       "**Question:** What is the correlation between Retail Price, Dealer Cost, and Engine Size?\n",
       "\n",
       "**Visualization:** `heatmap showing the correlation coefficients between Retail_Price, Dealer_Cost, and Engine_Size__l_`\n",
       "\n",
       "**Rationale:** This heatmap will provide a clear visual representation of the correlations between these three variables. Understanding how closely Retail Price and Dealer Cost relate to Engine Size will help in assessing pricing strategies and market positioning.\n"
      ],
      "text/plain": [
       "Goal(question='What is the correlation between Retail Price, Dealer Cost, and Engine Size?', visualization='heatmap showing the correlation coefficients between Retail_Price, Dealer_Cost, and Engine_Size__l_', rationale='This heatmap will provide a clear visual representation of the correlations between these three variables. Understanding how closely Retail Price and Dealer Cost relate to Engine Size will help in assessing pricing strategies and market positioning.', index=13)"
      ]
     },
     "metadata": {},
     "output_type": "display_data"
    },
    {
     "data": {
      "text/markdown": [
       "\n",
       "### Goal 14\n",
       "---\n",
       "**Question:** How does the relationship between Type, City Miles Per Gallon, and Highway Miles Per Gallon vary?\n",
       "\n",
       "**Visualization:** `grouped bar chart comparing average City_Miles_Per_Gallon and Highway_Miles_Per_Gallon for each Type`\n",
       "\n",
       "**Rationale:** This grouped bar chart allows for easy comparison of fuel efficiency metrics between different Types of cars. It highlights how car Type influences city versus highway fuel efficiency, which is critical for consumers making purchasing decisions.\n"
      ],
      "text/plain": [
       "Goal(question='How does the relationship between Type, City Miles Per Gallon, and Highway Miles Per Gallon vary?', visualization='grouped bar chart comparing average City_Miles_Per_Gallon and Highway_Miles_Per_Gallon for each Type', rationale='This grouped bar chart allows for easy comparison of fuel efficiency metrics between different Types of cars. It highlights how car Type influences city versus highway fuel efficiency, which is critical for consumers making purchasing decisions.', index=14)"
      ]
     },
     "metadata": {},
     "output_type": "display_data"
    },
    {
     "data": {
      "text/markdown": [
       "\n",
       "### Goal 15\n",
       "---\n",
       "**Question:** What is the relationship between Engine Size and Retail Price?\n",
       "\n",
       "**Visualization:** `scatter plot of Engine_Size__l_ vs Retail_Price`\n",
       "\n",
       "**Rationale:** This visualization allows us to observe if there is a correlation between the size of the engine and the retail price of the cars. A scatter plot is appropriate here as it can reveal patterns, trends, and potential outliers in the relationship between these two continuous variables.\n"
      ],
      "text/plain": [
       "Goal(question='What is the relationship between Engine Size and Retail Price?', visualization='scatter plot of Engine_Size__l_ vs Retail_Price', rationale='This visualization allows us to observe if there is a correlation between the size of the engine and the retail price of the cars. A scatter plot is appropriate here as it can reveal patterns, trends, and potential outliers in the relationship between these two continuous variables.', index=15)"
      ]
     },
     "metadata": {},
     "output_type": "display_data"
    },
    {
     "data": {
      "text/markdown": [
       "\n",
       "### Goal 16\n",
       "---\n",
       "**Question:** How does Weight influence Highway Miles Per Gallon?\n",
       "\n",
       "**Visualization:** `scatter plot of Weight vs Highway_Miles_Per_Gallon`\n",
       "\n",
       "**Rationale:** This scatter plot will help us understand the impact of a car's weight on its fuel efficiency on highways. Analyzing this relationship can provide insights into how heavier vehicles perform in terms of mileage, and it's best represented by a scatter plot to visualize any trends or correlations.\n"
      ],
      "text/plain": [
       "Goal(question='How does Weight influence Highway Miles Per Gallon?', visualization='scatter plot of Weight vs Highway_Miles_Per_Gallon', rationale=\"This scatter plot will help us understand the impact of a car's weight on its fuel efficiency on highways. Analyzing this relationship can provide insights into how heavier vehicles perform in terms of mileage, and it's best represented by a scatter plot to visualize any trends or correlations.\", index=16)"
      ]
     },
     "metadata": {},
     "output_type": "display_data"
    },
    {
     "data": {
      "text/markdown": [
       "\n",
       "### Goal 17\n",
       "---\n",
       "**Question:** What is the correlation between Horsepower and City Miles Per Gallon?\n",
       "\n",
       "**Visualization:** `scatter plot of Horsepower_HP_ vs City_Miles_Per_Gallon`\n",
       "\n",
       "**Rationale:** Using a scatter plot to examine the relationship between horsepower and city mileage will help us identify if more powerful cars tend to consume more fuel in city driving conditions. This visualization is effective for understanding the potential trade-off between performance and fuel efficiency.\n"
      ],
      "text/plain": [
       "Goal(question='What is the correlation between Horsepower and City Miles Per Gallon?', visualization='scatter plot of Horsepower_HP_ vs City_Miles_Per_Gallon', rationale='Using a scatter plot to examine the relationship between horsepower and city mileage will help us identify if more powerful cars tend to consume more fuel in city driving conditions. This visualization is effective for understanding the potential trade-off between performance and fuel efficiency.', index=17)"
      ]
     },
     "metadata": {},
     "output_type": "display_data"
    },
    {
     "data": {
      "text/markdown": [
       "\n",
       "### Goal 18\n",
       "---\n",
       "**Question:** How do the number of Cylinders relate to Retail Price?\n",
       "\n",
       "**Visualization:** `box plot of Cyl vs Retail_Price`\n",
       "\n",
       "**Rationale:** A box plot will illustrate the distribution of retail prices across different cylinder counts, allowing us to see the median, quartiles, and potential outliers. This visualization is useful for understanding how the engine configuration may affect pricing strategies in the market.\n"
      ],
      "text/plain": [
       "Goal(question='How do the number of Cylinders relate to Retail Price?', visualization='box plot of Cyl vs Retail_Price', rationale='A box plot will illustrate the distribution of retail prices across different cylinder counts, allowing us to see the median, quartiles, and potential outliers. This visualization is useful for understanding how the engine configuration may affect pricing strategies in the market.', index=18)"
      ]
     },
     "metadata": {},
     "output_type": "display_data"
    },
    {
     "data": {
      "text/markdown": [
       "\n",
       "### Goal 19\n",
       "---\n",
       "**Question:** What is the relationship between Type of car and Weight?\n",
       "\n",
       "**Visualization:** `bar chart of Type vs Weight (average)`\n",
       "\n",
       "**Rationale:** This bar chart will display the average weight of cars categorized by type, helping us understand how different types of vehicles compare in terms of weight. A bar chart is suitable for comparing quantities across categories, providing clear insights into how vehicle classifications relate to their weight.\n"
      ],
      "text/plain": [
       "Goal(question='What is the relationship between Type of car and Weight?', visualization='bar chart of Type vs Weight (average)', rationale='This bar chart will display the average weight of cars categorized by type, helping us understand how different types of vehicles compare in terms of weight. A bar chart is suitable for comparing quantities across categories, providing clear insights into how vehicle classifications relate to their weight.', index=19)"
      ]
     },
     "metadata": {},
     "output_type": "display_data"
    }
   ],
   "source": [
    "goals = lida.goals(summary, n=20, textgen_config=textgen_config)\n",
    "\n",
    "for goal in goals:\n",
    "    display(goal)"
   ]
  },
  {
   "cell_type": "markdown",
   "metadata": {},
   "source": [
    "### Saving and Loading Goals without a Persona"
   ]
  },
  {
   "cell_type": "code",
   "execution_count": 11,
   "metadata": {},
   "outputs": [],
   "source": [
    "import pickle"
   ]
  },
  {
   "cell_type": "code",
   "execution_count": 15,
   "metadata": {},
   "outputs": [],
   "source": [
    "# # SAVE\n",
    "\n",
    "# with open('goals2-5-8-20-combined-cars.pkl', 'wb') as f:\n",
    "#     pickle.dump(goals, f)"
   ]
  },
  {
   "cell_type": "code",
   "execution_count": 45,
   "metadata": {},
   "outputs": [
    {
     "data": {
      "text/plain": [
       "[Goal(question='What is the distribution of machine status across the dataset?', visualization='bar chart of machine_status', rationale=\"This visualization uses the 'machine_status' field to show the count of each category (NORMAL and RECOVERING). A bar chart is appropriate here as it allows for easy comparison of the quantities of different statuses. This will help us understand the operational state of the machines and identify any patterns or anomalies in their statuses.\", index=0),\n",
       " Goal(question='How does the sensor data correlate with machine status?', visualization='box plot of sensor_01 by machine_status', rationale=\"Using 'sensor_01' against 'machine_status' in a box plot allows us to visualize the distribution of sensor readings across the two categories of machine status. This visualization will help us identify if there are significant differences in sensor readings when the machine is in different states, providing insights into sensor performance and machine behavior.\", index=1),\n",
       " Goal(question='What trends can we observe in sensor readings over time, segmented by machine status?', visualization='line chart of average sensor_02 over time, colored by machine_status', rationale=\"This visualization will plot the average values of 'sensor_02' over the 'timestamp' field, with lines differentiated by 'machine_status'. A line chart is effective for showing trends over time, and segmenting by machine status will allow us to see if there are time-based patterns in sensor performance relative to machine conditions.\", index=2),\n",
       " Goal(question='What is the relationship between different sensors and machine status?', visualization='scatter plot of sensor_03 vs sensor_04, colored by machine_status', rationale=\"A scatter plot of 'sensor_03' against 'sensor_04', with points colored by 'machine_status', will help us visualize the relationship between these two sensors while considering the operational state of the machine. This can reveal correlations or clusters that indicate specific behaviors or issues related to machine performance.\", index=3),\n",
       " Goal(question='What are the trends in sensor readings over time for sensor_01?', visualization='line chart of sensor_01 against timestamp', rationale='This visualization will allow us to observe how sensor_01 values change over the specified date range from 2018-04-01 to 2018-08-31. By plotting sensor_01 against timestamp, we can identify patterns, anomalies, or trends in the data that may indicate underlying issues or improvements in the system.', index=4),\n",
       " Goal(question='How do the readings of sensor_05 vary across different timestamps?', visualization='box plot of sensor_05 grouped by month from timestamp', rationale='Using a box plot to visualize sensor_05 readings grouped by month will provide insights into the distribution of readings over time, highlighting any seasonal trends or outliers. This approach will help us understand the variability and central tendency of sensor_05 across different periods.', index=5),\n",
       " Goal(question='What is the correlation of sensor readings with respect to time?', visualization='heatmap of correlation coefficients between sensor readings and timestamp', rationale='A heatmap showing the correlation coefficients between the various sensor readings and the timestamp will help us identify if there are any significant relationships between time and the sensor values. This visualization can reveal how sensor readings might be influenced by time-related factors.', index=6),\n",
       " Goal(question='What are the daily averages of sensor_02 readings over the entire time period?', visualization='bar chart of daily averages of sensor_02 against date', rationale=\"A bar chart displaying the daily averages of sensor_02 readings will provide a clear visual representation of how the sensor's performance varies day by day. This will help in identifying any specific days with unusual readings and can lead to further investigation into the causes of these anomalies.\", index=7),\n",
       " Goal(question='What is the relationship between sensor_04 and sensor_05 readings?', visualization='scatter plot of sensor_04 vs sensor_05', rationale=\"This visualization will show the correlation between sensor_04 and sensor_05, helping us understand if there is a linear relationship between the two sensors. We will use the fields 'sensor_04' and 'sensor_05' to explore their relationship and identify any trends or patterns.\", index=8),\n",
       " Goal(question='How do sensor_01 and sensor_02 readings compare across different machine statuses?', visualization='box plot of sensor_01 and sensor_02 grouped by machine_status', rationale=\"A box plot will allow us to compare the distributions of sensor_01 and sensor_02 under different machine statuses ('NORMAL' and 'RECOVERING'). This will provide insights into how sensor readings differ based on machine performance, using fields 'sensor_01', 'sensor_02', and 'machine_status'.\", index=9),\n",
       " Goal(question='What is the trend of sensor_06 readings over time?', visualization='line chart of sensor_06 readings over timestamp', rationale=\"A line chart will effectively visualize the trend of sensor_06 readings over time, allowing us to identify any significant changes or patterns. The fields 'sensor_06' and 'timestamp' will be used to plot the readings against time, providing insights into the sensor's performance.\", index=10),\n",
       " Goal(question='How do the readings of sensor_03 vary in relation to sensor_10?', visualization='scatter plot of sensor_03 vs sensor_10', rationale=\"This scatter plot will help us analyze the relationship between sensor_03 and sensor_10. By examining these two sensors together, we can identify any potential correlations or trends, using the fields 'sensor_03' and 'sensor_10'.\", index=11),\n",
       " Goal(question='How do sensor_01 and sensor_02 readings relate to each other over time?', visualization='scatter plot of sensor_01 vs sensor_02 with timestamp as the color scale', rationale=\"This visualization uses 'sensor_01' and 'sensor_02' to identify any correlation or relationship between the two sensors' readings, while the 'timestamp' provides a temporal context. A scatter plot is effective for visualizing the relationship between two continuous variables, allowing us to see trends and clusters.\", index=12),\n",
       " Goal(question='What is the relationship between sensor_03 and sensor_04 across different machine statuses?', visualization='box plot of sensor_03 and sensor_04 grouped by machine_status', rationale=\"Using a box plot allows us to compare the distributions of 'sensor_03' and 'sensor_04' across the two categories of 'machine_status' (NORMAL and RECOVERING). This visualization highlights differences in median values and variability, providing insights into how machine status affects sensor readings.\", index=13),\n",
       " Goal(question='How do sensor_05 and sensor_06 readings vary with respect to sensor_10?', visualization='3D scatter plot of sensor_05, sensor_06, and sensor_10', rationale=\"A 3D scatter plot allows us to visualize the interaction between three continuous variables: 'sensor_05', 'sensor_06', and 'sensor_10'. This can reveal complex relationships and patterns that might not be apparent in 2D visualizations, helping us understand how these sensors influence each other.\", index=14),\n",
       " Goal(question='What trends can we observe in sensor_07 and sensor_08 readings over time, segmented by machine status?', visualization='line chart of average sensor_07 and sensor_08 readings over time, with separate lines for each machine_status', rationale=\"A line chart is suitable for visualizing trends over time for 'sensor_07' and 'sensor_08', allowing us to see how these sensors' readings change. By segmenting the data by 'machine_status', we can identify any differences in trends between NORMAL and RECOVERING states, providing insights into the impact of machine status on sensor behavior.\", index=15),\n",
       " Goal(question='How do sensor_01 readings vary with respect to sensor_02 readings?', visualization='scatter plot of sensor_01 vs sensor_02', rationale='This visualization helps to identify any correlation between the two sensor readings. By plotting sensor_01 (column: sensor_01) on the y-axis and sensor_02 (column: sensor_02) on the x-axis, we can observe the relationship between these two variables, which may reveal patterns or clusters indicating how they influence each other.', index=16),\n",
       " Goal(question='What is the relationship between sensor_04 and sensor_06 readings?', visualization='line chart of sensor_04 vs sensor_06 over time', rationale='This visualization will show how the readings of sensor_04 (column: sensor_04) and sensor_06 (column: sensor_06) change over time (timestamp). A line chart is appropriate here as it allows us to see trends and patterns in the data across the same time intervals, which can be crucial for understanding the dynamics between these two sensors.', index=17),\n",
       " Goal(question='How do sensor_05 readings compare to sensor_10 readings?', visualization='box plot of sensor_05 vs sensor_10', rationale='Using a box plot to compare sensor_05 (column: sensor_05) and sensor_10 (column: sensor_10) allows us to visualize the distribution and variability of both sensors. It highlights median values, quartiles, and potential outliers, providing insights into how these two sensors behave relative to each other.', index=18),\n",
       " Goal(question='What is the interaction between sensor_03 and sensor_07 readings?', visualization='heatmap of sensor_03 vs sensor_07', rationale='A heatmap can effectively illustrate the interaction between sensor_03 (column: sensor_03) and sensor_07 (column: sensor_07) by displaying the density of observations in a two-dimensional space. This can reveal areas of high correlation or interaction, helping to understand how these sensors may influence one another in different conditions.', index=19)]"
      ]
     },
     "metadata": {},
     "output_type": "display_data"
    }
   ],
   "source": [
    "# LOAD\n",
    "\n",
    "with open('../ver2/goals2-5-6-20-combined-sensor.pkl', 'rb') as f:\n",
    "    goals = pickle.load(f)\n",
    "\n",
    "display(goals)"
   ]
  },
  {
   "cell_type": "code",
   "execution_count": 46,
   "metadata": {},
   "outputs": [
    {
     "data": {
      "text/markdown": [
       "\n",
       "### Goal 0\n",
       "---\n",
       "**Question:** What is the distribution of machine status across the dataset?\n",
       "\n",
       "**Visualization:** `bar chart of machine_status`\n",
       "\n",
       "**Rationale:** This visualization uses the 'machine_status' field to show the count of each category (NORMAL and RECOVERING). A bar chart is appropriate here as it allows for easy comparison of the quantities of different statuses. This will help us understand the operational state of the machines and identify any patterns or anomalies in their statuses.\n"
      ],
      "text/plain": [
       "Goal(question='What is the distribution of machine status across the dataset?', visualization='bar chart of machine_status', rationale=\"This visualization uses the 'machine_status' field to show the count of each category (NORMAL and RECOVERING). A bar chart is appropriate here as it allows for easy comparison of the quantities of different statuses. This will help us understand the operational state of the machines and identify any patterns or anomalies in their statuses.\", index=0)"
      ]
     },
     "metadata": {},
     "output_type": "display_data"
    },
    {
     "data": {
      "text/markdown": [
       "\n",
       "### Goal 1\n",
       "---\n",
       "**Question:** How does the sensor data correlate with machine status?\n",
       "\n",
       "**Visualization:** `box plot of sensor_01 by machine_status`\n",
       "\n",
       "**Rationale:** Using 'sensor_01' against 'machine_status' in a box plot allows us to visualize the distribution of sensor readings across the two categories of machine status. This visualization will help us identify if there are significant differences in sensor readings when the machine is in different states, providing insights into sensor performance and machine behavior.\n"
      ],
      "text/plain": [
       "Goal(question='How does the sensor data correlate with machine status?', visualization='box plot of sensor_01 by machine_status', rationale=\"Using 'sensor_01' against 'machine_status' in a box plot allows us to visualize the distribution of sensor readings across the two categories of machine status. This visualization will help us identify if there are significant differences in sensor readings when the machine is in different states, providing insights into sensor performance and machine behavior.\", index=1)"
      ]
     },
     "metadata": {},
     "output_type": "display_data"
    },
    {
     "data": {
      "text/markdown": [
       "\n",
       "### Goal 2\n",
       "---\n",
       "**Question:** What trends can we observe in sensor readings over time, segmented by machine status?\n",
       "\n",
       "**Visualization:** `line chart of average sensor_02 over time, colored by machine_status`\n",
       "\n",
       "**Rationale:** This visualization will plot the average values of 'sensor_02' over the 'timestamp' field, with lines differentiated by 'machine_status'. A line chart is effective for showing trends over time, and segmenting by machine status will allow us to see if there are time-based patterns in sensor performance relative to machine conditions.\n"
      ],
      "text/plain": [
       "Goal(question='What trends can we observe in sensor readings over time, segmented by machine status?', visualization='line chart of average sensor_02 over time, colored by machine_status', rationale=\"This visualization will plot the average values of 'sensor_02' over the 'timestamp' field, with lines differentiated by 'machine_status'. A line chart is effective for showing trends over time, and segmenting by machine status will allow us to see if there are time-based patterns in sensor performance relative to machine conditions.\", index=2)"
      ]
     },
     "metadata": {},
     "output_type": "display_data"
    },
    {
     "data": {
      "text/markdown": [
       "\n",
       "### Goal 3\n",
       "---\n",
       "**Question:** What is the relationship between different sensors and machine status?\n",
       "\n",
       "**Visualization:** `scatter plot of sensor_03 vs sensor_04, colored by machine_status`\n",
       "\n",
       "**Rationale:** A scatter plot of 'sensor_03' against 'sensor_04', with points colored by 'machine_status', will help us visualize the relationship between these two sensors while considering the operational state of the machine. This can reveal correlations or clusters that indicate specific behaviors or issues related to machine performance.\n"
      ],
      "text/plain": [
       "Goal(question='What is the relationship between different sensors and machine status?', visualization='scatter plot of sensor_03 vs sensor_04, colored by machine_status', rationale=\"A scatter plot of 'sensor_03' against 'sensor_04', with points colored by 'machine_status', will help us visualize the relationship between these two sensors while considering the operational state of the machine. This can reveal correlations or clusters that indicate specific behaviors or issues related to machine performance.\", index=3)"
      ]
     },
     "metadata": {},
     "output_type": "display_data"
    },
    {
     "data": {
      "text/markdown": [
       "\n",
       "### Goal 4\n",
       "---\n",
       "**Question:** What are the trends in sensor readings over time for sensor_01?\n",
       "\n",
       "**Visualization:** `line chart of sensor_01 against timestamp`\n",
       "\n",
       "**Rationale:** This visualization will allow us to observe how sensor_01 values change over the specified date range from 2018-04-01 to 2018-08-31. By plotting sensor_01 against timestamp, we can identify patterns, anomalies, or trends in the data that may indicate underlying issues or improvements in the system.\n"
      ],
      "text/plain": [
       "Goal(question='What are the trends in sensor readings over time for sensor_01?', visualization='line chart of sensor_01 against timestamp', rationale='This visualization will allow us to observe how sensor_01 values change over the specified date range from 2018-04-01 to 2018-08-31. By plotting sensor_01 against timestamp, we can identify patterns, anomalies, or trends in the data that may indicate underlying issues or improvements in the system.', index=4)"
      ]
     },
     "metadata": {},
     "output_type": "display_data"
    },
    {
     "data": {
      "text/markdown": [
       "\n",
       "### Goal 5\n",
       "---\n",
       "**Question:** How do the readings of sensor_05 vary across different timestamps?\n",
       "\n",
       "**Visualization:** `box plot of sensor_05 grouped by month from timestamp`\n",
       "\n",
       "**Rationale:** Using a box plot to visualize sensor_05 readings grouped by month will provide insights into the distribution of readings over time, highlighting any seasonal trends or outliers. This approach will help us understand the variability and central tendency of sensor_05 across different periods.\n"
      ],
      "text/plain": [
       "Goal(question='How do the readings of sensor_05 vary across different timestamps?', visualization='box plot of sensor_05 grouped by month from timestamp', rationale='Using a box plot to visualize sensor_05 readings grouped by month will provide insights into the distribution of readings over time, highlighting any seasonal trends or outliers. This approach will help us understand the variability and central tendency of sensor_05 across different periods.', index=5)"
      ]
     },
     "metadata": {},
     "output_type": "display_data"
    },
    {
     "data": {
      "text/markdown": [
       "\n",
       "### Goal 6\n",
       "---\n",
       "**Question:** What is the correlation of sensor readings with respect to time?\n",
       "\n",
       "**Visualization:** `heatmap of correlation coefficients between sensor readings and timestamp`\n",
       "\n",
       "**Rationale:** A heatmap showing the correlation coefficients between the various sensor readings and the timestamp will help us identify if there are any significant relationships between time and the sensor values. This visualization can reveal how sensor readings might be influenced by time-related factors.\n"
      ],
      "text/plain": [
       "Goal(question='What is the correlation of sensor readings with respect to time?', visualization='heatmap of correlation coefficients between sensor readings and timestamp', rationale='A heatmap showing the correlation coefficients between the various sensor readings and the timestamp will help us identify if there are any significant relationships between time and the sensor values. This visualization can reveal how sensor readings might be influenced by time-related factors.', index=6)"
      ]
     },
     "metadata": {},
     "output_type": "display_data"
    },
    {
     "data": {
      "text/markdown": [
       "\n",
       "### Goal 7\n",
       "---\n",
       "**Question:** What are the daily averages of sensor_02 readings over the entire time period?\n",
       "\n",
       "**Visualization:** `bar chart of daily averages of sensor_02 against date`\n",
       "\n",
       "**Rationale:** A bar chart displaying the daily averages of sensor_02 readings will provide a clear visual representation of how the sensor's performance varies day by day. This will help in identifying any specific days with unusual readings and can lead to further investigation into the causes of these anomalies.\n"
      ],
      "text/plain": [
       "Goal(question='What are the daily averages of sensor_02 readings over the entire time period?', visualization='bar chart of daily averages of sensor_02 against date', rationale=\"A bar chart displaying the daily averages of sensor_02 readings will provide a clear visual representation of how the sensor's performance varies day by day. This will help in identifying any specific days with unusual readings and can lead to further investigation into the causes of these anomalies.\", index=7)"
      ]
     },
     "metadata": {},
     "output_type": "display_data"
    },
    {
     "data": {
      "text/markdown": [
       "\n",
       "### Goal 8\n",
       "---\n",
       "**Question:** What is the relationship between sensor_04 and sensor_05 readings?\n",
       "\n",
       "**Visualization:** `scatter plot of sensor_04 vs sensor_05`\n",
       "\n",
       "**Rationale:** This visualization will show the correlation between sensor_04 and sensor_05, helping us understand if there is a linear relationship between the two sensors. We will use the fields 'sensor_04' and 'sensor_05' to explore their relationship and identify any trends or patterns.\n"
      ],
      "text/plain": [
       "Goal(question='What is the relationship between sensor_04 and sensor_05 readings?', visualization='scatter plot of sensor_04 vs sensor_05', rationale=\"This visualization will show the correlation between sensor_04 and sensor_05, helping us understand if there is a linear relationship between the two sensors. We will use the fields 'sensor_04' and 'sensor_05' to explore their relationship and identify any trends or patterns.\", index=8)"
      ]
     },
     "metadata": {},
     "output_type": "display_data"
    },
    {
     "data": {
      "text/markdown": [
       "\n",
       "### Goal 9\n",
       "---\n",
       "**Question:** How do sensor_01 and sensor_02 readings compare across different machine statuses?\n",
       "\n",
       "**Visualization:** `box plot of sensor_01 and sensor_02 grouped by machine_status`\n",
       "\n",
       "**Rationale:** A box plot will allow us to compare the distributions of sensor_01 and sensor_02 under different machine statuses ('NORMAL' and 'RECOVERING'). This will provide insights into how sensor readings differ based on machine performance, using fields 'sensor_01', 'sensor_02', and 'machine_status'.\n"
      ],
      "text/plain": [
       "Goal(question='How do sensor_01 and sensor_02 readings compare across different machine statuses?', visualization='box plot of sensor_01 and sensor_02 grouped by machine_status', rationale=\"A box plot will allow us to compare the distributions of sensor_01 and sensor_02 under different machine statuses ('NORMAL' and 'RECOVERING'). This will provide insights into how sensor readings differ based on machine performance, using fields 'sensor_01', 'sensor_02', and 'machine_status'.\", index=9)"
      ]
     },
     "metadata": {},
     "output_type": "display_data"
    },
    {
     "data": {
      "text/markdown": [
       "\n",
       "### Goal 10\n",
       "---\n",
       "**Question:** What is the trend of sensor_06 readings over time?\n",
       "\n",
       "**Visualization:** `line chart of sensor_06 readings over timestamp`\n",
       "\n",
       "**Rationale:** A line chart will effectively visualize the trend of sensor_06 readings over time, allowing us to identify any significant changes or patterns. The fields 'sensor_06' and 'timestamp' will be used to plot the readings against time, providing insights into the sensor's performance.\n"
      ],
      "text/plain": [
       "Goal(question='What is the trend of sensor_06 readings over time?', visualization='line chart of sensor_06 readings over timestamp', rationale=\"A line chart will effectively visualize the trend of sensor_06 readings over time, allowing us to identify any significant changes or patterns. The fields 'sensor_06' and 'timestamp' will be used to plot the readings against time, providing insights into the sensor's performance.\", index=10)"
      ]
     },
     "metadata": {},
     "output_type": "display_data"
    },
    {
     "data": {
      "text/markdown": [
       "\n",
       "### Goal 11\n",
       "---\n",
       "**Question:** How do the readings of sensor_03 vary in relation to sensor_10?\n",
       "\n",
       "**Visualization:** `scatter plot of sensor_03 vs sensor_10`\n",
       "\n",
       "**Rationale:** This scatter plot will help us analyze the relationship between sensor_03 and sensor_10. By examining these two sensors together, we can identify any potential correlations or trends, using the fields 'sensor_03' and 'sensor_10'.\n"
      ],
      "text/plain": [
       "Goal(question='How do the readings of sensor_03 vary in relation to sensor_10?', visualization='scatter plot of sensor_03 vs sensor_10', rationale=\"This scatter plot will help us analyze the relationship between sensor_03 and sensor_10. By examining these two sensors together, we can identify any potential correlations or trends, using the fields 'sensor_03' and 'sensor_10'.\", index=11)"
      ]
     },
     "metadata": {},
     "output_type": "display_data"
    },
    {
     "data": {
      "text/markdown": [
       "\n",
       "### Goal 12\n",
       "---\n",
       "**Question:** How do sensor_01 and sensor_02 readings relate to each other over time?\n",
       "\n",
       "**Visualization:** `scatter plot of sensor_01 vs sensor_02 with timestamp as the color scale`\n",
       "\n",
       "**Rationale:** This visualization uses 'sensor_01' and 'sensor_02' to identify any correlation or relationship between the two sensors' readings, while the 'timestamp' provides a temporal context. A scatter plot is effective for visualizing the relationship between two continuous variables, allowing us to see trends and clusters.\n"
      ],
      "text/plain": [
       "Goal(question='How do sensor_01 and sensor_02 readings relate to each other over time?', visualization='scatter plot of sensor_01 vs sensor_02 with timestamp as the color scale', rationale=\"This visualization uses 'sensor_01' and 'sensor_02' to identify any correlation or relationship between the two sensors' readings, while the 'timestamp' provides a temporal context. A scatter plot is effective for visualizing the relationship between two continuous variables, allowing us to see trends and clusters.\", index=12)"
      ]
     },
     "metadata": {},
     "output_type": "display_data"
    },
    {
     "data": {
      "text/markdown": [
       "\n",
       "### Goal 13\n",
       "---\n",
       "**Question:** What is the relationship between sensor_03 and sensor_04 across different machine statuses?\n",
       "\n",
       "**Visualization:** `box plot of sensor_03 and sensor_04 grouped by machine_status`\n",
       "\n",
       "**Rationale:** Using a box plot allows us to compare the distributions of 'sensor_03' and 'sensor_04' across the two categories of 'machine_status' (NORMAL and RECOVERING). This visualization highlights differences in median values and variability, providing insights into how machine status affects sensor readings.\n"
      ],
      "text/plain": [
       "Goal(question='What is the relationship between sensor_03 and sensor_04 across different machine statuses?', visualization='box plot of sensor_03 and sensor_04 grouped by machine_status', rationale=\"Using a box plot allows us to compare the distributions of 'sensor_03' and 'sensor_04' across the two categories of 'machine_status' (NORMAL and RECOVERING). This visualization highlights differences in median values and variability, providing insights into how machine status affects sensor readings.\", index=13)"
      ]
     },
     "metadata": {},
     "output_type": "display_data"
    },
    {
     "data": {
      "text/markdown": [
       "\n",
       "### Goal 14\n",
       "---\n",
       "**Question:** How do sensor_05 and sensor_06 readings vary with respect to sensor_10?\n",
       "\n",
       "**Visualization:** `3D scatter plot of sensor_05, sensor_06, and sensor_10`\n",
       "\n",
       "**Rationale:** A 3D scatter plot allows us to visualize the interaction between three continuous variables: 'sensor_05', 'sensor_06', and 'sensor_10'. This can reveal complex relationships and patterns that might not be apparent in 2D visualizations, helping us understand how these sensors influence each other.\n"
      ],
      "text/plain": [
       "Goal(question='How do sensor_05 and sensor_06 readings vary with respect to sensor_10?', visualization='3D scatter plot of sensor_05, sensor_06, and sensor_10', rationale=\"A 3D scatter plot allows us to visualize the interaction between three continuous variables: 'sensor_05', 'sensor_06', and 'sensor_10'. This can reveal complex relationships and patterns that might not be apparent in 2D visualizations, helping us understand how these sensors influence each other.\", index=14)"
      ]
     },
     "metadata": {},
     "output_type": "display_data"
    },
    {
     "data": {
      "text/markdown": [
       "\n",
       "### Goal 15\n",
       "---\n",
       "**Question:** What trends can we observe in sensor_07 and sensor_08 readings over time, segmented by machine status?\n",
       "\n",
       "**Visualization:** `line chart of average sensor_07 and sensor_08 readings over time, with separate lines for each machine_status`\n",
       "\n",
       "**Rationale:** A line chart is suitable for visualizing trends over time for 'sensor_07' and 'sensor_08', allowing us to see how these sensors' readings change. By segmenting the data by 'machine_status', we can identify any differences in trends between NORMAL and RECOVERING states, providing insights into the impact of machine status on sensor behavior.\n"
      ],
      "text/plain": [
       "Goal(question='What trends can we observe in sensor_07 and sensor_08 readings over time, segmented by machine status?', visualization='line chart of average sensor_07 and sensor_08 readings over time, with separate lines for each machine_status', rationale=\"A line chart is suitable for visualizing trends over time for 'sensor_07' and 'sensor_08', allowing us to see how these sensors' readings change. By segmenting the data by 'machine_status', we can identify any differences in trends between NORMAL and RECOVERING states, providing insights into the impact of machine status on sensor behavior.\", index=15)"
      ]
     },
     "metadata": {},
     "output_type": "display_data"
    },
    {
     "data": {
      "text/markdown": [
       "\n",
       "### Goal 16\n",
       "---\n",
       "**Question:** How do sensor_01 readings vary with respect to sensor_02 readings?\n",
       "\n",
       "**Visualization:** `scatter plot of sensor_01 vs sensor_02`\n",
       "\n",
       "**Rationale:** This visualization helps to identify any correlation between the two sensor readings. By plotting sensor_01 (column: sensor_01) on the y-axis and sensor_02 (column: sensor_02) on the x-axis, we can observe the relationship between these two variables, which may reveal patterns or clusters indicating how they influence each other.\n"
      ],
      "text/plain": [
       "Goal(question='How do sensor_01 readings vary with respect to sensor_02 readings?', visualization='scatter plot of sensor_01 vs sensor_02', rationale='This visualization helps to identify any correlation between the two sensor readings. By plotting sensor_01 (column: sensor_01) on the y-axis and sensor_02 (column: sensor_02) on the x-axis, we can observe the relationship between these two variables, which may reveal patterns or clusters indicating how they influence each other.', index=16)"
      ]
     },
     "metadata": {},
     "output_type": "display_data"
    },
    {
     "data": {
      "text/markdown": [
       "\n",
       "### Goal 17\n",
       "---\n",
       "**Question:** What is the relationship between sensor_04 and sensor_06 readings?\n",
       "\n",
       "**Visualization:** `line chart of sensor_04 vs sensor_06 over time`\n",
       "\n",
       "**Rationale:** This visualization will show how the readings of sensor_04 (column: sensor_04) and sensor_06 (column: sensor_06) change over time (timestamp). A line chart is appropriate here as it allows us to see trends and patterns in the data across the same time intervals, which can be crucial for understanding the dynamics between these two sensors.\n"
      ],
      "text/plain": [
       "Goal(question='What is the relationship between sensor_04 and sensor_06 readings?', visualization='line chart of sensor_04 vs sensor_06 over time', rationale='This visualization will show how the readings of sensor_04 (column: sensor_04) and sensor_06 (column: sensor_06) change over time (timestamp). A line chart is appropriate here as it allows us to see trends and patterns in the data across the same time intervals, which can be crucial for understanding the dynamics between these two sensors.', index=17)"
      ]
     },
     "metadata": {},
     "output_type": "display_data"
    },
    {
     "data": {
      "text/markdown": [
       "\n",
       "### Goal 18\n",
       "---\n",
       "**Question:** How do sensor_05 readings compare to sensor_10 readings?\n",
       "\n",
       "**Visualization:** `box plot of sensor_05 vs sensor_10`\n",
       "\n",
       "**Rationale:** Using a box plot to compare sensor_05 (column: sensor_05) and sensor_10 (column: sensor_10) allows us to visualize the distribution and variability of both sensors. It highlights median values, quartiles, and potential outliers, providing insights into how these two sensors behave relative to each other.\n"
      ],
      "text/plain": [
       "Goal(question='How do sensor_05 readings compare to sensor_10 readings?', visualization='box plot of sensor_05 vs sensor_10', rationale='Using a box plot to compare sensor_05 (column: sensor_05) and sensor_10 (column: sensor_10) allows us to visualize the distribution and variability of both sensors. It highlights median values, quartiles, and potential outliers, providing insights into how these two sensors behave relative to each other.', index=18)"
      ]
     },
     "metadata": {},
     "output_type": "display_data"
    },
    {
     "data": {
      "text/markdown": [
       "\n",
       "### Goal 19\n",
       "---\n",
       "**Question:** What is the interaction between sensor_03 and sensor_07 readings?\n",
       "\n",
       "**Visualization:** `heatmap of sensor_03 vs sensor_07`\n",
       "\n",
       "**Rationale:** A heatmap can effectively illustrate the interaction between sensor_03 (column: sensor_03) and sensor_07 (column: sensor_07) by displaying the density of observations in a two-dimensional space. This can reveal areas of high correlation or interaction, helping to understand how these sensors may influence one another in different conditions.\n"
      ],
      "text/plain": [
       "Goal(question='What is the interaction between sensor_03 and sensor_07 readings?', visualization='heatmap of sensor_03 vs sensor_07', rationale='A heatmap can effectively illustrate the interaction between sensor_03 (column: sensor_03) and sensor_07 (column: sensor_07) by displaying the density of observations in a two-dimensional space. This can reveal areas of high correlation or interaction, helping to understand how these sensors may influence one another in different conditions.', index=19)"
      ]
     },
     "metadata": {},
     "output_type": "display_data"
    }
   ],
   "source": [
    "for goal in goals:\n",
    "    display(goal)"
   ]
  },
  {
   "cell_type": "markdown",
   "metadata": {},
   "source": [
    "### Generating Goals with a Persona"
   ]
  },
  {
   "cell_type": "code",
   "execution_count": 14,
   "metadata": {},
   "outputs": [
    {
     "data": {
      "text/markdown": [
       "\n",
       "### Goal 0\n",
       "---\n",
       "**Question:** What is the distribution of Retail Price?\n",
       "\n",
       "**Visualization:** `histogram of Retail_Price`\n",
       "\n",
       "**Rationale:** This tells us about the range of car prices available, helping the mechanic identify affordable options.\n"
      ],
      "text/plain": [
       "Goal(question='What is the distribution of Retail Price?', visualization='histogram of Retail_Price', rationale='This tells us about the range of car prices available, helping the mechanic identify affordable options.', index=0)"
      ]
     },
     "metadata": {},
     "output_type": "display_data"
    },
    {
     "data": {
      "text/markdown": [
       "\n",
       "### Goal 1\n",
       "---\n",
       "**Question:** How does City Miles Per Gallon vary with Retail Price?\n",
       "\n",
       "**Visualization:** `scatter plot of City_Miles_Per_Gallon vs Retail_Price`\n",
       "\n",
       "**Rationale:** This helps assess whether higher-priced cars offer better fuel efficiency.\n"
      ],
      "text/plain": [
       "Goal(question='How does City Miles Per Gallon vary with Retail Price?', visualization='scatter plot of City_Miles_Per_Gallon vs Retail_Price', rationale='This helps assess whether higher-priced cars offer better fuel efficiency.', index=1)"
      ]
     },
     "metadata": {},
     "output_type": "display_data"
    },
    {
     "data": {
      "text/markdown": [
       "\n",
       "### Goal 2\n",
       "---\n",
       "**Question:** What is the correlation between Highway Miles Per Gallon and City Miles Per Gallon?\n",
       "\n",
       "**Visualization:** `scatter plot of Highway_Miles_Per_Gallon vs City_Miles_Per_Gallon`\n",
       "\n",
       "**Rationale:** Understanding this relationship can help the mechanic predict fuel efficiency based on city driving conditions.\n"
      ],
      "text/plain": [
       "Goal(question='What is the correlation between Highway Miles Per Gallon and City Miles Per Gallon?', visualization='scatter plot of Highway_Miles_Per_Gallon vs City_Miles_Per_Gallon', rationale='Understanding this relationship can help the mechanic predict fuel efficiency based on city driving conditions.', index=2)"
      ]
     },
     "metadata": {},
     "output_type": "display_data"
    },
    {
     "data": {
      "text/markdown": [
       "\n",
       "### Goal 3\n",
       "---\n",
       "**Question:** Which car types have the best average City Miles Per Gallon?\n",
       "\n",
       "**Visualization:** `bar chart of average City_Miles_Per_Gallon by Type`\n",
       "\n",
       "**Rationale:** This allows the mechanic to quickly identify which types of cars are more fuel-efficient.\n"
      ],
      "text/plain": [
       "Goal(question='Which car types have the best average City Miles Per Gallon?', visualization='bar chart of average City_Miles_Per_Gallon by Type', rationale='This allows the mechanic to quickly identify which types of cars are more fuel-efficient.', index=3)"
      ]
     },
     "metadata": {},
     "output_type": "display_data"
    },
    {
     "data": {
      "text/markdown": [
       "\n",
       "### Goal 4\n",
       "---\n",
       "**Question:** What is the distribution of Engine Sizes across different car types?\n",
       "\n",
       "**Visualization:** `box plot of Engine_Size__l_ by Type`\n",
       "\n",
       "**Rationale:** This shows how engine size varies across types, which can impact fuel efficiency.\n"
      ],
      "text/plain": [
       "Goal(question='What is the distribution of Engine Sizes across different car types?', visualization='box plot of Engine_Size__l_ by Type', rationale='This shows how engine size varies across types, which can impact fuel efficiency.', index=4)"
      ]
     },
     "metadata": {},
     "output_type": "display_data"
    },
    {
     "data": {
      "text/markdown": [
       "\n",
       "### Goal 5\n",
       "---\n",
       "**Question:** How does the number of Cylinders affect City Miles Per Gallon?\n",
       "\n",
       "**Visualization:** `box plot of City_Miles_Per_Gallon by Cyl`\n",
       "\n",
       "**Rationale:** This helps the mechanic understand how engine configuration influences fuel efficiency.\n"
      ],
      "text/plain": [
       "Goal(question='How does the number of Cylinders affect City Miles Per Gallon?', visualization='box plot of City_Miles_Per_Gallon by Cyl', rationale='This helps the mechanic understand how engine configuration influences fuel efficiency.', index=5)"
      ]
     },
     "metadata": {},
     "output_type": "display_data"
    },
    {
     "data": {
      "text/markdown": [
       "\n",
       "### Goal 6\n",
       "---\n",
       "**Question:** What is the relationship between Horsepower and City Miles Per Gallon?\n",
       "\n",
       "**Visualization:** `scatter plot of Horsepower_HP_ vs City_Miles_Per_Gallon`\n",
       "\n",
       "**Rationale:** This can indicate if more powerful cars compromise fuel efficiency.\n"
      ],
      "text/plain": [
       "Goal(question='What is the relationship between Horsepower and City Miles Per Gallon?', visualization='scatter plot of Horsepower_HP_ vs City_Miles_Per_Gallon', rationale='This can indicate if more powerful cars compromise fuel efficiency.', index=6)"
      ]
     },
     "metadata": {},
     "output_type": "display_data"
    },
    {
     "data": {
      "text/markdown": [
       "\n",
       "### Goal 7\n",
       "---\n",
       "**Question:** How do the weights of cars affect their fuel efficiency?\n",
       "\n",
       "**Visualization:** `scatter plot of Weight vs City_Miles_Per_Gallon`\n",
       "\n",
       "**Rationale:** This helps the mechanic see if lighter cars generally provide better fuel economy.\n"
      ],
      "text/plain": [
       "Goal(question='How do the weights of cars affect their fuel efficiency?', visualization='scatter plot of Weight vs City_Miles_Per_Gallon', rationale='This helps the mechanic see if lighter cars generally provide better fuel economy.', index=7)"
      ]
     },
     "metadata": {},
     "output_type": "display_data"
    },
    {
     "data": {
      "text/markdown": [
       "\n",
       "### Goal 8\n",
       "---\n",
       "**Question:** What is the average Retail Price for cars with good gas mileage (above 25 MPG)?\n",
       "\n",
       "**Visualization:** `bar chart of average Retail_Price for City_Miles_Per_Gallon > 25`\n",
       "\n",
       "**Rationale:** This gives insight into the cost of more fuel-efficient cars.\n"
      ],
      "text/plain": [
       "Goal(question='What is the average Retail Price for cars with good gas mileage (above 25 MPG)?', visualization='bar chart of average Retail_Price for City_Miles_Per_Gallon > 25', rationale='This gives insight into the cost of more fuel-efficient cars.', index=8)"
      ]
     },
     "metadata": {},
     "output_type": "display_data"
    },
    {
     "data": {
      "text/markdown": [
       "\n",
       "### Goal 9\n",
       "---\n",
       "**Question:** What is the average Dealer Cost for cars with high Highway Miles Per Gallon?\n",
       "\n",
       "**Visualization:** `bar chart of average Dealer_Cost for Highway_Miles_Per_Gallon > 30`\n",
       "\n",
       "**Rationale:** This can help the mechanic identify cost-effective options for high-mileage vehicles.\n"
      ],
      "text/plain": [
       "Goal(question='What is the average Dealer Cost for cars with high Highway Miles Per Gallon?', visualization='bar chart of average Dealer_Cost for Highway_Miles_Per_Gallon > 30', rationale='This can help the mechanic identify cost-effective options for high-mileage vehicles.', index=9)"
      ]
     },
     "metadata": {},
     "output_type": "display_data"
    },
    {
     "data": {
      "text/markdown": [
       "\n",
       "### Goal 10\n",
       "---\n",
       "**Question:** How does the length of a car relate to its fuel efficiency?\n",
       "\n",
       "**Visualization:** `scatter plot of Len vs City_Miles_Per_Gallon`\n",
       "\n",
       "**Rationale:** Understanding this relationship can help assess if larger cars are less efficient.\n"
      ],
      "text/plain": [
       "Goal(question='How does the length of a car relate to its fuel efficiency?', visualization='scatter plot of Len vs City_Miles_Per_Gallon', rationale='Understanding this relationship can help assess if larger cars are less efficient.', index=10)"
      ]
     },
     "metadata": {},
     "output_type": "display_data"
    },
    {
     "data": {
      "text/markdown": [
       "\n",
       "### Goal 11\n",
       "---\n",
       "**Question:** What is the distribution of AWD and RWD cars in terms of fuel efficiency?\n",
       "\n",
       "**Visualization:** `box plot of City_Miles_Per_Gallon by AWD and RWD`\n",
       "\n",
       "**Rationale:** This helps the mechanic understand how drivetrain configurations impact gas mileage.\n"
      ],
      "text/plain": [
       "Goal(question='What is the distribution of AWD and RWD cars in terms of fuel efficiency?', visualization='box plot of City_Miles_Per_Gallon by AWD and RWD', rationale='This helps the mechanic understand how drivetrain configurations impact gas mileage.', index=11)"
      ]
     },
     "metadata": {},
     "output_type": "display_data"
    },
    {
     "data": {
      "text/markdown": [
       "\n",
       "### Goal 12\n",
       "---\n",
       "**Question:** What is the average weight of cars grouped by their Type?\n",
       "\n",
       "**Visualization:** `bar chart of average Weight by Type`\n",
       "\n",
       "**Rationale:** This can provide insights into how the type of car affects its overall weight and potentially its fuel efficiency.\n"
      ],
      "text/plain": [
       "Goal(question='What is the average weight of cars grouped by their Type?', visualization='bar chart of average Weight by Type', rationale='This can provide insights into how the type of car affects its overall weight and potentially its fuel efficiency.', index=12)"
      ]
     },
     "metadata": {},
     "output_type": "display_data"
    },
    {
     "data": {
      "text/markdown": [
       "\n",
       "### Goal 13\n",
       "---\n",
       "**Question:** How does the wheelbase length correlate with fuel efficiency?\n",
       "\n",
       "**Visualization:** `scatter plot of Wheel_Base vs City_Miles_Per_Gallon`\n",
       "\n",
       "**Rationale:** This can help the mechanic understand if longer wheelbases lead to worse fuel economy.\n"
      ],
      "text/plain": [
       "Goal(question='How does the wheelbase length correlate with fuel efficiency?', visualization='scatter plot of Wheel_Base vs City_Miles_Per_Gallon', rationale='This can help the mechanic understand if longer wheelbases lead to worse fuel economy.', index=13)"
      ]
     },
     "metadata": {},
     "output_type": "display_data"
    },
    {
     "data": {
      "text/markdown": [
       "\n",
       "### Goal 14\n",
       "---\n",
       "**Question:** What is the average Highway Miles Per Gallon for cars with different engine sizes?\n",
       "\n",
       "**Visualization:** `bar chart of average Highway_Miles_Per_Gallon by Engine_Size__l_`\n",
       "\n",
       "**Rationale:** This can help identify if larger engines compromise highway fuel efficiency.\n"
      ],
      "text/plain": [
       "Goal(question='What is the average Highway Miles Per Gallon for cars with different engine sizes?', visualization='bar chart of average Highway_Miles_Per_Gallon by Engine_Size__l_', rationale='This can help identify if larger engines compromise highway fuel efficiency.', index=14)"
      ]
     },
     "metadata": {},
     "output_type": "display_data"
    },
    {
     "data": {
      "text/markdown": [
       "\n",
       "### Goal 15\n",
       "---\n",
       "**Question:** What is the relationship between the number of cylinders and Highway Miles Per Gallon?\n",
       "\n",
       "**Visualization:** `box plot of Highway_Miles_Per_Gallon by Cyl`\n",
       "\n",
       "**Rationale:** This shows how engine configuration impacts highway fuel efficiency.\n"
      ],
      "text/plain": [
       "Goal(question='What is the relationship between the number of cylinders and Highway Miles Per Gallon?', visualization='box plot of Highway_Miles_Per_Gallon by Cyl', rationale='This shows how engine configuration impacts highway fuel efficiency.', index=15)"
      ]
     },
     "metadata": {},
     "output_type": "display_data"
    },
    {
     "data": {
      "text/markdown": [
       "\n",
       "### Goal 16\n",
       "---\n",
       "**Question:** What percentage of cars have good fuel efficiency (above 25 MPG)?\n",
       "\n",
       "**Visualization:** `pie chart of percentage of cars with City_Miles_Per_Gallon > 25`\n",
       "\n",
       "**Rationale:** This gives a quick overview of the availability of fuel-efficient options.\n"
      ],
      "text/plain": [
       "Goal(question='What percentage of cars have good fuel efficiency (above 25 MPG)?', visualization='pie chart of percentage of cars with City_Miles_Per_Gallon > 25', rationale='This gives a quick overview of the availability of fuel-efficient options.', index=16)"
      ]
     },
     "metadata": {},
     "output_type": "display_data"
    },
    {
     "data": {
      "text/markdown": [
       "\n",
       "### Goal 17\n",
       "---\n",
       "**Question:** What is the average Retail Price for cars categorized as SUVs versus Sedans?\n",
       "\n",
       "**Visualization:** `bar chart of average Retail_Price by Type`\n",
       "\n",
       "**Rationale:** This helps the mechanic compare the cost of different car types.\n"
      ],
      "text/plain": [
       "Goal(question='What is the average Retail Price for cars categorized as SUVs versus Sedans?', visualization='bar chart of average Retail_Price by Type', rationale='This helps the mechanic compare the cost of different car types.', index=17)"
      ]
     },
     "metadata": {},
     "output_type": "display_data"
    },
    {
     "data": {
      "text/markdown": [
       "\n",
       "### Goal 18\n",
       "---\n",
       "**Question:** How does the average horsepower vary among different types of cars?\n",
       "\n",
       "**Visualization:** `bar chart of average Horsepower_HP_ by Type`\n",
       "\n",
       "**Rationale:** This may indicate if more powerful cars are generally more expensive or less fuel-efficient.\n"
      ],
      "text/plain": [
       "Goal(question='How does the average horsepower vary among different types of cars?', visualization='bar chart of average Horsepower_HP_ by Type', rationale='This may indicate if more powerful cars are generally more expensive or less fuel-efficient.', index=18)"
      ]
     },
     "metadata": {},
     "output_type": "display_data"
    },
    {
     "data": {
      "text/markdown": [
       "\n",
       "### Goal 19\n",
       "---\n",
       "**Question:** What is the relationship between car width and fuel efficiency?\n",
       "\n",
       "**Visualization:** `scatter plot of Width vs City_Miles_Per_Gallon`\n",
       "\n",
       "**Rationale:** This can help determine if wider cars tend to have lower fuel efficiency.\n"
      ],
      "text/plain": [
       "Goal(question='What is the relationship between car width and fuel efficiency?', visualization='scatter plot of Width vs City_Miles_Per_Gallon', rationale='This can help determine if wider cars tend to have lower fuel efficiency.', index=19)"
      ]
     },
     "metadata": {},
     "output_type": "display_data"
    }
   ],
   "source": [
    "# goals can also be based on a persona \n",
    "persona = \"a mechanic who wants to buy a car that is cheap but has good gas mileage\"\n",
    "personal_goals = lida.goals(summary, n=20, persona=persona, textgen_config=textgen_config)\n",
    "for goal in personal_goals:\n",
    "    display(goal)"
   ]
  },
  {
   "cell_type": "markdown",
   "metadata": {},
   "source": [
    "### Saving and Loading Goals with a Persona"
   ]
  },
  {
   "cell_type": "code",
   "execution_count": 15,
   "metadata": {},
   "outputs": [],
   "source": [
    "# SAVE\n",
    "\n",
    "with open('goals-persona.pkl', 'wb') as f:\n",
    "    pickle.dump(personal_goals, f)"
   ]
  },
  {
   "cell_type": "code",
   "execution_count": 16,
   "metadata": {},
   "outputs": [
    {
     "data": {
      "text/plain": [
       "[Goal(question='What is the distribution of Retail Price?', visualization='histogram of Retail_Price', rationale='This tells us about the range of car prices available, helping the mechanic identify affordable options.', index=0),\n",
       " Goal(question='How does City Miles Per Gallon vary with Retail Price?', visualization='scatter plot of City_Miles_Per_Gallon vs Retail_Price', rationale='This helps assess whether higher-priced cars offer better fuel efficiency.', index=1),\n",
       " Goal(question='What is the correlation between Highway Miles Per Gallon and City Miles Per Gallon?', visualization='scatter plot of Highway_Miles_Per_Gallon vs City_Miles_Per_Gallon', rationale='Understanding this relationship can help the mechanic predict fuel efficiency based on city driving conditions.', index=2),\n",
       " Goal(question='Which car types have the best average City Miles Per Gallon?', visualization='bar chart of average City_Miles_Per_Gallon by Type', rationale='This allows the mechanic to quickly identify which types of cars are more fuel-efficient.', index=3),\n",
       " Goal(question='What is the distribution of Engine Sizes across different car types?', visualization='box plot of Engine_Size__l_ by Type', rationale='This shows how engine size varies across types, which can impact fuel efficiency.', index=4),\n",
       " Goal(question='How does the number of Cylinders affect City Miles Per Gallon?', visualization='box plot of City_Miles_Per_Gallon by Cyl', rationale='This helps the mechanic understand how engine configuration influences fuel efficiency.', index=5),\n",
       " Goal(question='What is the relationship between Horsepower and City Miles Per Gallon?', visualization='scatter plot of Horsepower_HP_ vs City_Miles_Per_Gallon', rationale='This can indicate if more powerful cars compromise fuel efficiency.', index=6),\n",
       " Goal(question='How do the weights of cars affect their fuel efficiency?', visualization='scatter plot of Weight vs City_Miles_Per_Gallon', rationale='This helps the mechanic see if lighter cars generally provide better fuel economy.', index=7),\n",
       " Goal(question='What is the average Retail Price for cars with good gas mileage (above 25 MPG)?', visualization='bar chart of average Retail_Price for City_Miles_Per_Gallon > 25', rationale='This gives insight into the cost of more fuel-efficient cars.', index=8),\n",
       " Goal(question='What is the average Dealer Cost for cars with high Highway Miles Per Gallon?', visualization='bar chart of average Dealer_Cost for Highway_Miles_Per_Gallon > 30', rationale='This can help the mechanic identify cost-effective options for high-mileage vehicles.', index=9),\n",
       " Goal(question='How does the length of a car relate to its fuel efficiency?', visualization='scatter plot of Len vs City_Miles_Per_Gallon', rationale='Understanding this relationship can help assess if larger cars are less efficient.', index=10),\n",
       " Goal(question='What is the distribution of AWD and RWD cars in terms of fuel efficiency?', visualization='box plot of City_Miles_Per_Gallon by AWD and RWD', rationale='This helps the mechanic understand how drivetrain configurations impact gas mileage.', index=11),\n",
       " Goal(question='What is the average weight of cars grouped by their Type?', visualization='bar chart of average Weight by Type', rationale='This can provide insights into how the type of car affects its overall weight and potentially its fuel efficiency.', index=12),\n",
       " Goal(question='How does the wheelbase length correlate with fuel efficiency?', visualization='scatter plot of Wheel_Base vs City_Miles_Per_Gallon', rationale='This can help the mechanic understand if longer wheelbases lead to worse fuel economy.', index=13),\n",
       " Goal(question='What is the average Highway Miles Per Gallon for cars with different engine sizes?', visualization='bar chart of average Highway_Miles_Per_Gallon by Engine_Size__l_', rationale='This can help identify if larger engines compromise highway fuel efficiency.', index=14),\n",
       " Goal(question='What is the relationship between the number of cylinders and Highway Miles Per Gallon?', visualization='box plot of Highway_Miles_Per_Gallon by Cyl', rationale='This shows how engine configuration impacts highway fuel efficiency.', index=15),\n",
       " Goal(question='What percentage of cars have good fuel efficiency (above 25 MPG)?', visualization='pie chart of percentage of cars with City_Miles_Per_Gallon > 25', rationale='This gives a quick overview of the availability of fuel-efficient options.', index=16),\n",
       " Goal(question='What is the average Retail Price for cars categorized as SUVs versus Sedans?', visualization='bar chart of average Retail_Price by Type', rationale='This helps the mechanic compare the cost of different car types.', index=17),\n",
       " Goal(question='How does the average horsepower vary among different types of cars?', visualization='bar chart of average Horsepower_HP_ by Type', rationale='This may indicate if more powerful cars are generally more expensive or less fuel-efficient.', index=18),\n",
       " Goal(question='What is the relationship between car width and fuel efficiency?', visualization='scatter plot of Width vs City_Miles_Per_Gallon', rationale='This can help determine if wider cars tend to have lower fuel efficiency.', index=19)]"
      ]
     },
     "metadata": {},
     "output_type": "display_data"
    }
   ],
   "source": [
    "# LOAD\n",
    "\n",
    "with open('goals-persona.pkl', 'rb') as f:\n",
    "    loaded = pickle.load(f)\n",
    "\n",
    "display(loaded)"
   ]
  },
  {
   "attachments": {},
   "cell_type": "markdown",
   "metadata": {},
   "source": [
    "## Generate Visualizations"
   ]
  },
  {
   "cell_type": "code",
   "execution_count": 48,
   "metadata": {},
   "outputs": [
    {
     "name": "stdout",
     "output_type": "stream",
     "text": [
      "Defaulting to user installation because normal site-packages is not writeable\n",
      "Collecting seaborn\n",
      "  Downloading seaborn-0.13.2-py3-none-any.whl.metadata (5.4 kB)\n",
      "Requirement already satisfied: numpy!=1.24.0,>=1.20 in c:\\users\\samsung\\appdata\\local\\packages\\pythonsoftwarefoundation.python.3.12_qbz5n2kfra8p0\\localcache\\local-packages\\python312\\site-packages (from seaborn) (2.0.1)\n",
      "Requirement already satisfied: pandas>=1.2 in c:\\users\\samsung\\appdata\\local\\packages\\pythonsoftwarefoundation.python.3.12_qbz5n2kfra8p0\\localcache\\local-packages\\python312\\site-packages (from seaborn) (2.2.2)\n",
      "Requirement already satisfied: matplotlib!=3.6.1,>=3.4 in c:\\users\\samsung\\appdata\\local\\packages\\pythonsoftwarefoundation.python.3.12_qbz5n2kfra8p0\\localcache\\local-packages\\python312\\site-packages (from seaborn) (3.9.1.post1)\n",
      "Requirement already satisfied: contourpy>=1.0.1 in c:\\users\\samsung\\appdata\\local\\packages\\pythonsoftwarefoundation.python.3.12_qbz5n2kfra8p0\\localcache\\local-packages\\python312\\site-packages (from matplotlib!=3.6.1,>=3.4->seaborn) (1.2.1)\n",
      "Requirement already satisfied: cycler>=0.10 in c:\\users\\samsung\\appdata\\local\\packages\\pythonsoftwarefoundation.python.3.12_qbz5n2kfra8p0\\localcache\\local-packages\\python312\\site-packages (from matplotlib!=3.6.1,>=3.4->seaborn) (0.12.1)\n",
      "Requirement already satisfied: fonttools>=4.22.0 in c:\\users\\samsung\\appdata\\local\\packages\\pythonsoftwarefoundation.python.3.12_qbz5n2kfra8p0\\localcache\\local-packages\\python312\\site-packages (from matplotlib!=3.6.1,>=3.4->seaborn) (4.53.1)\n",
      "Requirement already satisfied: kiwisolver>=1.3.1 in c:\\users\\samsung\\appdata\\local\\packages\\pythonsoftwarefoundation.python.3.12_qbz5n2kfra8p0\\localcache\\local-packages\\python312\\site-packages (from matplotlib!=3.6.1,>=3.4->seaborn) (1.4.5)\n",
      "Requirement already satisfied: packaging>=20.0 in c:\\users\\samsung\\appdata\\local\\packages\\pythonsoftwarefoundation.python.3.12_qbz5n2kfra8p0\\localcache\\local-packages\\python312\\site-packages (from matplotlib!=3.6.1,>=3.4->seaborn) (24.1)\n",
      "Requirement already satisfied: pillow>=8 in c:\\users\\samsung\\appdata\\local\\packages\\pythonsoftwarefoundation.python.3.12_qbz5n2kfra8p0\\localcache\\local-packages\\python312\\site-packages (from matplotlib!=3.6.1,>=3.4->seaborn) (10.4.0)\n",
      "Requirement already satisfied: pyparsing>=2.3.1 in c:\\users\\samsung\\appdata\\local\\packages\\pythonsoftwarefoundation.python.3.12_qbz5n2kfra8p0\\localcache\\local-packages\\python312\\site-packages (from matplotlib!=3.6.1,>=3.4->seaborn) (3.1.2)\n",
      "Requirement already satisfied: python-dateutil>=2.7 in c:\\users\\samsung\\appdata\\local\\packages\\pythonsoftwarefoundation.python.3.12_qbz5n2kfra8p0\\localcache\\local-packages\\python312\\site-packages (from matplotlib!=3.6.1,>=3.4->seaborn) (2.9.0.post0)\n",
      "Requirement already satisfied: pytz>=2020.1 in c:\\users\\samsung\\appdata\\local\\packages\\pythonsoftwarefoundation.python.3.12_qbz5n2kfra8p0\\localcache\\local-packages\\python312\\site-packages (from pandas>=1.2->seaborn) (2024.1)\n",
      "Requirement already satisfied: tzdata>=2022.7 in c:\\users\\samsung\\appdata\\local\\packages\\pythonsoftwarefoundation.python.3.12_qbz5n2kfra8p0\\localcache\\local-packages\\python312\\site-packages (from pandas>=1.2->seaborn) (2024.1)\n",
      "Requirement already satisfied: six>=1.5 in c:\\users\\samsung\\appdata\\local\\packages\\pythonsoftwarefoundation.python.3.12_qbz5n2kfra8p0\\localcache\\local-packages\\python312\\site-packages (from python-dateutil>=2.7->matplotlib!=3.6.1,>=3.4->seaborn) (1.16.0)\n",
      "Downloading seaborn-0.13.2-py3-none-any.whl (294 kB)\n",
      "Installing collected packages: seaborn\n",
      "Successfully installed seaborn-0.13.2\n",
      "Note: you may need to restart the kernel to use updated packages.\n"
     ]
    }
   ],
   "source": [
    "%pip install seaborn"
   ]
  },
  {
   "cell_type": "code",
   "execution_count": 49,
   "metadata": {},
   "outputs": [
    {
     "name": "stderr",
     "output_type": "stream",
     "text": [
      "<string>:14: FutureWarning: \n",
      "\n",
      "Passing `palette` without assigning `hue` is deprecated and will be removed in v0.14.0. Assign the `x` variable to `hue` and set `legend=False` for the same effect.\n",
      "\n"
     ]
    },
    {
     "data": {
      "image/png": "[encoded data removed]",
      "text/plain": [
       "import seaborn as sns\n",
       "import pandas as pd\n",
       "import matplotlib.pyplot as plt\n",
       "\n",
       "# Convert timestamp to datetime\n",
       "data['timestamp'] = pd.to_datetime(data['timestamp'], errors='coerce')\n",
       "data = data[pd.notna(data['timestamp'])]\n",
       "\n",
       "# Extract month from timestamp for grouping\n",
       "data['month'] = data['timestamp'].dt.to_period('M')\n",
       "\n",
       "def plot(data: pd.DataFrame):\n",
       "    plt.figure(figsize=(12, 6))\n",
       "    sns.boxplot(x='month', y='sensor_05', data=data, palette='Set2')\n",
       "    plt.xticks(rotation=45)\n",
       "    plt.title('How do the readings of sensor_05 vary across different timestamps?', wrap=True)\n",
       "    plt.xlabel('Month')\n",
       "    plt.ylabel('Sensor 05 Readings')\n",
       "    return plt;\n",
       "\n",
       "chart = plot(data)"
      ]
     },
     "execution_count": 49,
     "metadata": {},
     "output_type": "execute_result"
    }
   ],
   "source": [
    "i = 5\n",
    "library = \"seaborn\"\n",
    "textgen_config = TextGenerationConfig(n=1, temperature=0.2, use_cache=True)\n",
    "charts = lida.visualize(summary=summary, goal=goals[i], textgen_config=textgen_config, library=library)  \n",
    "charts[0]"
   ]
  },
  {
   "cell_type": "code",
   "execution_count": 31,
   "metadata": {},
   "outputs": [
    {
     "data": {
      "image/png": "[encoded data removed]",
      "text/plain": [
       "import seaborn as sns\n",
       "import pandas as pd\n",
       "import matplotlib.pyplot as plt\n",
       "import numpy as np\n",
       "\n",
       "def plot(data: pd.DataFrame):\n",
       "    avg_prices = data.groupby('Cyl')[['Retail_Price', 'Dealer_Cost']].mean().reset_index()\n",
       "    \n",
       "    fig, ax1 = plt.subplots(figsize=(12, 6))\n",
       "    \n",
       "    bar_width = 0.35\n",
       "    bar_positions = np.arange(len(avg_prices['Cyl']))\n",
       "    \n",
       "    color1 = 'tab:blue'\n",
       "    color2 = 'tab:red'\n",
       "    \n",
       "    ax1.set_xlabel('Number of Cylinders')\n",
       "    ax1.set_ylabel('Average Price', color=color1)\n",
       "    ax1.bar(bar_positions - bar_width/2, avg_prices['Retail_Price'], bar_width, color=color1, label='Retail Price')\n",
       "    ax1.tick_params(axis='y', labelcolor=color1)\n",
       "    ax1.axhline(avg_prices['Retail_Price'].mean(), color='blue', linestyle='--', label='Avg Retail Price: {:.2f}'.format(avg_prices['Retail_Price'].mean()))\n",
       "    \n",
       "    ax2 = ax1.twinx()\n",
       "    ax2.set_ylabel('Average Cost', color=color2)\n",
       "    ax2.bar(bar_positions + bar_width/2, avg_prices['Dealer_Cost'], bar_width, color=color2, label='Dealer Cost')\n",
       "    ax2.tick_params(axis='y', labelcolor=color2)\n",
       "    ax2.axhline(avg_prices['Dealer_Cost'].mean(), color='red', linestyle='--', label='Avg Dealer Cost: {:.2f}'.format(avg_prices['Dealer_Cost'].mean()))\n",
       "    \n",
       "    plt.xticks(bar_positions, avg_prices['Cyl'])\n",
       "    plt.legend(loc='upper left')\n",
       "    \n",
       "    return plt\n",
       "\n",
       "chart = plot(data)"
      ]
     },
     "execution_count": 31,
     "metadata": {},
     "output_type": "execute_result"
    }
   ],
   "source": [
    "code = charts[0].code\n",
    "textgen_config = TextGenerationConfig(n=1, temperature=0, use_cache=True)\n",
    "instructions = [\"can you separate the bars for average cost and average price and put them side by side instead of stacking them?\"]\n",
    "edited_charts = lida.edit(code=code,  summary=summary, instructions=instructions, library=library, textgen_config=textgen_config)\n",
    "edited_charts[0]"
   ]
  },
  {
   "cell_type": "markdown",
   "metadata": {},
   "source": [
    "## Save Code"
   ]
  },
  {
   "cell_type": "code",
   "execution_count": null,
   "metadata": {},
   "outputs": [],
   "source": []
  },
  {
   "cell_type": "code",
   "execution_count": 51,
   "metadata": {},
   "outputs": [],
   "source": [
    "# SAVE\n",
    "\n",
    "with open('code-sensor-5-v2-5-6.pkl', 'wb') as f:\n",
    "    pickle.dump(charts[0], f)"
   ]
  },
  {
   "cell_type": "code",
   "execution_count": 52,
   "metadata": {},
   "outputs": [
    {
     "data": {
      "image/png": "[encoded data removed]",
      "text/plain": [
       "import seaborn as sns\n",
       "import pandas as pd\n",
       "import matplotlib.pyplot as plt\n",
       "\n",
       "# Convert timestamp to datetime\n",
       "data['timestamp'] = pd.to_datetime(data['timestamp'], errors='coerce')\n",
       "data = data[pd.notna(data['timestamp'])]\n",
       "\n",
       "# Extract month from timestamp for grouping\n",
       "data['month'] = data['timestamp'].dt.to_period('M')\n",
       "\n",
       "def plot(data: pd.DataFrame):\n",
       "    plt.figure(figsize=(12, 6))\n",
       "    sns.boxplot(x='month', y='sensor_05', data=data, palette='Set2')\n",
       "    plt.xticks(rotation=45)\n",
       "    plt.title('How do the readings of sensor_05 vary across different timestamps?', wrap=True)\n",
       "    plt.xlabel('Month')\n",
       "    plt.ylabel('Sensor 05 Readings')\n",
       "    return plt;\n",
       "\n",
       "chart = plot(data)"
      ]
     },
     "metadata": {},
     "output_type": "display_data"
    }
   ],
   "source": [
    "# LOAD\n",
    "\n",
    "with open('code-sensor-5-v2-5-6.pkl', 'rb') as f:\n",
    "    code = pickle.load(f)\n",
    "\n",
    "display(code)"
   ]
  },
  {
   "cell_type": "markdown",
   "metadata": {},
   "source": [
    "# Prompter (Generating Questions)"
   ]
  },
  {
   "cell_type": "code",
   "execution_count": 53,
   "metadata": {},
   "outputs": [],
   "source": [
    "questions = lida.prompt(goals[5], textgen_config=textgen_config, n=10)  "
   ]
  },
  {
   "cell_type": "code",
   "execution_count": 54,
   "metadata": {},
   "outputs": [
    {
     "name": "stdout",
     "output_type": "stream",
     "text": [
      "[Prompt(question='What are the median readings of sensor_05 for each month?', rationale='This tells us about the central tendency of sensor_05 readings across different months, allowing us to identify which months have higher or lower typical values.', index=0), Prompt(question='Are there any months with significant outliers in sensor_05 readings?', rationale='Identifying outliers can help us understand unusual events or anomalies that may require further investigation.', index=1), Prompt(question='How do the interquartile ranges (IQR) of sensor_05 readings compare across months?', rationale='This will provide insights into the variability of sensor_05 readings, indicating which months have more consistent readings versus those with greater fluctuations.', index=2), Prompt(question='Which month shows the highest maximum reading for sensor_05?', rationale='Understanding the peak values can help identify periods of extreme conditions or events affecting sensor_05.', index=3), Prompt(question='Is there a noticeable trend in the readings of sensor_05 over the months?', rationale='This can reveal seasonal patterns or changes in the environment that may influence sensor_05 readings.', index=4), Prompt(question='How do the readings of sensor_05 in winter months compare to summer months?', rationale='This comparison can help identify seasonal effects on sensor_05 readings, which may be critical for understanding environmental impacts.', index=5), Prompt(question='Are there any months where the readings of sensor_05 are consistently below or above a certain threshold?', rationale='Identifying these months can help in assessing compliance with expected operational ranges or safety standards.', index=6), Prompt(question='What percentage of readings fall within the first and third quartiles for each month?', rationale='This will help us understand the distribution of readings and how concentrated they are around the median.', index=7), Prompt(question='Do any months exhibit a bimodal distribution in sensor_05 readings?', rationale='This could indicate the presence of two distinct processes or conditions affecting the sensor readings during those months.', index=8), Prompt(question='How do the readings of sensor_05 correlate with external factors (e.g., temperature, humidity) during each month?', rationale='Understanding these correlations can provide insights into the factors influencing sensor_05 readings and help in predictive modeling.', index=9)]\n"
     ]
    }
   ],
   "source": [
    "print(questions)"
   ]
  },
  {
   "cell_type": "code",
   "execution_count": 55,
   "metadata": {},
   "outputs": [
    {
     "data": {
      "text/markdown": [
       "\n",
       "### Prompt 0\n",
       "---\n",
       "**Question:** What are the median readings of sensor_05 for each month?\n",
       "\n",
       "**Rationale:** This tells us about the central tendency of sensor_05 readings across different months, allowing us to identify which months have higher or lower typical values.\n",
       "\n"
      ],
      "text/plain": [
       "Prompt(question='What are the median readings of sensor_05 for each month?', rationale='This tells us about the central tendency of sensor_05 readings across different months, allowing us to identify which months have higher or lower typical values.', index=0)"
      ]
     },
     "metadata": {},
     "output_type": "display_data"
    },
    {
     "data": {
      "text/markdown": [
       "\n",
       "### Prompt 1\n",
       "---\n",
       "**Question:** Are there any months with significant outliers in sensor_05 readings?\n",
       "\n",
       "**Rationale:** Identifying outliers can help us understand unusual events or anomalies that may require further investigation.\n",
       "\n"
      ],
      "text/plain": [
       "Prompt(question='Are there any months with significant outliers in sensor_05 readings?', rationale='Identifying outliers can help us understand unusual events or anomalies that may require further investigation.', index=1)"
      ]
     },
     "metadata": {},
     "output_type": "display_data"
    },
    {
     "data": {
      "text/markdown": [
       "\n",
       "### Prompt 2\n",
       "---\n",
       "**Question:** How do the interquartile ranges (IQR) of sensor_05 readings compare across months?\n",
       "\n",
       "**Rationale:** This will provide insights into the variability of sensor_05 readings, indicating which months have more consistent readings versus those with greater fluctuations.\n",
       "\n"
      ],
      "text/plain": [
       "Prompt(question='How do the interquartile ranges (IQR) of sensor_05 readings compare across months?', rationale='This will provide insights into the variability of sensor_05 readings, indicating which months have more consistent readings versus those with greater fluctuations.', index=2)"
      ]
     },
     "metadata": {},
     "output_type": "display_data"
    },
    {
     "data": {
      "text/markdown": [
       "\n",
       "### Prompt 3\n",
       "---\n",
       "**Question:** Which month shows the highest maximum reading for sensor_05?\n",
       "\n",
       "**Rationale:** Understanding the peak values can help identify periods of extreme conditions or events affecting sensor_05.\n",
       "\n"
      ],
      "text/plain": [
       "Prompt(question='Which month shows the highest maximum reading for sensor_05?', rationale='Understanding the peak values can help identify periods of extreme conditions or events affecting sensor_05.', index=3)"
      ]
     },
     "metadata": {},
     "output_type": "display_data"
    },
    {
     "data": {
      "text/markdown": [
       "\n",
       "### Prompt 4\n",
       "---\n",
       "**Question:** Is there a noticeable trend in the readings of sensor_05 over the months?\n",
       "\n",
       "**Rationale:** This can reveal seasonal patterns or changes in the environment that may influence sensor_05 readings.\n",
       "\n"
      ],
      "text/plain": [
       "Prompt(question='Is there a noticeable trend in the readings of sensor_05 over the months?', rationale='This can reveal seasonal patterns or changes in the environment that may influence sensor_05 readings.', index=4)"
      ]
     },
     "metadata": {},
     "output_type": "display_data"
    },
    {
     "data": {
      "text/markdown": [
       "\n",
       "### Prompt 5\n",
       "---\n",
       "**Question:** How do the readings of sensor_05 in winter months compare to summer months?\n",
       "\n",
       "**Rationale:** This comparison can help identify seasonal effects on sensor_05 readings, which may be critical for understanding environmental impacts.\n",
       "\n"
      ],
      "text/plain": [
       "Prompt(question='How do the readings of sensor_05 in winter months compare to summer months?', rationale='This comparison can help identify seasonal effects on sensor_05 readings, which may be critical for understanding environmental impacts.', index=5)"
      ]
     },
     "metadata": {},
     "output_type": "display_data"
    },
    {
     "data": {
      "text/markdown": [
       "\n",
       "### Prompt 6\n",
       "---\n",
       "**Question:** Are there any months where the readings of sensor_05 are consistently below or above a certain threshold?\n",
       "\n",
       "**Rationale:** Identifying these months can help in assessing compliance with expected operational ranges or safety standards.\n",
       "\n"
      ],
      "text/plain": [
       "Prompt(question='Are there any months where the readings of sensor_05 are consistently below or above a certain threshold?', rationale='Identifying these months can help in assessing compliance with expected operational ranges or safety standards.', index=6)"
      ]
     },
     "metadata": {},
     "output_type": "display_data"
    },
    {
     "data": {
      "text/markdown": [
       "\n",
       "### Prompt 7\n",
       "---\n",
       "**Question:** What percentage of readings fall within the first and third quartiles for each month?\n",
       "\n",
       "**Rationale:** This will help us understand the distribution of readings and how concentrated they are around the median.\n",
       "\n"
      ],
      "text/plain": [
       "Prompt(question='What percentage of readings fall within the first and third quartiles for each month?', rationale='This will help us understand the distribution of readings and how concentrated they are around the median.', index=7)"
      ]
     },
     "metadata": {},
     "output_type": "display_data"
    },
    {
     "data": {
      "text/markdown": [
       "\n",
       "### Prompt 8\n",
       "---\n",
       "**Question:** Do any months exhibit a bimodal distribution in sensor_05 readings?\n",
       "\n",
       "**Rationale:** This could indicate the presence of two distinct processes or conditions affecting the sensor readings during those months.\n",
       "\n"
      ],
      "text/plain": [
       "Prompt(question='Do any months exhibit a bimodal distribution in sensor_05 readings?', rationale='This could indicate the presence of two distinct processes or conditions affecting the sensor readings during those months.', index=8)"
      ]
     },
     "metadata": {},
     "output_type": "display_data"
    },
    {
     "data": {
      "text/markdown": [
       "\n",
       "### Prompt 9\n",
       "---\n",
       "**Question:** How do the readings of sensor_05 correlate with external factors (e.g., temperature, humidity) during each month?\n",
       "\n",
       "**Rationale:** Understanding these correlations can provide insights into the factors influencing sensor_05 readings and help in predictive modeling.\n",
       "\n"
      ],
      "text/plain": [
       "Prompt(question='How do the readings of sensor_05 correlate with external factors (e.g., temperature, humidity) during each month?', rationale='Understanding these correlations can provide insights into the factors influencing sensor_05 readings and help in predictive modeling.', index=9)"
      ]
     },
     "metadata": {},
     "output_type": "display_data"
    }
   ],
   "source": [
    "for prompt in questions:\n",
    "    display(prompt)"
   ]
  },
  {
   "cell_type": "markdown",
   "metadata": {},
   "source": [
    "## Saving prompts"
   ]
  },
  {
   "cell_type": "code",
   "execution_count": 56,
   "metadata": {},
   "outputs": [],
   "source": [
    "# SAVE\n",
    "\n",
    "with open('prompt4-s5-v3-6-5.pkl', 'wb') as f:\n",
    "    pickle.dump(questions, f)"
   ]
  },
  {
   "cell_type": "code",
   "execution_count": 57,
   "metadata": {},
   "outputs": [
    {
     "data": {
      "text/plain": [
       "[Prompt(question='What are the median readings of sensor_05 for each month?', rationale='This tells us about the central tendency of sensor_05 readings across different months, allowing us to identify which months have higher or lower typical values.', index=0),\n",
       " Prompt(question='Are there any months with significant outliers in sensor_05 readings?', rationale='Identifying outliers can help us understand unusual events or anomalies that may require further investigation.', index=1),\n",
       " Prompt(question='How do the interquartile ranges (IQR) of sensor_05 readings compare across months?', rationale='This will provide insights into the variability of sensor_05 readings, indicating which months have more consistent readings versus those with greater fluctuations.', index=2),\n",
       " Prompt(question='Which month shows the highest maximum reading for sensor_05?', rationale='Understanding the peak values can help identify periods of extreme conditions or events affecting sensor_05.', index=3),\n",
       " Prompt(question='Is there a noticeable trend in the readings of sensor_05 over the months?', rationale='This can reveal seasonal patterns or changes in the environment that may influence sensor_05 readings.', index=4),\n",
       " Prompt(question='How do the readings of sensor_05 in winter months compare to summer months?', rationale='This comparison can help identify seasonal effects on sensor_05 readings, which may be critical for understanding environmental impacts.', index=5),\n",
       " Prompt(question='Are there any months where the readings of sensor_05 are consistently below or above a certain threshold?', rationale='Identifying these months can help in assessing compliance with expected operational ranges or safety standards.', index=6),\n",
       " Prompt(question='What percentage of readings fall within the first and third quartiles for each month?', rationale='This will help us understand the distribution of readings and how concentrated they are around the median.', index=7),\n",
       " Prompt(question='Do any months exhibit a bimodal distribution in sensor_05 readings?', rationale='This could indicate the presence of two distinct processes or conditions affecting the sensor readings during those months.', index=8),\n",
       " Prompt(question='How do the readings of sensor_05 correlate with external factors (e.g., temperature, humidity) during each month?', rationale='Understanding these correlations can provide insights into the factors influencing sensor_05 readings and help in predictive modeling.', index=9)]"
      ]
     },
     "metadata": {},
     "output_type": "display_data"
    }
   ],
   "source": [
    "# LOAD\n",
    "\n",
    "with open('prompt4-s5-v3-6-5.pkl', 'rb') as f:\n",
    "    prompts = pickle.load(f)\n",
    "\n",
    "display(prompts)"
   ]
  },
  {
   "cell_type": "markdown",
   "metadata": {},
   "source": [
    "# Generating Insights"
   ]
  },
  {
   "cell_type": "code",
   "execution_count": 61,
   "metadata": {},
   "outputs": [
    {
     "name": "stdout",
     "output_type": "stream",
     "text": [
      "\n",
      "        Here are the questions and the answers to those questions:\n",
      "        \n",
      "            \n",
      "\n",
      " Question 1: What are the median readings of sensor_05 for each month?\n",
      "            \n",
      " Answer: The median readings across all months are all close to 80, but below 80. June 2018 had the highest median though that is closest to 80, followed by April 2018, then May 2018, then July 2018 and finally August 2018 has the lowest median of around 70.\n",
      "            \n",
      "            \n",
      "\n",
      " Question 2: Are there any months with significant outliers in sensor_05 readings?\n",
      "            \n",
      " Answer: All of the months have significant outliers, but in kind of different ways. July has a lot of outliers that only goes below the minimum. April has the most outliers that go below the minimum (maybe around 20?) and one outlier that foes above the maximum, but it's not too far from the maximum. June has a lot of outliers below the minimum too, but one of the outliers is super extreme and is super separated from the rest.  June also has a lot of outliers above the max of 95. May has outliers below the minimum and above but nothing too noteworthy. Finally, August has the least amount of outliers, only 3 above the maximum and 2 below the minimum.\n",
      "            \n",
      "            \n",
      "\n",
      " Question 3: How do the interquartile ranges (IQR) of sensor_05 readings compare across months?\n",
      "            \n",
      " Answer: To me, they all look pretty close to each other. The third quartile is all above 80 except in August, where it's around 75. All the first quartile lines are around 75.\n",
      "            \n",
      "            \n",
      "\n",
      " Question 4: Which month shows the highest maximum reading for sensor_05?\n",
      "            \n",
      " Answer: I dunno if it's exactly the highest maximum reading since April, June and May have outliers reaching 100, but the max value of July reaches 100.\n",
      "            \n",
      "            \n",
      "\n",
      " Question 5: Is there a noticeable trend in the readings of sensor_05 over the months?\n",
      "            \n",
      " Answer: Well the width of the box from April to June looks pretty similar to me, then it dramatically widens in july but then shrinks and sinks a bit more than usual in August.\n",
      "            \n",
      "            \n",
      "\n",
      " Question 6: How do the readings of sensor_05 in winter months compare to summer months?\n",
      "            \n",
      " Answer: The median is generally higher during the summer months than in the winter months.\n",
      "            \n",
      "            \n",
      "\n",
      " Question 7: Are there any months where the readings of sensor_05 are consistently below or above a certain threshold?\n",
      "            \n",
      " Answer: Across all months, the max and the min are all within the range of 50 - 100.\n",
      "            \n",
      "            \n",
      "\n",
      " Question 8: What percentage of readings fall within the first and third quartiles for each month?\n",
      "            \n",
      " Answer: I can't tell\n",
      "            \n",
      "            \n",
      "\n",
      " Question 9: Do any months exhibit a bimodal distribution in sensor_05 readings?\n",
      "            \n",
      " Answer: I can't really tell from a box plot but it doesn't look like there's any?\n",
      "            \n",
      "            \n",
      "\n",
      " Question 10: How do the readings of sensor_05 correlate with external factors (e.g., temperature, humidity) during each month?\n",
      "            \n",
      " Answer: I dunno, I don't have any other information.\n",
      "            \n",
      "        \n",
      "This is the goal of the user:\n",
      "        \n",
      "Question: How do the readings of sensor_05 vary across different timestamps?\n",
      "        \n",
      "Visualization: box plot of sensor_05 grouped by month from timestamp\n",
      "        \n",
      "Rationale: Using a box plot to visualize sensor_05 readings grouped by month will provide insights into the distribution of readings over time, highlighting any seasonal trends or outliers. This approach will help us understand the variability and central tendency of sensor_05 across different periods.\n",
      "        \n",
      "Can you generate insights from the user's answers that draws connections between them?\n",
      "        \n"
     ]
    }
   ],
   "source": [
    "answers_p2=[\n",
    "    \"For 0 cylinders, around 35k, 3 and 4 cylinders is 20k, 5 cylinders is almost 40k, 6 cylinders is about 35k, 8 cylinders is around 55k, 9 cylinders is around 40k and 12 cylinders is around 120k.\",\n",
    "    \"Well, the ones with lower cylinder counds are generally lower than the one with higher cylinder counts. But this isn't always the case, since 0 cylinders' cost is greater than 3 and 4 cylinders and is around equal with 6 cylinders. Here's the general ranking from most to least cost per number of cylinders: 12, 8, 9, 5, 6, 0, 4, 3.\",\n",
    "    \"They're always super close to each other that there's barely any significant difference.\",\n",
    "    \"In terms of both dealer cost and retail price, cars with 12 cylinders cost around 3x more than the average of all, which is around 40k.\",\n",
    "    \"Can't tell because the visualization doesn't show relationships across time.\"\n",
    "]\n",
    "\n",
    "answers_p3=[\n",
    "    \"Oddly, the average price of cars with 0 cylinders are greater than those with 3 and 4 and is around the same as cars with 6 cylinders. All the other prices fall under or relatively close to 40,000 until the price of cars with 12 cylinders suddenly faces a drastic spike which is around 3x the others.\",\n",
    "    \"The dealer costs are almost exactly the same as the average price.\",\n",
    "    \"The dealer cost and average price are almost exactly the same.\",\n",
    "    \"Yeah, generally. 12 has the highest price and cost, followed by 8, 9, then 5, then 6 and 0, then 4 and 3.\",\n",
    "    \"At cylinder count of 12. The price and cost is 3x the average.\",\n",
    "    \"The price and the cost are almost exactly the same. For cars with lover cylinder counts, they are below the average of 40,000.\",\n",
    "    \"Between 4 and 6, the difference is around 5k. Between 6 and 8, the difference is around 10k.\",\n",
    "    \"Cars with 12 cylinders have an extremely high cost and price of 120,000.\",\n",
    "    \"I don't know the industry standards.\",\n",
    "    \"I do not have information on this.\"\n",
    "]\n",
    "\n",
    "answers_p4 = [\n",
    "    \"The median readings across all months are all close to 80, but below 80. June 2018 had the highest median though that is closest to 80, followed by April 2018, then May 2018, then July 2018 and finally August 2018 has the lowest median of around 70.\",\n",
    "    \"All of the months have significant outliers, but in kind of different ways. July has a lot of outliers that only goes below the minimum. April has the most outliers that go below the minimum (maybe around 20?) and one outlier that foes above the maximum, but it's not too far from the maximum. June has a lot of outliers below the minimum too, but one of the outliers is super extreme and is super separated from the rest.  June also has a lot of outliers above the max of 95. May has outliers below the minimum and above but nothing too noteworthy. Finally, August has the least amount of outliers, only 3 above the maximum and 2 below the minimum.\",\n",
    "    \"To me, they all look pretty close to each other. The third quartile is all above 80 except in August, where it's around 75. All the first quartile lines are around 75.\",\n",
    "    \"I dunno if it's exactly the highest maximum reading since April, June and May have outliers reaching 100, but the max value of July reaches 100.\",\n",
    "    \"Well the width of the box from April to June looks pretty similar to me, then it dramatically widens in july but then shrinks and sinks a bit more than usual in August.\",\n",
    "    \"The median is generally higher during the summer months than in the winter months.\",\n",
    "    \"Across all months, the max and the min are all within the range of 50 - 100.\",\n",
    "    \"I can't tell\",\n",
    "    \"I can't really tell from a box plot but it doesn't look like there's any?\",\n",
    "    \"I dunno, I don't have any other information.\"\n",
    "]\n",
    "\n",
    "insights = lida.insights(goal=goals[5], answers=answers_p4, prompts=prompts)"
   ]
  },
  {
   "cell_type": "code",
   "execution_count": 62,
   "metadata": {},
   "outputs": [
    {
     "data": {
      "text/markdown": [
       "\n",
       "### Insight 0\n",
       "---\n",
       "**Insight:** The consistent median readings of sensor_05 being close to 80 across all months, with a peak in June, could indicate a seasonal effect where environmental factors stabilize readings during late spring, while the drop in August suggests a potential influence of summer heat or humidity.\n"
      ],
      "text/plain": [
       "Insight(insight='The consistent median readings of sensor_05 being close to 80 across all months, with a peak in June, could indicate a seasonal effect where environmental factors stabilize readings during late spring, while the drop in August suggests a potential influence of summer heat or humidity.', index=0)"
      ]
     },
     "metadata": {},
     "output_type": "display_data"
    },
    {
     "data": {
      "text/markdown": [
       "\n",
       "### Insight 1\n",
       "---\n",
       "**Insight:** The significant outliers in July, particularly those below the minimum, may suggest an unusual event or malfunction during that month, which could be linked to external factors such as equipment stress or environmental changes, contrasting with the more balanced outlier distribution in other months.\n"
      ],
      "text/plain": [
       "Insight(insight='The significant outliers in July, particularly those below the minimum, may suggest an unusual event or malfunction during that month, which could be linked to external factors such as equipment stress or environmental changes, contrasting with the more balanced outlier distribution in other months.', index=1)"
      ]
     },
     "metadata": {},
     "output_type": "display_data"
    },
    {
     "data": {
      "text/markdown": [
       "\n",
       "### Insight 2\n",
       "---\n",
       "**Insight:** The interquartile ranges being similar across months, except for August's lower third quartile, may indicate that while the central tendency remains stable, the variability in readings increases in the summer months, potentially due to fluctuating environmental conditions.\n"
      ],
      "text/plain": [
       "Insight(insight=\"The interquartile ranges being similar across months, except for August's lower third quartile, may indicate that while the central tendency remains stable, the variability in readings increases in the summer months, potentially due to fluctuating environmental conditions.\", index=2)"
      ]
     },
     "metadata": {},
     "output_type": "display_data"
    },
    {
     "data": {
      "text/markdown": [
       "\n",
       "### Insight 3\n",
       "---\n",
       "**Insight:** The presence of maximum readings reaching 100 in multiple months, particularly in April and June, suggests that sensor_05 may be capturing peak conditions that are not sustainable, hinting at possible calibration issues or extreme environmental events.\n"
      ],
      "text/plain": [
       "Insight(insight='The presence of maximum readings reaching 100 in multiple months, particularly in April and June, suggests that sensor_05 may be capturing peak conditions that are not sustainable, hinting at possible calibration issues or extreme environmental events.', index=3)"
      ]
     },
     "metadata": {},
     "output_type": "display_data"
    },
    {
     "data": {
      "text/markdown": [
       "\n",
       "### Insight 4\n",
       "---\n",
       "**Insight:** The higher median readings during summer months compared to winter months, alongside the widening box in July, could imply that sensor_05 is more sensitive to temperature variations, which may affect its readings, leading to a need for seasonal calibration.\n"
      ],
      "text/plain": [
       "Insight(insight='The higher median readings during summer months compared to winter months, alongside the widening box in July, could imply that sensor_05 is more sensitive to temperature variations, which may affect its readings, leading to a need for seasonal calibration.', index=4)"
      ]
     },
     "metadata": {},
     "output_type": "display_data"
    }
   ],
   "source": [
    "for insight in insights:\n",
    "    display(insight)"
   ]
  },
  {
   "cell_type": "code",
   "execution_count": 63,
   "metadata": {},
   "outputs": [],
   "source": [
    "#SAVE\n",
    "\n",
    "with open('insight-p4-v3-6-5.pkl', 'wb') as f:\n",
    "    pickle.dump(insights, f)"
   ]
  },
  {
   "cell_type": "markdown",
   "metadata": {},
   "source": [
    "### Generate visualization via a \"user query\"   "
   ]
  },
  {
   "cell_type": "code",
   "execution_count": 7,
   "metadata": {},
   "outputs": [
    {
     "data": {
      "image/png": "[encoded data removed]",
      "text/plain": [
       "import seaborn as sns\n",
       "import pandas as pd\n",
       "import matplotlib.pyplot as plt\n",
       "\n",
       "def plot(data: pd.DataFrame):\n",
       "    # solution plan\n",
       "    # i. group data by Type and calculate the mean of Retail_Price\n",
       "    grouped_data = data.groupby('Type')['Retail_Price'].mean().reset_index()\n",
       "    \n",
       "    # ii. plot the grouped data using a barplot\n",
       "    sns.barplot(x='Type', y='Retail_Price', data=grouped_data)\n",
       "    \n",
       "    # iii. add a horizontal line for the mean Retail_Price\n",
       "    mean_price = data['Retail_Price'].mean()\n",
       "    plt.axhline(mean_price, color='red', linestyle='--', label=f'Mean Price: {mean_price:.2f}')\n",
       "    \n",
       "    # iv. add a legend\n",
       "    plt.legend()\n",
       "    \n",
       "    # v. set x-axis label rotation to 45 degrees for legibility\n",
       "    plt.xticks(rotation=45)\n",
       "    \n",
       "    # vi. set y-axis label\n",
       "    plt.ylabel('Average Retail Price')\n",
       "    \n",
       "    # vii. set plot title\n",
       "    plt.title('What is the average price of cars by type?', wrap=True)\n",
       "    \n",
       "    return plt;\n",
       "\n",
       "chart = plot(data)"
      ]
     },
     "execution_count": 7,
     "metadata": {},
     "output_type": "execute_result"
    }
   ],
   "source": [
    "user_query = \"What is the average price of cars by type?\"\n",
    "textgen_config = TextGenerationConfig(n=1, temperature=0.2, use_cache=True)\n",
    "charts = lida.visualize(summary=summary, goal=user_query, textgen_config=textgen_config)  \n",
    "charts[0]"
   ]
  },
  {
   "attachments": {},
   "cell_type": "markdown",
   "metadata": {},
   "source": [
    "# VizOps\n",
    "\n",
    "Given that LIDA represents visualizations as code,\n",
    "the VISGENERATOR also implements submodules\n",
    "to perform operations on this representation. \n",
    "\n",
    "This includes \n",
    "- **Natural language based visualization refinement**: Provides a conversational api to iteratively\n",
    "4Execution in a sandbox environment is recommended.\n",
    "refine generated code (e.g., translate chart t hindi\n",
    ". . . zoom in by 50% etc) which can then be executed to generate new visualizations.\n",
    "- **Visualization explanations and accessibility**:\n",
    "Generates natural language explanations (valuable\n",
    "for debugging and sensemaking) as well as accessibility descriptions (valuable for supporting users\n",
    "with visual impairments).\n",
    "\n",
    "- **Visualization code self-evaluation and repair**:\n",
    "Applies an LLM to self-evaluate generated code on\n",
    "multiple dimensions (see section 4.1.2).\n",
    "\n",
    "- **Visualization recommendation**: Given some context (goals, or an existing visualization), recommend additional visualizations to the user (e.g., for\n",
    "comparison, or to provide additional perspectives).\n",
    "\n",
    "\n",
    "\n",
    "## Natural language based visualization refinement \n",
    "\n",
    "Given some code, modify it based on natural language instructions. This yields a new code snippet that can be executed to generate a new visualization."
   ]
  },
  {
   "cell_type": "code",
   "execution_count": 8,
   "metadata": {},
   "outputs": [
    {
     "data": {
      "image/png": "[encoded data removed]",
      "text/plain": [
       "import seaborn as sns\n",
       "import pandas as pd\n",
       "import matplotlib.pyplot as plt\n",
       "import matplotlib as mpl\n",
       "\n",
       "# additional imports\n",
       "mpl.rcParams['figure.figsize'] = [6, 6] # set chart height and width equal\n",
       "mpl.rcParams['font.family'] = 'Arial' # set font family\n",
       "mpl.rcParams['text.color'] = 'black' # set text color\n",
       "mpl.rcParams['axes.labelcolor'] = 'black' # set label color\n",
       "mpl.rcParams['xtick.color'] = 'black' # set xtick color\n",
       "mpl.rcParams['ytick.color'] = 'black' # set ytick color\n",
       "mpl.rcParams['axes.titlesize'] = 14 # set title font size\n",
       "mpl.rcParams['axes.titleweight'] = 'bold' # set title font weight\n",
       "mpl.rcParams['axes.titlepad'] = 20 # set title padding\n",
       "\n",
       "def plot(data: pd.DataFrame):\n",
       "    # solution plan\n",
       "    # i. group data by Type and calculate the mean of Retail_Price\n",
       "    grouped_data = data.groupby('Type')['Retail_Price'].mean().reset_index()\n",
       "    \n",
       "    # ii. plot the grouped data using a barplot\n",
       "    sns.barplot(x='Type', y='Retail_Price', data=grouped_data, color='red') # change chart color to red\n",
       "    \n",
       "    # iii. add a horizontal line for the mean Retail_Price\n",
       "    mean_price = data['Retail_Price'].mean()\n",
       "    plt.axhline(mean_price, color='black', linestyle='--', label=f'Precio Promedio: {mean_price:.2f}') # translate chart to spanish\n",
       "    \n",
       "    # iv. add a legend\n",
       "    plt.legend()\n",
       "    \n",
       "    # v. set x-axis label rotation to 45 degrees for legibility\n",
       "    plt.xticks(rotation=45)\n",
       "    \n",
       "    # vi. set y-axis label\n",
       "    plt.ylabel('Precio Promedio de Venta')\n",
       "    \n",
       "    # vii. set plot title\n",
       "    plt.title('¿Cuál es el precio promedio de los carros por tipo?', wrap=True, fontweight='bold') # translate chart to spanish\n",
       "    \n",
       "    return plt;\n",
       "\n",
       "chart = plot(data)"
      ]
     },
     "execution_count": 8,
     "metadata": {},
     "output_type": "execute_result"
    }
   ],
   "source": [
    "code = charts[0].code\n",
    "textgen_config = TextGenerationConfig(n=1, temperature=0, use_cache=True)\n",
    "instructions = [\"make the chart height and width equal\", \"change the color of the chart to red\", \"translate the chart to spanish\"]\n",
    "edited_charts = lida.edit(code=code,  summary=summary, instructions=instructions, library=library, textgen_config=textgen_config)\n",
    "edited_charts[0]"
   ]
  },
  {
   "attachments": {},
   "cell_type": "markdown",
   "metadata": {},
   "source": [
    "## Visualization explanations and accessibility"
   ]
  },
  {
   "cell_type": "code",
   "execution_count": 9,
   "metadata": {},
   "outputs": [
    {
     "name": "stdout",
     "output_type": "stream",
     "text": [
      "accessibility  **  The chart is a bar plot created using the seaborn library. The goal of the chart is to show the average retail price of cars by type. The x-axis represents the different types of cars, while the y-axis represents the average retail price. The chart uses a blue color scheme for the bars and a red dashed line to represent the mean retail price. The chart is easy to read and understand, with clear labels and a title that summarizes the main insight.\n",
      "transformation  **  This section of the code groups the data by car type and calculates the mean retail price for each group. The resulting data is stored in a new dataframe called grouped_data. The groupby() method is used to group the data by the 'Type' column, and the mean() method is used to calculate the average retail price for each group. The reset_index() method is used to reset the index of the resulting dataframe.\n",
      "visualization  **  This section of the code creates the visualization of the data. The seaborn barplot() method is used to create a bar chart of the grouped data. The x-axis is set to the 'Type' column, and the y-axis is set to the 'Retail_Price' column of the grouped_data dataframe. The plt.axhline() method is used to add a horizontal line to the chart representing the mean retail price of all cars. The color of the line is set to red, and the linestyle is set to dashed. The label parameter is used to add a label to the line indicating the mean price. The plt.legend() method is used to add a legend to the chart. The plt.xticks() method is used to rotate the x-axis labels by 45 degrees for better legibility. The plt.ylabel() method is used to set the y-axis label to 'Average Retail Price'. The plt.title() method is used to set the chart title to 'What is the average price of cars by type?'. The wrap parameter is set to True to wrap the title text if it exceeds the width of the chart.\n"
     ]
    }
   ],
   "source": [
    "explanations = lida.explain(code=code, library=library, textgen_config=textgen_config) \n",
    "for row in explanations[0]:\n",
    "    print(row[\"section\"],\" ** \", row[\"explanation\"])"
   ]
  },
  {
   "attachments": {},
   "cell_type": "markdown",
   "metadata": {},
   "source": [
    "## Visualization code self-evaluation and repair"
   ]
  },
  {
   "cell_type": "code",
   "execution_count": 10,
   "metadata": {},
   "outputs": [
    {
     "name": "stdout",
     "output_type": "stream",
     "text": [
      "bugs Score 10 / 10\n",
      "\t The code is free of bugs, syntax errors, and typos. It should compile without issues.\n",
      "\t**********************************\n",
      "transformation Score 8 / 10\n",
      "\t The data is grouped by Type and the mean of Retail_Price is calculated. However, this transformation is not appropriate for the specified goal of exploring the relationship between engine size and hor\n",
      "\t**********************************\n",
      "compliance Score 6 / 10\n",
      "\t The code does not fully meet the specified goal of exploring the relationship between engine size and horsepower. The plot shows the average retail price of cars by type instead.\n",
      "\t**********************************\n",
      "type Score 3 / 10\n",
      "\t The barplot is not an appropriate visualization type for exploring the relationship between engine size and horsepower. A scatterplot or line plot would be more appropriate.\n",
      "\t**********************************\n",
      "encoding Score 8 / 10\n",
      "\t The data is encoded appropriately with Type on the x-axis and Retail_Price on the y-axis. However, this encoding is not appropriate for the specified goal of exploring the relationship between engine \n",
      "\t**********************************\n",
      "aesthetics Score 7 / 10\n",
      "\t The aesthetics of the visualization are appropriate for a barplot, with clear labels, a legend, and a title. However, the title does not reflect the specified goal of exploring the relationship betwee\n",
      "\t**********************************\n"
     ]
    }
   ],
   "source": [
    "evaluations = lida.evaluate(code=code,  goal=goals[i], textgen_config=textgen_config, library=library)[0] \n",
    "for eval in evaluations:\n",
    "    print(eval[\"dimension\"], \"Score\" ,eval[\"score\"], \"/ 10\")\n",
    "    print(\"\\t\", eval[\"rationale\"][:200])\n",
    "    print(\"\\t**********************************\")"
   ]
  },
  {
   "cell_type": "markdown",
   "metadata": {},
   "source": [
    "## Visualization Recommendation"
   ]
  },
  {
   "cell_type": "code",
   "execution_count": 11,
   "metadata": {},
   "outputs": [],
   "source": [
    "textgen_config = TextGenerationConfig(n=2, temperature=0.2, use_cache=True)\n",
    "recommended_charts =  lida.recommend(code=code, summary=summary, n=2,  textgen_config=textgen_config)"
   ]
  },
  {
   "cell_type": "code",
   "execution_count": 12,
   "metadata": {},
   "outputs": [
    {
     "name": "stdout",
     "output_type": "stream",
     "text": [
      "Recommended 1 charts\n"
     ]
    },
    {
     "data": {
      "image/png": "[encoded data removed]",
      "text/plain": [
       "import seaborn as sns\n",
       "import pandas as pd\n",
       "import matplotlib.pyplot as plt\n",
       "\n",
       "def plot(data: pd.DataFrame):\n",
       "    # solution plan\n",
       "    # i. group data by Type and calculate the mean of Retail_Price\n",
       "    grouped_data = data.groupby('Type')['Retail_Price'].mean().reset_index()\n",
       "    \n",
       "    # ii. plot the grouped data using a barplot\n",
       "    sns.barplot(x='Type', y='Retail_Price', data=grouped_data)\n",
       "    \n",
       "    # iii. add a horizontal line for the mean Retail_Price\n",
       "    mean_price = data['Retail_Price'].mean()\n",
       "    plt.axhline(mean_price, color='red', linestyle='--', label=f'Mean Price: {mean_price:.2f}')\n",
       "    \n",
       "    # iv. add a legend\n",
       "    plt.legend()\n",
       "    \n",
       "    # v. set x-axis label rotation to 45 degrees for legibility\n",
       "    plt.xticks(rotation=45)\n",
       "    \n",
       "    # vi. set y-axis label\n",
       "    plt.ylabel('Average Retail Price')\n",
       "    \n",
       "    # vii. set plot title\n",
       "    plt.title('What is the average price of cars by type?', wrap=True)\n",
       "    \n",
       "    return plt;\n",
       "\n",
       "chart = plot(data)"
      ]
     },
     "metadata": {},
     "output_type": "display_data"
    }
   ],
   "source": [
    "print(f\"Recommended {len(recommended_charts)} charts\")\n",
    "for chart in recommended_charts:\n",
    "    display(chart) "
   ]
  },
  {
   "cell_type": "markdown",
   "metadata": {},
   "source": [
    "## Infographics (Beta)\n",
    "\n",
    "- Explores using LIDA to generate infographics from an existing visualization \n",
    "- Uses the `peacasso` package, and loads open source stable diffusion models \n",
    "- You will need to run `pip install lida[infographics]` to install the required dependencies.\n",
    "- Currently work in progress (work being done to post process infographics with chart axis and title overlays from the original visualization, add presets for different infographic styles, and add more stable diffusion models)\n"
   ]
  },
  {
   "cell_type": "code",
   "execution_count": 13,
   "metadata": {},
   "outputs": [],
   "source": [
    "# !pip install lida[infographics] \n",
    "# ensure you have a GPU runtime"
   ]
  },
  {
   "cell_type": "code",
   "execution_count": null,
   "metadata": {},
   "outputs": [],
   "source": [
    "infographics = lida.infographics(visualization = edited_charts[0].raster, n=1, style_prompt=\"pastel art, green pearly rain drops, highly detailed, no blur, white background\")"
   ]
  },
  {
   "cell_type": "code",
   "execution_count": null,
   "metadata": {},
   "outputs": [],
   "source": [
    "from lida.utils import plot_raster\n",
    "plot_raster([edited_charts[0].raster, infographics[\"images\"][0]]) "
   ]
  }
 ],
 "metadata": {
  "kernelspec": {
   "display_name": "base",
   "language": "python",
   "name": "python3"
  },
  "language_info": {
   "codemirror_mode": {
    "name": "ipython",
    "version": 3
   },
   "file_extension": ".py",
   "mimetype": "text/x-python",
   "name": "python",
   "nbconvert_exporter": "python",
   "pygments_lexer": "ipython3",
   "version": "3.12.5"
  },
  "vscode": {
   "interpreter": {
    "hash": "189101fc34b85ec7417252a331b6b3ef556b71030ac1f6fe00bfbe1409305460"
   }
  }
 },
 "nbformat": 4,
 "nbformat_minor": 2
}
