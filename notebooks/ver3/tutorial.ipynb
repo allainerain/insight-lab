{
 "cells": [
  {
   "cell_type": "markdown",
   "metadata": {},
   "source": [
    "# Version 3 - Prompter Module\n"
   ]
  },
  {
   "cell_type": "markdown",
   "metadata": {},
   "source": [
    "## Setup"
   ]
  },
  {
   "cell_type": "code",
   "execution_count": 3,
   "metadata": {},
   "outputs": [
    {
     "name": "stdout",
     "output_type": "stream",
     "text": [
      "Note: you may need to restart the kernel to use updated packages.\n"
     ]
    },
    {
     "name": "stderr",
     "output_type": "stream",
     "text": [
      "WARNING: Skipping lida as it is not installed.\n"
     ]
    }
   ],
   "source": [
    "%pip uninstall -y lida \n",
    "# !pip install lida[infographics] # for infographics support"
   ]
  },
  {
   "cell_type": "code",
   "execution_count": 4,
   "metadata": {},
   "outputs": [
    {
     "name": "stdout",
     "output_type": "stream",
     "text": [
      "Note: you may need to restart the kernel to use updated packages.\n"
     ]
    },
    {
     "name": "stderr",
     "output_type": "stream",
     "text": [
      "WARNING: Package(s) not found: lida\n"
     ]
    }
   ],
   "source": [
    "%pip show lida"
   ]
  },
  {
   "cell_type": "code",
   "execution_count": 5,
   "metadata": {},
   "outputs": [],
   "source": [
    "%load_ext autoreload\n",
    "%autoreload 2"
   ]
  },
  {
   "cell_type": "code",
   "execution_count": 6,
   "metadata": {},
   "outputs": [],
   "source": [
    "import sys\n",
    "import os\n",
    "import pprint"
   ]
  },
  {
   "cell_type": "code",
   "execution_count": 7,
   "metadata": {},
   "outputs": [
    {
     "data": {
      "text/plain": [
       "True"
      ]
     },
     "execution_count": 7,
     "metadata": {},
     "output_type": "execute_result"
    }
   ],
   "source": [
    "from dotenv import load_dotenv\n",
    "\n",
    "load_dotenv()"
   ]
  },
  {
   "cell_type": "code",
   "execution_count": 8,
   "metadata": {},
   "outputs": [],
   "source": [
    "sys.path.append(os.path.abspath('../..'))"
   ]
  },
  {
   "cell_type": "code",
   "execution_count": 9,
   "metadata": {},
   "outputs": [],
   "source": [
    "from lida.components.manager import Manager\n",
    "from llmx import TextGenerationConfig, llm"
   ]
  },
  {
   "cell_type": "code",
   "execution_count": 10,
   "metadata": {},
   "outputs": [],
   "source": [
    "lida = Manager(text_gen = llm(\"openai\", api_key=os.getenv(\"APIKEY\"))) # !! api key\n",
    "textgen_config = TextGenerationConfig(n=1, temperature=0.5, model=\"gpt-4o-mini\", use_cache=True)"
   ]
  },
  {
   "cell_type": "code",
   "execution_count": 11,
   "metadata": {},
   "outputs": [
    {
     "data": {
      "text/plain": [
       "<lida.components.manager.Manager at 0x250e3db9a60>"
      ]
     },
     "metadata": {},
     "output_type": "display_data"
    }
   ],
   "source": [
    "display(lida)"
   ]
  },
  {
   "attachments": {},
   "cell_type": "markdown",
   "metadata": {},
   "source": [
    "## Summarize Data, Generate Goals"
   ]
  },
  {
   "cell_type": "markdown",
   "metadata": {},
   "source": [
    "### Summarize"
   ]
  },
  {
   "cell_type": "code",
   "execution_count": 12,
   "metadata": {},
   "outputs": [
    {
     "name": "stdout",
     "output_type": "stream",
     "text": [
      "here\n",
      "object\n",
      "{'Sedan': 234, 'SUV': 59, 'Sports Car': 45, 'Wagon': 29, 'Minivan': 20}\n",
      "int64\n",
      "int64\n",
      "int64\n",
      "int64\n",
      "int64\n",
      "int64\n",
      "int64\n",
      "int64\n",
      "int64\n",
      "int64\n",
      "int64\n",
      "int64\n",
      "int64\n",
      "int64\n",
      "int64\n",
      "int64\n",
      "int64\n",
      "int64\n",
      "int64\n",
      "int64\n",
      "int64\n",
      "int64\n",
      "int64\n",
      "int64\n",
      "int64\n",
      "int64\n",
      "int64\n",
      "int64\n",
      "float64\n",
      "float64\n",
      "float64\n",
      "float64\n",
      "float64\n",
      "float64\n",
      "float64\n",
      "int64\n",
      "int64\n",
      "int64\n",
      "int64\n",
      "int64\n",
      "int64\n",
      "int64\n",
      "int64\n",
      "int64\n",
      "int64\n",
      "int64\n",
      "int64\n",
      "int64\n",
      "int64\n",
      "int64\n",
      "int64\n",
      "int64\n",
      "int64\n",
      "int64\n",
      "int64\n",
      "int64\n",
      "int64\n",
      "int64\n",
      "int64\n",
      "int64\n",
      "int64\n",
      "int64\n",
      "int64\n",
      "int64\n",
      "int64\n",
      "int64\n",
      "int64\n",
      "int64\n",
      "int64\n",
      "int64\n",
      "int64\n",
      "int64\n",
      "int64\n",
      "int64\n",
      "int64\n",
      "int64\n",
      "int64\n",
      "int64\n",
      "int64\n",
      "int64\n",
      "int64\n",
      "int64\n",
      "int64\n",
      "int64\n",
      "int64\n",
      "int64\n",
      "int64\n",
      "int64\n",
      "int64\n",
      "int64\n",
      "int64\n",
      "{'dataset_description': '',\n",
      " 'field_names': ['Name',\n",
      "                 'Type',\n",
      "                 'AWD',\n",
      "                 'RWD',\n",
      "                 'Retail_Price',\n",
      "                 'Dealer_Cost',\n",
      "                 'Engine_Size__l_',\n",
      "                 'Cyl',\n",
      "                 'Horsepower_HP_',\n",
      "                 'City_Miles_Per_Gallon',\n",
      "                 'Highway_Miles_Per_Gallon',\n",
      "                 'Weight',\n",
      "                 'Wheel_Base',\n",
      "                 'Len',\n",
      "                 'Width'],\n",
      " 'fields': [{'column': 'Name',\n",
      "             'properties': {'description': '',\n",
      "                            'dtype': 'string',\n",
      "                            'num_unique_values': 385,\n",
      "                            'samples': ['Nissan Altima S 4dr',\n",
      "                                        'Mercury Marauder 4dr',\n",
      "                                        'Toyota Prius 4dr (gas/electric)'],\n",
      "                            'semantic_type': ''}},\n",
      "            {'column': 'Type',\n",
      "             'properties': {'description': '',\n",
      "                            'dtype': 'category',\n",
      "                            'num_unique_values': 5,\n",
      "                            'samples': ['SUV', 'Minivan', 'Sports Car'],\n",
      "                            'semantic_type': '',\n",
      "                            'value_counts': {'Minivan': 20,\n",
      "                                             'SUV': 59,\n",
      "                                             'Sedan': 234,\n",
      "                                             'Sports Car': 45,\n",
      "                                             'Wagon': 29}}},\n",
      "            {'column': 'AWD',\n",
      "             'properties': {'description': '',\n",
      "                            'dtype': 'number',\n",
      "                            'kurtosis': 0,\n",
      "                            'max': 1,\n",
      "                            'mean': 0,\n",
      "                            'median': 0,\n",
      "                            'min': 0,\n",
      "                            'num_unique_values': 2,\n",
      "                            'quantile': {0.25: 0.0, 0.5: 0.0, 0.75: 0.0},\n",
      "                            'samples': [1, 0],\n",
      "                            'semantic_type': '',\n",
      "                            'std': 0}},\n",
      "            {'column': 'RWD',\n",
      "             'properties': {'description': '',\n",
      "                            'dtype': 'number',\n",
      "                            'kurtosis': 0,\n",
      "                            'max': 1,\n",
      "                            'mean': 0,\n",
      "                            'median': 0,\n",
      "                            'min': 0,\n",
      "                            'num_unique_values': 2,\n",
      "                            'quantile': {0.25: 0.0, 0.5: 0.0, 0.75: 0.0},\n",
      "                            'samples': [1, 0],\n",
      "                            'semantic_type': '',\n",
      "                            'std': 0}},\n",
      "            {'column': 'Retail_Price',\n",
      "             'properties': {'description': '',\n",
      "                            'dtype': 'number',\n",
      "                            'kurtosis': 14,\n",
      "                            'max': 192465,\n",
      "                            'mean': 33231,\n",
      "                            'median': 28495,\n",
      "                            'min': 10280,\n",
      "                            'num_unique_values': 370,\n",
      "                            'quantile': {0.25: 20997.0,\n",
      "                                         0.5: 28495.0,\n",
      "                                         0.75: 39552.5},\n",
      "                            'samples': [22775, 37245],\n",
      "                            'semantic_type': '',\n",
      "                            'std': 19724}},\n",
      "            {'column': 'Dealer_Cost',\n",
      "             'properties': {'description': '',\n",
      "                            'dtype': 'number',\n",
      "                            'kurtosis': 14,\n",
      "                            'max': 173560,\n",
      "                            'mean': 30440,\n",
      "                            'median': 26155,\n",
      "                            'min': 9875,\n",
      "                            'num_unique_values': 384,\n",
      "                            'quantile': {0.25: 19575.0,\n",
      "                                         0.5: 26155.0,\n",
      "                                         0.75: 36124.0},\n",
      "                            'samples': [18030, 31558],\n",
      "                            'semantic_type': '',\n",
      "                            'std': 17901}},\n",
      "            {'column': 'Engine_Size__l_',\n",
      "             'properties': {'description': '',\n",
      "                            'dtype': 'number',\n",
      "                            'kurtosis': -0.37554339820346394,\n",
      "                            'max': 6.0,\n",
      "                            'mean': 3.1196382428940574,\n",
      "                            'median': 3.0,\n",
      "                            'min': 0.0,\n",
      "                            'num_unique_values': 40,\n",
      "                            'quantile': {0.25: 2.3, 0.5: 3.0, 0.75: 3.8},\n",
      "                            'samples': [2.2, 5.3],\n",
      "                            'semantic_type': '',\n",
      "                            'std': 1.0266787710109588}},\n",
      "            {'column': 'Cyl',\n",
      "             'properties': {'description': '',\n",
      "                            'dtype': 'number',\n",
      "                            'kurtosis': 0,\n",
      "                            'max': 12,\n",
      "                            'mean': 5,\n",
      "                            'median': 6,\n",
      "                            'min': 0,\n",
      "                            'num_unique_values': 8,\n",
      "                            'quantile': {0.25: 4.0, 0.5: 6.0, 0.75: 6.0},\n",
      "                            'samples': [4, 9],\n",
      "                            'semantic_type': '',\n",
      "                            'std': 1}},\n",
      "            {'column': 'Horsepower_HP_',\n",
      "             'properties': {'description': '',\n",
      "                            'dtype': 'number',\n",
      "                            'kurtosis': 1,\n",
      "                            'max': 493,\n",
      "                            'mean': 214,\n",
      "                            'median': 210,\n",
      "                            'min': 73,\n",
      "                            'num_unique_values': 100,\n",
      "                            'quantile': {0.25: 165.0, 0.5: 210.0, 0.75: 250.0},\n",
      "                            'samples': [126, 138],\n",
      "                            'semantic_type': '',\n",
      "                            'std': 70}},\n",
      "            {'column': 'City_Miles_Per_Gallon',\n",
      "             'properties': {'description': '',\n",
      "                            'dtype': 'number',\n",
      "                            'kurtosis': 378,\n",
      "                            'max': 1000,\n",
      "                            'mean': 22,\n",
      "                            'median': 19,\n",
      "                            'min': 10,\n",
      "                            'num_unique_values': 29,\n",
      "                            'quantile': {0.25: 18.0, 0.5: 19.0, 0.75: 22.0},\n",
      "                            'samples': [59, 32],\n",
      "                            'semantic_type': '',\n",
      "                            'std': 50}},\n",
      "            {'column': 'Highway_Miles_Per_Gallon',\n",
      "             'properties': {'description': '',\n",
      "                            'dtype': 'number',\n",
      "                            'kurtosis': 379,\n",
      "                            'max': 66,\n",
      "                            'mean': 24,\n",
      "                            'median': 27,\n",
      "                            'min': -1100,\n",
      "                            'num_unique_values': 33,\n",
      "                            'quantile': {0.25: 24.0, 0.5: 27.0, 0.75: 30.0},\n",
      "                            'samples': [43, 37],\n",
      "                            'semantic_type': '',\n",
      "                            'std': 57}},\n",
      "            {'column': 'Weight',\n",
      "             'properties': {'description': '',\n",
      "                            'dtype': 'number',\n",
      "                            'kurtosis': 1,\n",
      "                            'max': 6400,\n",
      "                            'mean': 3532,\n",
      "                            'median': 3469,\n",
      "                            'min': 1850,\n",
      "                            'num_unique_values': 315,\n",
      "                            'quantile': {0.25: 3107.0,\n",
      "                                         0.5: 3469.0,\n",
      "                                         0.75: 3922.0},\n",
      "                            'samples': [4473, 3472],\n",
      "                            'semantic_type': '',\n",
      "                            'std': 706}},\n",
      "            {'column': 'Wheel_Base',\n",
      "             'properties': {'description': '',\n",
      "                            'dtype': 'number',\n",
      "                            'kurtosis': 52,\n",
      "                            'max': 130,\n",
      "                            'mean': 106,\n",
      "                            'median': 107,\n",
      "                            'min': 0,\n",
      "                            'num_unique_values': 34,\n",
      "                            'quantile': {0.25: 103.0, 0.5: 107.0, 0.75: 112.0},\n",
      "                            'samples': [110, 0],\n",
      "                            'semantic_type': '',\n",
      "                            'std': 8}},\n",
      "            {'column': 'Len',\n",
      "             'properties': {'description': '',\n",
      "                            'dtype': 'number',\n",
      "                            'kurtosis': 0,\n",
      "                            'max': 221,\n",
      "                            'mean': 184,\n",
      "                            'median': 186,\n",
      "                            'min': 143,\n",
      "                            'num_unique_values': 60,\n",
      "                            'quantile': {0.25: 177.0, 0.5: 186.0, 0.75: 193.0},\n",
      "                            'samples': [197, 183],\n",
      "                            'semantic_type': '',\n",
      "                            'std': 13}},\n",
      "            {'column': 'Width',\n",
      "             'properties': {'description': '',\n",
      "                            'dtype': 'number',\n",
      "                            'kurtosis': 104,\n",
      "                            'max': 81,\n",
      "                            'mean': 71,\n",
      "                            'median': 71,\n",
      "                            'min': 2,\n",
      "                            'num_unique_values': 19,\n",
      "                            'quantile': {0.25: 69.0, 0.5: 71.0, 0.75: 73.0},\n",
      "                            'samples': [72, 70],\n",
      "                            'semantic_type': '',\n",
      "                            'std': 4}}],\n",
      " 'file_name': 'cars.csv',\n",
      " 'name': 'cars.csv'}\n"
     ]
    }
   ],
   "source": [
    "summary = lida.summarize(\"../cars.csv\", summary_method=\"default\", textgen_config=textgen_config)  \n",
    "pprint.pprint(summary)"
   ]
  },
  {
   "cell_type": "markdown",
   "metadata": {},
   "source": [
    "### Generate Goals without a Persona"
   ]
  },
  {
   "cell_type": "code",
   "execution_count": 21,
   "metadata": {},
   "outputs": [
    {
     "data": {
      "text/markdown": [
       "\n",
       "### Goal 0\n",
       "---\n",
       "**Question:** What are the average Retail Prices for different car Types?\n",
       "\n",
       "**Visualization:** `bar chart of average Retail_Price grouped by Type`\n",
       "\n",
       "**Rationale:** This visualization will help us understand the pricing strategy across different car categories (Type), revealing which types are generally more expensive. The fields used are 'Retail_Price' for pricing and 'Type' for categorization, making it easy to compare average prices across the five unique car types.\n"
      ],
      "text/plain": [
       "Goal(question='What are the average Retail Prices for different car Types?', visualization='bar chart of average Retail_Price grouped by Type', rationale=\"This visualization will help us understand the pricing strategy across different car categories (Type), revealing which types are generally more expensive. The fields used are 'Retail_Price' for pricing and 'Type' for categorization, making it easy to compare average prices across the five unique car types.\", index=0)"
      ]
     },
     "metadata": {},
     "output_type": "display_data"
    },
    {
     "data": {
      "text/markdown": [
       "\n",
       "### Goal 1\n",
       "---\n",
       "**Question:** How does the distribution of Engine Sizes vary across different Types of cars?\n",
       "\n",
       "**Visualization:** `box plot of Engine_Size__l_ grouped by Type`\n",
       "\n",
       "**Rationale:** A box plot will show the spread and central tendency of engine sizes for each car type (Type). This will highlight any significant differences in engine size, helping to identify trends or preferences within each category. The fields used are 'Engine_Size__l_' for engine size and 'Type' for car categorization.\n"
      ],
      "text/plain": [
       "Goal(question='How does the distribution of Engine Sizes vary across different Types of cars?', visualization='box plot of Engine_Size__l_ grouped by Type', rationale=\"A box plot will show the spread and central tendency of engine sizes for each car type (Type). This will highlight any significant differences in engine size, helping to identify trends or preferences within each category. The fields used are 'Engine_Size__l_' for engine size and 'Type' for car categorization.\", index=1)"
      ]
     },
     "metadata": {},
     "output_type": "display_data"
    },
    {
     "data": {
      "text/markdown": [
       "\n",
       "### Goal 2\n",
       "---\n",
       "**Question:** What is the relationship between Horsepower and Type of car?\n",
       "\n",
       "**Visualization:** `scatter plot of Horsepower_HP_ colored by Type`\n",
       "\n",
       "**Rationale:** This scatter plot will help visualize how horsepower varies among different car types (Type), allowing us to identify any patterns or outliers in performance. The fields 'Horsepower_HP_' will provide the horsepower data, while 'Type' will categorize the cars.\n"
      ],
      "text/plain": [
       "Goal(question='What is the relationship between Horsepower and Type of car?', visualization='scatter plot of Horsepower_HP_ colored by Type', rationale=\"This scatter plot will help visualize how horsepower varies among different car types (Type), allowing us to identify any patterns or outliers in performance. The fields 'Horsepower_HP_' will provide the horsepower data, while 'Type' will categorize the cars.\", index=2)"
      ]
     },
     "metadata": {},
     "output_type": "display_data"
    },
    {
     "data": {
      "text/markdown": [
       "\n",
       "### Goal 3\n",
       "---\n",
       "**Question:** What is the count of cars per Type, and how does it relate to their average Retail Price?\n",
       "\n",
       "**Visualization:** `dual-axis bar chart of count of cars by Type and average Retail_Price by Type`\n",
       "\n",
       "**Rationale:** This visualization will provide insights into the market share of each car type (Type) and its average pricing (Retail_Price). The dual-axis allows us to see both the number of cars and their average pricing, revealing potential trends in car popularity versus pricing. The fields used are 'Type' for categorization and 'Retail_Price' for pricing.\n"
      ],
      "text/plain": [
       "Goal(question='What is the count of cars per Type, and how does it relate to their average Retail Price?', visualization='dual-axis bar chart of count of cars by Type and average Retail_Price by Type', rationale=\"This visualization will provide insights into the market share of each car type (Type) and its average pricing (Retail_Price). The dual-axis allows us to see both the number of cars and their average pricing, revealing potential trends in car popularity versus pricing. The fields used are 'Type' for categorization and 'Retail_Price' for pricing.\", index=3)"
      ]
     },
     "metadata": {},
     "output_type": "display_data"
    },
    {
     "data": {
      "text/markdown": [
       "\n",
       "### Goal 4\n",
       "---\n",
       "**Question:** What are the most common Types of cars and how do they compare in terms of City and Highway Miles Per Gallon?\n",
       "\n",
       "**Visualization:** `grouped bar chart of average City_Miles_Per_Gallon and Highway_Miles_Per_Gallon by Type`\n",
       "\n",
       "**Rationale:** This grouped bar chart will allow us to compare fuel efficiency (City_Miles_Per_Gallon and Highway_Miles_Per_Gallon) across different car types (Type). This is important for understanding consumer preferences regarding fuel efficiency. The fields used are 'Type' for categorization and both 'City_Miles_Per_Gallon' and 'Highway_Miles_Per_Gallon' for efficiency metrics.\n"
      ],
      "text/plain": [
       "Goal(question='What are the most common Types of cars and how do they compare in terms of City and Highway Miles Per Gallon?', visualization='grouped bar chart of average City_Miles_Per_Gallon and Highway_Miles_Per_Gallon by Type', rationale=\"This grouped bar chart will allow us to compare fuel efficiency (City_Miles_Per_Gallon and Highway_Miles_Per_Gallon) across different car types (Type). This is important for understanding consumer preferences regarding fuel efficiency. The fields used are 'Type' for categorization and both 'City_Miles_Per_Gallon' and 'Highway_Miles_Per_Gallon' for efficiency metrics.\", index=4)"
      ]
     },
     "metadata": {},
     "output_type": "display_data"
    },
    {
     "data": {
      "text/markdown": [
       "\n",
       "### Goal 5\n",
       "---\n",
       "**Question:** What is the correlation between Retail Price and Dealer Cost?\n",
       "\n",
       "**Visualization:** `scatter plot of Retail_Price vs Dealer_Cost`\n",
       "\n",
       "**Rationale:** This visualization helps to understand the relationship between the retail price and the dealer cost of cars. By plotting these two numerical fields against each other, we can identify if higher dealer costs are associated with higher retail prices, which is crucial for pricing strategies.\n"
      ],
      "text/plain": [
       "Goal(question='What is the correlation between Retail Price and Dealer Cost?', visualization='scatter plot of Retail_Price vs Dealer_Cost', rationale='This visualization helps to understand the relationship between the retail price and the dealer cost of cars. By plotting these two numerical fields against each other, we can identify if higher dealer costs are associated with higher retail prices, which is crucial for pricing strategies.', index=5)"
      ]
     },
     "metadata": {},
     "output_type": "display_data"
    },
    {
     "data": {
      "text/markdown": [
       "\n",
       "### Goal 6\n",
       "---\n",
       "**Question:** How does the distribution of Horsepower vary by car Type?\n",
       "\n",
       "**Visualization:** `box plot of Horsepower_HP_ grouped by Type`\n",
       "\n",
       "**Rationale:** A box plot allows us to visualize the distribution of horsepower across different car types, highlighting the median, quartiles, and potential outliers. This is important for understanding performance expectations within each car category.\n"
      ],
      "text/plain": [
       "Goal(question='How does the distribution of Horsepower vary by car Type?', visualization='box plot of Horsepower_HP_ grouped by Type', rationale='A box plot allows us to visualize the distribution of horsepower across different car types, highlighting the median, quartiles, and potential outliers. This is important for understanding performance expectations within each car category.', index=6)"
      ]
     },
     "metadata": {},
     "output_type": "display_data"
    },
    {
     "data": {
      "text/markdown": [
       "\n",
       "### Goal 7\n",
       "---\n",
       "**Question:** What is the relationship between Engine Size and Fuel Efficiency (City and Highway MPG)?\n",
       "\n",
       "**Visualization:** `scatter plot of Engine_Size__l_ vs City_Miles_Per_Gallon and Highway_Miles_Per_Gallon`\n",
       "\n",
       "**Rationale:** By plotting engine size against both city and highway miles per gallon, we can analyze how engine size influences fuel efficiency. This dual scatter plot will help identify trends and correlations that can inform decisions on engine design and fuel economy.\n"
      ],
      "text/plain": [
       "Goal(question='What is the relationship between Engine Size and Fuel Efficiency (City and Highway MPG)?', visualization='scatter plot of Engine_Size__l_ vs City_Miles_Per_Gallon and Highway_Miles_Per_Gallon', rationale='By plotting engine size against both city and highway miles per gallon, we can analyze how engine size influences fuel efficiency. This dual scatter plot will help identify trends and correlations that can inform decisions on engine design and fuel economy.', index=7)"
      ]
     },
     "metadata": {},
     "output_type": "display_data"
    },
    {
     "data": {
      "text/markdown": [
       "\n",
       "### Goal 8\n",
       "---\n",
       "**Question:** What is the impact of Weight on Horsepower?\n",
       "\n",
       "**Visualization:** `scatter plot of Weight vs Horsepower_HP_`\n",
       "\n",
       "**Rationale:** This scatter plot will illustrate the relationship between the weight of a car and its horsepower. Understanding this correlation can be vital for performance analysis and vehicle design, as heavier cars may require more horsepower to achieve similar performance.\n"
      ],
      "text/plain": [
       "Goal(question='What is the impact of Weight on Horsepower?', visualization='scatter plot of Weight vs Horsepower_HP_', rationale='This scatter plot will illustrate the relationship between the weight of a car and its horsepower. Understanding this correlation can be vital for performance analysis and vehicle design, as heavier cars may require more horsepower to achieve similar performance.', index=8)"
      ]
     },
     "metadata": {},
     "output_type": "display_data"
    },
    {
     "data": {
      "text/markdown": [
       "\n",
       "### Goal 9\n",
       "---\n",
       "**Question:** How does the number of Cylinders relate to Retail Price?\n",
       "\n",
       "**Visualization:** `bar chart of average Retail_Price by Cyl`\n",
       "\n",
       "**Rationale:** A bar chart showing the average retail price for cars based on the number of cylinders will help us understand how engine configuration affects pricing. This is particularly useful for market segmentation and targeting based on performance characteristics.\n"
      ],
      "text/plain": [
       "Goal(question='How does the number of Cylinders relate to Retail Price?', visualization='bar chart of average Retail_Price by Cyl', rationale='A bar chart showing the average retail price for cars based on the number of cylinders will help us understand how engine configuration affects pricing. This is particularly useful for market segmentation and targeting based on performance characteristics.', index=9)"
      ]
     },
     "metadata": {},
     "output_type": "display_data"
    },
    {
     "data": {
      "text/markdown": [
       "\n",
       "### Goal 10\n",
       "---\n",
       "**Question:** How does the relationship between Engine Size, Weight, and Retail Price vary across different Types of cars?\n",
       "\n",
       "**Visualization:** `scatter plot of Engine_Size__l_ vs Weight colored by Type with Retail_Price as the size of the points`\n",
       "\n",
       "**Rationale:** This visualization will help us understand how Engine Size and Weight interact with the Retail Price of cars, segmented by their Type. It allows for an analysis of trends and patterns, showcasing how larger or heavier vehicles might correlate with higher Retail Prices, while also observing differences across Types.\n"
      ],
      "text/plain": [
       "Goal(question='How does the relationship between Engine Size, Weight, and Retail Price vary across different Types of cars?', visualization='scatter plot of Engine_Size__l_ vs Weight colored by Type with Retail_Price as the size of the points', rationale='This visualization will help us understand how Engine Size and Weight interact with the Retail Price of cars, segmented by their Type. It allows for an analysis of trends and patterns, showcasing how larger or heavier vehicles might correlate with higher Retail Prices, while also observing differences across Types.', index=10)"
      ]
     },
     "metadata": {},
     "output_type": "display_data"
    },
    {
     "data": {
      "text/markdown": [
       "\n",
       "### Goal 11\n",
       "---\n",
       "**Question:** What is the relationship between Horsepower, Cylinders, and City Miles Per Gallon?\n",
       "\n",
       "**Visualization:** `3D scatter plot of Horsepower_HP_ vs Cyl colored by City_Miles_Per_Gallon`\n",
       "\n",
       "**Rationale:** This visualization provides insight into how the number of Cylinders and Horsepower impact fuel efficiency in terms of City Miles Per Gallon. By visualizing these three variables together, we can identify potential trade-offs between power and fuel efficiency.\n"
      ],
      "text/plain": [
       "Goal(question='What is the relationship between Horsepower, Cylinders, and City Miles Per Gallon?', visualization='3D scatter plot of Horsepower_HP_ vs Cyl colored by City_Miles_Per_Gallon', rationale='This visualization provides insight into how the number of Cylinders and Horsepower impact fuel efficiency in terms of City Miles Per Gallon. By visualizing these three variables together, we can identify potential trade-offs between power and fuel efficiency.', index=11)"
      ]
     },
     "metadata": {},
     "output_type": "display_data"
    },
    {
     "data": {
      "text/markdown": [
       "\n",
       "### Goal 12\n",
       "---\n",
       "**Question:** How do Weight, Wheel Base, and Highway Miles Per Gallon relate to each other across different Types of cars?\n",
       "\n",
       "**Visualization:** `bubble chart of Weight vs Wheel_Base with Highway_Miles_Per_Gallon as the size of the bubbles, colored by Type`\n",
       "\n",
       "**Rationale:** This visualization will illustrate how Weight and Wheel Base influence fuel efficiency on the highway, while allowing us to observe variations across car Types. The use of a bubble chart will enable us to see the relative impact of these dimensions on fuel economy.\n"
      ],
      "text/plain": [
       "Goal(question='How do Weight, Wheel Base, and Highway Miles Per Gallon relate to each other across different Types of cars?', visualization='bubble chart of Weight vs Wheel_Base with Highway_Miles_Per_Gallon as the size of the bubbles, colored by Type', rationale='This visualization will illustrate how Weight and Wheel Base influence fuel efficiency on the highway, while allowing us to observe variations across car Types. The use of a bubble chart will enable us to see the relative impact of these dimensions on fuel economy.', index=12)"
      ]
     },
     "metadata": {},
     "output_type": "display_data"
    },
    {
     "data": {
      "text/markdown": [
       "\n",
       "### Goal 13\n",
       "---\n",
       "**Question:** What is the correlation between Retail Price, Dealer Cost, and Engine Size?\n",
       "\n",
       "**Visualization:** `heatmap showing the correlation coefficients between Retail_Price, Dealer_Cost, and Engine_Size__l_`\n",
       "\n",
       "**Rationale:** This heatmap will provide a clear visual representation of the correlations between these three variables. Understanding how closely Retail Price and Dealer Cost relate to Engine Size will help in assessing pricing strategies and market positioning.\n"
      ],
      "text/plain": [
       "Goal(question='What is the correlation between Retail Price, Dealer Cost, and Engine Size?', visualization='heatmap showing the correlation coefficients between Retail_Price, Dealer_Cost, and Engine_Size__l_', rationale='This heatmap will provide a clear visual representation of the correlations between these three variables. Understanding how closely Retail Price and Dealer Cost relate to Engine Size will help in assessing pricing strategies and market positioning.', index=13)"
      ]
     },
     "metadata": {},
     "output_type": "display_data"
    },
    {
     "data": {
      "text/markdown": [
       "\n",
       "### Goal 14\n",
       "---\n",
       "**Question:** How does the relationship between Type, City Miles Per Gallon, and Highway Miles Per Gallon vary?\n",
       "\n",
       "**Visualization:** `grouped bar chart comparing average City_Miles_Per_Gallon and Highway_Miles_Per_Gallon for each Type`\n",
       "\n",
       "**Rationale:** This grouped bar chart allows for easy comparison of fuel efficiency metrics between different Types of cars. It highlights how car Type influences city versus highway fuel efficiency, which is critical for consumers making purchasing decisions.\n"
      ],
      "text/plain": [
       "Goal(question='How does the relationship between Type, City Miles Per Gallon, and Highway Miles Per Gallon vary?', visualization='grouped bar chart comparing average City_Miles_Per_Gallon and Highway_Miles_Per_Gallon for each Type', rationale='This grouped bar chart allows for easy comparison of fuel efficiency metrics between different Types of cars. It highlights how car Type influences city versus highway fuel efficiency, which is critical for consumers making purchasing decisions.', index=14)"
      ]
     },
     "metadata": {},
     "output_type": "display_data"
    },
    {
     "data": {
      "text/markdown": [
       "\n",
       "### Goal 15\n",
       "---\n",
       "**Question:** What is the relationship between Engine Size and Retail Price?\n",
       "\n",
       "**Visualization:** `scatter plot of Engine_Size__l_ vs Retail_Price`\n",
       "\n",
       "**Rationale:** This visualization allows us to observe if there is a correlation between the size of the engine and the retail price of the cars. A scatter plot is appropriate here as it can reveal patterns, trends, and potential outliers in the relationship between these two continuous variables.\n"
      ],
      "text/plain": [
       "Goal(question='What is the relationship between Engine Size and Retail Price?', visualization='scatter plot of Engine_Size__l_ vs Retail_Price', rationale='This visualization allows us to observe if there is a correlation between the size of the engine and the retail price of the cars. A scatter plot is appropriate here as it can reveal patterns, trends, and potential outliers in the relationship between these two continuous variables.', index=15)"
      ]
     },
     "metadata": {},
     "output_type": "display_data"
    },
    {
     "data": {
      "text/markdown": [
       "\n",
       "### Goal 16\n",
       "---\n",
       "**Question:** How does Weight influence Highway Miles Per Gallon?\n",
       "\n",
       "**Visualization:** `scatter plot of Weight vs Highway_Miles_Per_Gallon`\n",
       "\n",
       "**Rationale:** This scatter plot will help us understand the impact of a car's weight on its fuel efficiency on highways. Analyzing this relationship can provide insights into how heavier vehicles perform in terms of mileage, and it's best represented by a scatter plot to visualize any trends or correlations.\n"
      ],
      "text/plain": [
       "Goal(question='How does Weight influence Highway Miles Per Gallon?', visualization='scatter plot of Weight vs Highway_Miles_Per_Gallon', rationale=\"This scatter plot will help us understand the impact of a car's weight on its fuel efficiency on highways. Analyzing this relationship can provide insights into how heavier vehicles perform in terms of mileage, and it's best represented by a scatter plot to visualize any trends or correlations.\", index=16)"
      ]
     },
     "metadata": {},
     "output_type": "display_data"
    },
    {
     "data": {
      "text/markdown": [
       "\n",
       "### Goal 17\n",
       "---\n",
       "**Question:** What is the correlation between Horsepower and City Miles Per Gallon?\n",
       "\n",
       "**Visualization:** `scatter plot of Horsepower_HP_ vs City_Miles_Per_Gallon`\n",
       "\n",
       "**Rationale:** Using a scatter plot to examine the relationship between horsepower and city mileage will help us identify if more powerful cars tend to consume more fuel in city driving conditions. This visualization is effective for understanding the potential trade-off between performance and fuel efficiency.\n"
      ],
      "text/plain": [
       "Goal(question='What is the correlation between Horsepower and City Miles Per Gallon?', visualization='scatter plot of Horsepower_HP_ vs City_Miles_Per_Gallon', rationale='Using a scatter plot to examine the relationship between horsepower and city mileage will help us identify if more powerful cars tend to consume more fuel in city driving conditions. This visualization is effective for understanding the potential trade-off between performance and fuel efficiency.', index=17)"
      ]
     },
     "metadata": {},
     "output_type": "display_data"
    },
    {
     "data": {
      "text/markdown": [
       "\n",
       "### Goal 18\n",
       "---\n",
       "**Question:** How do the number of Cylinders relate to Retail Price?\n",
       "\n",
       "**Visualization:** `box plot of Cyl vs Retail_Price`\n",
       "\n",
       "**Rationale:** A box plot will illustrate the distribution of retail prices across different cylinder counts, allowing us to see the median, quartiles, and potential outliers. This visualization is useful for understanding how the engine configuration may affect pricing strategies in the market.\n"
      ],
      "text/plain": [
       "Goal(question='How do the number of Cylinders relate to Retail Price?', visualization='box plot of Cyl vs Retail_Price', rationale='A box plot will illustrate the distribution of retail prices across different cylinder counts, allowing us to see the median, quartiles, and potential outliers. This visualization is useful for understanding how the engine configuration may affect pricing strategies in the market.', index=18)"
      ]
     },
     "metadata": {},
     "output_type": "display_data"
    },
    {
     "data": {
      "text/markdown": [
       "\n",
       "### Goal 19\n",
       "---\n",
       "**Question:** What is the relationship between Type of car and Weight?\n",
       "\n",
       "**Visualization:** `bar chart of Type vs Weight (average)`\n",
       "\n",
       "**Rationale:** This bar chart will display the average weight of cars categorized by type, helping us understand how different types of vehicles compare in terms of weight. A bar chart is suitable for comparing quantities across categories, providing clear insights into how vehicle classifications relate to their weight.\n"
      ],
      "text/plain": [
       "Goal(question='What is the relationship between Type of car and Weight?', visualization='bar chart of Type vs Weight (average)', rationale='This bar chart will display the average weight of cars categorized by type, helping us understand how different types of vehicles compare in terms of weight. A bar chart is suitable for comparing quantities across categories, providing clear insights into how vehicle classifications relate to their weight.', index=19)"
      ]
     },
     "metadata": {},
     "output_type": "display_data"
    }
   ],
   "source": [
    "goals = lida.goals(summary, n=20, textgen_config=textgen_config)\n",
    "\n",
    "for goal in goals:\n",
    "    display(goal)"
   ]
  },
  {
   "cell_type": "code",
   "execution_count": 78,
   "metadata": {},
   "outputs": [
    {
     "name": "stdout",
     "output_type": "stream",
     "text": [
      "0\n",
      "1\n",
      "0\n",
      "1\n",
      "0\n",
      "1\n",
      "2\n",
      "0\n",
      "1\n",
      "2\n"
     ]
    }
   ],
   "source": [
    "for goal in goals:\n",
    "    print(goal.index)"
   ]
  },
  {
   "cell_type": "markdown",
   "metadata": {},
   "source": [
    "### Saving and Loading Goals without a Persona"
   ]
  },
  {
   "cell_type": "code",
   "execution_count": 14,
   "metadata": {},
   "outputs": [],
   "source": [
    "import pickle"
   ]
  },
  {
   "cell_type": "code",
   "execution_count": 15,
   "metadata": {},
   "outputs": [],
   "source": [
    "# # SAVE\n",
    "\n",
    "# with open('goals2-5-8-20-combined-cars.pkl', 'wb') as f:\n",
    "#     pickle.dump(goals, f)"
   ]
  },
  {
   "cell_type": "code",
   "execution_count": 15,
   "metadata": {},
   "outputs": [
    {
     "data": {
      "text/plain": [
       "[Goal(question='What is the distribution of car types in the dataset?', visualization='bar chart of Type', rationale=\"This visualization uses the 'Type' column to show the frequency of each car type (e.g., Sedan, SUV, Sports Car, Wagon, Minivan). A bar chart is appropriate here as it allows for easy comparison of the number of cars in each category, helping to identify which types are most prevalent and potentially influencing market trends.\", index=0),\n",
       " Goal(question='How do retail prices vary by car type?', visualization='box plot of Retail_Price by Type', rationale=\"Using the 'Retail_Price' column grouped by 'Type' allows us to visualize the distribution of prices for each car type. A box plot is effective here as it shows the median, quartiles, and potential outliers, giving insights into price ranges and how they differ among various car types.\", index=1),\n",
       " Goal(question='What is the average engine size for each car type?', visualization='bar chart of average Engine_Size__l_ by Type', rationale=\"This visualization will use the 'Engine_Size__l_' column averaged by 'Type' to illustrate the differences in engine size across car types. A bar chart is suitable for this purpose, as it allows for straightforward comparison of average engine sizes, which can be indicative of performance characteristics associated with each type.\", index=2),\n",
       " Goal(question='What is the relationship between car type and fuel efficiency (City and Highway MPG)?', visualization='grouped bar chart of average City_Miles_Per_Gallon and Highway_Miles_Per_Gallon by Type', rationale=\"This visualization will utilize 'City_Miles_Per_Gallon' and 'Highway_Miles_Per_Gallon' to compare average fuel efficiency across different car types. A grouped bar chart allows for a clear comparison between city and highway MPG for each type, aiding in understanding how vehicle design impacts fuel efficiency.\", index=3),\n",
       " Goal(question='What is the impact of car type on weight?', visualization='box plot of Weight by Type', rationale=\"Using the 'Weight' column categorized by 'Type' helps visualize how the weight of cars differs among types. A box plot is appropriate as it provides a detailed view of the weight distribution, including median and outliers, which can inform decisions related to safety, performance, and efficiency based on vehicle weight.\", index=4),\n",
       " Goal(question='How does the horsepower relate to the retail price of cars?', visualization='scatter plot of Horsepower_HP_ vs Retail_Price', rationale='This visualization will help us understand the correlation between horsepower and retail price, allowing us to identify if more powerful cars tend to have higher prices.', index=5),\n",
       " Goal(question='What is the relationship between engine size and fuel efficiency in terms of City and Highway MPG?', visualization='line chart comparing Engine_Size__l_ with City_Miles_Per_Gallon and Highway_Miles_Per_Gallon', rationale='Using a line chart will allow us to visualize the trends in fuel efficiency as engine size increases, helping to identify if larger engines correlate with lower MPG.', index=6),\n",
       " Goal(question='How does weight affect the horsepower of different car types?', visualization='box plot of Weight vs Horsepower_HP_ grouped by Type', rationale='A box plot will enable us to compare the distribution of horsepower across different weight categories for each car type, highlighting potential trends and outliers.', index=7),\n",
       " Goal(question='What is the impact of the number of cylinders on the retail price and dealer cost?', visualization='bar chart comparing average Retail_Price and Dealer_Cost by Cyl', rationale='A bar chart will effectively show the average retail price and dealer cost across different cylinder counts, helping to identify if more cylinders lead to higher costs.', index=8),\n",
       " Goal(question='How does the length of the car relate to its weight and wheelbase?', visualization='3D scatter plot of Len, Weight, and Wheel_Base', rationale='A 3D scatter plot will allow us to visualize the relationships between car length, weight, and wheelbase, providing insights into how these dimensions interact with each other.', index=9),\n",
       " Goal(question='How does the retail price vary with engine size and horsepower across different car types?', visualization='3D scatter plot of Retail_Price vs Engine_Size__l_ vs Horsepower_HP_ colored by Type', rationale='This visualization allows us to explore the relationship between retail price, engine size, and horsepower, while also differentiating between car types. It will help identify if larger engines and higher horsepower correlate with higher retail prices across various types of cars.', index=10),\n",
       " Goal(question='What is the relationship between weight, engine size, and retail price for different car types?', visualization='Bubble chart of Retail_Price on the y-axis, Weight on the x-axis, and Engine_Size__l_ represented by bubble size, colored by Type', rationale='This bubble chart will illustrate how weight and engine size affect retail price, while also showing the distribution of different car types. It provides insights into whether heavier cars with larger engines tend to be priced higher, and how this varies by car type.', index=11),\n",
       " Goal(question='How do city miles per gallon compare with highway miles per gallon based on engine size and number of cylinders?', visualization='Grouped bar chart of City_Miles_Per_Gallon and Highway_Miles_Per_Gallon grouped by Engine_Size__l_ and colored by Cyl', rationale='This grouped bar chart allows for a direct comparison of city and highway miles per gallon across different engine sizes and cylinder counts. It will help us understand how engine specifications influence fuel efficiency in urban versus highway driving conditions.', index=12),\n",
       " Goal(question='What is the impact of wheelbase on the weight and retail price across different car types?', visualization='Line chart of Weight and Retail_Price against Wheel_Base, with separate lines for each Type', rationale='This line chart will help visualize the trends in weight and retail price as wheelbase increases, segmented by car type. It will provide insights into how wheelbase affects both the mass and market value of different vehicle categories.', index=13),\n",
       " Goal(question='How does the distribution of horsepower vary with the number of cylinders and car type?', visualization='Box plot of Horsepower_HP_ grouped by Cyl and colored by Type', rationale='This box plot will show the distribution of horsepower across different cylinder counts for each car type. It will allow us to identify patterns and outliers in horsepower based on engine configuration, providing insights into performance characteristics associated with different types of vehicles.', index=14),\n",
       " Goal(question='How does the retail price relate to the engine size across different car types?', visualization='scatter plot of Retail_Price vs Engine_Size__l_ colored by Type', rationale=\"This visualization will help us understand if there's a correlation between engine size and retail price, while also allowing us to see if this relationship differs by car type. By plotting Retail_Price against Engine_Size__l_ and using Type to differentiate the points, we can gain insights into how engine size impacts pricing across various categories of cars.\", index=15),\n",
       " Goal(question='What is the relationship between horsepower and weight for different car types?', visualization='scatter plot of Horsepower_HP_ vs Weight colored by Type', rationale='This visualization will illustrate the relationship between horsepower and weight, which is crucial for understanding performance characteristics. By differentiating the points by Type, we can see if certain types of cars (e.g., Sports Cars vs. SUVs) have different dynamics in terms of horsepower relative to their weight.', index=16),\n",
       " Goal(question='How do city miles per gallon compare with highway miles per gallon across different engine sizes?', visualization='box plot comparing City_Miles_Per_Gallon and Highway_Miles_Per_Gallon grouped by Engine_Size__l_', rationale='This visualization will reveal how fuel efficiency varies between city and highway driving conditions for various engine sizes. By using a box plot, we can effectively summarize the distribution of MPG values for both city and highway, allowing us to identify trends and outliers in fuel efficiency based on engine size.', index=17),\n",
       " Goal(question='What is the impact of the number of cylinders on retail price and dealer cost?', visualization='dual-axis bar chart comparing average Retail_Price and average Dealer_Cost by Cyl', rationale='This dual-axis bar chart will allow us to compare the average retail price and dealer cost across different cylinder counts. By using this format, we can visualize how the number of cylinders influences both retail pricing and dealer costs, which is essential for understanding market dynamics.', index=18),\n",
       " Goal(question='How does the weight of the car correlate with its length and width?', visualization='3D scatter plot of Weight vs Len and Width', rationale='This 3D scatter plot will help us visualize the relationship between car weight, length, and width. Understanding how these dimensions correlate can provide insights into design trends and structural characteristics of different car types, which is important for a comprehensive analysis of automotive data.', index=19)]"
      ]
     },
     "metadata": {},
     "output_type": "display_data"
    }
   ],
   "source": [
    "# LOAD\n",
    "\n",
    "with open('../ver2/goals2-5-6-20-combined-cars.pkl', 'rb') as f:\n",
    "    goals = pickle.load(f)\n",
    "\n",
    "display(goals)"
   ]
  },
  {
   "cell_type": "code",
   "execution_count": 15,
   "metadata": {},
   "outputs": [
    {
     "data": {
      "text/markdown": [
       "\n",
       "### Goal 0\n",
       "---\n",
       "**Question:** What is the distribution of car types in the dataset?\n",
       "\n",
       "**Visualization:** `bar chart of Type`\n",
       "\n",
       "**Rationale:** This visualization uses the 'Type' column to show the frequency of each car type (e.g., Sedan, SUV, Sports Car, Wagon, Minivan). A bar chart is appropriate here as it allows for easy comparison of the number of cars in each category, helping to identify which types are most prevalent and potentially influencing market trends.\n"
      ],
      "text/plain": [
       "Goal(question='What is the distribution of car types in the dataset?', visualization='bar chart of Type', rationale=\"This visualization uses the 'Type' column to show the frequency of each car type (e.g., Sedan, SUV, Sports Car, Wagon, Minivan). A bar chart is appropriate here as it allows for easy comparison of the number of cars in each category, helping to identify which types are most prevalent and potentially influencing market trends.\", index=0)"
      ]
     },
     "metadata": {},
     "output_type": "display_data"
    },
    {
     "data": {
      "text/markdown": [
       "\n",
       "### Goal 1\n",
       "---\n",
       "**Question:** How do retail prices vary by car type?\n",
       "\n",
       "**Visualization:** `box plot of Retail_Price by Type`\n",
       "\n",
       "**Rationale:** Using the 'Retail_Price' column grouped by 'Type' allows us to visualize the distribution of prices for each car type. A box plot is effective here as it shows the median, quartiles, and potential outliers, giving insights into price ranges and how they differ among various car types.\n"
      ],
      "text/plain": [
       "Goal(question='How do retail prices vary by car type?', visualization='box plot of Retail_Price by Type', rationale=\"Using the 'Retail_Price' column grouped by 'Type' allows us to visualize the distribution of prices for each car type. A box plot is effective here as it shows the median, quartiles, and potential outliers, giving insights into price ranges and how they differ among various car types.\", index=1)"
      ]
     },
     "metadata": {},
     "output_type": "display_data"
    },
    {
     "data": {
      "text/markdown": [
       "\n",
       "### Goal 2\n",
       "---\n",
       "**Question:** What is the average engine size for each car type?\n",
       "\n",
       "**Visualization:** `bar chart of average Engine_Size__l_ by Type`\n",
       "\n",
       "**Rationale:** This visualization will use the 'Engine_Size__l_' column averaged by 'Type' to illustrate the differences in engine size across car types. A bar chart is suitable for this purpose, as it allows for straightforward comparison of average engine sizes, which can be indicative of performance characteristics associated with each type.\n"
      ],
      "text/plain": [
       "Goal(question='What is the average engine size for each car type?', visualization='bar chart of average Engine_Size__l_ by Type', rationale=\"This visualization will use the 'Engine_Size__l_' column averaged by 'Type' to illustrate the differences in engine size across car types. A bar chart is suitable for this purpose, as it allows for straightforward comparison of average engine sizes, which can be indicative of performance characteristics associated with each type.\", index=2)"
      ]
     },
     "metadata": {},
     "output_type": "display_data"
    },
    {
     "data": {
      "text/markdown": [
       "\n",
       "### Goal 3\n",
       "---\n",
       "**Question:** What is the relationship between car type and fuel efficiency (City and Highway MPG)?\n",
       "\n",
       "**Visualization:** `grouped bar chart of average City_Miles_Per_Gallon and Highway_Miles_Per_Gallon by Type`\n",
       "\n",
       "**Rationale:** This visualization will utilize 'City_Miles_Per_Gallon' and 'Highway_Miles_Per_Gallon' to compare average fuel efficiency across different car types. A grouped bar chart allows for a clear comparison between city and highway MPG for each type, aiding in understanding how vehicle design impacts fuel efficiency.\n"
      ],
      "text/plain": [
       "Goal(question='What is the relationship between car type and fuel efficiency (City and Highway MPG)?', visualization='grouped bar chart of average City_Miles_Per_Gallon and Highway_Miles_Per_Gallon by Type', rationale=\"This visualization will utilize 'City_Miles_Per_Gallon' and 'Highway_Miles_Per_Gallon' to compare average fuel efficiency across different car types. A grouped bar chart allows for a clear comparison between city and highway MPG for each type, aiding in understanding how vehicle design impacts fuel efficiency.\", index=3)"
      ]
     },
     "metadata": {},
     "output_type": "display_data"
    },
    {
     "data": {
      "text/markdown": [
       "\n",
       "### Goal 4\n",
       "---\n",
       "**Question:** What is the impact of car type on weight?\n",
       "\n",
       "**Visualization:** `box plot of Weight by Type`\n",
       "\n",
       "**Rationale:** Using the 'Weight' column categorized by 'Type' helps visualize how the weight of cars differs among types. A box plot is appropriate as it provides a detailed view of the weight distribution, including median and outliers, which can inform decisions related to safety, performance, and efficiency based on vehicle weight.\n"
      ],
      "text/plain": [
       "Goal(question='What is the impact of car type on weight?', visualization='box plot of Weight by Type', rationale=\"Using the 'Weight' column categorized by 'Type' helps visualize how the weight of cars differs among types. A box plot is appropriate as it provides a detailed view of the weight distribution, including median and outliers, which can inform decisions related to safety, performance, and efficiency based on vehicle weight.\", index=4)"
      ]
     },
     "metadata": {},
     "output_type": "display_data"
    },
    {
     "data": {
      "text/markdown": [
       "\n",
       "### Goal 5\n",
       "---\n",
       "**Question:** How does the horsepower relate to the retail price of cars?\n",
       "\n",
       "**Visualization:** `scatter plot of Horsepower_HP_ vs Retail_Price`\n",
       "\n",
       "**Rationale:** This visualization will help us understand the correlation between horsepower and retail price, allowing us to identify if more powerful cars tend to have higher prices.\n"
      ],
      "text/plain": [
       "Goal(question='How does the horsepower relate to the retail price of cars?', visualization='scatter plot of Horsepower_HP_ vs Retail_Price', rationale='This visualization will help us understand the correlation between horsepower and retail price, allowing us to identify if more powerful cars tend to have higher prices.', index=5)"
      ]
     },
     "metadata": {},
     "output_type": "display_data"
    },
    {
     "data": {
      "text/markdown": [
       "\n",
       "### Goal 6\n",
       "---\n",
       "**Question:** What is the relationship between engine size and fuel efficiency in terms of City and Highway MPG?\n",
       "\n",
       "**Visualization:** `line chart comparing Engine_Size__l_ with City_Miles_Per_Gallon and Highway_Miles_Per_Gallon`\n",
       "\n",
       "**Rationale:** Using a line chart will allow us to visualize the trends in fuel efficiency as engine size increases, helping to identify if larger engines correlate with lower MPG.\n"
      ],
      "text/plain": [
       "Goal(question='What is the relationship between engine size and fuel efficiency in terms of City and Highway MPG?', visualization='line chart comparing Engine_Size__l_ with City_Miles_Per_Gallon and Highway_Miles_Per_Gallon', rationale='Using a line chart will allow us to visualize the trends in fuel efficiency as engine size increases, helping to identify if larger engines correlate with lower MPG.', index=6)"
      ]
     },
     "metadata": {},
     "output_type": "display_data"
    },
    {
     "data": {
      "text/markdown": [
       "\n",
       "### Goal 7\n",
       "---\n",
       "**Question:** How does weight affect the horsepower of different car types?\n",
       "\n",
       "**Visualization:** `box plot of Weight vs Horsepower_HP_ grouped by Type`\n",
       "\n",
       "**Rationale:** A box plot will enable us to compare the distribution of horsepower across different weight categories for each car type, highlighting potential trends and outliers.\n"
      ],
      "text/plain": [
       "Goal(question='How does weight affect the horsepower of different car types?', visualization='box plot of Weight vs Horsepower_HP_ grouped by Type', rationale='A box plot will enable us to compare the distribution of horsepower across different weight categories for each car type, highlighting potential trends and outliers.', index=7)"
      ]
     },
     "metadata": {},
     "output_type": "display_data"
    },
    {
     "data": {
      "text/markdown": [
       "\n",
       "### Goal 8\n",
       "---\n",
       "**Question:** What is the impact of the number of cylinders on the retail price and dealer cost?\n",
       "\n",
       "**Visualization:** `bar chart comparing average Retail_Price and Dealer_Cost by Cyl`\n",
       "\n",
       "**Rationale:** A bar chart will effectively show the average retail price and dealer cost across different cylinder counts, helping to identify if more cylinders lead to higher costs.\n"
      ],
      "text/plain": [
       "Goal(question='What is the impact of the number of cylinders on the retail price and dealer cost?', visualization='bar chart comparing average Retail_Price and Dealer_Cost by Cyl', rationale='A bar chart will effectively show the average retail price and dealer cost across different cylinder counts, helping to identify if more cylinders lead to higher costs.', index=8)"
      ]
     },
     "metadata": {},
     "output_type": "display_data"
    },
    {
     "data": {
      "text/markdown": [
       "\n",
       "### Goal 9\n",
       "---\n",
       "**Question:** How does the length of the car relate to its weight and wheelbase?\n",
       "\n",
       "**Visualization:** `3D scatter plot of Len, Weight, and Wheel_Base`\n",
       "\n",
       "**Rationale:** A 3D scatter plot will allow us to visualize the relationships between car length, weight, and wheelbase, providing insights into how these dimensions interact with each other.\n"
      ],
      "text/plain": [
       "Goal(question='How does the length of the car relate to its weight and wheelbase?', visualization='3D scatter plot of Len, Weight, and Wheel_Base', rationale='A 3D scatter plot will allow us to visualize the relationships between car length, weight, and wheelbase, providing insights into how these dimensions interact with each other.', index=9)"
      ]
     },
     "metadata": {},
     "output_type": "display_data"
    },
    {
     "data": {
      "text/markdown": [
       "\n",
       "### Goal 10\n",
       "---\n",
       "**Question:** How does the retail price vary with engine size and horsepower across different car types?\n",
       "\n",
       "**Visualization:** `3D scatter plot of Retail_Price vs Engine_Size__l_ vs Horsepower_HP_ colored by Type`\n",
       "\n",
       "**Rationale:** This visualization allows us to explore the relationship between retail price, engine size, and horsepower, while also differentiating between car types. It will help identify if larger engines and higher horsepower correlate with higher retail prices across various types of cars.\n"
      ],
      "text/plain": [
       "Goal(question='How does the retail price vary with engine size and horsepower across different car types?', visualization='3D scatter plot of Retail_Price vs Engine_Size__l_ vs Horsepower_HP_ colored by Type', rationale='This visualization allows us to explore the relationship between retail price, engine size, and horsepower, while also differentiating between car types. It will help identify if larger engines and higher horsepower correlate with higher retail prices across various types of cars.', index=10)"
      ]
     },
     "metadata": {},
     "output_type": "display_data"
    },
    {
     "data": {
      "text/markdown": [
       "\n",
       "### Goal 11\n",
       "---\n",
       "**Question:** What is the relationship between weight, engine size, and retail price for different car types?\n",
       "\n",
       "**Visualization:** `Bubble chart of Retail_Price on the y-axis, Weight on the x-axis, and Engine_Size__l_ represented by bubble size, colored by Type`\n",
       "\n",
       "**Rationale:** This bubble chart will illustrate how weight and engine size affect retail price, while also showing the distribution of different car types. It provides insights into whether heavier cars with larger engines tend to be priced higher, and how this varies by car type.\n"
      ],
      "text/plain": [
       "Goal(question='What is the relationship between weight, engine size, and retail price for different car types?', visualization='Bubble chart of Retail_Price on the y-axis, Weight on the x-axis, and Engine_Size__l_ represented by bubble size, colored by Type', rationale='This bubble chart will illustrate how weight and engine size affect retail price, while also showing the distribution of different car types. It provides insights into whether heavier cars with larger engines tend to be priced higher, and how this varies by car type.', index=11)"
      ]
     },
     "metadata": {},
     "output_type": "display_data"
    },
    {
     "data": {
      "text/markdown": [
       "\n",
       "### Goal 12\n",
       "---\n",
       "**Question:** How do city miles per gallon compare with highway miles per gallon based on engine size and number of cylinders?\n",
       "\n",
       "**Visualization:** `Grouped bar chart of City_Miles_Per_Gallon and Highway_Miles_Per_Gallon grouped by Engine_Size__l_ and colored by Cyl`\n",
       "\n",
       "**Rationale:** This grouped bar chart allows for a direct comparison of city and highway miles per gallon across different engine sizes and cylinder counts. It will help us understand how engine specifications influence fuel efficiency in urban versus highway driving conditions.\n"
      ],
      "text/plain": [
       "Goal(question='How do city miles per gallon compare with highway miles per gallon based on engine size and number of cylinders?', visualization='Grouped bar chart of City_Miles_Per_Gallon and Highway_Miles_Per_Gallon grouped by Engine_Size__l_ and colored by Cyl', rationale='This grouped bar chart allows for a direct comparison of city and highway miles per gallon across different engine sizes and cylinder counts. It will help us understand how engine specifications influence fuel efficiency in urban versus highway driving conditions.', index=12)"
      ]
     },
     "metadata": {},
     "output_type": "display_data"
    },
    {
     "data": {
      "text/markdown": [
       "\n",
       "### Goal 13\n",
       "---\n",
       "**Question:** What is the impact of wheelbase on the weight and retail price across different car types?\n",
       "\n",
       "**Visualization:** `Line chart of Weight and Retail_Price against Wheel_Base, with separate lines for each Type`\n",
       "\n",
       "**Rationale:** This line chart will help visualize the trends in weight and retail price as wheelbase increases, segmented by car type. It will provide insights into how wheelbase affects both the mass and market value of different vehicle categories.\n"
      ],
      "text/plain": [
       "Goal(question='What is the impact of wheelbase on the weight and retail price across different car types?', visualization='Line chart of Weight and Retail_Price against Wheel_Base, with separate lines for each Type', rationale='This line chart will help visualize the trends in weight and retail price as wheelbase increases, segmented by car type. It will provide insights into how wheelbase affects both the mass and market value of different vehicle categories.', index=13)"
      ]
     },
     "metadata": {},
     "output_type": "display_data"
    },
    {
     "data": {
      "text/markdown": [
       "\n",
       "### Goal 14\n",
       "---\n",
       "**Question:** How does the distribution of horsepower vary with the number of cylinders and car type?\n",
       "\n",
       "**Visualization:** `Box plot of Horsepower_HP_ grouped by Cyl and colored by Type`\n",
       "\n",
       "**Rationale:** This box plot will show the distribution of horsepower across different cylinder counts for each car type. It will allow us to identify patterns and outliers in horsepower based on engine configuration, providing insights into performance characteristics associated with different types of vehicles.\n"
      ],
      "text/plain": [
       "Goal(question='How does the distribution of horsepower vary with the number of cylinders and car type?', visualization='Box plot of Horsepower_HP_ grouped by Cyl and colored by Type', rationale='This box plot will show the distribution of horsepower across different cylinder counts for each car type. It will allow us to identify patterns and outliers in horsepower based on engine configuration, providing insights into performance characteristics associated with different types of vehicles.', index=14)"
      ]
     },
     "metadata": {},
     "output_type": "display_data"
    },
    {
     "data": {
      "text/markdown": [
       "\n",
       "### Goal 15\n",
       "---\n",
       "**Question:** How does the retail price relate to the engine size across different car types?\n",
       "\n",
       "**Visualization:** `scatter plot of Retail_Price vs Engine_Size__l_ colored by Type`\n",
       "\n",
       "**Rationale:** This visualization will help us understand if there's a correlation between engine size and retail price, while also allowing us to see if this relationship differs by car type. By plotting Retail_Price against Engine_Size__l_ and using Type to differentiate the points, we can gain insights into how engine size impacts pricing across various categories of cars.\n"
      ],
      "text/plain": [
       "Goal(question='How does the retail price relate to the engine size across different car types?', visualization='scatter plot of Retail_Price vs Engine_Size__l_ colored by Type', rationale=\"This visualization will help us understand if there's a correlation between engine size and retail price, while also allowing us to see if this relationship differs by car type. By plotting Retail_Price against Engine_Size__l_ and using Type to differentiate the points, we can gain insights into how engine size impacts pricing across various categories of cars.\", index=15)"
      ]
     },
     "metadata": {},
     "output_type": "display_data"
    },
    {
     "data": {
      "text/markdown": [
       "\n",
       "### Goal 16\n",
       "---\n",
       "**Question:** What is the relationship between horsepower and weight for different car types?\n",
       "\n",
       "**Visualization:** `scatter plot of Horsepower_HP_ vs Weight colored by Type`\n",
       "\n",
       "**Rationale:** This visualization will illustrate the relationship between horsepower and weight, which is crucial for understanding performance characteristics. By differentiating the points by Type, we can see if certain types of cars (e.g., Sports Cars vs. SUVs) have different dynamics in terms of horsepower relative to their weight.\n"
      ],
      "text/plain": [
       "Goal(question='What is the relationship between horsepower and weight for different car types?', visualization='scatter plot of Horsepower_HP_ vs Weight colored by Type', rationale='This visualization will illustrate the relationship between horsepower and weight, which is crucial for understanding performance characteristics. By differentiating the points by Type, we can see if certain types of cars (e.g., Sports Cars vs. SUVs) have different dynamics in terms of horsepower relative to their weight.', index=16)"
      ]
     },
     "metadata": {},
     "output_type": "display_data"
    },
    {
     "data": {
      "text/markdown": [
       "\n",
       "### Goal 17\n",
       "---\n",
       "**Question:** How do city miles per gallon compare with highway miles per gallon across different engine sizes?\n",
       "\n",
       "**Visualization:** `box plot comparing City_Miles_Per_Gallon and Highway_Miles_Per_Gallon grouped by Engine_Size__l_`\n",
       "\n",
       "**Rationale:** This visualization will reveal how fuel efficiency varies between city and highway driving conditions for various engine sizes. By using a box plot, we can effectively summarize the distribution of MPG values for both city and highway, allowing us to identify trends and outliers in fuel efficiency based on engine size.\n"
      ],
      "text/plain": [
       "Goal(question='How do city miles per gallon compare with highway miles per gallon across different engine sizes?', visualization='box plot comparing City_Miles_Per_Gallon and Highway_Miles_Per_Gallon grouped by Engine_Size__l_', rationale='This visualization will reveal how fuel efficiency varies between city and highway driving conditions for various engine sizes. By using a box plot, we can effectively summarize the distribution of MPG values for both city and highway, allowing us to identify trends and outliers in fuel efficiency based on engine size.', index=17)"
      ]
     },
     "metadata": {},
     "output_type": "display_data"
    },
    {
     "data": {
      "text/markdown": [
       "\n",
       "### Goal 18\n",
       "---\n",
       "**Question:** What is the impact of the number of cylinders on retail price and dealer cost?\n",
       "\n",
       "**Visualization:** `dual-axis bar chart comparing average Retail_Price and average Dealer_Cost by Cyl`\n",
       "\n",
       "**Rationale:** This dual-axis bar chart will allow us to compare the average retail price and dealer cost across different cylinder counts. By using this format, we can visualize how the number of cylinders influences both retail pricing and dealer costs, which is essential for understanding market dynamics.\n"
      ],
      "text/plain": [
       "Goal(question='What is the impact of the number of cylinders on retail price and dealer cost?', visualization='dual-axis bar chart comparing average Retail_Price and average Dealer_Cost by Cyl', rationale='This dual-axis bar chart will allow us to compare the average retail price and dealer cost across different cylinder counts. By using this format, we can visualize how the number of cylinders influences both retail pricing and dealer costs, which is essential for understanding market dynamics.', index=18)"
      ]
     },
     "metadata": {},
     "output_type": "display_data"
    },
    {
     "data": {
      "text/markdown": [
       "\n",
       "### Goal 19\n",
       "---\n",
       "**Question:** How does the weight of the car correlate with its length and width?\n",
       "\n",
       "**Visualization:** `3D scatter plot of Weight vs Len and Width`\n",
       "\n",
       "**Rationale:** This 3D scatter plot will help us visualize the relationship between car weight, length, and width. Understanding how these dimensions correlate can provide insights into design trends and structural characteristics of different car types, which is important for a comprehensive analysis of automotive data.\n"
      ],
      "text/plain": [
       "Goal(question='How does the weight of the car correlate with its length and width?', visualization='3D scatter plot of Weight vs Len and Width', rationale='This 3D scatter plot will help us visualize the relationship between car weight, length, and width. Understanding how these dimensions correlate can provide insights into design trends and structural characteristics of different car types, which is important for a comprehensive analysis of automotive data.', index=19)"
      ]
     },
     "metadata": {},
     "output_type": "display_data"
    }
   ],
   "source": [
    "for goal in goals:\n",
    "    display(goal)"
   ]
  },
  {
   "cell_type": "markdown",
   "metadata": {},
   "source": [
    "### Generating Goals with a Persona"
   ]
  },
  {
   "cell_type": "code",
   "execution_count": 14,
   "metadata": {},
   "outputs": [
    {
     "data": {
      "text/markdown": [
       "\n",
       "### Goal 0\n",
       "---\n",
       "**Question:** What is the distribution of Retail Price?\n",
       "\n",
       "**Visualization:** `histogram of Retail_Price`\n",
       "\n",
       "**Rationale:** This tells us about the range of car prices available, helping the mechanic identify affordable options.\n"
      ],
      "text/plain": [
       "Goal(question='What is the distribution of Retail Price?', visualization='histogram of Retail_Price', rationale='This tells us about the range of car prices available, helping the mechanic identify affordable options.', index=0)"
      ]
     },
     "metadata": {},
     "output_type": "display_data"
    },
    {
     "data": {
      "text/markdown": [
       "\n",
       "### Goal 1\n",
       "---\n",
       "**Question:** How does City Miles Per Gallon vary with Retail Price?\n",
       "\n",
       "**Visualization:** `scatter plot of City_Miles_Per_Gallon vs Retail_Price`\n",
       "\n",
       "**Rationale:** This helps assess whether higher-priced cars offer better fuel efficiency.\n"
      ],
      "text/plain": [
       "Goal(question='How does City Miles Per Gallon vary with Retail Price?', visualization='scatter plot of City_Miles_Per_Gallon vs Retail_Price', rationale='This helps assess whether higher-priced cars offer better fuel efficiency.', index=1)"
      ]
     },
     "metadata": {},
     "output_type": "display_data"
    },
    {
     "data": {
      "text/markdown": [
       "\n",
       "### Goal 2\n",
       "---\n",
       "**Question:** What is the correlation between Highway Miles Per Gallon and City Miles Per Gallon?\n",
       "\n",
       "**Visualization:** `scatter plot of Highway_Miles_Per_Gallon vs City_Miles_Per_Gallon`\n",
       "\n",
       "**Rationale:** Understanding this relationship can help the mechanic predict fuel efficiency based on city driving conditions.\n"
      ],
      "text/plain": [
       "Goal(question='What is the correlation between Highway Miles Per Gallon and City Miles Per Gallon?', visualization='scatter plot of Highway_Miles_Per_Gallon vs City_Miles_Per_Gallon', rationale='Understanding this relationship can help the mechanic predict fuel efficiency based on city driving conditions.', index=2)"
      ]
     },
     "metadata": {},
     "output_type": "display_data"
    },
    {
     "data": {
      "text/markdown": [
       "\n",
       "### Goal 3\n",
       "---\n",
       "**Question:** Which car types have the best average City Miles Per Gallon?\n",
       "\n",
       "**Visualization:** `bar chart of average City_Miles_Per_Gallon by Type`\n",
       "\n",
       "**Rationale:** This allows the mechanic to quickly identify which types of cars are more fuel-efficient.\n"
      ],
      "text/plain": [
       "Goal(question='Which car types have the best average City Miles Per Gallon?', visualization='bar chart of average City_Miles_Per_Gallon by Type', rationale='This allows the mechanic to quickly identify which types of cars are more fuel-efficient.', index=3)"
      ]
     },
     "metadata": {},
     "output_type": "display_data"
    },
    {
     "data": {
      "text/markdown": [
       "\n",
       "### Goal 4\n",
       "---\n",
       "**Question:** What is the distribution of Engine Sizes across different car types?\n",
       "\n",
       "**Visualization:** `box plot of Engine_Size__l_ by Type`\n",
       "\n",
       "**Rationale:** This shows how engine size varies across types, which can impact fuel efficiency.\n"
      ],
      "text/plain": [
       "Goal(question='What is the distribution of Engine Sizes across different car types?', visualization='box plot of Engine_Size__l_ by Type', rationale='This shows how engine size varies across types, which can impact fuel efficiency.', index=4)"
      ]
     },
     "metadata": {},
     "output_type": "display_data"
    },
    {
     "data": {
      "text/markdown": [
       "\n",
       "### Goal 5\n",
       "---\n",
       "**Question:** How does the number of Cylinders affect City Miles Per Gallon?\n",
       "\n",
       "**Visualization:** `box plot of City_Miles_Per_Gallon by Cyl`\n",
       "\n",
       "**Rationale:** This helps the mechanic understand how engine configuration influences fuel efficiency.\n"
      ],
      "text/plain": [
       "Goal(question='How does the number of Cylinders affect City Miles Per Gallon?', visualization='box plot of City_Miles_Per_Gallon by Cyl', rationale='This helps the mechanic understand how engine configuration influences fuel efficiency.', index=5)"
      ]
     },
     "metadata": {},
     "output_type": "display_data"
    },
    {
     "data": {
      "text/markdown": [
       "\n",
       "### Goal 6\n",
       "---\n",
       "**Question:** What is the relationship between Horsepower and City Miles Per Gallon?\n",
       "\n",
       "**Visualization:** `scatter plot of Horsepower_HP_ vs City_Miles_Per_Gallon`\n",
       "\n",
       "**Rationale:** This can indicate if more powerful cars compromise fuel efficiency.\n"
      ],
      "text/plain": [
       "Goal(question='What is the relationship between Horsepower and City Miles Per Gallon?', visualization='scatter plot of Horsepower_HP_ vs City_Miles_Per_Gallon', rationale='This can indicate if more powerful cars compromise fuel efficiency.', index=6)"
      ]
     },
     "metadata": {},
     "output_type": "display_data"
    },
    {
     "data": {
      "text/markdown": [
       "\n",
       "### Goal 7\n",
       "---\n",
       "**Question:** How do the weights of cars affect their fuel efficiency?\n",
       "\n",
       "**Visualization:** `scatter plot of Weight vs City_Miles_Per_Gallon`\n",
       "\n",
       "**Rationale:** This helps the mechanic see if lighter cars generally provide better fuel economy.\n"
      ],
      "text/plain": [
       "Goal(question='How do the weights of cars affect their fuel efficiency?', visualization='scatter plot of Weight vs City_Miles_Per_Gallon', rationale='This helps the mechanic see if lighter cars generally provide better fuel economy.', index=7)"
      ]
     },
     "metadata": {},
     "output_type": "display_data"
    },
    {
     "data": {
      "text/markdown": [
       "\n",
       "### Goal 8\n",
       "---\n",
       "**Question:** What is the average Retail Price for cars with good gas mileage (above 25 MPG)?\n",
       "\n",
       "**Visualization:** `bar chart of average Retail_Price for City_Miles_Per_Gallon > 25`\n",
       "\n",
       "**Rationale:** This gives insight into the cost of more fuel-efficient cars.\n"
      ],
      "text/plain": [
       "Goal(question='What is the average Retail Price for cars with good gas mileage (above 25 MPG)?', visualization='bar chart of average Retail_Price for City_Miles_Per_Gallon > 25', rationale='This gives insight into the cost of more fuel-efficient cars.', index=8)"
      ]
     },
     "metadata": {},
     "output_type": "display_data"
    },
    {
     "data": {
      "text/markdown": [
       "\n",
       "### Goal 9\n",
       "---\n",
       "**Question:** What is the average Dealer Cost for cars with high Highway Miles Per Gallon?\n",
       "\n",
       "**Visualization:** `bar chart of average Dealer_Cost for Highway_Miles_Per_Gallon > 30`\n",
       "\n",
       "**Rationale:** This can help the mechanic identify cost-effective options for high-mileage vehicles.\n"
      ],
      "text/plain": [
       "Goal(question='What is the average Dealer Cost for cars with high Highway Miles Per Gallon?', visualization='bar chart of average Dealer_Cost for Highway_Miles_Per_Gallon > 30', rationale='This can help the mechanic identify cost-effective options for high-mileage vehicles.', index=9)"
      ]
     },
     "metadata": {},
     "output_type": "display_data"
    },
    {
     "data": {
      "text/markdown": [
       "\n",
       "### Goal 10\n",
       "---\n",
       "**Question:** How does the length of a car relate to its fuel efficiency?\n",
       "\n",
       "**Visualization:** `scatter plot of Len vs City_Miles_Per_Gallon`\n",
       "\n",
       "**Rationale:** Understanding this relationship can help assess if larger cars are less efficient.\n"
      ],
      "text/plain": [
       "Goal(question='How does the length of a car relate to its fuel efficiency?', visualization='scatter plot of Len vs City_Miles_Per_Gallon', rationale='Understanding this relationship can help assess if larger cars are less efficient.', index=10)"
      ]
     },
     "metadata": {},
     "output_type": "display_data"
    },
    {
     "data": {
      "text/markdown": [
       "\n",
       "### Goal 11\n",
       "---\n",
       "**Question:** What is the distribution of AWD and RWD cars in terms of fuel efficiency?\n",
       "\n",
       "**Visualization:** `box plot of City_Miles_Per_Gallon by AWD and RWD`\n",
       "\n",
       "**Rationale:** This helps the mechanic understand how drivetrain configurations impact gas mileage.\n"
      ],
      "text/plain": [
       "Goal(question='What is the distribution of AWD and RWD cars in terms of fuel efficiency?', visualization='box plot of City_Miles_Per_Gallon by AWD and RWD', rationale='This helps the mechanic understand how drivetrain configurations impact gas mileage.', index=11)"
      ]
     },
     "metadata": {},
     "output_type": "display_data"
    },
    {
     "data": {
      "text/markdown": [
       "\n",
       "### Goal 12\n",
       "---\n",
       "**Question:** What is the average weight of cars grouped by their Type?\n",
       "\n",
       "**Visualization:** `bar chart of average Weight by Type`\n",
       "\n",
       "**Rationale:** This can provide insights into how the type of car affects its overall weight and potentially its fuel efficiency.\n"
      ],
      "text/plain": [
       "Goal(question='What is the average weight of cars grouped by their Type?', visualization='bar chart of average Weight by Type', rationale='This can provide insights into how the type of car affects its overall weight and potentially its fuel efficiency.', index=12)"
      ]
     },
     "metadata": {},
     "output_type": "display_data"
    },
    {
     "data": {
      "text/markdown": [
       "\n",
       "### Goal 13\n",
       "---\n",
       "**Question:** How does the wheelbase length correlate with fuel efficiency?\n",
       "\n",
       "**Visualization:** `scatter plot of Wheel_Base vs City_Miles_Per_Gallon`\n",
       "\n",
       "**Rationale:** This can help the mechanic understand if longer wheelbases lead to worse fuel economy.\n"
      ],
      "text/plain": [
       "Goal(question='How does the wheelbase length correlate with fuel efficiency?', visualization='scatter plot of Wheel_Base vs City_Miles_Per_Gallon', rationale='This can help the mechanic understand if longer wheelbases lead to worse fuel economy.', index=13)"
      ]
     },
     "metadata": {},
     "output_type": "display_data"
    },
    {
     "data": {
      "text/markdown": [
       "\n",
       "### Goal 14\n",
       "---\n",
       "**Question:** What is the average Highway Miles Per Gallon for cars with different engine sizes?\n",
       "\n",
       "**Visualization:** `bar chart of average Highway_Miles_Per_Gallon by Engine_Size__l_`\n",
       "\n",
       "**Rationale:** This can help identify if larger engines compromise highway fuel efficiency.\n"
      ],
      "text/plain": [
       "Goal(question='What is the average Highway Miles Per Gallon for cars with different engine sizes?', visualization='bar chart of average Highway_Miles_Per_Gallon by Engine_Size__l_', rationale='This can help identify if larger engines compromise highway fuel efficiency.', index=14)"
      ]
     },
     "metadata": {},
     "output_type": "display_data"
    },
    {
     "data": {
      "text/markdown": [
       "\n",
       "### Goal 15\n",
       "---\n",
       "**Question:** What is the relationship between the number of cylinders and Highway Miles Per Gallon?\n",
       "\n",
       "**Visualization:** `box plot of Highway_Miles_Per_Gallon by Cyl`\n",
       "\n",
       "**Rationale:** This shows how engine configuration impacts highway fuel efficiency.\n"
      ],
      "text/plain": [
       "Goal(question='What is the relationship between the number of cylinders and Highway Miles Per Gallon?', visualization='box plot of Highway_Miles_Per_Gallon by Cyl', rationale='This shows how engine configuration impacts highway fuel efficiency.', index=15)"
      ]
     },
     "metadata": {},
     "output_type": "display_data"
    },
    {
     "data": {
      "text/markdown": [
       "\n",
       "### Goal 16\n",
       "---\n",
       "**Question:** What percentage of cars have good fuel efficiency (above 25 MPG)?\n",
       "\n",
       "**Visualization:** `pie chart of percentage of cars with City_Miles_Per_Gallon > 25`\n",
       "\n",
       "**Rationale:** This gives a quick overview of the availability of fuel-efficient options.\n"
      ],
      "text/plain": [
       "Goal(question='What percentage of cars have good fuel efficiency (above 25 MPG)?', visualization='pie chart of percentage of cars with City_Miles_Per_Gallon > 25', rationale='This gives a quick overview of the availability of fuel-efficient options.', index=16)"
      ]
     },
     "metadata": {},
     "output_type": "display_data"
    },
    {
     "data": {
      "text/markdown": [
       "\n",
       "### Goal 17\n",
       "---\n",
       "**Question:** What is the average Retail Price for cars categorized as SUVs versus Sedans?\n",
       "\n",
       "**Visualization:** `bar chart of average Retail_Price by Type`\n",
       "\n",
       "**Rationale:** This helps the mechanic compare the cost of different car types.\n"
      ],
      "text/plain": [
       "Goal(question='What is the average Retail Price for cars categorized as SUVs versus Sedans?', visualization='bar chart of average Retail_Price by Type', rationale='This helps the mechanic compare the cost of different car types.', index=17)"
      ]
     },
     "metadata": {},
     "output_type": "display_data"
    },
    {
     "data": {
      "text/markdown": [
       "\n",
       "### Goal 18\n",
       "---\n",
       "**Question:** How does the average horsepower vary among different types of cars?\n",
       "\n",
       "**Visualization:** `bar chart of average Horsepower_HP_ by Type`\n",
       "\n",
       "**Rationale:** This may indicate if more powerful cars are generally more expensive or less fuel-efficient.\n"
      ],
      "text/plain": [
       "Goal(question='How does the average horsepower vary among different types of cars?', visualization='bar chart of average Horsepower_HP_ by Type', rationale='This may indicate if more powerful cars are generally more expensive or less fuel-efficient.', index=18)"
      ]
     },
     "metadata": {},
     "output_type": "display_data"
    },
    {
     "data": {
      "text/markdown": [
       "\n",
       "### Goal 19\n",
       "---\n",
       "**Question:** What is the relationship between car width and fuel efficiency?\n",
       "\n",
       "**Visualization:** `scatter plot of Width vs City_Miles_Per_Gallon`\n",
       "\n",
       "**Rationale:** This can help determine if wider cars tend to have lower fuel efficiency.\n"
      ],
      "text/plain": [
       "Goal(question='What is the relationship between car width and fuel efficiency?', visualization='scatter plot of Width vs City_Miles_Per_Gallon', rationale='This can help determine if wider cars tend to have lower fuel efficiency.', index=19)"
      ]
     },
     "metadata": {},
     "output_type": "display_data"
    }
   ],
   "source": [
    "# goals can also be based on a persona \n",
    "persona = \"a mechanic who wants to buy a car that is cheap but has good gas mileage\"\n",
    "personal_goals = lida.goals(summary, n=20, persona=persona, textgen_config=textgen_config)\n",
    "for goal in personal_goals:\n",
    "    display(goal)"
   ]
  },
  {
   "cell_type": "markdown",
   "metadata": {},
   "source": [
    "### Saving and Loading Goals with a Persona"
   ]
  },
  {
   "cell_type": "code",
   "execution_count": 15,
   "metadata": {},
   "outputs": [],
   "source": [
    "# SAVE\n",
    "\n",
    "with open('goals-persona.pkl', 'wb') as f:\n",
    "    pickle.dump(personal_goals, f)"
   ]
  },
  {
   "cell_type": "code",
   "execution_count": 16,
   "metadata": {},
   "outputs": [
    {
     "data": {
      "text/plain": [
       "[Goal(question='What is the distribution of Retail Price?', visualization='histogram of Retail_Price', rationale='This tells us about the range of car prices available, helping the mechanic identify affordable options.', index=0),\n",
       " Goal(question='How does City Miles Per Gallon vary with Retail Price?', visualization='scatter plot of City_Miles_Per_Gallon vs Retail_Price', rationale='This helps assess whether higher-priced cars offer better fuel efficiency.', index=1),\n",
       " Goal(question='What is the correlation between Highway Miles Per Gallon and City Miles Per Gallon?', visualization='scatter plot of Highway_Miles_Per_Gallon vs City_Miles_Per_Gallon', rationale='Understanding this relationship can help the mechanic predict fuel efficiency based on city driving conditions.', index=2),\n",
       " Goal(question='Which car types have the best average City Miles Per Gallon?', visualization='bar chart of average City_Miles_Per_Gallon by Type', rationale='This allows the mechanic to quickly identify which types of cars are more fuel-efficient.', index=3),\n",
       " Goal(question='What is the distribution of Engine Sizes across different car types?', visualization='box plot of Engine_Size__l_ by Type', rationale='This shows how engine size varies across types, which can impact fuel efficiency.', index=4),\n",
       " Goal(question='How does the number of Cylinders affect City Miles Per Gallon?', visualization='box plot of City_Miles_Per_Gallon by Cyl', rationale='This helps the mechanic understand how engine configuration influences fuel efficiency.', index=5),\n",
       " Goal(question='What is the relationship between Horsepower and City Miles Per Gallon?', visualization='scatter plot of Horsepower_HP_ vs City_Miles_Per_Gallon', rationale='This can indicate if more powerful cars compromise fuel efficiency.', index=6),\n",
       " Goal(question='How do the weights of cars affect their fuel efficiency?', visualization='scatter plot of Weight vs City_Miles_Per_Gallon', rationale='This helps the mechanic see if lighter cars generally provide better fuel economy.', index=7),\n",
       " Goal(question='What is the average Retail Price for cars with good gas mileage (above 25 MPG)?', visualization='bar chart of average Retail_Price for City_Miles_Per_Gallon > 25', rationale='This gives insight into the cost of more fuel-efficient cars.', index=8),\n",
       " Goal(question='What is the average Dealer Cost for cars with high Highway Miles Per Gallon?', visualization='bar chart of average Dealer_Cost for Highway_Miles_Per_Gallon > 30', rationale='This can help the mechanic identify cost-effective options for high-mileage vehicles.', index=9),\n",
       " Goal(question='How does the length of a car relate to its fuel efficiency?', visualization='scatter plot of Len vs City_Miles_Per_Gallon', rationale='Understanding this relationship can help assess if larger cars are less efficient.', index=10),\n",
       " Goal(question='What is the distribution of AWD and RWD cars in terms of fuel efficiency?', visualization='box plot of City_Miles_Per_Gallon by AWD and RWD', rationale='This helps the mechanic understand how drivetrain configurations impact gas mileage.', index=11),\n",
       " Goal(question='What is the average weight of cars grouped by their Type?', visualization='bar chart of average Weight by Type', rationale='This can provide insights into how the type of car affects its overall weight and potentially its fuel efficiency.', index=12),\n",
       " Goal(question='How does the wheelbase length correlate with fuel efficiency?', visualization='scatter plot of Wheel_Base vs City_Miles_Per_Gallon', rationale='This can help the mechanic understand if longer wheelbases lead to worse fuel economy.', index=13),\n",
       " Goal(question='What is the average Highway Miles Per Gallon for cars with different engine sizes?', visualization='bar chart of average Highway_Miles_Per_Gallon by Engine_Size__l_', rationale='This can help identify if larger engines compromise highway fuel efficiency.', index=14),\n",
       " Goal(question='What is the relationship between the number of cylinders and Highway Miles Per Gallon?', visualization='box plot of Highway_Miles_Per_Gallon by Cyl', rationale='This shows how engine configuration impacts highway fuel efficiency.', index=15),\n",
       " Goal(question='What percentage of cars have good fuel efficiency (above 25 MPG)?', visualization='pie chart of percentage of cars with City_Miles_Per_Gallon > 25', rationale='This gives a quick overview of the availability of fuel-efficient options.', index=16),\n",
       " Goal(question='What is the average Retail Price for cars categorized as SUVs versus Sedans?', visualization='bar chart of average Retail_Price by Type', rationale='This helps the mechanic compare the cost of different car types.', index=17),\n",
       " Goal(question='How does the average horsepower vary among different types of cars?', visualization='bar chart of average Horsepower_HP_ by Type', rationale='This may indicate if more powerful cars are generally more expensive or less fuel-efficient.', index=18),\n",
       " Goal(question='What is the relationship between car width and fuel efficiency?', visualization='scatter plot of Width vs City_Miles_Per_Gallon', rationale='This can help determine if wider cars tend to have lower fuel efficiency.', index=19)]"
      ]
     },
     "metadata": {},
     "output_type": "display_data"
    }
   ],
   "source": [
    "# LOAD\n",
    "\n",
    "with open('goals-persona.pkl', 'rb') as f:\n",
    "    loaded = pickle.load(f)\n",
    "\n",
    "display(loaded)"
   ]
  },
  {
   "attachments": {},
   "cell_type": "markdown",
   "metadata": {},
   "source": [
    "## Generate Visualizations"
   ]
  },
  {
   "cell_type": "code",
   "execution_count": 29,
   "metadata": {},
   "outputs": [
    {
     "data": {
      "image/png": "[encoded data removed]",
      "text/plain": [
       "import seaborn as sns\n",
       "import pandas as pd\n",
       "import matplotlib.pyplot as plt\n",
       "\n",
       "def plot(data: pd.DataFrame):\n",
       "    avg_prices = data.groupby('Cyl')[['Retail_Price', 'Dealer_Cost']].mean().reset_index()\n",
       "    \n",
       "    fig, ax1 = plt.subplots(figsize=(12, 6))\n",
       "    \n",
       "    color = 'tab:blue'\n",
       "    ax1.set_xlabel('Number of Cylinders')\n",
       "    ax1.set_ylabel('Average Price', color=color)\n",
       "    sns.barplot(x='Cyl', y='Retail_Price', data=avg_prices, color=color, ax=ax1)\n",
       "    ax1.tick_params(axis='y', labelcolor=color)\n",
       "    ax1.axhline(avg_prices['Retail_Price'].mean(), color='blue', linestyle='--', label='Avg Retail Price: {:.2f}'.format(avg_prices['Retail_Price'].mean()))\n",
       "    \n",
       "    ax2 = ax1.twinx()\n",
       "    color = 'tab:red'\n",
       "    ax2.set_ylabel('Average Cost', color=color)\n",
       "    sns.barplot(x='Cyl', y='Dealer_Cost', data=avg_prices, color=color, ax=ax2)\n",
       "    ax2.tick_params(axis='y', labelcolor=color)\n",
       "    ax2.axhline(avg_prices['Dealer_Cost'].mean(), color='red', linestyle='--', label='Avg Dealer Cost: {:.2f}'.format(avg_prices['Dealer_Cost'].mean()))\n",
       "    \n",
       "    plt.legend(loc='upper left')\n",
       "    \n",
       "    return plt\n",
       "\n",
       "chart = plot(data)"
      ]
     },
     "execution_count": 29,
     "metadata": {},
     "output_type": "execute_result"
    }
   ],
   "source": [
    "i = 18\n",
    "library = \"seaborn\"\n",
    "textgen_config = TextGenerationConfig(n=1, temperature=0.2, use_cache=True)\n",
    "charts = lida.visualize(summary=summary, goal=goals[i], textgen_config=textgen_config, library=library)  \n",
    "charts[0]"
   ]
  },
  {
   "cell_type": "code",
   "execution_count": 31,
   "metadata": {},
   "outputs": [
    {
     "data": {
      "image/png": "[encoded data removed]",
      "text/plain": [
       "import seaborn as sns\n",
       "import pandas as pd\n",
       "import matplotlib.pyplot as plt\n",
       "import numpy as np\n",
       "\n",
       "def plot(data: pd.DataFrame):\n",
       "    avg_prices = data.groupby('Cyl')[['Retail_Price', 'Dealer_Cost']].mean().reset_index()\n",
       "    \n",
       "    fig, ax1 = plt.subplots(figsize=(12, 6))\n",
       "    \n",
       "    bar_width = 0.35\n",
       "    bar_positions = np.arange(len(avg_prices['Cyl']))\n",
       "    \n",
       "    color1 = 'tab:blue'\n",
       "    color2 = 'tab:red'\n",
       "    \n",
       "    ax1.set_xlabel('Number of Cylinders')\n",
       "    ax1.set_ylabel('Average Price', color=color1)\n",
       "    ax1.bar(bar_positions - bar_width/2, avg_prices['Retail_Price'], bar_width, color=color1, label='Retail Price')\n",
       "    ax1.tick_params(axis='y', labelcolor=color1)\n",
       "    ax1.axhline(avg_prices['Retail_Price'].mean(), color='blue', linestyle='--', label='Avg Retail Price: {:.2f}'.format(avg_prices['Retail_Price'].mean()))\n",
       "    \n",
       "    ax2 = ax1.twinx()\n",
       "    ax2.set_ylabel('Average Cost', color=color2)\n",
       "    ax2.bar(bar_positions + bar_width/2, avg_prices['Dealer_Cost'], bar_width, color=color2, label='Dealer Cost')\n",
       "    ax2.tick_params(axis='y', labelcolor=color2)\n",
       "    ax2.axhline(avg_prices['Dealer_Cost'].mean(), color='red', linestyle='--', label='Avg Dealer Cost: {:.2f}'.format(avg_prices['Dealer_Cost'].mean()))\n",
       "    \n",
       "    plt.xticks(bar_positions, avg_prices['Cyl'])\n",
       "    plt.legend(loc='upper left')\n",
       "    \n",
       "    return plt\n",
       "\n",
       "chart = plot(data)"
      ]
     },
     "execution_count": 31,
     "metadata": {},
     "output_type": "execute_result"
    }
   ],
   "source": [
    "code = charts[0].code\n",
    "textgen_config = TextGenerationConfig(n=1, temperature=0, use_cache=True)\n",
    "instructions = [\"can you separate the bars for average cost and average price and put them side by side instead of stacking them?\"]\n",
    "edited_charts = lida.edit(code=code,  summary=summary, instructions=instructions, library=library, textgen_config=textgen_config)\n",
    "edited_charts[0]"
   ]
  },
  {
   "cell_type": "markdown",
   "metadata": {},
   "source": [
    "## Save Code"
   ]
  },
  {
   "cell_type": "code",
   "execution_count": 34,
   "metadata": {},
   "outputs": [],
   "source": [
    "# SAVE\n",
    "\n",
    "# with open('code-18-edited.pkl', 'wb') as f:\n",
    "#     pickle.dump(edited_charts[0], f)"
   ]
  },
  {
   "cell_type": "code",
   "execution_count": 16,
   "metadata": {},
   "outputs": [
    {
     "data": {
      "image/png": "[encoded data removed]",
      "text/plain": [
       "import seaborn as sns\n",
       "import pandas as pd\n",
       "import matplotlib.pyplot as plt\n",
       "import numpy as np\n",
       "\n",
       "def plot(data: pd.DataFrame):\n",
       "    avg_prices = data.groupby('Cyl')[['Retail_Price', 'Dealer_Cost']].mean().reset_index()\n",
       "    \n",
       "    fig, ax1 = plt.subplots(figsize=(12, 6))\n",
       "    \n",
       "    bar_width = 0.35\n",
       "    bar_positions = np.arange(len(avg_prices['Cyl']))\n",
       "    \n",
       "    color1 = 'tab:blue'\n",
       "    color2 = 'tab:red'\n",
       "    \n",
       "    ax1.set_xlabel('Number of Cylinders')\n",
       "    ax1.set_ylabel('Average Price', color=color1)\n",
       "    ax1.bar(bar_positions - bar_width/2, avg_prices['Retail_Price'], bar_width, color=color1, label='Retail Price')\n",
       "    ax1.tick_params(axis='y', labelcolor=color1)\n",
       "    ax1.axhline(avg_prices['Retail_Price'].mean(), color='blue', linestyle='--', label='Avg Retail Price: {:.2f}'.format(avg_prices['Retail_Price'].mean()))\n",
       "    \n",
       "    ax2 = ax1.twinx()\n",
       "    ax2.set_ylabel('Average Cost', color=color2)\n",
       "    ax2.bar(bar_positions + bar_width/2, avg_prices['Dealer_Cost'], bar_width, color=color2, label='Dealer Cost')\n",
       "    ax2.tick_params(axis='y', labelcolor=color2)\n",
       "    ax2.axhline(avg_prices['Dealer_Cost'].mean(), color='red', linestyle='--', label='Avg Dealer Cost: {:.2f}'.format(avg_prices['Dealer_Cost'].mean()))\n",
       "    \n",
       "    plt.xticks(bar_positions, avg_prices['Cyl'])\n",
       "    plt.legend(loc='upper left')\n",
       "    \n",
       "    return plt\n",
       "\n",
       "chart = plot(data)"
      ]
     },
     "metadata": {},
     "output_type": "display_data"
    }
   ],
   "source": [
    "# LOAD\n",
    "\n",
    "with open('code-18-edited.pkl', 'rb') as f:\n",
    "    code = pickle.load(f)\n",
    "\n",
    "display(code)"
   ]
  },
  {
   "cell_type": "markdown",
   "metadata": {},
   "source": [
    "## Prompter"
   ]
  },
  {
   "cell_type": "code",
   "execution_count": 20,
   "metadata": {},
   "outputs": [],
   "source": [
    "questions = lida.prompt(goals[18], code, textgen_config=textgen_config)  \n"
   ]
  },
  {
   "cell_type": "code",
   "execution_count": 21,
   "metadata": {},
   "outputs": [
    {
     "name": "stdout",
     "output_type": "stream",
     "text": [
      "[Prompt(question='How does the average retail price change with the number of cylinders?', index=0), Prompt(question='What is the average dealer cost for each cylinder count?', index=1), Prompt(question='Is there a correlation between the number of cylinders and the average retail price?', index=2), Prompt(question='How do the average retail price and dealer cost compare across different cylinder counts?', index=3), Prompt(question='What trends can we observe in retail price and dealer cost as the number of cylinders increases?', index=4)]\n"
     ]
    }
   ],
   "source": [
    "print(questions)\n"
   ]
  },
  {
   "cell_type": "code",
   "execution_count": 23,
   "metadata": {},
   "outputs": [
    {
     "data": {
      "text/markdown": [
       "\n",
       "### Prompt 0\n",
       "---\n",
       "**Question:** How does the average retail price change with the number of cylinders?\n",
       "\n"
      ],
      "text/plain": [
       "Prompt(question='How does the average retail price change with the number of cylinders?', index=0)"
      ]
     },
     "metadata": {},
     "output_type": "display_data"
    },
    {
     "data": {
      "text/markdown": [
       "\n",
       "### Prompt 1\n",
       "---\n",
       "**Question:** What is the average dealer cost for each cylinder count?\n",
       "\n"
      ],
      "text/plain": [
       "Prompt(question='What is the average dealer cost for each cylinder count?', index=1)"
      ]
     },
     "metadata": {},
     "output_type": "display_data"
    },
    {
     "data": {
      "text/markdown": [
       "\n",
       "### Prompt 2\n",
       "---\n",
       "**Question:** Is there a correlation between the number of cylinders and the average retail price?\n",
       "\n"
      ],
      "text/plain": [
       "Prompt(question='Is there a correlation between the number of cylinders and the average retail price?', index=2)"
      ]
     },
     "metadata": {},
     "output_type": "display_data"
    },
    {
     "data": {
      "text/markdown": [
       "\n",
       "### Prompt 3\n",
       "---\n",
       "**Question:** How do the average retail price and dealer cost compare across different cylinder counts?\n",
       "\n"
      ],
      "text/plain": [
       "Prompt(question='How do the average retail price and dealer cost compare across different cylinder counts?', index=3)"
      ]
     },
     "metadata": {},
     "output_type": "display_data"
    },
    {
     "data": {
      "text/markdown": [
       "\n",
       "### Prompt 4\n",
       "---\n",
       "**Question:** What trends can we observe in retail price and dealer cost as the number of cylinders increases?\n",
       "\n"
      ],
      "text/plain": [
       "Prompt(question='What trends can we observe in retail price and dealer cost as the number of cylinders increases?', index=4)"
      ]
     },
     "metadata": {},
     "output_type": "display_data"
    }
   ],
   "source": [
    "for prompt in questions:\n",
    "    display(prompt)"
   ]
  },
  {
   "cell_type": "markdown",
   "metadata": {},
   "source": [
    "## Saving prompts"
   ]
  },
  {
   "cell_type": "code",
   "execution_count": 25,
   "metadata": {},
   "outputs": [],
   "source": [
    "# SAVE\n",
    "\n",
    "with open('prompt3-1-18-5-edited.pkl', 'wb') as f:\n",
    "    pickle.dump(questions, f)"
   ]
  },
  {
   "cell_type": "code",
   "execution_count": 27,
   "metadata": {},
   "outputs": [
    {
     "data": {
      "text/plain": [
       "[Prompt(question='How does the average retail price change with the number of cylinders?', index=0),\n",
       " Prompt(question='What is the average dealer cost for each cylinder count?', index=1),\n",
       " Prompt(question='Is there a correlation between the number of cylinders and the average retail price?', index=2),\n",
       " Prompt(question='How do the average retail price and dealer cost compare across different cylinder counts?', index=3),\n",
       " Prompt(question='What trends can we observe in retail price and dealer cost as the number of cylinders increases?', index=4)]"
      ]
     },
     "metadata": {},
     "output_type": "display_data"
    }
   ],
   "source": [
    "# LOAD\n",
    "\n",
    "with open('prompt3-1-18-5-edited.pkl', 'rb') as f:\n",
    "    code = pickle.load(f)\n",
    "\n",
    "display(code)"
   ]
  },
  {
   "cell_type": "markdown",
   "metadata": {},
   "source": [
    "### Generate visualization via a \"user query\"   "
   ]
  },
  {
   "cell_type": "code",
   "execution_count": 7,
   "metadata": {},
   "outputs": [
    {
     "data": {
      "image/png": "[encoded data removed]",
      "text/plain": [
       "import seaborn as sns\n",
       "import pandas as pd\n",
       "import matplotlib.pyplot as plt\n",
       "\n",
       "def plot(data: pd.DataFrame):\n",
       "    # solution plan\n",
       "    # i. group data by Type and calculate the mean of Retail_Price\n",
       "    grouped_data = data.groupby('Type')['Retail_Price'].mean().reset_index()\n",
       "    \n",
       "    # ii. plot the grouped data using a barplot\n",
       "    sns.barplot(x='Type', y='Retail_Price', data=grouped_data)\n",
       "    \n",
       "    # iii. add a horizontal line for the mean Retail_Price\n",
       "    mean_price = data['Retail_Price'].mean()\n",
       "    plt.axhline(mean_price, color='red', linestyle='--', label=f'Mean Price: {mean_price:.2f}')\n",
       "    \n",
       "    # iv. add a legend\n",
       "    plt.legend()\n",
       "    \n",
       "    # v. set x-axis label rotation to 45 degrees for legibility\n",
       "    plt.xticks(rotation=45)\n",
       "    \n",
       "    # vi. set y-axis label\n",
       "    plt.ylabel('Average Retail Price')\n",
       "    \n",
       "    # vii. set plot title\n",
       "    plt.title('What is the average price of cars by type?', wrap=True)\n",
       "    \n",
       "    return plt;\n",
       "\n",
       "chart = plot(data)"
      ]
     },
     "execution_count": 7,
     "metadata": {},
     "output_type": "execute_result"
    }
   ],
   "source": [
    "user_query = \"What is the average price of cars by type?\"\n",
    "textgen_config = TextGenerationConfig(n=1, temperature=0.2, use_cache=True)\n",
    "charts = lida.visualize(summary=summary, goal=user_query, textgen_config=textgen_config)  \n",
    "charts[0]"
   ]
  },
  {
   "attachments": {},
   "cell_type": "markdown",
   "metadata": {},
   "source": [
    "# VizOps\n",
    "\n",
    "Given that LIDA represents visualizations as code,\n",
    "the VISGENERATOR also implements submodules\n",
    "to perform operations on this representation. \n",
    "\n",
    "This includes \n",
    "- **Natural language based visualization refinement**: Provides a conversational api to iteratively\n",
    "4Execution in a sandbox environment is recommended.\n",
    "refine generated code (e.g., translate chart t hindi\n",
    ". . . zoom in by 50% etc) which can then be executed to generate new visualizations.\n",
    "- **Visualization explanations and accessibility**:\n",
    "Generates natural language explanations (valuable\n",
    "for debugging and sensemaking) as well as accessibility descriptions (valuable for supporting users\n",
    "with visual impairments).\n",
    "\n",
    "- **Visualization code self-evaluation and repair**:\n",
    "Applies an LLM to self-evaluate generated code on\n",
    "multiple dimensions (see section 4.1.2).\n",
    "\n",
    "- **Visualization recommendation**: Given some context (goals, or an existing visualization), recommend additional visualizations to the user (e.g., for\n",
    "comparison, or to provide additional perspectives).\n",
    "\n",
    "\n",
    "\n",
    "## Natural language based visualization refinement \n",
    "\n",
    "Given some code, modify it based on natural language instructions. This yields a new code snippet that can be executed to generate a new visualization."
   ]
  },
  {
   "cell_type": "code",
   "execution_count": 8,
   "metadata": {},
   "outputs": [
    {
     "data": {
      "image/png": "[encoded data removed]",
      "text/plain": [
       "import seaborn as sns\n",
       "import pandas as pd\n",
       "import matplotlib.pyplot as plt\n",
       "import matplotlib as mpl\n",
       "\n",
       "# additional imports\n",
       "mpl.rcParams['figure.figsize'] = [6, 6] # set chart height and width equal\n",
       "mpl.rcParams['font.family'] = 'Arial' # set font family\n",
       "mpl.rcParams['text.color'] = 'black' # set text color\n",
       "mpl.rcParams['axes.labelcolor'] = 'black' # set label color\n",
       "mpl.rcParams['xtick.color'] = 'black' # set xtick color\n",
       "mpl.rcParams['ytick.color'] = 'black' # set ytick color\n",
       "mpl.rcParams['axes.titlesize'] = 14 # set title font size\n",
       "mpl.rcParams['axes.titleweight'] = 'bold' # set title font weight\n",
       "mpl.rcParams['axes.titlepad'] = 20 # set title padding\n",
       "\n",
       "def plot(data: pd.DataFrame):\n",
       "    # solution plan\n",
       "    # i. group data by Type and calculate the mean of Retail_Price\n",
       "    grouped_data = data.groupby('Type')['Retail_Price'].mean().reset_index()\n",
       "    \n",
       "    # ii. plot the grouped data using a barplot\n",
       "    sns.barplot(x='Type', y='Retail_Price', data=grouped_data, color='red') # change chart color to red\n",
       "    \n",
       "    # iii. add a horizontal line for the mean Retail_Price\n",
       "    mean_price = data['Retail_Price'].mean()\n",
       "    plt.axhline(mean_price, color='black', linestyle='--', label=f'Precio Promedio: {mean_price:.2f}') # translate chart to spanish\n",
       "    \n",
       "    # iv. add a legend\n",
       "    plt.legend()\n",
       "    \n",
       "    # v. set x-axis label rotation to 45 degrees for legibility\n",
       "    plt.xticks(rotation=45)\n",
       "    \n",
       "    # vi. set y-axis label\n",
       "    plt.ylabel('Precio Promedio de Venta')\n",
       "    \n",
       "    # vii. set plot title\n",
       "    plt.title('¿Cuál es el precio promedio de los carros por tipo?', wrap=True, fontweight='bold') # translate chart to spanish\n",
       "    \n",
       "    return plt;\n",
       "\n",
       "chart = plot(data)"
      ]
     },
     "execution_count": 8,
     "metadata": {},
     "output_type": "execute_result"
    }
   ],
   "source": [
    "code = charts[0].code\n",
    "textgen_config = TextGenerationConfig(n=1, temperature=0, use_cache=True)\n",
    "instructions = [\"make the chart height and width equal\", \"change the color of the chart to red\", \"translate the chart to spanish\"]\n",
    "edited_charts = lida.edit(code=code,  summary=summary, instructions=instructions, library=library, textgen_config=textgen_config)\n",
    "edited_charts[0]"
   ]
  },
  {
   "attachments": {},
   "cell_type": "markdown",
   "metadata": {},
   "source": [
    "## Visualization explanations and accessibility"
   ]
  },
  {
   "cell_type": "code",
   "execution_count": 9,
   "metadata": {},
   "outputs": [
    {
     "name": "stdout",
     "output_type": "stream",
     "text": [
      "accessibility  **  The chart is a bar plot created using the seaborn library. The goal of the chart is to show the average retail price of cars by type. The x-axis represents the different types of cars, while the y-axis represents the average retail price. The chart uses a blue color scheme for the bars and a red dashed line to represent the mean retail price. The chart is easy to read and understand, with clear labels and a title that summarizes the main insight.\n",
      "transformation  **  This section of the code groups the data by car type and calculates the mean retail price for each group. The resulting data is stored in a new dataframe called grouped_data. The groupby() method is used to group the data by the 'Type' column, and the mean() method is used to calculate the average retail price for each group. The reset_index() method is used to reset the index of the resulting dataframe.\n",
      "visualization  **  This section of the code creates the visualization of the data. The seaborn barplot() method is used to create a bar chart of the grouped data. The x-axis is set to the 'Type' column, and the y-axis is set to the 'Retail_Price' column of the grouped_data dataframe. The plt.axhline() method is used to add a horizontal line to the chart representing the mean retail price of all cars. The color of the line is set to red, and the linestyle is set to dashed. The label parameter is used to add a label to the line indicating the mean price. The plt.legend() method is used to add a legend to the chart. The plt.xticks() method is used to rotate the x-axis labels by 45 degrees for better legibility. The plt.ylabel() method is used to set the y-axis label to 'Average Retail Price'. The plt.title() method is used to set the chart title to 'What is the average price of cars by type?'. The wrap parameter is set to True to wrap the title text if it exceeds the width of the chart.\n"
     ]
    }
   ],
   "source": [
    "explanations = lida.explain(code=code, library=library, textgen_config=textgen_config) \n",
    "for row in explanations[0]:\n",
    "    print(row[\"section\"],\" ** \", row[\"explanation\"])"
   ]
  },
  {
   "attachments": {},
   "cell_type": "markdown",
   "metadata": {},
   "source": [
    "## Visualization code self-evaluation and repair"
   ]
  },
  {
   "cell_type": "code",
   "execution_count": 10,
   "metadata": {},
   "outputs": [
    {
     "name": "stdout",
     "output_type": "stream",
     "text": [
      "bugs Score 10 / 10\n",
      "\t The code is free of bugs, syntax errors, and typos. It should compile without issues.\n",
      "\t**********************************\n",
      "transformation Score 8 / 10\n",
      "\t The data is grouped by Type and the mean of Retail_Price is calculated. However, this transformation is not appropriate for the specified goal of exploring the relationship between engine size and hor\n",
      "\t**********************************\n",
      "compliance Score 6 / 10\n",
      "\t The code does not fully meet the specified goal of exploring the relationship between engine size and horsepower. The plot shows the average retail price of cars by type instead.\n",
      "\t**********************************\n",
      "type Score 3 / 10\n",
      "\t The barplot is not an appropriate visualization type for exploring the relationship between engine size and horsepower. A scatterplot or line plot would be more appropriate.\n",
      "\t**********************************\n",
      "encoding Score 8 / 10\n",
      "\t The data is encoded appropriately with Type on the x-axis and Retail_Price on the y-axis. However, this encoding is not appropriate for the specified goal of exploring the relationship between engine \n",
      "\t**********************************\n",
      "aesthetics Score 7 / 10\n",
      "\t The aesthetics of the visualization are appropriate for a barplot, with clear labels, a legend, and a title. However, the title does not reflect the specified goal of exploring the relationship betwee\n",
      "\t**********************************\n"
     ]
    }
   ],
   "source": [
    "evaluations = lida.evaluate(code=code,  goal=goals[i], textgen_config=textgen_config, library=library)[0] \n",
    "for eval in evaluations:\n",
    "    print(eval[\"dimension\"], \"Score\" ,eval[\"score\"], \"/ 10\")\n",
    "    print(\"\\t\", eval[\"rationale\"][:200])\n",
    "    print(\"\\t**********************************\")"
   ]
  },
  {
   "cell_type": "markdown",
   "metadata": {},
   "source": [
    "## Visualization Recommendation"
   ]
  },
  {
   "cell_type": "code",
   "execution_count": 11,
   "metadata": {},
   "outputs": [],
   "source": [
    "textgen_config = TextGenerationConfig(n=2, temperature=0.2, use_cache=True)\n",
    "recommended_charts =  lida.recommend(code=code, summary=summary, n=2,  textgen_config=textgen_config)"
   ]
  },
  {
   "cell_type": "code",
   "execution_count": 12,
   "metadata": {},
   "outputs": [
    {
     "name": "stdout",
     "output_type": "stream",
     "text": [
      "Recommended 1 charts\n"
     ]
    },
    {
     "data": {
      "image/png": "[encoded data removed]",
      "text/plain": [
       "import seaborn as sns\n",
       "import pandas as pd\n",
       "import matplotlib.pyplot as plt\n",
       "\n",
       "def plot(data: pd.DataFrame):\n",
       "    # solution plan\n",
       "    # i. group data by Type and calculate the mean of Retail_Price\n",
       "    grouped_data = data.groupby('Type')['Retail_Price'].mean().reset_index()\n",
       "    \n",
       "    # ii. plot the grouped data using a barplot\n",
       "    sns.barplot(x='Type', y='Retail_Price', data=grouped_data)\n",
       "    \n",
       "    # iii. add a horizontal line for the mean Retail_Price\n",
       "    mean_price = data['Retail_Price'].mean()\n",
       "    plt.axhline(mean_price, color='red', linestyle='--', label=f'Mean Price: {mean_price:.2f}')\n",
       "    \n",
       "    # iv. add a legend\n",
       "    plt.legend()\n",
       "    \n",
       "    # v. set x-axis label rotation to 45 degrees for legibility\n",
       "    plt.xticks(rotation=45)\n",
       "    \n",
       "    # vi. set y-axis label\n",
       "    plt.ylabel('Average Retail Price')\n",
       "    \n",
       "    # vii. set plot title\n",
       "    plt.title('What is the average price of cars by type?', wrap=True)\n",
       "    \n",
       "    return plt;\n",
       "\n",
       "chart = plot(data)"
      ]
     },
     "metadata": {},
     "output_type": "display_data"
    }
   ],
   "source": [
    "print(f\"Recommended {len(recommended_charts)} charts\")\n",
    "for chart in recommended_charts:\n",
    "    display(chart) "
   ]
  },
  {
   "cell_type": "markdown",
   "metadata": {},
   "source": [
    "## Infographics (Beta)\n",
    "\n",
    "- Explores using LIDA to generate infographics from an existing visualization \n",
    "- Uses the `peacasso` package, and loads open source stable diffusion models \n",
    "- You will need to run `pip install lida[infographics]` to install the required dependencies.\n",
    "- Currently work in progress (work being done to post process infographics with chart axis and title overlays from the original visualization, add presets for different infographic styles, and add more stable diffusion models)\n"
   ]
  },
  {
   "cell_type": "code",
   "execution_count": 13,
   "metadata": {},
   "outputs": [],
   "source": [
    "# !pip install lida[infographics] \n",
    "# ensure you have a GPU runtime"
   ]
  },
  {
   "cell_type": "code",
   "execution_count": null,
   "metadata": {},
   "outputs": [],
   "source": [
    "infographics = lida.infographics(visualization = edited_charts[0].raster, n=1, style_prompt=\"pastel art, green pearly rain drops, highly detailed, no blur, white background\")"
   ]
  },
  {
   "cell_type": "code",
   "execution_count": null,
   "metadata": {},
   "outputs": [],
   "source": [
    "from lida.utils import plot_raster\n",
    "plot_raster([edited_charts[0].raster, infographics[\"images\"][0]]) "
   ]
  }
 ],
 "metadata": {
  "kernelspec": {
   "display_name": "base",
   "language": "python",
   "name": "python3"
  },
  "language_info": {
   "codemirror_mode": {
    "name": "ipython",
    "version": 3
   },
   "file_extension": ".py",
   "mimetype": "text/x-python",
   "name": "python",
   "nbconvert_exporter": "python",
   "pygments_lexer": "ipython3",
   "version": "3.12.4"
  },
  "vscode": {
   "interpreter": {
    "hash": "189101fc34b85ec7417252a331b6b3ef556b71030ac1f6fe00bfbe1409305460"
   }
  }
 },
 "nbformat": 4,
 "nbformat_minor": 2
}
