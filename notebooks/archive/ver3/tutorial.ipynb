version https://git-lfs.github.com/spec/v1
oid sha256:9471907eb4c6ddba0c546ca2cdd5bd42e85ec297ec47ba5b4c9cb95ae198cb2a
size 729199
