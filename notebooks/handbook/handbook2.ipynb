version https://git-lfs.github.com/spec/v1
oid sha256:efc3bc4bf6fab1181d4389b38408cd1040d21a94cee3227b0816e64c444a4c31
size 1434739
