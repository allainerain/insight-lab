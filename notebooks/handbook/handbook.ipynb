version https://git-lfs.github.com/spec/v1
oid sha256:86e65593b571b997e5a3dc61cb1a60be6473e1cb29f89c0522ce8957f8c7eebe
size 660257
