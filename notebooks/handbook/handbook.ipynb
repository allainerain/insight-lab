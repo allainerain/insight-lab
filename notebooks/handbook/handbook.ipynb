version https://git-lfs.github.com/spec/v1
oid sha256:c1b62fc459a56128da7291ed388b8ff1982e86ed91e2ea0e11651c90666c7b02
size 847844
