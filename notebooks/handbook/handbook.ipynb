version https://git-lfs.github.com/spec/v1
oid sha256:a8bf2592dcc6ff3da8b3c6d8d087830ec4f7af1c6232cfac2dd72ad95afd4ccc
size 742910
