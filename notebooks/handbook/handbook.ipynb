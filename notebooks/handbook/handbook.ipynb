version https://git-lfs.github.com/spec/v1
oid sha256:9e34b1c895c761625bb2a46938d5dfed28d9f1c57d59040994a15ce0196b9639
size 1683883
