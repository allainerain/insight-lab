version https://git-lfs.github.com/spec/v1
oid sha256:dff1388886c81b4707401469cd1d6c1defe131017bc8d93260bda0510be9cfe0
size 1307680
