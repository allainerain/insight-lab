{
 "cells": [
  {
   "cell_type": "markdown",
   "metadata": {},
   "source": [
    "# Version 2 - Goal Explorer General Improvements\n",
    "\n",
    "## Ver 2.0 - Generate goal sub categories with one prompt\n",
    "- prompt modification in `goal.py`  \n",
    "\n",
    "``` python\n",
    "user_prompt = f\"\"\"The number of GOALS to generate is {n}. \n",
    "If there are columns with data type category or string, generate goals for them. Generate a number of goals equal to ceil(n / 3).\n",
    "If there are columns with data type number, generate goals for them. Generate a number of goals equal to ceil(n / 3).\n",
    "If there are columns with data type date, generate goals for them. Generate a number of goals equal to ceil(n / 3).\n",
    "If any of the above data types are not present in the dataset, distribute the remaining goals evenly among the available data types.\n",
    "Ensure the total number of goals generated is exactly {n}.\n",
    "The goals should be based on the data summary below, \\n\\n .\n",
    "{summary} \\n\\n\"\"\"\n",
    "```\n",
    "\n",
    "## Ver 2.1 -  Generate goal sub categories with one prompt (more specific)\n",
    "- prompt modification in `goal.py`\n",
    "\n",
    "``` python\n",
    "user_prompt = f\"\"\"Generate a TOTAL of {n} goals based on the following criteria:\n",
    "\n",
    "1. If there are columns with data type category or string, generate a number of goals equal to ceil(n / 4) that focus EXCLUSIVELY on these columns.\n",
    "2. If there are columns with data type number, generate a number of goals equal to ceil(n / 4) that focus EXCLUSIVELY on these columns.\n",
    "3. If there are columns with data type date, generate a number of goals equal to ceil(n / 4) that focus EXCLUSIVELY on these columns.\n",
    "\n",
    "For the remaining goals, denoted as m:\n",
    "- Generate ceil(m / 2) goals that explore relationships between two variables.\n",
    "- Generate ceil(m / 2) goals that explore relationships among three variables.\n",
    "\n",
    "If any of the above data types are not present in the dataset, distribute the remaining goals evenly by creating mixed goals.\n",
    "\n",
    "Ensure the total number of goals generated is exactly {n}.\n",
    "\n",
    "The goals should be based on the data summary below, \\n\\n .\n",
    "{summary} \\n\\n\"\"\"\n",
    "```\n",
    "## Ver 2.2 - Generate goal sub categories with one prompt (more explicit)\n",
    "\n",
    "``` python\n",
    "user_prompt = f\"\"\"Generate a TOTAL of {n} goals based on the following criteria:\n",
    "\n",
    "1. **Single Data Type Focus:** \n",
    "- For categorical or string columns, generate ceil(n / 4) goals focusing EXCLUSIVELY on these columns.\n",
    "- For numerical columns, generate ceil(n / 4) goals focusing EXCLUSIVELY on these columns.\n",
    "- For date columns, generate ceil(n / 4) goals focusing EXCLUSIVELY on these columns.\n",
    "\n",
    "2. **Exploring Relationships:**\n",
    "- For the remaining goals (denoted as m):\n",
    "    - Generate ceil(m / 2) goals that explore relationships between EXACTLY TWO variables.\n",
    "    - Generate ceil(m / 2) goals that analyze relationships involving AT LEAST three variables (e.g. with grouped bar charts).\n",
    "\n",
    "3. **Ensure Total Count:**\n",
    "- Ensure the total number of goals generated is exactly {n}.\n",
    "\n",
    "The goals should be based on the data summary below, \\n\\n .\n",
    "{summary} \\n\\n\"\"\"\n",
    "```\n",
    "\n",
    "## Ver 2.3 -  Generate goal sub categories with one prompt (Shotened)\n",
    "\n",
    "``` python\n",
    "user_prompt = f\"\"\"Generate a TOTAL of {n} goals based on the following criteria:\n",
    "\n",
    "1. For categorical or string columns, generate goals focusing EXCLUSIVELY on these columns.\n",
    "2. For numerical columns, generate goals focusing EXCLUSIVELY on these columns.\n",
    "3. For date columns, generate goals focusing EXCLUSIVELY on these columns.\n",
    "\n",
    "Make the goals generated evenly distrubuted across the three and the total number of goals should be {n}\n",
    "The goals should be based on the data summary below, \\n\\n .\n",
    "{summary} \\n\\n\"\"\"\n",
    "```\n",
    "\n",
    "## Ver 2.4 - Focus on just generating goals with 3 variables\n",
    "- prompt modification in `goal.py`\n",
    "- observation: was able to generate new plots and more insightful connections between 3 variables.\n",
    "\n",
    "``` python\n",
    "user_prompt = f\"\"\"Generate a TOTAL of {n} goals. All the goals must explore the relationships of at  least 3 variables. \n",
    "\n",
    "The goals should be based on the data summary below, \\n\\n .\n",
    "{summary} \\n\\n\"\"\"\n",
    "```\n",
    "\n",
    "## Ver 2.5 - Adding helper functions to generate goals for subcategories\n",
    "### Ver 2.5.1 - Add generate categorical\n",
    "\n",
    "- prompt in the `generate_categorical` function\n",
    "\n",
    "``` python\n",
    "user_prompt = f\"\"\"Generate a TOTAL of AT LEAST {n} goals. All the goals generated must focus on a column with a 'categorical' or 'string' data type. \n",
    "If there are no columns with the data type 'category' or 'string', return an empty string.\n",
    "\n",
    "The goals should be based on the data summary below, \\n\\n .\n",
    "{summary} \\n\\n\"\"\"\n",
    "\n",
    "```\n",
    "   - generates some n goals with categorical values\n",
    "   - returns an empty string if there's no categorical column\n",
    "\n",
    "### Ver 2.5.1 - Add generate date\n",
    "- prompt in the `generate_date` function\n",
    "\n",
    "``` python\n",
    "user_prompt = f\"\"\"Generate A MAXIMUM of {n} goals. All the goals generated must focus on a column with a 'date' data type. \n",
    "If there are no columns with the data type 'date', return an empty string.\n",
    "\n",
    "The goals should be based on the data summary below, \\n\\n .\n",
    "{summary} \\n\\n\"\"\"\n",
    "```\n",
    "   - generates some n goals with date values\n",
    "   - returns an empty string if there's no date column\n",
    "\n",
    "### Ver 2.5.2 - Add categorical, date and mix 3 and mix 2 in one function\n",
    "- added a general helper function `generate_goals` which takes in a `focus` to know what type of goals it should generate\n",
    "- bug: indexing is wrong when they're all joined together\n",
    "- bug: too wasteful, prompt is the one that checks if there's a categorical value in the summary\n",
    "- bug: allocation of number of goals per type is not correct.\n",
    "\n",
    "### Ver 2.5.3 - Added calculate_distribution function\n",
    "- added `calculate_distribution` function to automatically calculate the number of goals per category.\n",
    "  - generate the most for mix 2, then split among category, date and mix 3 when applicable\n",
    "- bug: indexing is wrong\n",
    "\n",
    "### Ver 2.5.4 - Fixed indexing bug\n",
    "- No bugs atm :D\n",
    "\n",
    "### Ver 2.5.5 - Generate goals for numbers too and add it to the combined\n",
    "- Generated goals that feature the data type `numbers` too.\n",
    "- bug: forgot to update the `generate` function to add the `number_goals`\n",
    "\n",
    "### Ver 2.5.6 - Fixed bug in 2.5.5 LOL\n",
    "\n",
    "### Ver 2.5.7 - Restored version hehe\n",
    "- Broke the old version so I had to restore it. This is just the restored version. Might have some slight changes from the previous one but not significant.\n",
    "\n",
    "### Ver 2.5.7 - Modified rationale prompt\n",
    "- modified `SYSTEM_INSTRUCTIONS` in `goal`\n",
    "\n",
    "``` python\n",
    "SYSTEM_INSTRUCTIONS = \"\"\"\n",
    "You are a an experienced data analyst who can generate a given number of insightful GOALS about data, when given a summary of the data, and a specified persona. The VISUALIZATIONS YOU RECOMMEND MUST FOLLOW VISUALIZATION BEST PRACTICES (e.g., must use bar charts instead of pie charts for comparing quantities) AND BE MEANINGFUL (e.g., plot longitude and latitude on maps where appropriate). They must also be relevant to the specified persona. Each goal must include a question, a visualization (THE VISUALIZATION MUST REFERENCE THE EXACT COLUMN FIELDS FROM THE SUMMARY), and a rationale (JUSTIFICATION FOR WHICH dataset FIELDS ARE USED and what we will learn from the visualization and why the visualization was chosen). Each goal MUST mention the exact fields from the dataset summary above\n",
    "\"\"\"\n",
    "```\n",
    "\n",
    "### Ver 2.5.8 - Added error catching for unsupported `focus` types\n",
    "- Made `focus` types more specific and added error catching for unsupported types.\n",
    "\n",
    "### Ver 2.5.9 - Removed added propmpt to reduce duplication\n",
    "- Rationale: It still generated a duplicate anyways and removing it doesn't cause much changes regardless."
   ]
  },
  {
   "cell_type": "markdown",
   "metadata": {},
   "source": [
    "## Setup"
   ]
  },
  {
   "cell_type": "code",
   "execution_count": 1,
   "metadata": {},
   "outputs": [
    {
     "name": "stdout",
     "output_type": "stream",
     "text": [
      "Note: you may need to restart the kernel to use updated packages.\n"
     ]
    },
    {
     "name": "stderr",
     "output_type": "stream",
     "text": [
      "WARNING: Skipping lida as it is not installed.\n"
     ]
    }
   ],
   "source": [
    "%pip uninstall -y lida \n",
    "# !pip install lida[infographics] # for infographics support"
   ]
  },
  {
   "cell_type": "code",
   "execution_count": 2,
   "metadata": {},
   "outputs": [
    {
     "name": "stdout",
     "output_type": "stream",
     "text": [
      "Note: you may need to restart the kernel to use updated packages.\n"
     ]
    },
    {
     "name": "stderr",
     "output_type": "stream",
     "text": [
      "WARNING: Package(s) not found: lida\n"
     ]
    }
   ],
   "source": [
    "%pip show lida"
   ]
  },
  {
   "cell_type": "code",
   "execution_count": 3,
   "metadata": {},
   "outputs": [],
   "source": [
    "%load_ext autoreload\n",
    "%autoreload 2"
   ]
  },
  {
   "cell_type": "code",
   "execution_count": 4,
   "metadata": {},
   "outputs": [],
   "source": [
    "import sys\n",
    "import os\n",
    "import pprint"
   ]
  },
  {
   "cell_type": "code",
   "execution_count": 5,
   "metadata": {},
   "outputs": [
    {
     "data": {
      "text/plain": [
       "True"
      ]
     },
     "execution_count": 5,
     "metadata": {},
     "output_type": "execute_result"
    }
   ],
   "source": [
    "from dotenv import load_dotenv\n",
    "\n",
    "load_dotenv()"
   ]
  },
  {
   "cell_type": "code",
   "execution_count": 6,
   "metadata": {},
   "outputs": [],
   "source": [
    "sys.path.append(os.path.abspath('../..'))"
   ]
  },
  {
   "cell_type": "code",
   "execution_count": 7,
   "metadata": {},
   "outputs": [],
   "source": [
    "from lida.components.manager import Manager\n",
    "from llmx import TextGenerationConfig, llm"
   ]
  },
  {
   "cell_type": "code",
   "execution_count": 8,
   "metadata": {},
   "outputs": [],
   "source": [
    "lida = Manager(text_gen = llm(\"openai\", api_key=os.getenv(\"APIKEY\"))) # !! api key\n",
    "textgen_config = TextGenerationConfig(n=1, temperature=0.5, model=\"gpt-4o-mini\", use_cache=True)"
   ]
  },
  {
   "cell_type": "code",
   "execution_count": 9,
   "metadata": {},
   "outputs": [
    {
     "data": {
      "text/plain": [
       "<lida.components.manager.Manager at 0x2225a3f3e30>"
      ]
     },
     "metadata": {},
     "output_type": "display_data"
    }
   ],
   "source": [
    "display(lida)"
   ]
  },
  {
   "attachments": {},
   "cell_type": "markdown",
   "metadata": {},
   "source": [
    "## Summarize Data, Generate Goals"
   ]
  },
  {
   "cell_type": "markdown",
   "metadata": {},
   "source": [
    "### Summarize"
   ]
  },
  {
   "cell_type": "code",
   "execution_count": 10,
   "metadata": {},
   "outputs": [
    {
     "name": "stdout",
     "output_type": "stream",
     "text": [
      "here\n",
      "object\n",
      "{'Sedan': 234, 'SUV': 59, 'Sports Car': 45, 'Wagon': 29, 'Minivan': 20}\n",
      "int64\n",
      "int64\n",
      "int64\n",
      "int64\n",
      "int64\n",
      "int64\n",
      "int64\n",
      "int64\n",
      "int64\n",
      "int64\n",
      "int64\n",
      "int64\n",
      "int64\n",
      "int64\n",
      "int64\n",
      "int64\n",
      "int64\n",
      "int64\n",
      "int64\n",
      "int64\n",
      "int64\n",
      "int64\n",
      "int64\n",
      "int64\n",
      "int64\n",
      "int64\n",
      "int64\n",
      "int64\n",
      "float64\n",
      "float64\n",
      "float64\n",
      "float64\n",
      "float64\n",
      "float64\n",
      "float64\n",
      "int64\n",
      "int64\n",
      "int64\n",
      "int64\n",
      "int64\n",
      "int64\n",
      "int64\n",
      "int64\n",
      "int64\n",
      "int64\n",
      "int64\n",
      "int64\n",
      "int64\n",
      "int64\n",
      "int64\n",
      "int64\n",
      "int64\n",
      "int64\n",
      "int64\n",
      "int64\n",
      "int64\n",
      "int64\n",
      "int64\n",
      "int64\n",
      "int64\n",
      "int64\n",
      "int64\n",
      "int64\n",
      "int64\n",
      "int64\n",
      "int64\n",
      "int64\n",
      "int64\n",
      "int64\n",
      "int64\n",
      "int64\n",
      "int64\n",
      "int64\n",
      "int64\n",
      "int64\n",
      "int64\n",
      "int64\n",
      "int64\n",
      "int64\n",
      "int64\n",
      "int64\n",
      "int64\n",
      "int64\n",
      "int64\n",
      "int64\n",
      "int64\n",
      "int64\n",
      "int64\n",
      "int64\n",
      "int64\n",
      "int64\n",
      "{'dataset_description': '',\n",
      " 'field_names': ['Name',\n",
      "                 'Type',\n",
      "                 'AWD',\n",
      "                 'RWD',\n",
      "                 'Retail_Price',\n",
      "                 'Dealer_Cost',\n",
      "                 'Engine_Size__l_',\n",
      "                 'Cyl',\n",
      "                 'Horsepower_HP_',\n",
      "                 'City_Miles_Per_Gallon',\n",
      "                 'Highway_Miles_Per_Gallon',\n",
      "                 'Weight',\n",
      "                 'Wheel_Base',\n",
      "                 'Len',\n",
      "                 'Width'],\n",
      " 'fields': [{'column': 'Name',\n",
      "             'properties': {'description': '',\n",
      "                            'dtype': 'string',\n",
      "                            'num_unique_values': 385,\n",
      "                            'samples': ['Nissan Altima S 4dr',\n",
      "                                        'Mercury Marauder 4dr',\n",
      "                                        'Toyota Prius 4dr (gas/electric)'],\n",
      "                            'semantic_type': ''}},\n",
      "            {'column': 'Type',\n",
      "             'properties': {'description': '',\n",
      "                            'dtype': 'category',\n",
      "                            'num_unique_values': 5,\n",
      "                            'samples': ['SUV', 'Minivan', 'Sports Car'],\n",
      "                            'semantic_type': '',\n",
      "                            'value_counts': {'Minivan': 20,\n",
      "                                             'SUV': 59,\n",
      "                                             'Sedan': 234,\n",
      "                                             'Sports Car': 45,\n",
      "                                             'Wagon': 29}}},\n",
      "            {'column': 'AWD',\n",
      "             'properties': {'description': '',\n",
      "                            'dtype': 'number',\n",
      "                            'kurtosis': 0,\n",
      "                            'max': 1,\n",
      "                            'mean': 0,\n",
      "                            'median': 0,\n",
      "                            'min': 0,\n",
      "                            'num_unique_values': 2,\n",
      "                            'quantile': {0.25: 0.0, 0.5: 0.0, 0.75: 0.0},\n",
      "                            'samples': [1, 0],\n",
      "                            'semantic_type': '',\n",
      "                            'std': 0}},\n",
      "            {'column': 'RWD',\n",
      "             'properties': {'description': '',\n",
      "                            'dtype': 'number',\n",
      "                            'kurtosis': 0,\n",
      "                            'max': 1,\n",
      "                            'mean': 0,\n",
      "                            'median': 0,\n",
      "                            'min': 0,\n",
      "                            'num_unique_values': 2,\n",
      "                            'quantile': {0.25: 0.0, 0.5: 0.0, 0.75: 0.0},\n",
      "                            'samples': [1, 0],\n",
      "                            'semantic_type': '',\n",
      "                            'std': 0}},\n",
      "            {'column': 'Retail_Price',\n",
      "             'properties': {'description': '',\n",
      "                            'dtype': 'number',\n",
      "                            'kurtosis': 14,\n",
      "                            'max': 192465,\n",
      "                            'mean': 33231,\n",
      "                            'median': 28495,\n",
      "                            'min': 10280,\n",
      "                            'num_unique_values': 370,\n",
      "                            'quantile': {0.25: 20997.0,\n",
      "                                         0.5: 28495.0,\n",
      "                                         0.75: 39552.5},\n",
      "                            'samples': [22775, 37245],\n",
      "                            'semantic_type': '',\n",
      "                            'std': 19724}},\n",
      "            {'column': 'Dealer_Cost',\n",
      "             'properties': {'description': '',\n",
      "                            'dtype': 'number',\n",
      "                            'kurtosis': 14,\n",
      "                            'max': 173560,\n",
      "                            'mean': 30440,\n",
      "                            'median': 26155,\n",
      "                            'min': 9875,\n",
      "                            'num_unique_values': 384,\n",
      "                            'quantile': {0.25: 19575.0,\n",
      "                                         0.5: 26155.0,\n",
      "                                         0.75: 36124.0},\n",
      "                            'samples': [18030, 31558],\n",
      "                            'semantic_type': '',\n",
      "                            'std': 17901}},\n",
      "            {'column': 'Engine_Size__l_',\n",
      "             'properties': {'description': '',\n",
      "                            'dtype': 'number',\n",
      "                            'kurtosis': -0.37554339820346394,\n",
      "                            'max': 6.0,\n",
      "                            'mean': 3.1196382428940574,\n",
      "                            'median': 3.0,\n",
      "                            'min': 0.0,\n",
      "                            'num_unique_values': 40,\n",
      "                            'quantile': {0.25: 2.3, 0.5: 3.0, 0.75: 3.8},\n",
      "                            'samples': [2.2, 5.3],\n",
      "                            'semantic_type': '',\n",
      "                            'std': 1.0266787710109588}},\n",
      "            {'column': 'Cyl',\n",
      "             'properties': {'description': '',\n",
      "                            'dtype': 'number',\n",
      "                            'kurtosis': 0,\n",
      "                            'max': 12,\n",
      "                            'mean': 5,\n",
      "                            'median': 6,\n",
      "                            'min': 0,\n",
      "                            'num_unique_values': 8,\n",
      "                            'quantile': {0.25: 4.0, 0.5: 6.0, 0.75: 6.0},\n",
      "                            'samples': [4, 9],\n",
      "                            'semantic_type': '',\n",
      "                            'std': 1}},\n",
      "            {'column': 'Horsepower_HP_',\n",
      "             'properties': {'description': '',\n",
      "                            'dtype': 'number',\n",
      "                            'kurtosis': 1,\n",
      "                            'max': 493,\n",
      "                            'mean': 214,\n",
      "                            'median': 210,\n",
      "                            'min': 73,\n",
      "                            'num_unique_values': 100,\n",
      "                            'quantile': {0.25: 165.0, 0.5: 210.0, 0.75: 250.0},\n",
      "                            'samples': [126, 138],\n",
      "                            'semantic_type': '',\n",
      "                            'std': 70}},\n",
      "            {'column': 'City_Miles_Per_Gallon',\n",
      "             'properties': {'description': '',\n",
      "                            'dtype': 'number',\n",
      "                            'kurtosis': 378,\n",
      "                            'max': 1000,\n",
      "                            'mean': 22,\n",
      "                            'median': 19,\n",
      "                            'min': 10,\n",
      "                            'num_unique_values': 29,\n",
      "                            'quantile': {0.25: 18.0, 0.5: 19.0, 0.75: 22.0},\n",
      "                            'samples': [59, 32],\n",
      "                            'semantic_type': '',\n",
      "                            'std': 50}},\n",
      "            {'column': 'Highway_Miles_Per_Gallon',\n",
      "             'properties': {'description': '',\n",
      "                            'dtype': 'number',\n",
      "                            'kurtosis': 379,\n",
      "                            'max': 66,\n",
      "                            'mean': 24,\n",
      "                            'median': 27,\n",
      "                            'min': -1100,\n",
      "                            'num_unique_values': 33,\n",
      "                            'quantile': {0.25: 24.0, 0.5: 27.0, 0.75: 30.0},\n",
      "                            'samples': [43, 37],\n",
      "                            'semantic_type': '',\n",
      "                            'std': 57}},\n",
      "            {'column': 'Weight',\n",
      "             'properties': {'description': '',\n",
      "                            'dtype': 'number',\n",
      "                            'kurtosis': 1,\n",
      "                            'max': 6400,\n",
      "                            'mean': 3532,\n",
      "                            'median': 3469,\n",
      "                            'min': 1850,\n",
      "                            'num_unique_values': 315,\n",
      "                            'quantile': {0.25: 3107.0,\n",
      "                                         0.5: 3469.0,\n",
      "                                         0.75: 3922.0},\n",
      "                            'samples': [4473, 3472],\n",
      "                            'semantic_type': '',\n",
      "                            'std': 706}},\n",
      "            {'column': 'Wheel_Base',\n",
      "             'properties': {'description': '',\n",
      "                            'dtype': 'number',\n",
      "                            'kurtosis': 52,\n",
      "                            'max': 130,\n",
      "                            'mean': 106,\n",
      "                            'median': 107,\n",
      "                            'min': 0,\n",
      "                            'num_unique_values': 34,\n",
      "                            'quantile': {0.25: 103.0, 0.5: 107.0, 0.75: 112.0},\n",
      "                            'samples': [110, 0],\n",
      "                            'semantic_type': '',\n",
      "                            'std': 8}},\n",
      "            {'column': 'Len',\n",
      "             'properties': {'description': '',\n",
      "                            'dtype': 'number',\n",
      "                            'kurtosis': 0,\n",
      "                            'max': 221,\n",
      "                            'mean': 184,\n",
      "                            'median': 186,\n",
      "                            'min': 143,\n",
      "                            'num_unique_values': 60,\n",
      "                            'quantile': {0.25: 177.0, 0.5: 186.0, 0.75: 193.0},\n",
      "                            'samples': [197, 183],\n",
      "                            'semantic_type': '',\n",
      "                            'std': 13}},\n",
      "            {'column': 'Width',\n",
      "             'properties': {'description': '',\n",
      "                            'dtype': 'number',\n",
      "                            'kurtosis': 104,\n",
      "                            'max': 81,\n",
      "                            'mean': 71,\n",
      "                            'median': 71,\n",
      "                            'min': 2,\n",
      "                            'num_unique_values': 19,\n",
      "                            'quantile': {0.25: 69.0, 0.5: 71.0, 0.75: 73.0},\n",
      "                            'samples': [72, 70],\n",
      "                            'semantic_type': '',\n",
      "                            'std': 4}}],\n",
      " 'file_name': 'cars.csv',\n",
      " 'name': 'cars.csv'}\n"
     ]
    }
   ],
   "source": [
    "summary = lida.summarize(\"../cars.csv\", summary_method=\"default\", textgen_config=textgen_config)  \n",
    "pprint.pprint(summary)"
   ]
  },
  {
   "cell_type": "code",
   "execution_count": 11,
   "metadata": {},
   "outputs": [
    {
     "name": "stdout",
     "output_type": "stream",
     "text": [
      "string\n",
      "category\n",
      "number\n",
      "number\n",
      "number\n",
      "number\n",
      "number\n",
      "number\n",
      "number\n",
      "number\n",
      "number\n",
      "number\n",
      "number\n",
      "number\n",
      "number\n"
     ]
    }
   ],
   "source": [
    "for data in summary['fields']:\n",
    "    print(data['properties']['dtype'])"
   ]
  },
  {
   "cell_type": "markdown",
   "metadata": {},
   "source": [
    "### Generate Goals without a Persona"
   ]
  },
  {
   "cell_type": "code",
   "execution_count": 12,
   "metadata": {},
   "outputs": [
    {
     "data": {
      "text/markdown": [
       "\n",
       "### Goal 0\n",
       "---\n",
       "**Question:** What are the average Retail Prices for different car Types?\n",
       "\n",
       "**Visualization:** `bar chart of Type vs. average Retail_Price`\n",
       "\n",
       "**Rationale:** This visualization will help us understand how the average retail price varies across different car types (Sedan, SUV, Sports Car, etc.), allowing us to identify which categories are more expensive and which are more affordable. This is crucial for market analysis and pricing strategies.\n"
      ],
      "text/plain": [
       "Goal(question='What are the average Retail Prices for different car Types?', visualization='bar chart of Type vs. average Retail_Price', rationale='This visualization will help us understand how the average retail price varies across different car types (Sedan, SUV, Sports Car, etc.), allowing us to identify which categories are more expensive and which are more affordable. This is crucial for market analysis and pricing strategies.', index=0)"
      ]
     },
     "metadata": {},
     "output_type": "display_data"
    },
    {
     "data": {
      "text/markdown": [
       "\n",
       "### Goal 1\n",
       "---\n",
       "**Question:** How does the distribution of Engine Size differ across car Types?\n",
       "\n",
       "**Visualization:** `box plot of Engine_Size__l_ grouped by Type`\n",
       "\n",
       "**Rationale:** Using a box plot will allow us to visualize the distribution of engine sizes for each car type. This can reveal insights about performance characteristics and market segmentation, indicating whether certain types of cars tend to have larger or smaller engines.\n"
      ],
      "text/plain": [
       "Goal(question='How does the distribution of Engine Size differ across car Types?', visualization='box plot of Engine_Size__l_ grouped by Type', rationale='Using a box plot will allow us to visualize the distribution of engine sizes for each car type. This can reveal insights about performance characteristics and market segmentation, indicating whether certain types of cars tend to have larger or smaller engines.', index=1)"
      ]
     },
     "metadata": {},
     "output_type": "display_data"
    },
    {
     "data": {
      "text/markdown": [
       "\n",
       "### Goal 2\n",
       "---\n",
       "**Question:** What is the relationship between Horsepower and car Type?\n",
       "\n",
       "**Visualization:** `scatter plot of Horsepower_HP_ vs. Type`\n",
       "\n",
       "**Rationale:** A scatter plot will help us identify any trends or clusters between horsepower and car types. This analysis can provide insights into performance expectations associated with various types of vehicles, aiding in consumer decision-making.\n"
      ],
      "text/plain": [
       "Goal(question='What is the relationship between Horsepower and car Type?', visualization='scatter plot of Horsepower_HP_ vs. Type', rationale='A scatter plot will help us identify any trends or clusters between horsepower and car types. This analysis can provide insights into performance expectations associated with various types of vehicles, aiding in consumer decision-making.', index=2)"
      ]
     },
     "metadata": {},
     "output_type": "display_data"
    },
    {
     "data": {
      "text/markdown": [
       "\n",
       "### Goal 3\n",
       "---\n",
       "**Question:** What percentage of each car Type has AWD?\n",
       "\n",
       "**Visualization:** `bar chart of Type vs. percentage of AWD`\n",
       "\n",
       "**Rationale:** This bar chart will show the proportion of all car types that are equipped with all-wheel drive (AWD). Understanding the prevalence of AWD in different categories can inform both consumer preferences and manufacturer strategies.\n"
      ],
      "text/plain": [
       "Goal(question='What percentage of each car Type has AWD?', visualization='bar chart of Type vs. percentage of AWD', rationale='This bar chart will show the proportion of all car types that are equipped with all-wheel drive (AWD). Understanding the prevalence of AWD in different categories can inform both consumer preferences and manufacturer strategies.', index=3)"
      ]
     },
     "metadata": {},
     "output_type": "display_data"
    },
    {
     "data": {
      "text/markdown": [
       "\n",
       "### Goal 4\n",
       "---\n",
       "**Question:** How does the City Miles Per Gallon vary by car Type?\n",
       "\n",
       "**Visualization:** `box plot of City_Miles_Per_Gallon grouped by Type`\n",
       "\n",
       "**Rationale:** A box plot will allow us to see the distribution of city miles per gallon across different car types, highlighting which categories are more fuel-efficient. This is important for consumers concerned about fuel costs and environmental impact.\n"
      ],
      "text/plain": [
       "Goal(question='How does the City Miles Per Gallon vary by car Type?', visualization='box plot of City_Miles_Per_Gallon grouped by Type', rationale='A box plot will allow us to see the distribution of city miles per gallon across different car types, highlighting which categories are more fuel-efficient. This is important for consumers concerned about fuel costs and environmental impact.', index=4)"
      ]
     },
     "metadata": {},
     "output_type": "display_data"
    },
    {
     "data": {
      "text/markdown": [
       "\n",
       "### Goal 5\n",
       "---\n",
       "**Question:** What is the relationship between Retail Price and Dealer Cost?\n",
       "\n",
       "**Visualization:** `scatter plot of Retail_Price vs Dealer_Cost`\n",
       "\n",
       "**Rationale:** This visualization will help us understand how closely the retail price correlates with the dealer cost, indicating pricing strategies and potential profit margins. By plotting 'Retail_Price' against 'Dealer_Cost', we can identify trends, outliers, and overall pricing behavior in the dataset.\n"
      ],
      "text/plain": [
       "Goal(question='What is the relationship between Retail Price and Dealer Cost?', visualization='scatter plot of Retail_Price vs Dealer_Cost', rationale=\"This visualization will help us understand how closely the retail price correlates with the dealer cost, indicating pricing strategies and potential profit margins. By plotting 'Retail_Price' against 'Dealer_Cost', we can identify trends, outliers, and overall pricing behavior in the dataset.\", index=5)"
      ]
     },
     "metadata": {},
     "output_type": "display_data"
    },
    {
     "data": {
      "text/markdown": [
       "\n",
       "### Goal 6\n",
       "---\n",
       "**Question:** How does Engine Size affect Horsepower?\n",
       "\n",
       "**Visualization:** `scatter plot of Engine_Size__l_ vs Horsepower_HP_`\n",
       "\n",
       "**Rationale:** This scatter plot will show the relationship between engine size and horsepower, allowing us to analyze whether larger engines generally produce more power. By examining 'Engine_Size__l_' against 'Horsepower_HP_', we can gain insights into engineering trends and performance expectations.\n"
      ],
      "text/plain": [
       "Goal(question='How does Engine Size affect Horsepower?', visualization='scatter plot of Engine_Size__l_ vs Horsepower_HP_', rationale=\"This scatter plot will show the relationship between engine size and horsepower, allowing us to analyze whether larger engines generally produce more power. By examining 'Engine_Size__l_' against 'Horsepower_HP_', we can gain insights into engineering trends and performance expectations.\", index=6)"
      ]
     },
     "metadata": {},
     "output_type": "display_data"
    },
    {
     "data": {
      "text/markdown": [
       "\n",
       "### Goal 7\n",
       "---\n",
       "**Question:** What is the distribution of City Miles Per Gallon across different types of cars?\n",
       "\n",
       "**Visualization:** `box plot of City_Miles_Per_Gallon grouped by Type`\n",
       "\n",
       "**Rationale:** A box plot will provide a clear view of the distribution of city mileage for various car types, highlighting differences in fuel efficiency. By using 'City_Miles_Per_Gallon' and grouping by 'Type', we can identify which types of vehicles are more efficient and where outliers exist.\n"
      ],
      "text/plain": [
       "Goal(question='What is the distribution of City Miles Per Gallon across different types of cars?', visualization='box plot of City_Miles_Per_Gallon grouped by Type', rationale=\"A box plot will provide a clear view of the distribution of city mileage for various car types, highlighting differences in fuel efficiency. By using 'City_Miles_Per_Gallon' and grouping by 'Type', we can identify which types of vehicles are more efficient and where outliers exist.\", index=7)"
      ]
     },
     "metadata": {},
     "output_type": "display_data"
    },
    {
     "data": {
      "text/markdown": [
       "\n",
       "### Goal 8\n",
       "---\n",
       "**Question:** How do Weight and Length correlate with Retail Price?\n",
       "\n",
       "**Visualization:** `multiple regression analysis plot of Weight and Len against Retail_Price`\n",
       "\n",
       "**Rationale:** This analysis will help us understand how the weight and length of a vehicle impact its retail price. By analyzing 'Weight' and 'Len' in relation to 'Retail_Price', we can uncover patterns that may indicate consumer preferences or market trends.\n"
      ],
      "text/plain": [
       "Goal(question='How do Weight and Length correlate with Retail Price?', visualization='multiple regression analysis plot of Weight and Len against Retail_Price', rationale=\"This analysis will help us understand how the weight and length of a vehicle impact its retail price. By analyzing 'Weight' and 'Len' in relation to 'Retail_Price', we can uncover patterns that may indicate consumer preferences or market trends.\", index=8)"
      ]
     },
     "metadata": {},
     "output_type": "display_data"
    },
    {
     "data": {
      "text/markdown": [
       "\n",
       "### Goal 9\n",
       "---\n",
       "**Question:** What is the average Highway Miles Per Gallon for cars with different numbers of Cylinders?\n",
       "\n",
       "**Visualization:** `bar chart of average Highway_Miles_Per_Gallon grouped by Cyl`\n",
       "\n",
       "**Rationale:** A bar chart will effectively display the average highway mileage for cars based on the number of cylinders. By aggregating 'Highway_Miles_Per_Gallon' by 'Cyl', we can assess how engine configuration affects fuel efficiency on the highway.\n"
      ],
      "text/plain": [
       "Goal(question='What is the average Highway Miles Per Gallon for cars with different numbers of Cylinders?', visualization='bar chart of average Highway_Miles_Per_Gallon grouped by Cyl', rationale=\"A bar chart will effectively display the average highway mileage for cars based on the number of cylinders. By aggregating 'Highway_Miles_Per_Gallon' by 'Cyl', we can assess how engine configuration affects fuel efficiency on the highway.\", index=9)"
      ]
     },
     "metadata": {},
     "output_type": "display_data"
    },
    {
     "data": {
      "text/markdown": [
       "\n",
       "### Goal 10\n",
       "---\n",
       "**Question:** How does the Retail Price vary with Engine Size and Type of vehicle?\n",
       "\n",
       "**Visualization:** `scatter plot of Retail_Price vs Engine_Size__l_ colored by Type`\n",
       "\n",
       "**Rationale:** This visualization will help us understand the relationship between engine size and retail price while categorizing the data by vehicle type. By using a scatter plot, we can identify trends or clusters that indicate how different types of vehicles (e.g., SUVs, Sedans) are priced relative to their engine size.\n"
      ],
      "text/plain": [
       "Goal(question='How does the Retail Price vary with Engine Size and Type of vehicle?', visualization='scatter plot of Retail_Price vs Engine_Size__l_ colored by Type', rationale='This visualization will help us understand the relationship between engine size and retail price while categorizing the data by vehicle type. By using a scatter plot, we can identify trends or clusters that indicate how different types of vehicles (e.g., SUVs, Sedans) are priced relative to their engine size.', index=10)"
      ]
     },
     "metadata": {},
     "output_type": "display_data"
    },
    {
     "data": {
      "text/markdown": [
       "\n",
       "### Goal 11\n",
       "---\n",
       "**Question:** What is the relationship between Horsepower, Weight, and Type of vehicle?\n",
       "\n",
       "**Visualization:** `3D scatter plot of Horsepower_HP_ vs Weight colored by Type`\n",
       "\n",
       "**Rationale:** This 3D scatter plot will allow us to visualize the interaction between horsepower and weight across different vehicle types. It will help in understanding how these two variables correlate and whether certain types of vehicles (like Sports Cars) tend to have higher horsepower relative to their weight.\n"
      ],
      "text/plain": [
       "Goal(question='What is the relationship between Horsepower, Weight, and Type of vehicle?', visualization='3D scatter plot of Horsepower_HP_ vs Weight colored by Type', rationale='This 3D scatter plot will allow us to visualize the interaction between horsepower and weight across different vehicle types. It will help in understanding how these two variables correlate and whether certain types of vehicles (like Sports Cars) tend to have higher horsepower relative to their weight.', index=11)"
      ]
     },
     "metadata": {},
     "output_type": "display_data"
    },
    {
     "data": {
      "text/markdown": [
       "\n",
       "### Goal 12\n",
       "---\n",
       "**Question:** How do City and Highway Miles Per Gallon relate to Retail Price across different Types?\n",
       "\n",
       "**Visualization:** `grouped bar chart of average City_Miles_Per_Gallon and Highway_Miles_Per_Gallon by Type`\n",
       "\n",
       "**Rationale:** This grouped bar chart will provide insights into the fuel efficiency of different vehicle types in relation to their retail price. By comparing average city and highway MPG, we can evaluate how efficiency varies and whether it has an impact on pricing strategies for different types of vehicles.\n"
      ],
      "text/plain": [
       "Goal(question='How do City and Highway Miles Per Gallon relate to Retail Price across different Types?', visualization='grouped bar chart of average City_Miles_Per_Gallon and Highway_Miles_Per_Gallon by Type', rationale='This grouped bar chart will provide insights into the fuel efficiency of different vehicle types in relation to their retail price. By comparing average city and highway MPG, we can evaluate how efficiency varies and whether it has an impact on pricing strategies for different types of vehicles.', index=12)"
      ]
     },
     "metadata": {},
     "output_type": "display_data"
    },
    {
     "data": {
      "text/markdown": [
       "\n",
       "### Goal 13\n",
       "---\n",
       "**Question:** What is the impact of the number of Cylinders on Retail Price and Weight?\n",
       "\n",
       "**Visualization:** `box plot of Retail_Price and Weight by Cyl`\n",
       "\n",
       "**Rationale:** Using a box plot allows us to see the distribution of retail price and weight across different cylinder counts. This visualization will help identify trends in pricing and weight as the number of cylinders increases, revealing insights into how engine design impacts vehicle characteristics.\n"
      ],
      "text/plain": [
       "Goal(question='What is the impact of the number of Cylinders on Retail Price and Weight?', visualization='box plot of Retail_Price and Weight by Cyl', rationale='Using a box plot allows us to see the distribution of retail price and weight across different cylinder counts. This visualization will help identify trends in pricing and weight as the number of cylinders increases, revealing insights into how engine design impacts vehicle characteristics.', index=13)"
      ]
     },
     "metadata": {},
     "output_type": "display_data"
    },
    {
     "data": {
      "text/markdown": [
       "\n",
       "### Goal 14\n",
       "---\n",
       "**Question:** How does the combination of AWD and RWD affect the Horsepower and Retail Price?\n",
       "\n",
       "**Visualization:** `heatmap of average Horsepower_HP_ and Retail_Price by AWD and RWD`\n",
       "\n",
       "**Rationale:** This heatmap will illustrate the interaction between all-wheel drive (AWD), rear-wheel drive (RWD), horsepower, and retail price. By analyzing this data, we can uncover patterns that indicate how drivetrain configurations influence performance and market pricing.\n"
      ],
      "text/plain": [
       "Goal(question='How does the combination of AWD and RWD affect the Horsepower and Retail Price?', visualization='heatmap of average Horsepower_HP_ and Retail_Price by AWD and RWD', rationale='This heatmap will illustrate the interaction between all-wheel drive (AWD), rear-wheel drive (RWD), horsepower, and retail price. By analyzing this data, we can uncover patterns that indicate how drivetrain configurations influence performance and market pricing.', index=14)"
      ]
     },
     "metadata": {},
     "output_type": "display_data"
    },
    {
     "data": {
      "text/markdown": [
       "\n",
       "### Goal 15\n",
       "---\n",
       "**Question:** How does the Retail Price relate to Engine Size?\n",
       "\n",
       "**Visualization:** `scatter plot of Retail_Price vs Engine_Size__l_`\n",
       "\n",
       "**Rationale:** This visualization will help us understand if there is a correlation between the size of the engine (Engine_Size__l_) and the retail price (Retail_Price) of the cars. A scatter plot is appropriate here as it allows for the observation of relationships between two continuous variables, revealing any trends or patterns.\n"
      ],
      "text/plain": [
       "Goal(question='How does the Retail Price relate to Engine Size?', visualization='scatter plot of Retail_Price vs Engine_Size__l_', rationale='This visualization will help us understand if there is a correlation between the size of the engine (Engine_Size__l_) and the retail price (Retail_Price) of the cars. A scatter plot is appropriate here as it allows for the observation of relationships between two continuous variables, revealing any trends or patterns.', index=15)"
      ]
     },
     "metadata": {},
     "output_type": "display_data"
    },
    {
     "data": {
      "text/markdown": [
       "\n",
       "### Goal 16\n",
       "---\n",
       "**Question:** What is the relationship between Horsepower and Weight?\n",
       "\n",
       "**Visualization:** `scatter plot of Horsepower_HP_ vs Weight`\n",
       "\n",
       "**Rationale:** This scatter plot will illustrate how the horsepower (Horsepower_HP_) of a vehicle correlates with its weight (Weight). This is crucial for understanding performance dynamics; heavier cars may require more horsepower for better acceleration. The scatter plot allows for easy identification of correlations and outliers.\n"
      ],
      "text/plain": [
       "Goal(question='What is the relationship between Horsepower and Weight?', visualization='scatter plot of Horsepower_HP_ vs Weight', rationale='This scatter plot will illustrate how the horsepower (Horsepower_HP_) of a vehicle correlates with its weight (Weight). This is crucial for understanding performance dynamics; heavier cars may require more horsepower for better acceleration. The scatter plot allows for easy identification of correlations and outliers.', index=16)"
      ]
     },
     "metadata": {},
     "output_type": "display_data"
    },
    {
     "data": {
      "text/markdown": [
       "\n",
       "### Goal 17\n",
       "---\n",
       "**Question:** How does City Miles Per Gallon compare to Highway Miles Per Gallon?\n",
       "\n",
       "**Visualization:** `scatter plot of City_Miles_Per_Gallon vs Highway_Miles_Per_Gallon`\n",
       "\n",
       "**Rationale:** This visualization will provide insights into how city fuel efficiency (City_Miles_Per_Gallon) relates to highway fuel efficiency (Highway_Miles_Per_Gallon). A scatter plot is suitable for this analysis as it can reveal any linear relationships, indicating whether vehicles that perform well in the city also perform well on the highway.\n"
      ],
      "text/plain": [
       "Goal(question='How does City Miles Per Gallon compare to Highway Miles Per Gallon?', visualization='scatter plot of City_Miles_Per_Gallon vs Highway_Miles_Per_Gallon', rationale='This visualization will provide insights into how city fuel efficiency (City_Miles_Per_Gallon) relates to highway fuel efficiency (Highway_Miles_Per_Gallon). A scatter plot is suitable for this analysis as it can reveal any linear relationships, indicating whether vehicles that perform well in the city also perform well on the highway.', index=17)"
      ]
     },
     "metadata": {},
     "output_type": "display_data"
    },
    {
     "data": {
      "text/markdown": [
       "\n",
       "### Goal 18\n",
       "---\n",
       "**Question:** Is there a relationship between the number of Cylinders and Horsepower?\n",
       "\n",
       "**Visualization:** `box plot of Horsepower_HP_ grouped by Cyl`\n",
       "\n",
       "**Rationale:** Using a box plot to visualize Horsepower_HP_ against the number of Cylinders (Cyl) will allow us to compare the distribution of horsepower across different cylinder counts. This is useful for understanding how engine configuration affects performance, and the box plot effectively summarizes the data's central tendency and variability.\n"
      ],
      "text/plain": [
       "Goal(question='Is there a relationship between the number of Cylinders and Horsepower?', visualization='box plot of Horsepower_HP_ grouped by Cyl', rationale=\"Using a box plot to visualize Horsepower_HP_ against the number of Cylinders (Cyl) will allow us to compare the distribution of horsepower across different cylinder counts. This is useful for understanding how engine configuration affects performance, and the box plot effectively summarizes the data's central tendency and variability.\", index=18)"
      ]
     },
     "metadata": {},
     "output_type": "display_data"
    },
    {
     "data": {
      "text/markdown": [
       "\n",
       "### Goal 19\n",
       "---\n",
       "**Question:** What is the impact of car Type on Retail Price?\n",
       "\n",
       "**Visualization:** `box plot of Retail_Price grouped by Type`\n",
       "\n",
       "**Rationale:** This box plot will show how the type of car (Type) influences its retail price (Retail_Price). By categorizing the data into different types of vehicles, we can assess the price range and median for each type, providing valuable insights for pricing strategies and market positioning.\n"
      ],
      "text/plain": [
       "Goal(question='What is the impact of car Type on Retail Price?', visualization='box plot of Retail_Price grouped by Type', rationale='This box plot will show how the type of car (Type) influences its retail price (Retail_Price). By categorizing the data into different types of vehicles, we can assess the price range and median for each type, providing valuable insights for pricing strategies and market positioning.', index=19)"
      ]
     },
     "metadata": {},
     "output_type": "display_data"
    }
   ],
   "source": [
    "goals = lida.goals(summary, n=20, textgen_config=textgen_config)\n",
    "\n",
    "for goal in goals:\n",
    "    display(goal)"
   ]
  },
  {
   "cell_type": "markdown",
   "metadata": {},
   "source": [
    "### Saving and Loading Goals without a Persona"
   ]
  },
  {
   "cell_type": "code",
   "execution_count": 13,
   "metadata": {},
   "outputs": [],
   "source": [
    "import pickle"
   ]
  },
  {
   "cell_type": "code",
   "execution_count": 14,
   "metadata": {},
   "outputs": [],
   "source": [
    "# SAVE\n",
    "\n",
    "with open('goals2-5-9-20-combined-cars.pkl', 'wb') as f:\n",
    "    pickle.dump(goals, f)"
   ]
  },
  {
   "cell_type": "code",
   "execution_count": 19,
   "metadata": {},
   "outputs": [
    {
     "data": {
      "text/plain": [
       "[Goal(question='What is the distribution of car types in the dataset?', visualization='bar chart of Type', rationale=\"This visualization uses the 'Type' column to show the frequency of each car type (e.g., Sedan, SUV, Sports Car, Wagon, Minivan). A bar chart is appropriate here as it allows for easy comparison of the number of cars in each category, helping to identify which types are most prevalent and potentially influencing market trends.\", index=0),\n",
       " Goal(question='How do retail prices vary by car type?', visualization='box plot of Retail_Price by Type', rationale=\"Using the 'Retail_Price' column grouped by 'Type' allows us to visualize the distribution of prices for each car type. A box plot is effective here as it shows the median, quartiles, and potential outliers, giving insights into price ranges and how they differ among various car types.\", index=1),\n",
       " Goal(question='What is the average engine size for each car type?', visualization='bar chart of average Engine_Size__l_ by Type', rationale=\"This visualization will use the 'Engine_Size__l_' column averaged by 'Type' to illustrate the differences in engine size across car types. A bar chart is suitable for this purpose, as it allows for straightforward comparison of average engine sizes, which can be indicative of performance characteristics associated with each type.\", index=2),\n",
       " Goal(question='What is the relationship between car type and fuel efficiency (City and Highway MPG)?', visualization='grouped bar chart of average City_Miles_Per_Gallon and Highway_Miles_Per_Gallon by Type', rationale=\"This visualization will utilize 'City_Miles_Per_Gallon' and 'Highway_Miles_Per_Gallon' to compare average fuel efficiency across different car types. A grouped bar chart allows for a clear comparison between city and highway MPG for each type, aiding in understanding how vehicle design impacts fuel efficiency.\", index=3),\n",
       " Goal(question='What is the impact of car type on weight?', visualization='box plot of Weight by Type', rationale=\"Using the 'Weight' column categorized by 'Type' helps visualize how the weight of cars differs among types. A box plot is appropriate as it provides a detailed view of the weight distribution, including median and outliers, which can inform decisions related to safety, performance, and efficiency based on vehicle weight.\", index=4),\n",
       " Goal(question='How does the horsepower relate to the retail price of cars?', visualization='scatter plot of Horsepower_HP_ vs Retail_Price', rationale='This visualization will help us understand the correlation between horsepower and retail price, allowing us to identify if more powerful cars tend to have higher prices.', index=5),\n",
       " Goal(question='What is the relationship between engine size and fuel efficiency in terms of City and Highway MPG?', visualization='line chart comparing Engine_Size__l_ with City_Miles_Per_Gallon and Highway_Miles_Per_Gallon', rationale='Using a line chart will allow us to visualize the trends in fuel efficiency as engine size increases, helping to identify if larger engines correlate with lower MPG.', index=6),\n",
       " Goal(question='How does weight affect the horsepower of different car types?', visualization='box plot of Weight vs Horsepower_HP_ grouped by Type', rationale='A box plot will enable us to compare the distribution of horsepower across different weight categories for each car type, highlighting potential trends and outliers.', index=7),\n",
       " Goal(question='What is the impact of the number of cylinders on the retail price and dealer cost?', visualization='bar chart comparing average Retail_Price and Dealer_Cost by Cyl', rationale='A bar chart will effectively show the average retail price and dealer cost across different cylinder counts, helping to identify if more cylinders lead to higher costs.', index=8),\n",
       " Goal(question='How does the length of the car relate to its weight and wheelbase?', visualization='3D scatter plot of Len, Weight, and Wheel_Base', rationale='A 3D scatter plot will allow us to visualize the relationships between car length, weight, and wheelbase, providing insights into how these dimensions interact with each other.', index=9),\n",
       " Goal(question='How does the retail price vary with engine size and horsepower across different car types?', visualization='3D scatter plot of Retail_Price vs Engine_Size__l_ vs Horsepower_HP_ colored by Type', rationale='This visualization allows us to explore the relationship between retail price, engine size, and horsepower, while also differentiating between car types. It will help identify if larger engines and higher horsepower correlate with higher retail prices across various types of cars.', index=10),\n",
       " Goal(question='What is the relationship between weight, engine size, and retail price for different car types?', visualization='Bubble chart of Retail_Price on the y-axis, Weight on the x-axis, and Engine_Size__l_ represented by bubble size, colored by Type', rationale='This bubble chart will illustrate how weight and engine size affect retail price, while also showing the distribution of different car types. It provides insights into whether heavier cars with larger engines tend to be priced higher, and how this varies by car type.', index=11),\n",
       " Goal(question='How do city miles per gallon compare with highway miles per gallon based on engine size and number of cylinders?', visualization='Grouped bar chart of City_Miles_Per_Gallon and Highway_Miles_Per_Gallon grouped by Engine_Size__l_ and colored by Cyl', rationale='This grouped bar chart allows for a direct comparison of city and highway miles per gallon across different engine sizes and cylinder counts. It will help us understand how engine specifications influence fuel efficiency in urban versus highway driving conditions.', index=12),\n",
       " Goal(question='What is the impact of wheelbase on the weight and retail price across different car types?', visualization='Line chart of Weight and Retail_Price against Wheel_Base, with separate lines for each Type', rationale='This line chart will help visualize the trends in weight and retail price as wheelbase increases, segmented by car type. It will provide insights into how wheelbase affects both the mass and market value of different vehicle categories.', index=13),\n",
       " Goal(question='How does the distribution of horsepower vary with the number of cylinders and car type?', visualization='Box plot of Horsepower_HP_ grouped by Cyl and colored by Type', rationale='This box plot will show the distribution of horsepower across different cylinder counts for each car type. It will allow us to identify patterns and outliers in horsepower based on engine configuration, providing insights into performance characteristics associated with different types of vehicles.', index=14),\n",
       " Goal(question='How does the retail price relate to the engine size across different car types?', visualization='scatter plot of Retail_Price vs Engine_Size__l_ colored by Type', rationale=\"This visualization will help us understand if there's a correlation between engine size and retail price, while also allowing us to see if this relationship differs by car type. By plotting Retail_Price against Engine_Size__l_ and using Type to differentiate the points, we can gain insights into how engine size impacts pricing across various categories of cars.\", index=15),\n",
       " Goal(question='What is the relationship between horsepower and weight for different car types?', visualization='scatter plot of Horsepower_HP_ vs Weight colored by Type', rationale='This visualization will illustrate the relationship between horsepower and weight, which is crucial for understanding performance characteristics. By differentiating the points by Type, we can see if certain types of cars (e.g., Sports Cars vs. SUVs) have different dynamics in terms of horsepower relative to their weight.', index=16),\n",
       " Goal(question='How do city miles per gallon compare with highway miles per gallon across different engine sizes?', visualization='box plot comparing City_Miles_Per_Gallon and Highway_Miles_Per_Gallon grouped by Engine_Size__l_', rationale='This visualization will reveal how fuel efficiency varies between city and highway driving conditions for various engine sizes. By using a box plot, we can effectively summarize the distribution of MPG values for both city and highway, allowing us to identify trends and outliers in fuel efficiency based on engine size.', index=17),\n",
       " Goal(question='What is the impact of the number of cylinders on retail price and dealer cost?', visualization='dual-axis bar chart comparing average Retail_Price and average Dealer_Cost by Cyl', rationale='This dual-axis bar chart will allow us to compare the average retail price and dealer cost across different cylinder counts. By using this format, we can visualize how the number of cylinders influences both retail pricing and dealer costs, which is essential for understanding market dynamics.', index=18),\n",
       " Goal(question='How does the weight of the car correlate with its length and width?', visualization='3D scatter plot of Weight vs Len and Width', rationale='This 3D scatter plot will help us visualize the relationship between car weight, length, and width. Understanding how these dimensions correlate can provide insights into design trends and structural characteristics of different car types, which is important for a comprehensive analysis of automotive data.', index=19)]"
      ]
     },
     "metadata": {},
     "output_type": "display_data"
    }
   ],
   "source": [
    "# LOAD\n",
    "\n",
    "with open('goals2-5-6-20-combined-cars.pkl', 'rb') as f:\n",
    "    loaded = pickle.load(f)\n",
    "\n",
    "display(loaded)"
   ]
  },
  {
   "cell_type": "code",
   "execution_count": 20,
   "metadata": {},
   "outputs": [
    {
     "data": {
      "text/markdown": [
       "\n",
       "### Goal 0\n",
       "---\n",
       "**Question:** What is the distribution of car types in the dataset?\n",
       "\n",
       "**Visualization:** `bar chart of Type`\n",
       "\n",
       "**Rationale:** This visualization uses the 'Type' column to show the frequency of each car type (e.g., Sedan, SUV, Sports Car, Wagon, Minivan). A bar chart is appropriate here as it allows for easy comparison of the number of cars in each category, helping to identify which types are most prevalent and potentially influencing market trends.\n"
      ],
      "text/plain": [
       "Goal(question='What is the distribution of car types in the dataset?', visualization='bar chart of Type', rationale=\"This visualization uses the 'Type' column to show the frequency of each car type (e.g., Sedan, SUV, Sports Car, Wagon, Minivan). A bar chart is appropriate here as it allows for easy comparison of the number of cars in each category, helping to identify which types are most prevalent and potentially influencing market trends.\", index=0)"
      ]
     },
     "metadata": {},
     "output_type": "display_data"
    },
    {
     "data": {
      "text/markdown": [
       "\n",
       "### Goal 1\n",
       "---\n",
       "**Question:** How do retail prices vary by car type?\n",
       "\n",
       "**Visualization:** `box plot of Retail_Price by Type`\n",
       "\n",
       "**Rationale:** Using the 'Retail_Price' column grouped by 'Type' allows us to visualize the distribution of prices for each car type. A box plot is effective here as it shows the median, quartiles, and potential outliers, giving insights into price ranges and how they differ among various car types.\n"
      ],
      "text/plain": [
       "Goal(question='How do retail prices vary by car type?', visualization='box plot of Retail_Price by Type', rationale=\"Using the 'Retail_Price' column grouped by 'Type' allows us to visualize the distribution of prices for each car type. A box plot is effective here as it shows the median, quartiles, and potential outliers, giving insights into price ranges and how they differ among various car types.\", index=1)"
      ]
     },
     "metadata": {},
     "output_type": "display_data"
    },
    {
     "data": {
      "text/markdown": [
       "\n",
       "### Goal 2\n",
       "---\n",
       "**Question:** What is the average engine size for each car type?\n",
       "\n",
       "**Visualization:** `bar chart of average Engine_Size__l_ by Type`\n",
       "\n",
       "**Rationale:** This visualization will use the 'Engine_Size__l_' column averaged by 'Type' to illustrate the differences in engine size across car types. A bar chart is suitable for this purpose, as it allows for straightforward comparison of average engine sizes, which can be indicative of performance characteristics associated with each type.\n"
      ],
      "text/plain": [
       "Goal(question='What is the average engine size for each car type?', visualization='bar chart of average Engine_Size__l_ by Type', rationale=\"This visualization will use the 'Engine_Size__l_' column averaged by 'Type' to illustrate the differences in engine size across car types. A bar chart is suitable for this purpose, as it allows for straightforward comparison of average engine sizes, which can be indicative of performance characteristics associated with each type.\", index=2)"
      ]
     },
     "metadata": {},
     "output_type": "display_data"
    },
    {
     "data": {
      "text/markdown": [
       "\n",
       "### Goal 3\n",
       "---\n",
       "**Question:** What is the relationship between car type and fuel efficiency (City and Highway MPG)?\n",
       "\n",
       "**Visualization:** `grouped bar chart of average City_Miles_Per_Gallon and Highway_Miles_Per_Gallon by Type`\n",
       "\n",
       "**Rationale:** This visualization will utilize 'City_Miles_Per_Gallon' and 'Highway_Miles_Per_Gallon' to compare average fuel efficiency across different car types. A grouped bar chart allows for a clear comparison between city and highway MPG for each type, aiding in understanding how vehicle design impacts fuel efficiency.\n"
      ],
      "text/plain": [
       "Goal(question='What is the relationship between car type and fuel efficiency (City and Highway MPG)?', visualization='grouped bar chart of average City_Miles_Per_Gallon and Highway_Miles_Per_Gallon by Type', rationale=\"This visualization will utilize 'City_Miles_Per_Gallon' and 'Highway_Miles_Per_Gallon' to compare average fuel efficiency across different car types. A grouped bar chart allows for a clear comparison between city and highway MPG for each type, aiding in understanding how vehicle design impacts fuel efficiency.\", index=3)"
      ]
     },
     "metadata": {},
     "output_type": "display_data"
    },
    {
     "data": {
      "text/markdown": [
       "\n",
       "### Goal 4\n",
       "---\n",
       "**Question:** What is the impact of car type on weight?\n",
       "\n",
       "**Visualization:** `box plot of Weight by Type`\n",
       "\n",
       "**Rationale:** Using the 'Weight' column categorized by 'Type' helps visualize how the weight of cars differs among types. A box plot is appropriate as it provides a detailed view of the weight distribution, including median and outliers, which can inform decisions related to safety, performance, and efficiency based on vehicle weight.\n"
      ],
      "text/plain": [
       "Goal(question='What is the impact of car type on weight?', visualization='box plot of Weight by Type', rationale=\"Using the 'Weight' column categorized by 'Type' helps visualize how the weight of cars differs among types. A box plot is appropriate as it provides a detailed view of the weight distribution, including median and outliers, which can inform decisions related to safety, performance, and efficiency based on vehicle weight.\", index=4)"
      ]
     },
     "metadata": {},
     "output_type": "display_data"
    },
    {
     "data": {
      "text/markdown": [
       "\n",
       "### Goal 5\n",
       "---\n",
       "**Question:** How does the horsepower relate to the retail price of cars?\n",
       "\n",
       "**Visualization:** `scatter plot of Horsepower_HP_ vs Retail_Price`\n",
       "\n",
       "**Rationale:** This visualization will help us understand the correlation between horsepower and retail price, allowing us to identify if more powerful cars tend to have higher prices.\n"
      ],
      "text/plain": [
       "Goal(question='How does the horsepower relate to the retail price of cars?', visualization='scatter plot of Horsepower_HP_ vs Retail_Price', rationale='This visualization will help us understand the correlation between horsepower and retail price, allowing us to identify if more powerful cars tend to have higher prices.', index=5)"
      ]
     },
     "metadata": {},
     "output_type": "display_data"
    },
    {
     "data": {
      "text/markdown": [
       "\n",
       "### Goal 6\n",
       "---\n",
       "**Question:** What is the relationship between engine size and fuel efficiency in terms of City and Highway MPG?\n",
       "\n",
       "**Visualization:** `line chart comparing Engine_Size__l_ with City_Miles_Per_Gallon and Highway_Miles_Per_Gallon`\n",
       "\n",
       "**Rationale:** Using a line chart will allow us to visualize the trends in fuel efficiency as engine size increases, helping to identify if larger engines correlate with lower MPG.\n"
      ],
      "text/plain": [
       "Goal(question='What is the relationship between engine size and fuel efficiency in terms of City and Highway MPG?', visualization='line chart comparing Engine_Size__l_ with City_Miles_Per_Gallon and Highway_Miles_Per_Gallon', rationale='Using a line chart will allow us to visualize the trends in fuel efficiency as engine size increases, helping to identify if larger engines correlate with lower MPG.', index=6)"
      ]
     },
     "metadata": {},
     "output_type": "display_data"
    },
    {
     "data": {
      "text/markdown": [
       "\n",
       "### Goal 7\n",
       "---\n",
       "**Question:** How does weight affect the horsepower of different car types?\n",
       "\n",
       "**Visualization:** `box plot of Weight vs Horsepower_HP_ grouped by Type`\n",
       "\n",
       "**Rationale:** A box plot will enable us to compare the distribution of horsepower across different weight categories for each car type, highlighting potential trends and outliers.\n"
      ],
      "text/plain": [
       "Goal(question='How does weight affect the horsepower of different car types?', visualization='box plot of Weight vs Horsepower_HP_ grouped by Type', rationale='A box plot will enable us to compare the distribution of horsepower across different weight categories for each car type, highlighting potential trends and outliers.', index=7)"
      ]
     },
     "metadata": {},
     "output_type": "display_data"
    },
    {
     "data": {
      "text/markdown": [
       "\n",
       "### Goal 8\n",
       "---\n",
       "**Question:** What is the impact of the number of cylinders on the retail price and dealer cost?\n",
       "\n",
       "**Visualization:** `bar chart comparing average Retail_Price and Dealer_Cost by Cyl`\n",
       "\n",
       "**Rationale:** A bar chart will effectively show the average retail price and dealer cost across different cylinder counts, helping to identify if more cylinders lead to higher costs.\n"
      ],
      "text/plain": [
       "Goal(question='What is the impact of the number of cylinders on the retail price and dealer cost?', visualization='bar chart comparing average Retail_Price and Dealer_Cost by Cyl', rationale='A bar chart will effectively show the average retail price and dealer cost across different cylinder counts, helping to identify if more cylinders lead to higher costs.', index=8)"
      ]
     },
     "metadata": {},
     "output_type": "display_data"
    },
    {
     "data": {
      "text/markdown": [
       "\n",
       "### Goal 9\n",
       "---\n",
       "**Question:** How does the length of the car relate to its weight and wheelbase?\n",
       "\n",
       "**Visualization:** `3D scatter plot of Len, Weight, and Wheel_Base`\n",
       "\n",
       "**Rationale:** A 3D scatter plot will allow us to visualize the relationships between car length, weight, and wheelbase, providing insights into how these dimensions interact with each other.\n"
      ],
      "text/plain": [
       "Goal(question='How does the length of the car relate to its weight and wheelbase?', visualization='3D scatter plot of Len, Weight, and Wheel_Base', rationale='A 3D scatter plot will allow us to visualize the relationships between car length, weight, and wheelbase, providing insights into how these dimensions interact with each other.', index=9)"
      ]
     },
     "metadata": {},
     "output_type": "display_data"
    },
    {
     "data": {
      "text/markdown": [
       "\n",
       "### Goal 10\n",
       "---\n",
       "**Question:** How does the retail price vary with engine size and horsepower across different car types?\n",
       "\n",
       "**Visualization:** `3D scatter plot of Retail_Price vs Engine_Size__l_ vs Horsepower_HP_ colored by Type`\n",
       "\n",
       "**Rationale:** This visualization allows us to explore the relationship between retail price, engine size, and horsepower, while also differentiating between car types. It will help identify if larger engines and higher horsepower correlate with higher retail prices across various types of cars.\n"
      ],
      "text/plain": [
       "Goal(question='How does the retail price vary with engine size and horsepower across different car types?', visualization='3D scatter plot of Retail_Price vs Engine_Size__l_ vs Horsepower_HP_ colored by Type', rationale='This visualization allows us to explore the relationship between retail price, engine size, and horsepower, while also differentiating between car types. It will help identify if larger engines and higher horsepower correlate with higher retail prices across various types of cars.', index=10)"
      ]
     },
     "metadata": {},
     "output_type": "display_data"
    },
    {
     "data": {
      "text/markdown": [
       "\n",
       "### Goal 11\n",
       "---\n",
       "**Question:** What is the relationship between weight, engine size, and retail price for different car types?\n",
       "\n",
       "**Visualization:** `Bubble chart of Retail_Price on the y-axis, Weight on the x-axis, and Engine_Size__l_ represented by bubble size, colored by Type`\n",
       "\n",
       "**Rationale:** This bubble chart will illustrate how weight and engine size affect retail price, while also showing the distribution of different car types. It provides insights into whether heavier cars with larger engines tend to be priced higher, and how this varies by car type.\n"
      ],
      "text/plain": [
       "Goal(question='What is the relationship between weight, engine size, and retail price for different car types?', visualization='Bubble chart of Retail_Price on the y-axis, Weight on the x-axis, and Engine_Size__l_ represented by bubble size, colored by Type', rationale='This bubble chart will illustrate how weight and engine size affect retail price, while also showing the distribution of different car types. It provides insights into whether heavier cars with larger engines tend to be priced higher, and how this varies by car type.', index=11)"
      ]
     },
     "metadata": {},
     "output_type": "display_data"
    },
    {
     "data": {
      "text/markdown": [
       "\n",
       "### Goal 12\n",
       "---\n",
       "**Question:** How do city miles per gallon compare with highway miles per gallon based on engine size and number of cylinders?\n",
       "\n",
       "**Visualization:** `Grouped bar chart of City_Miles_Per_Gallon and Highway_Miles_Per_Gallon grouped by Engine_Size__l_ and colored by Cyl`\n",
       "\n",
       "**Rationale:** This grouped bar chart allows for a direct comparison of city and highway miles per gallon across different engine sizes and cylinder counts. It will help us understand how engine specifications influence fuel efficiency in urban versus highway driving conditions.\n"
      ],
      "text/plain": [
       "Goal(question='How do city miles per gallon compare with highway miles per gallon based on engine size and number of cylinders?', visualization='Grouped bar chart of City_Miles_Per_Gallon and Highway_Miles_Per_Gallon grouped by Engine_Size__l_ and colored by Cyl', rationale='This grouped bar chart allows for a direct comparison of city and highway miles per gallon across different engine sizes and cylinder counts. It will help us understand how engine specifications influence fuel efficiency in urban versus highway driving conditions.', index=12)"
      ]
     },
     "metadata": {},
     "output_type": "display_data"
    },
    {
     "data": {
      "text/markdown": [
       "\n",
       "### Goal 13\n",
       "---\n",
       "**Question:** What is the impact of wheelbase on the weight and retail price across different car types?\n",
       "\n",
       "**Visualization:** `Line chart of Weight and Retail_Price against Wheel_Base, with separate lines for each Type`\n",
       "\n",
       "**Rationale:** This line chart will help visualize the trends in weight and retail price as wheelbase increases, segmented by car type. It will provide insights into how wheelbase affects both the mass and market value of different vehicle categories.\n"
      ],
      "text/plain": [
       "Goal(question='What is the impact of wheelbase on the weight and retail price across different car types?', visualization='Line chart of Weight and Retail_Price against Wheel_Base, with separate lines for each Type', rationale='This line chart will help visualize the trends in weight and retail price as wheelbase increases, segmented by car type. It will provide insights into how wheelbase affects both the mass and market value of different vehicle categories.', index=13)"
      ]
     },
     "metadata": {},
     "output_type": "display_data"
    },
    {
     "data": {
      "text/markdown": [
       "\n",
       "### Goal 14\n",
       "---\n",
       "**Question:** How does the distribution of horsepower vary with the number of cylinders and car type?\n",
       "\n",
       "**Visualization:** `Box plot of Horsepower_HP_ grouped by Cyl and colored by Type`\n",
       "\n",
       "**Rationale:** This box plot will show the distribution of horsepower across different cylinder counts for each car type. It will allow us to identify patterns and outliers in horsepower based on engine configuration, providing insights into performance characteristics associated with different types of vehicles.\n"
      ],
      "text/plain": [
       "Goal(question='How does the distribution of horsepower vary with the number of cylinders and car type?', visualization='Box plot of Horsepower_HP_ grouped by Cyl and colored by Type', rationale='This box plot will show the distribution of horsepower across different cylinder counts for each car type. It will allow us to identify patterns and outliers in horsepower based on engine configuration, providing insights into performance characteristics associated with different types of vehicles.', index=14)"
      ]
     },
     "metadata": {},
     "output_type": "display_data"
    },
    {
     "data": {
      "text/markdown": [
       "\n",
       "### Goal 15\n",
       "---\n",
       "**Question:** How does the retail price relate to the engine size across different car types?\n",
       "\n",
       "**Visualization:** `scatter plot of Retail_Price vs Engine_Size__l_ colored by Type`\n",
       "\n",
       "**Rationale:** This visualization will help us understand if there's a correlation between engine size and retail price, while also allowing us to see if this relationship differs by car type. By plotting Retail_Price against Engine_Size__l_ and using Type to differentiate the points, we can gain insights into how engine size impacts pricing across various categories of cars.\n"
      ],
      "text/plain": [
       "Goal(question='How does the retail price relate to the engine size across different car types?', visualization='scatter plot of Retail_Price vs Engine_Size__l_ colored by Type', rationale=\"This visualization will help us understand if there's a correlation between engine size and retail price, while also allowing us to see if this relationship differs by car type. By plotting Retail_Price against Engine_Size__l_ and using Type to differentiate the points, we can gain insights into how engine size impacts pricing across various categories of cars.\", index=15)"
      ]
     },
     "metadata": {},
     "output_type": "display_data"
    },
    {
     "data": {
      "text/markdown": [
       "\n",
       "### Goal 16\n",
       "---\n",
       "**Question:** What is the relationship between horsepower and weight for different car types?\n",
       "\n",
       "**Visualization:** `scatter plot of Horsepower_HP_ vs Weight colored by Type`\n",
       "\n",
       "**Rationale:** This visualization will illustrate the relationship between horsepower and weight, which is crucial for understanding performance characteristics. By differentiating the points by Type, we can see if certain types of cars (e.g., Sports Cars vs. SUVs) have different dynamics in terms of horsepower relative to their weight.\n"
      ],
      "text/plain": [
       "Goal(question='What is the relationship between horsepower and weight for different car types?', visualization='scatter plot of Horsepower_HP_ vs Weight colored by Type', rationale='This visualization will illustrate the relationship between horsepower and weight, which is crucial for understanding performance characteristics. By differentiating the points by Type, we can see if certain types of cars (e.g., Sports Cars vs. SUVs) have different dynamics in terms of horsepower relative to their weight.', index=16)"
      ]
     },
     "metadata": {},
     "output_type": "display_data"
    },
    {
     "data": {
      "text/markdown": [
       "\n",
       "### Goal 17\n",
       "---\n",
       "**Question:** How do city miles per gallon compare with highway miles per gallon across different engine sizes?\n",
       "\n",
       "**Visualization:** `box plot comparing City_Miles_Per_Gallon and Highway_Miles_Per_Gallon grouped by Engine_Size__l_`\n",
       "\n",
       "**Rationale:** This visualization will reveal how fuel efficiency varies between city and highway driving conditions for various engine sizes. By using a box plot, we can effectively summarize the distribution of MPG values for both city and highway, allowing us to identify trends and outliers in fuel efficiency based on engine size.\n"
      ],
      "text/plain": [
       "Goal(question='How do city miles per gallon compare with highway miles per gallon across different engine sizes?', visualization='box plot comparing City_Miles_Per_Gallon and Highway_Miles_Per_Gallon grouped by Engine_Size__l_', rationale='This visualization will reveal how fuel efficiency varies between city and highway driving conditions for various engine sizes. By using a box plot, we can effectively summarize the distribution of MPG values for both city and highway, allowing us to identify trends and outliers in fuel efficiency based on engine size.', index=17)"
      ]
     },
     "metadata": {},
     "output_type": "display_data"
    },
    {
     "data": {
      "text/markdown": [
       "\n",
       "### Goal 18\n",
       "---\n",
       "**Question:** What is the impact of the number of cylinders on retail price and dealer cost?\n",
       "\n",
       "**Visualization:** `dual-axis bar chart comparing average Retail_Price and average Dealer_Cost by Cyl`\n",
       "\n",
       "**Rationale:** This dual-axis bar chart will allow us to compare the average retail price and dealer cost across different cylinder counts. By using this format, we can visualize how the number of cylinders influences both retail pricing and dealer costs, which is essential for understanding market dynamics.\n"
      ],
      "text/plain": [
       "Goal(question='What is the impact of the number of cylinders on retail price and dealer cost?', visualization='dual-axis bar chart comparing average Retail_Price and average Dealer_Cost by Cyl', rationale='This dual-axis bar chart will allow us to compare the average retail price and dealer cost across different cylinder counts. By using this format, we can visualize how the number of cylinders influences both retail pricing and dealer costs, which is essential for understanding market dynamics.', index=18)"
      ]
     },
     "metadata": {},
     "output_type": "display_data"
    },
    {
     "data": {
      "text/markdown": [
       "\n",
       "### Goal 19\n",
       "---\n",
       "**Question:** How does the weight of the car correlate with its length and width?\n",
       "\n",
       "**Visualization:** `3D scatter plot of Weight vs Len and Width`\n",
       "\n",
       "**Rationale:** This 3D scatter plot will help us visualize the relationship between car weight, length, and width. Understanding how these dimensions correlate can provide insights into design trends and structural characteristics of different car types, which is important for a comprehensive analysis of automotive data.\n"
      ],
      "text/plain": [
       "Goal(question='How does the weight of the car correlate with its length and width?', visualization='3D scatter plot of Weight vs Len and Width', rationale='This 3D scatter plot will help us visualize the relationship between car weight, length, and width. Understanding how these dimensions correlate can provide insights into design trends and structural characteristics of different car types, which is important for a comprehensive analysis of automotive data.', index=19)"
      ]
     },
     "metadata": {},
     "output_type": "display_data"
    }
   ],
   "source": [
    "for goal in loaded:\n",
    "    display(goal)"
   ]
  },
  {
   "cell_type": "markdown",
   "metadata": {},
   "source": [
    "### Generating Goals with a Persona"
   ]
  },
  {
   "cell_type": "code",
   "execution_count": 14,
   "metadata": {},
   "outputs": [
    {
     "data": {
      "text/markdown": [
       "\n",
       "### Goal 0\n",
       "---\n",
       "**Question:** What is the distribution of Retail Price?\n",
       "\n",
       "**Visualization:** `histogram of Retail_Price`\n",
       "\n",
       "**Rationale:** This tells us about the range of car prices available, helping the mechanic identify affordable options.\n"
      ],
      "text/plain": [
       "Goal(question='What is the distribution of Retail Price?', visualization='histogram of Retail_Price', rationale='This tells us about the range of car prices available, helping the mechanic identify affordable options.', index=0)"
      ]
     },
     "metadata": {},
     "output_type": "display_data"
    },
    {
     "data": {
      "text/markdown": [
       "\n",
       "### Goal 1\n",
       "---\n",
       "**Question:** How does City Miles Per Gallon vary with Retail Price?\n",
       "\n",
       "**Visualization:** `scatter plot of City_Miles_Per_Gallon vs Retail_Price`\n",
       "\n",
       "**Rationale:** This helps assess whether higher-priced cars offer better fuel efficiency.\n"
      ],
      "text/plain": [
       "Goal(question='How does City Miles Per Gallon vary with Retail Price?', visualization='scatter plot of City_Miles_Per_Gallon vs Retail_Price', rationale='This helps assess whether higher-priced cars offer better fuel efficiency.', index=1)"
      ]
     },
     "metadata": {},
     "output_type": "display_data"
    },
    {
     "data": {
      "text/markdown": [
       "\n",
       "### Goal 2\n",
       "---\n",
       "**Question:** What is the correlation between Highway Miles Per Gallon and City Miles Per Gallon?\n",
       "\n",
       "**Visualization:** `scatter plot of Highway_Miles_Per_Gallon vs City_Miles_Per_Gallon`\n",
       "\n",
       "**Rationale:** Understanding this relationship can help the mechanic predict fuel efficiency based on city driving conditions.\n"
      ],
      "text/plain": [
       "Goal(question='What is the correlation between Highway Miles Per Gallon and City Miles Per Gallon?', visualization='scatter plot of Highway_Miles_Per_Gallon vs City_Miles_Per_Gallon', rationale='Understanding this relationship can help the mechanic predict fuel efficiency based on city driving conditions.', index=2)"
      ]
     },
     "metadata": {},
     "output_type": "display_data"
    },
    {
     "data": {
      "text/markdown": [
       "\n",
       "### Goal 3\n",
       "---\n",
       "**Question:** Which car types have the best average City Miles Per Gallon?\n",
       "\n",
       "**Visualization:** `bar chart of average City_Miles_Per_Gallon by Type`\n",
       "\n",
       "**Rationale:** This allows the mechanic to quickly identify which types of cars are more fuel-efficient.\n"
      ],
      "text/plain": [
       "Goal(question='Which car types have the best average City Miles Per Gallon?', visualization='bar chart of average City_Miles_Per_Gallon by Type', rationale='This allows the mechanic to quickly identify which types of cars are more fuel-efficient.', index=3)"
      ]
     },
     "metadata": {},
     "output_type": "display_data"
    },
    {
     "data": {
      "text/markdown": [
       "\n",
       "### Goal 4\n",
       "---\n",
       "**Question:** What is the distribution of Engine Sizes across different car types?\n",
       "\n",
       "**Visualization:** `box plot of Engine_Size__l_ by Type`\n",
       "\n",
       "**Rationale:** This shows how engine size varies across types, which can impact fuel efficiency.\n"
      ],
      "text/plain": [
       "Goal(question='What is the distribution of Engine Sizes across different car types?', visualization='box plot of Engine_Size__l_ by Type', rationale='This shows how engine size varies across types, which can impact fuel efficiency.', index=4)"
      ]
     },
     "metadata": {},
     "output_type": "display_data"
    },
    {
     "data": {
      "text/markdown": [
       "\n",
       "### Goal 5\n",
       "---\n",
       "**Question:** How does the number of Cylinders affect City Miles Per Gallon?\n",
       "\n",
       "**Visualization:** `box plot of City_Miles_Per_Gallon by Cyl`\n",
       "\n",
       "**Rationale:** This helps the mechanic understand how engine configuration influences fuel efficiency.\n"
      ],
      "text/plain": [
       "Goal(question='How does the number of Cylinders affect City Miles Per Gallon?', visualization='box plot of City_Miles_Per_Gallon by Cyl', rationale='This helps the mechanic understand how engine configuration influences fuel efficiency.', index=5)"
      ]
     },
     "metadata": {},
     "output_type": "display_data"
    },
    {
     "data": {
      "text/markdown": [
       "\n",
       "### Goal 6\n",
       "---\n",
       "**Question:** What is the relationship between Horsepower and City Miles Per Gallon?\n",
       "\n",
       "**Visualization:** `scatter plot of Horsepower_HP_ vs City_Miles_Per_Gallon`\n",
       "\n",
       "**Rationale:** This can indicate if more powerful cars compromise fuel efficiency.\n"
      ],
      "text/plain": [
       "Goal(question='What is the relationship between Horsepower and City Miles Per Gallon?', visualization='scatter plot of Horsepower_HP_ vs City_Miles_Per_Gallon', rationale='This can indicate if more powerful cars compromise fuel efficiency.', index=6)"
      ]
     },
     "metadata": {},
     "output_type": "display_data"
    },
    {
     "data": {
      "text/markdown": [
       "\n",
       "### Goal 7\n",
       "---\n",
       "**Question:** How do the weights of cars affect their fuel efficiency?\n",
       "\n",
       "**Visualization:** `scatter plot of Weight vs City_Miles_Per_Gallon`\n",
       "\n",
       "**Rationale:** This helps the mechanic see if lighter cars generally provide better fuel economy.\n"
      ],
      "text/plain": [
       "Goal(question='How do the weights of cars affect their fuel efficiency?', visualization='scatter plot of Weight vs City_Miles_Per_Gallon', rationale='This helps the mechanic see if lighter cars generally provide better fuel economy.', index=7)"
      ]
     },
     "metadata": {},
     "output_type": "display_data"
    },
    {
     "data": {
      "text/markdown": [
       "\n",
       "### Goal 8\n",
       "---\n",
       "**Question:** What is the average Retail Price for cars with good gas mileage (above 25 MPG)?\n",
       "\n",
       "**Visualization:** `bar chart of average Retail_Price for City_Miles_Per_Gallon > 25`\n",
       "\n",
       "**Rationale:** This gives insight into the cost of more fuel-efficient cars.\n"
      ],
      "text/plain": [
       "Goal(question='What is the average Retail Price for cars with good gas mileage (above 25 MPG)?', visualization='bar chart of average Retail_Price for City_Miles_Per_Gallon > 25', rationale='This gives insight into the cost of more fuel-efficient cars.', index=8)"
      ]
     },
     "metadata": {},
     "output_type": "display_data"
    },
    {
     "data": {
      "text/markdown": [
       "\n",
       "### Goal 9\n",
       "---\n",
       "**Question:** What is the average Dealer Cost for cars with high Highway Miles Per Gallon?\n",
       "\n",
       "**Visualization:** `bar chart of average Dealer_Cost for Highway_Miles_Per_Gallon > 30`\n",
       "\n",
       "**Rationale:** This can help the mechanic identify cost-effective options for high-mileage vehicles.\n"
      ],
      "text/plain": [
       "Goal(question='What is the average Dealer Cost for cars with high Highway Miles Per Gallon?', visualization='bar chart of average Dealer_Cost for Highway_Miles_Per_Gallon > 30', rationale='This can help the mechanic identify cost-effective options for high-mileage vehicles.', index=9)"
      ]
     },
     "metadata": {},
     "output_type": "display_data"
    },
    {
     "data": {
      "text/markdown": [
       "\n",
       "### Goal 10\n",
       "---\n",
       "**Question:** How does the length of a car relate to its fuel efficiency?\n",
       "\n",
       "**Visualization:** `scatter plot of Len vs City_Miles_Per_Gallon`\n",
       "\n",
       "**Rationale:** Understanding this relationship can help assess if larger cars are less efficient.\n"
      ],
      "text/plain": [
       "Goal(question='How does the length of a car relate to its fuel efficiency?', visualization='scatter plot of Len vs City_Miles_Per_Gallon', rationale='Understanding this relationship can help assess if larger cars are less efficient.', index=10)"
      ]
     },
     "metadata": {},
     "output_type": "display_data"
    },
    {
     "data": {
      "text/markdown": [
       "\n",
       "### Goal 11\n",
       "---\n",
       "**Question:** What is the distribution of AWD and RWD cars in terms of fuel efficiency?\n",
       "\n",
       "**Visualization:** `box plot of City_Miles_Per_Gallon by AWD and RWD`\n",
       "\n",
       "**Rationale:** This helps the mechanic understand how drivetrain configurations impact gas mileage.\n"
      ],
      "text/plain": [
       "Goal(question='What is the distribution of AWD and RWD cars in terms of fuel efficiency?', visualization='box plot of City_Miles_Per_Gallon by AWD and RWD', rationale='This helps the mechanic understand how drivetrain configurations impact gas mileage.', index=11)"
      ]
     },
     "metadata": {},
     "output_type": "display_data"
    },
    {
     "data": {
      "text/markdown": [
       "\n",
       "### Goal 12\n",
       "---\n",
       "**Question:** What is the average weight of cars grouped by their Type?\n",
       "\n",
       "**Visualization:** `bar chart of average Weight by Type`\n",
       "\n",
       "**Rationale:** This can provide insights into how the type of car affects its overall weight and potentially its fuel efficiency.\n"
      ],
      "text/plain": [
       "Goal(question='What is the average weight of cars grouped by their Type?', visualization='bar chart of average Weight by Type', rationale='This can provide insights into how the type of car affects its overall weight and potentially its fuel efficiency.', index=12)"
      ]
     },
     "metadata": {},
     "output_type": "display_data"
    },
    {
     "data": {
      "text/markdown": [
       "\n",
       "### Goal 13\n",
       "---\n",
       "**Question:** How does the wheelbase length correlate with fuel efficiency?\n",
       "\n",
       "**Visualization:** `scatter plot of Wheel_Base vs City_Miles_Per_Gallon`\n",
       "\n",
       "**Rationale:** This can help the mechanic understand if longer wheelbases lead to worse fuel economy.\n"
      ],
      "text/plain": [
       "Goal(question='How does the wheelbase length correlate with fuel efficiency?', visualization='scatter plot of Wheel_Base vs City_Miles_Per_Gallon', rationale='This can help the mechanic understand if longer wheelbases lead to worse fuel economy.', index=13)"
      ]
     },
     "metadata": {},
     "output_type": "display_data"
    },
    {
     "data": {
      "text/markdown": [
       "\n",
       "### Goal 14\n",
       "---\n",
       "**Question:** What is the average Highway Miles Per Gallon for cars with different engine sizes?\n",
       "\n",
       "**Visualization:** `bar chart of average Highway_Miles_Per_Gallon by Engine_Size__l_`\n",
       "\n",
       "**Rationale:** This can help identify if larger engines compromise highway fuel efficiency.\n"
      ],
      "text/plain": [
       "Goal(question='What is the average Highway Miles Per Gallon for cars with different engine sizes?', visualization='bar chart of average Highway_Miles_Per_Gallon by Engine_Size__l_', rationale='This can help identify if larger engines compromise highway fuel efficiency.', index=14)"
      ]
     },
     "metadata": {},
     "output_type": "display_data"
    },
    {
     "data": {
      "text/markdown": [
       "\n",
       "### Goal 15\n",
       "---\n",
       "**Question:** What is the relationship between the number of cylinders and Highway Miles Per Gallon?\n",
       "\n",
       "**Visualization:** `box plot of Highway_Miles_Per_Gallon by Cyl`\n",
       "\n",
       "**Rationale:** This shows how engine configuration impacts highway fuel efficiency.\n"
      ],
      "text/plain": [
       "Goal(question='What is the relationship between the number of cylinders and Highway Miles Per Gallon?', visualization='box plot of Highway_Miles_Per_Gallon by Cyl', rationale='This shows how engine configuration impacts highway fuel efficiency.', index=15)"
      ]
     },
     "metadata": {},
     "output_type": "display_data"
    },
    {
     "data": {
      "text/markdown": [
       "\n",
       "### Goal 16\n",
       "---\n",
       "**Question:** What percentage of cars have good fuel efficiency (above 25 MPG)?\n",
       "\n",
       "**Visualization:** `pie chart of percentage of cars with City_Miles_Per_Gallon > 25`\n",
       "\n",
       "**Rationale:** This gives a quick overview of the availability of fuel-efficient options.\n"
      ],
      "text/plain": [
       "Goal(question='What percentage of cars have good fuel efficiency (above 25 MPG)?', visualization='pie chart of percentage of cars with City_Miles_Per_Gallon > 25', rationale='This gives a quick overview of the availability of fuel-efficient options.', index=16)"
      ]
     },
     "metadata": {},
     "output_type": "display_data"
    },
    {
     "data": {
      "text/markdown": [
       "\n",
       "### Goal 17\n",
       "---\n",
       "**Question:** What is the average Retail Price for cars categorized as SUVs versus Sedans?\n",
       "\n",
       "**Visualization:** `bar chart of average Retail_Price by Type`\n",
       "\n",
       "**Rationale:** This helps the mechanic compare the cost of different car types.\n"
      ],
      "text/plain": [
       "Goal(question='What is the average Retail Price for cars categorized as SUVs versus Sedans?', visualization='bar chart of average Retail_Price by Type', rationale='This helps the mechanic compare the cost of different car types.', index=17)"
      ]
     },
     "metadata": {},
     "output_type": "display_data"
    },
    {
     "data": {
      "text/markdown": [
       "\n",
       "### Goal 18\n",
       "---\n",
       "**Question:** How does the average horsepower vary among different types of cars?\n",
       "\n",
       "**Visualization:** `bar chart of average Horsepower_HP_ by Type`\n",
       "\n",
       "**Rationale:** This may indicate if more powerful cars are generally more expensive or less fuel-efficient.\n"
      ],
      "text/plain": [
       "Goal(question='How does the average horsepower vary among different types of cars?', visualization='bar chart of average Horsepower_HP_ by Type', rationale='This may indicate if more powerful cars are generally more expensive or less fuel-efficient.', index=18)"
      ]
     },
     "metadata": {},
     "output_type": "display_data"
    },
    {
     "data": {
      "text/markdown": [
       "\n",
       "### Goal 19\n",
       "---\n",
       "**Question:** What is the relationship between car width and fuel efficiency?\n",
       "\n",
       "**Visualization:** `scatter plot of Width vs City_Miles_Per_Gallon`\n",
       "\n",
       "**Rationale:** This can help determine if wider cars tend to have lower fuel efficiency.\n"
      ],
      "text/plain": [
       "Goal(question='What is the relationship between car width and fuel efficiency?', visualization='scatter plot of Width vs City_Miles_Per_Gallon', rationale='This can help determine if wider cars tend to have lower fuel efficiency.', index=19)"
      ]
     },
     "metadata": {},
     "output_type": "display_data"
    }
   ],
   "source": [
    "# goals can also be based on a persona \n",
    "persona = \"a mechanic who wants to buy a car that is cheap but has good gas mileage\"\n",
    "personal_goals = lida.goals(summary, n=20, persona=persona, textgen_config=textgen_config)\n",
    "for goal in personal_goals:\n",
    "    display(goal)"
   ]
  },
  {
   "cell_type": "markdown",
   "metadata": {},
   "source": [
    "### Saving and Loading Goals with a Persona"
   ]
  },
  {
   "cell_type": "code",
   "execution_count": 15,
   "metadata": {},
   "outputs": [],
   "source": [
    "# SAVE\n",
    "\n",
    "with open('goals-persona.pkl', 'wb') as f:\n",
    "    pickle.dump(personal_goals, f)"
   ]
  },
  {
   "cell_type": "code",
   "execution_count": 16,
   "metadata": {},
   "outputs": [
    {
     "data": {
      "text/plain": [
       "[Goal(question='What is the distribution of Retail Price?', visualization='histogram of Retail_Price', rationale='This tells us about the range of car prices available, helping the mechanic identify affordable options.', index=0),\n",
       " Goal(question='How does City Miles Per Gallon vary with Retail Price?', visualization='scatter plot of City_Miles_Per_Gallon vs Retail_Price', rationale='This helps assess whether higher-priced cars offer better fuel efficiency.', index=1),\n",
       " Goal(question='What is the correlation between Highway Miles Per Gallon and City Miles Per Gallon?', visualization='scatter plot of Highway_Miles_Per_Gallon vs City_Miles_Per_Gallon', rationale='Understanding this relationship can help the mechanic predict fuel efficiency based on city driving conditions.', index=2),\n",
       " Goal(question='Which car types have the best average City Miles Per Gallon?', visualization='bar chart of average City_Miles_Per_Gallon by Type', rationale='This allows the mechanic to quickly identify which types of cars are more fuel-efficient.', index=3),\n",
       " Goal(question='What is the distribution of Engine Sizes across different car types?', visualization='box plot of Engine_Size__l_ by Type', rationale='This shows how engine size varies across types, which can impact fuel efficiency.', index=4),\n",
       " Goal(question='How does the number of Cylinders affect City Miles Per Gallon?', visualization='box plot of City_Miles_Per_Gallon by Cyl', rationale='This helps the mechanic understand how engine configuration influences fuel efficiency.', index=5),\n",
       " Goal(question='What is the relationship between Horsepower and City Miles Per Gallon?', visualization='scatter plot of Horsepower_HP_ vs City_Miles_Per_Gallon', rationale='This can indicate if more powerful cars compromise fuel efficiency.', index=6),\n",
       " Goal(question='How do the weights of cars affect their fuel efficiency?', visualization='scatter plot of Weight vs City_Miles_Per_Gallon', rationale='This helps the mechanic see if lighter cars generally provide better fuel economy.', index=7),\n",
       " Goal(question='What is the average Retail Price for cars with good gas mileage (above 25 MPG)?', visualization='bar chart of average Retail_Price for City_Miles_Per_Gallon > 25', rationale='This gives insight into the cost of more fuel-efficient cars.', index=8),\n",
       " Goal(question='What is the average Dealer Cost for cars with high Highway Miles Per Gallon?', visualization='bar chart of average Dealer_Cost for Highway_Miles_Per_Gallon > 30', rationale='This can help the mechanic identify cost-effective options for high-mileage vehicles.', index=9),\n",
       " Goal(question='How does the length of a car relate to its fuel efficiency?', visualization='scatter plot of Len vs City_Miles_Per_Gallon', rationale='Understanding this relationship can help assess if larger cars are less efficient.', index=10),\n",
       " Goal(question='What is the distribution of AWD and RWD cars in terms of fuel efficiency?', visualization='box plot of City_Miles_Per_Gallon by AWD and RWD', rationale='This helps the mechanic understand how drivetrain configurations impact gas mileage.', index=11),\n",
       " Goal(question='What is the average weight of cars grouped by their Type?', visualization='bar chart of average Weight by Type', rationale='This can provide insights into how the type of car affects its overall weight and potentially its fuel efficiency.', index=12),\n",
       " Goal(question='How does the wheelbase length correlate with fuel efficiency?', visualization='scatter plot of Wheel_Base vs City_Miles_Per_Gallon', rationale='This can help the mechanic understand if longer wheelbases lead to worse fuel economy.', index=13),\n",
       " Goal(question='What is the average Highway Miles Per Gallon for cars with different engine sizes?', visualization='bar chart of average Highway_Miles_Per_Gallon by Engine_Size__l_', rationale='This can help identify if larger engines compromise highway fuel efficiency.', index=14),\n",
       " Goal(question='What is the relationship between the number of cylinders and Highway Miles Per Gallon?', visualization='box plot of Highway_Miles_Per_Gallon by Cyl', rationale='This shows how engine configuration impacts highway fuel efficiency.', index=15),\n",
       " Goal(question='What percentage of cars have good fuel efficiency (above 25 MPG)?', visualization='pie chart of percentage of cars with City_Miles_Per_Gallon > 25', rationale='This gives a quick overview of the availability of fuel-efficient options.', index=16),\n",
       " Goal(question='What is the average Retail Price for cars categorized as SUVs versus Sedans?', visualization='bar chart of average Retail_Price by Type', rationale='This helps the mechanic compare the cost of different car types.', index=17),\n",
       " Goal(question='How does the average horsepower vary among different types of cars?', visualization='bar chart of average Horsepower_HP_ by Type', rationale='This may indicate if more powerful cars are generally more expensive or less fuel-efficient.', index=18),\n",
       " Goal(question='What is the relationship between car width and fuel efficiency?', visualization='scatter plot of Width vs City_Miles_Per_Gallon', rationale='This can help determine if wider cars tend to have lower fuel efficiency.', index=19)]"
      ]
     },
     "metadata": {},
     "output_type": "display_data"
    }
   ],
   "source": [
    "# LOAD\n",
    "\n",
    "with open('goals-persona.pkl', 'rb') as f:\n",
    "    loaded = pickle.load(f)\n",
    "\n",
    "display(loaded)"
   ]
  }
 ],
 "metadata": {
  "kernelspec": {
   "display_name": "base",
   "language": "python",
   "name": "python3"
  },
  "language_info": {
   "codemirror_mode": {
    "name": "ipython",
    "version": 3
   },
   "file_extension": ".py",
   "mimetype": "text/x-python",
   "name": "python",
   "nbconvert_exporter": "python",
   "pygments_lexer": "ipython3",
   "version": "3.12.5"
  },
  "vscode": {
   "interpreter": {
    "hash": "189101fc34b85ec7417252a331b6b3ef556b71030ac1f6fe00bfbe1409305460"
   }
  }
 },
 "nbformat": 4,
 "nbformat_minor": 2
}
