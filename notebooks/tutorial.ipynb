version https://git-lfs.github.com/spec/v1
oid sha256:c4d827964969eb2b274a4819b3df7425e0f5662ecd8a9b5f382685487ed7845e
size 576269
