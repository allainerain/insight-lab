version https://git-lfs.github.com/spec/v1
oid sha256:fd1a3d02a27be35d38cdbe6c3ddb840974cac6c2aef8729c35c66b6aac35678e
size 567473
